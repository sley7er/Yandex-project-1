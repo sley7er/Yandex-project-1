{
 "cells": [
  {
   "cell_type": "markdown",
   "metadata": {},
   "source": [
    "# Отток клиентов"
   ]
  },
  {
   "cell_type": "markdown",
   "metadata": {},
   "source": [
    "Из «Бета-Банка» стали уходить клиенты. Каждый месяц. Немного, но заметно. Банковские маркетологи посчитали: сохранять текущих клиентов дешевле, чем привлекать новых.\n",
    "\n",
    "Нужно спрогнозировать, уйдёт клиент из банка в ближайшее время или нет. Вам предоставлены исторические данные о поведении клиентов и расторжении договоров с банком. \n",
    "\n",
    "Постройте модель с предельно большим значением *F1*-меры. Чтобы сдать проект успешно, нужно довести метрику до 0.59. Проверьте *F1*-меру на тестовой выборке самостоятельно.\n",
    "\n",
    "Дополнительно измеряйте *AUC-ROC*, сравнивайте её значение с *F1*-мерой.\n",
    "\n",
    "Источник данных: [https://www.kaggle.com/barelydedicated/bank-customer-churn-modeling](https://www.kaggle.com/barelydedicated/bank-customer-churn-modeling)"
   ]
  },
  {
   "cell_type": "markdown",
   "metadata": {
    "toc": true
   },
   "source": [
    "<h1>Содержание<span class=\"tocSkip\"></span></h1>\n",
    "<div class=\"toc\"><ul class=\"toc-item\"><li><span><a href=\"#Подготовка-данных\" data-toc-modified-id=\"Подготовка-данных-1\"><span class=\"toc-item-num\">1&nbsp;&nbsp;</span>Подготовка данных</a></span></li><li><span><a href=\"#Исследование-задачи\" data-toc-modified-id=\"Исследование-задачи-2\"><span class=\"toc-item-num\">2&nbsp;&nbsp;</span>Исследование задачи</a></span></li><li><span><a href=\"#Исследование-задачи\" data-toc-modified-id=\"Исследование-задачи-3\"><span class=\"toc-item-num\">3&nbsp;&nbsp;</span>Исследование задачи</a></span></li><li><span><a href=\"#Борьба-с-дизбалансом\" data-toc-modified-id=\"Борьба-с-дизбалансом-4\"><span class=\"toc-item-num\">4&nbsp;&nbsp;</span>Борьба с дизбалансом</a></span><ul class=\"toc-item\"><li><span><a href=\"#Взвешвание-классов\" data-toc-modified-id=\"Взвешвание-классов-4.1\"><span class=\"toc-item-num\">4.1&nbsp;&nbsp;</span>Взвешвание классов</a></span></li><li><span><a href=\"#Увеличение-выборки\" data-toc-modified-id=\"Увеличение-выборки-4.2\"><span class=\"toc-item-num\">4.2&nbsp;&nbsp;</span>Увеличение выборки</a></span></li><li><span><a href=\"#Уменьшение-выборки\" data-toc-modified-id=\"Уменьшение-выборки-4.3\"><span class=\"toc-item-num\">4.3&nbsp;&nbsp;</span>Уменьшение выборки</a></span></li></ul></li><li><span><a href=\"#Тестирование-модели\" data-toc-modified-id=\"Тестирование-модели-5\"><span class=\"toc-item-num\">5&nbsp;&nbsp;</span>Тестирование модели</a></span></li></ul></div>"
   ]
  },
  {
   "cell_type": "markdown",
   "metadata": {},
   "source": [
    "## Подготовка данных"
   ]
  },
  {
   "cell_type": "markdown",
   "metadata": {},
   "source": [
    "<div class=\"alert alert-block alert-info\">\n",
    "<b></b> Импортируем основные библиотеки\n",
    "</div>"
   ]
  },
  {
   "cell_type": "code",
   "execution_count": 1,
   "metadata": {},
   "outputs": [],
   "source": [
    "# импорты сторонних библиотек\n",
    "import numpy as np\n",
    "import pandas as pd\n",
    "\n",
    "# импорты из стандартной библиотеки\n",
    "import warnings\n",
    "\n",
    "\n",
    "# импорты модулей текущего проекта\n",
    "# длина строки до 78 символов\n",
    "from sklearn.compose import make_column_transformer\n",
    "from sklearn.model_selection import train_test_split\n",
    "from sklearn.ensemble import RandomForestClassifier\n",
    "from sklearn.linear_model import LogisticRegression\n",
    "from sklearn.tree import DecisionTreeClassifier\n",
    "from sklearn.metrics import accuracy_score\n",
    "from sklearn.dummy import DummyClassifier\n",
    "from sklearn.metrics import roc_auc_score\n",
    "from sklearn.metrics import roc_curve\n",
    "from matplotlib import pylab as plt\n",
    "import matplotlib.pyplot as plt\n",
    "from sklearn.impute import KNNImputer\n",
    "from sklearn.metrics import f1_score\n",
    "from sklearn.utils import shuffle\n",
    "import matplotlib.pyplot as plt\n",
    "import seaborn as sns\n",
    "from sklearn.preprocessing import (\n",
    "    OneHotEncoder,\n",
    "    OrdinalEncoder,\n",
    "    StandardScaler)\n",
    "from sklearn.model_selection import (\n",
    "    GridSearchCV,\n",
    "    RandomizedSearchCV,\n",
    "    train_test_split)\n",
    "\n",
    "#настройки\n",
    "pd.options.mode.chained_assignment = None\n",
    "warnings.filterwarnings(\"ignore\")"
   ]
  },
  {
   "cell_type": "markdown",
   "metadata": {},
   "source": [
    "<div class=\"alert alert-block alert-info\">\n",
    "<b></b> Считаем файл и посмотрим, что у нас со значениеями в столбцах.\n",
    "</div>"
   ]
  },
  {
   "cell_type": "code",
   "execution_count": 2,
   "metadata": {},
   "outputs": [],
   "source": [
    "df = pd.read_csv('/datasets/Churn.csv')"
   ]
  },
  {
   "cell_type": "code",
   "execution_count": 3,
   "metadata": {},
   "outputs": [
    {
     "name": "stdout",
     "output_type": "stream",
     "text": [
      "<class 'pandas.core.frame.DataFrame'>\n",
      "RangeIndex: 10000 entries, 0 to 9999\n",
      "Data columns (total 14 columns):\n",
      " #   Column           Non-Null Count  Dtype  \n",
      "---  ------           --------------  -----  \n",
      " 0   RowNumber        10000 non-null  int64  \n",
      " 1   CustomerId       10000 non-null  int64  \n",
      " 2   Surname          10000 non-null  object \n",
      " 3   CreditScore      10000 non-null  int64  \n",
      " 4   Geography        10000 non-null  object \n",
      " 5   Gender           10000 non-null  object \n",
      " 6   Age              10000 non-null  int64  \n",
      " 7   Tenure           9091 non-null   float64\n",
      " 8   Balance          10000 non-null  float64\n",
      " 9   NumOfProducts    10000 non-null  int64  \n",
      " 10  HasCrCard        10000 non-null  int64  \n",
      " 11  IsActiveMember   10000 non-null  int64  \n",
      " 12  EstimatedSalary  10000 non-null  float64\n",
      " 13  Exited           10000 non-null  int64  \n",
      "dtypes: float64(3), int64(8), object(3)\n",
      "memory usage: 1.1+ MB\n"
     ]
    }
   ],
   "source": [
    "df.info()"
   ]
  },
  {
   "cell_type": "markdown",
   "metadata": {},
   "source": [
    "<div class=\"alert alert-block alert-info\">\n",
    "<b></b> Сталкиваемся с первой проблемой, в столбце Tenure отсутствует 909 значений от общей выборки это почти 10%. Через метод query ознакомимся, попробуем найти особенности данных пропусков. Также подсчитаем какое количество пользователей верой и правдой пользуется услугами банка.\n",
    "</div>"
   ]
  },
  {
   "cell_type": "code",
   "execution_count": 4,
   "metadata": {
    "scrolled": false
   },
   "outputs": [
    {
     "data": {
      "text/html": [
       "<div>\n",
       "<style scoped>\n",
       "    .dataframe tbody tr th:only-of-type {\n",
       "        vertical-align: middle;\n",
       "    }\n",
       "\n",
       "    .dataframe tbody tr th {\n",
       "        vertical-align: top;\n",
       "    }\n",
       "\n",
       "    .dataframe thead th {\n",
       "        text-align: right;\n",
       "    }\n",
       "</style>\n",
       "<table border=\"1\" class=\"dataframe\">\n",
       "  <thead>\n",
       "    <tr style=\"text-align: right;\">\n",
       "      <th></th>\n",
       "      <th>RowNumber</th>\n",
       "      <th>CustomerId</th>\n",
       "      <th>Surname</th>\n",
       "      <th>CreditScore</th>\n",
       "      <th>Geography</th>\n",
       "      <th>Gender</th>\n",
       "      <th>Age</th>\n",
       "      <th>Tenure</th>\n",
       "      <th>Balance</th>\n",
       "      <th>NumOfProducts</th>\n",
       "      <th>HasCrCard</th>\n",
       "      <th>IsActiveMember</th>\n",
       "      <th>EstimatedSalary</th>\n",
       "      <th>Exited</th>\n",
       "    </tr>\n",
       "  </thead>\n",
       "  <tbody>\n",
       "    <tr>\n",
       "      <th>30</th>\n",
       "      <td>31</td>\n",
       "      <td>15589475</td>\n",
       "      <td>Azikiwe</td>\n",
       "      <td>591</td>\n",
       "      <td>Spain</td>\n",
       "      <td>Female</td>\n",
       "      <td>39</td>\n",
       "      <td>NaN</td>\n",
       "      <td>0.00</td>\n",
       "      <td>3</td>\n",
       "      <td>1</td>\n",
       "      <td>0</td>\n",
       "      <td>140469.38</td>\n",
       "      <td>1</td>\n",
       "    </tr>\n",
       "    <tr>\n",
       "      <th>48</th>\n",
       "      <td>49</td>\n",
       "      <td>15766205</td>\n",
       "      <td>Yin</td>\n",
       "      <td>550</td>\n",
       "      <td>Germany</td>\n",
       "      <td>Male</td>\n",
       "      <td>38</td>\n",
       "      <td>NaN</td>\n",
       "      <td>103391.38</td>\n",
       "      <td>1</td>\n",
       "      <td>0</td>\n",
       "      <td>1</td>\n",
       "      <td>90878.13</td>\n",
       "      <td>0</td>\n",
       "    </tr>\n",
       "    <tr>\n",
       "      <th>51</th>\n",
       "      <td>52</td>\n",
       "      <td>15768193</td>\n",
       "      <td>Trevisani</td>\n",
       "      <td>585</td>\n",
       "      <td>Germany</td>\n",
       "      <td>Male</td>\n",
       "      <td>36</td>\n",
       "      <td>NaN</td>\n",
       "      <td>146050.97</td>\n",
       "      <td>2</td>\n",
       "      <td>0</td>\n",
       "      <td>0</td>\n",
       "      <td>86424.57</td>\n",
       "      <td>0</td>\n",
       "    </tr>\n",
       "    <tr>\n",
       "      <th>53</th>\n",
       "      <td>54</td>\n",
       "      <td>15702298</td>\n",
       "      <td>Parkhill</td>\n",
       "      <td>655</td>\n",
       "      <td>Germany</td>\n",
       "      <td>Male</td>\n",
       "      <td>41</td>\n",
       "      <td>NaN</td>\n",
       "      <td>125561.97</td>\n",
       "      <td>1</td>\n",
       "      <td>0</td>\n",
       "      <td>0</td>\n",
       "      <td>164040.94</td>\n",
       "      <td>1</td>\n",
       "    </tr>\n",
       "    <tr>\n",
       "      <th>60</th>\n",
       "      <td>61</td>\n",
       "      <td>15651280</td>\n",
       "      <td>Hunter</td>\n",
       "      <td>742</td>\n",
       "      <td>Germany</td>\n",
       "      <td>Male</td>\n",
       "      <td>35</td>\n",
       "      <td>NaN</td>\n",
       "      <td>136857.00</td>\n",
       "      <td>1</td>\n",
       "      <td>0</td>\n",
       "      <td>0</td>\n",
       "      <td>84509.57</td>\n",
       "      <td>0</td>\n",
       "    </tr>\n",
       "    <tr>\n",
       "      <th>...</th>\n",
       "      <td>...</td>\n",
       "      <td>...</td>\n",
       "      <td>...</td>\n",
       "      <td>...</td>\n",
       "      <td>...</td>\n",
       "      <td>...</td>\n",
       "      <td>...</td>\n",
       "      <td>...</td>\n",
       "      <td>...</td>\n",
       "      <td>...</td>\n",
       "      <td>...</td>\n",
       "      <td>...</td>\n",
       "      <td>...</td>\n",
       "      <td>...</td>\n",
       "    </tr>\n",
       "    <tr>\n",
       "      <th>9944</th>\n",
       "      <td>9945</td>\n",
       "      <td>15703923</td>\n",
       "      <td>Cameron</td>\n",
       "      <td>744</td>\n",
       "      <td>Germany</td>\n",
       "      <td>Male</td>\n",
       "      <td>41</td>\n",
       "      <td>NaN</td>\n",
       "      <td>190409.34</td>\n",
       "      <td>2</td>\n",
       "      <td>1</td>\n",
       "      <td>1</td>\n",
       "      <td>138361.48</td>\n",
       "      <td>0</td>\n",
       "    </tr>\n",
       "    <tr>\n",
       "      <th>9956</th>\n",
       "      <td>9957</td>\n",
       "      <td>15707861</td>\n",
       "      <td>Nucci</td>\n",
       "      <td>520</td>\n",
       "      <td>France</td>\n",
       "      <td>Female</td>\n",
       "      <td>46</td>\n",
       "      <td>NaN</td>\n",
       "      <td>85216.61</td>\n",
       "      <td>1</td>\n",
       "      <td>1</td>\n",
       "      <td>0</td>\n",
       "      <td>117369.52</td>\n",
       "      <td>1</td>\n",
       "    </tr>\n",
       "    <tr>\n",
       "      <th>9964</th>\n",
       "      <td>9965</td>\n",
       "      <td>15642785</td>\n",
       "      <td>Douglas</td>\n",
       "      <td>479</td>\n",
       "      <td>France</td>\n",
       "      <td>Male</td>\n",
       "      <td>34</td>\n",
       "      <td>NaN</td>\n",
       "      <td>117593.48</td>\n",
       "      <td>2</td>\n",
       "      <td>0</td>\n",
       "      <td>0</td>\n",
       "      <td>113308.29</td>\n",
       "      <td>0</td>\n",
       "    </tr>\n",
       "    <tr>\n",
       "      <th>9985</th>\n",
       "      <td>9986</td>\n",
       "      <td>15586914</td>\n",
       "      <td>Nepean</td>\n",
       "      <td>659</td>\n",
       "      <td>France</td>\n",
       "      <td>Male</td>\n",
       "      <td>36</td>\n",
       "      <td>NaN</td>\n",
       "      <td>123841.49</td>\n",
       "      <td>2</td>\n",
       "      <td>1</td>\n",
       "      <td>0</td>\n",
       "      <td>96833.00</td>\n",
       "      <td>0</td>\n",
       "    </tr>\n",
       "    <tr>\n",
       "      <th>9999</th>\n",
       "      <td>10000</td>\n",
       "      <td>15628319</td>\n",
       "      <td>Walker</td>\n",
       "      <td>792</td>\n",
       "      <td>France</td>\n",
       "      <td>Female</td>\n",
       "      <td>28</td>\n",
       "      <td>NaN</td>\n",
       "      <td>130142.79</td>\n",
       "      <td>1</td>\n",
       "      <td>1</td>\n",
       "      <td>0</td>\n",
       "      <td>38190.78</td>\n",
       "      <td>0</td>\n",
       "    </tr>\n",
       "  </tbody>\n",
       "</table>\n",
       "<p>909 rows × 14 columns</p>\n",
       "</div>"
      ],
      "text/plain": [
       "      RowNumber  CustomerId    Surname  CreditScore Geography  Gender  Age  \\\n",
       "30           31    15589475    Azikiwe          591     Spain  Female   39   \n",
       "48           49    15766205        Yin          550   Germany    Male   38   \n",
       "51           52    15768193  Trevisani          585   Germany    Male   36   \n",
       "53           54    15702298   Parkhill          655   Germany    Male   41   \n",
       "60           61    15651280     Hunter          742   Germany    Male   35   \n",
       "...         ...         ...        ...          ...       ...     ...  ...   \n",
       "9944       9945    15703923    Cameron          744   Germany    Male   41   \n",
       "9956       9957    15707861      Nucci          520    France  Female   46   \n",
       "9964       9965    15642785    Douglas          479    France    Male   34   \n",
       "9985       9986    15586914     Nepean          659    France    Male   36   \n",
       "9999      10000    15628319     Walker          792    France  Female   28   \n",
       "\n",
       "      Tenure    Balance  NumOfProducts  HasCrCard  IsActiveMember  \\\n",
       "30       NaN       0.00              3          1               0   \n",
       "48       NaN  103391.38              1          0               1   \n",
       "51       NaN  146050.97              2          0               0   \n",
       "53       NaN  125561.97              1          0               0   \n",
       "60       NaN  136857.00              1          0               0   \n",
       "...      ...        ...            ...        ...             ...   \n",
       "9944     NaN  190409.34              2          1               1   \n",
       "9956     NaN   85216.61              1          1               0   \n",
       "9964     NaN  117593.48              2          0               0   \n",
       "9985     NaN  123841.49              2          1               0   \n",
       "9999     NaN  130142.79              1          1               0   \n",
       "\n",
       "      EstimatedSalary  Exited  \n",
       "30          140469.38       1  \n",
       "48           90878.13       0  \n",
       "51           86424.57       0  \n",
       "53          164040.94       1  \n",
       "60           84509.57       0  \n",
       "...               ...     ...  \n",
       "9944        138361.48       0  \n",
       "9956        117369.52       1  \n",
       "9964        113308.29       0  \n",
       "9985         96833.00       0  \n",
       "9999         38190.78       0  \n",
       "\n",
       "[909 rows x 14 columns]"
      ]
     },
     "execution_count": 4,
     "metadata": {},
     "output_type": "execute_result"
    }
   ],
   "source": [
    "df.query('Tenure.isnull()', engine='python').sort_values(by='Tenure')"
   ]
  },
  {
   "cell_type": "code",
   "execution_count": 5,
   "metadata": {
    "scrolled": false
   },
   "outputs": [
    {
     "data": {
      "text/html": [
       "<div>\n",
       "<style scoped>\n",
       "    .dataframe tbody tr th:only-of-type {\n",
       "        vertical-align: middle;\n",
       "    }\n",
       "\n",
       "    .dataframe tbody tr th {\n",
       "        vertical-align: top;\n",
       "    }\n",
       "\n",
       "    .dataframe thead th {\n",
       "        text-align: right;\n",
       "    }\n",
       "</style>\n",
       "<table border=\"1\" class=\"dataframe\">\n",
       "  <thead>\n",
       "    <tr style=\"text-align: right;\">\n",
       "      <th></th>\n",
       "      <th>RowNumber</th>\n",
       "      <th>CustomerId</th>\n",
       "      <th>Surname</th>\n",
       "      <th>CreditScore</th>\n",
       "      <th>Geography</th>\n",
       "      <th>Gender</th>\n",
       "      <th>Age</th>\n",
       "      <th>Tenure</th>\n",
       "      <th>Balance</th>\n",
       "      <th>NumOfProducts</th>\n",
       "      <th>HasCrCard</th>\n",
       "      <th>IsActiveMember</th>\n",
       "      <th>EstimatedSalary</th>\n",
       "      <th>Exited</th>\n",
       "    </tr>\n",
       "  </thead>\n",
       "  <tbody>\n",
       "    <tr>\n",
       "      <th>48</th>\n",
       "      <td>49</td>\n",
       "      <td>15766205</td>\n",
       "      <td>Yin</td>\n",
       "      <td>550</td>\n",
       "      <td>Germany</td>\n",
       "      <td>Male</td>\n",
       "      <td>38</td>\n",
       "      <td>NaN</td>\n",
       "      <td>103391.38</td>\n",
       "      <td>1</td>\n",
       "      <td>0</td>\n",
       "      <td>1</td>\n",
       "      <td>90878.13</td>\n",
       "      <td>0</td>\n",
       "    </tr>\n",
       "    <tr>\n",
       "      <th>85</th>\n",
       "      <td>86</td>\n",
       "      <td>15805254</td>\n",
       "      <td>Ndukaku</td>\n",
       "      <td>652</td>\n",
       "      <td>Spain</td>\n",
       "      <td>Female</td>\n",
       "      <td>75</td>\n",
       "      <td>NaN</td>\n",
       "      <td>0.00</td>\n",
       "      <td>2</td>\n",
       "      <td>1</td>\n",
       "      <td>1</td>\n",
       "      <td>114675.75</td>\n",
       "      <td>0</td>\n",
       "    </tr>\n",
       "    <tr>\n",
       "      <th>94</th>\n",
       "      <td>95</td>\n",
       "      <td>15676966</td>\n",
       "      <td>Capon</td>\n",
       "      <td>730</td>\n",
       "      <td>Spain</td>\n",
       "      <td>Male</td>\n",
       "      <td>42</td>\n",
       "      <td>NaN</td>\n",
       "      <td>0.00</td>\n",
       "      <td>2</td>\n",
       "      <td>0</td>\n",
       "      <td>1</td>\n",
       "      <td>85982.47</td>\n",
       "      <td>0</td>\n",
       "    </tr>\n",
       "    <tr>\n",
       "      <th>123</th>\n",
       "      <td>124</td>\n",
       "      <td>15760085</td>\n",
       "      <td>Calabresi</td>\n",
       "      <td>684</td>\n",
       "      <td>Germany</td>\n",
       "      <td>Female</td>\n",
       "      <td>48</td>\n",
       "      <td>NaN</td>\n",
       "      <td>126384.42</td>\n",
       "      <td>1</td>\n",
       "      <td>1</td>\n",
       "      <td>1</td>\n",
       "      <td>198129.36</td>\n",
       "      <td>0</td>\n",
       "    </tr>\n",
       "    <tr>\n",
       "      <th>180</th>\n",
       "      <td>181</td>\n",
       "      <td>15716334</td>\n",
       "      <td>Rozier</td>\n",
       "      <td>850</td>\n",
       "      <td>Spain</td>\n",
       "      <td>Female</td>\n",
       "      <td>45</td>\n",
       "      <td>NaN</td>\n",
       "      <td>122311.21</td>\n",
       "      <td>1</td>\n",
       "      <td>1</td>\n",
       "      <td>1</td>\n",
       "      <td>19482.50</td>\n",
       "      <td>0</td>\n",
       "    </tr>\n",
       "    <tr>\n",
       "      <th>...</th>\n",
       "      <td>...</td>\n",
       "      <td>...</td>\n",
       "      <td>...</td>\n",
       "      <td>...</td>\n",
       "      <td>...</td>\n",
       "      <td>...</td>\n",
       "      <td>...</td>\n",
       "      <td>...</td>\n",
       "      <td>...</td>\n",
       "      <td>...</td>\n",
       "      <td>...</td>\n",
       "      <td>...</td>\n",
       "      <td>...</td>\n",
       "      <td>...</td>\n",
       "    </tr>\n",
       "    <tr>\n",
       "      <th>9889</th>\n",
       "      <td>9890</td>\n",
       "      <td>15711489</td>\n",
       "      <td>Azikiwe</td>\n",
       "      <td>760</td>\n",
       "      <td>Spain</td>\n",
       "      <td>Female</td>\n",
       "      <td>32</td>\n",
       "      <td>NaN</td>\n",
       "      <td>0.00</td>\n",
       "      <td>1</td>\n",
       "      <td>1</td>\n",
       "      <td>1</td>\n",
       "      <td>114565.35</td>\n",
       "      <td>0</td>\n",
       "    </tr>\n",
       "    <tr>\n",
       "      <th>9901</th>\n",
       "      <td>9902</td>\n",
       "      <td>15802909</td>\n",
       "      <td>Hu</td>\n",
       "      <td>706</td>\n",
       "      <td>Germany</td>\n",
       "      <td>Female</td>\n",
       "      <td>56</td>\n",
       "      <td>NaN</td>\n",
       "      <td>139603.22</td>\n",
       "      <td>1</td>\n",
       "      <td>1</td>\n",
       "      <td>1</td>\n",
       "      <td>86383.61</td>\n",
       "      <td>0</td>\n",
       "    </tr>\n",
       "    <tr>\n",
       "      <th>9923</th>\n",
       "      <td>9924</td>\n",
       "      <td>15786789</td>\n",
       "      <td>Ni</td>\n",
       "      <td>725</td>\n",
       "      <td>France</td>\n",
       "      <td>Female</td>\n",
       "      <td>29</td>\n",
       "      <td>NaN</td>\n",
       "      <td>0.00</td>\n",
       "      <td>2</td>\n",
       "      <td>1</td>\n",
       "      <td>1</td>\n",
       "      <td>190776.83</td>\n",
       "      <td>0</td>\n",
       "    </tr>\n",
       "    <tr>\n",
       "      <th>9925</th>\n",
       "      <td>9926</td>\n",
       "      <td>15605672</td>\n",
       "      <td>Yuan</td>\n",
       "      <td>694</td>\n",
       "      <td>France</td>\n",
       "      <td>Female</td>\n",
       "      <td>38</td>\n",
       "      <td>NaN</td>\n",
       "      <td>195926.39</td>\n",
       "      <td>1</td>\n",
       "      <td>1</td>\n",
       "      <td>1</td>\n",
       "      <td>85522.84</td>\n",
       "      <td>0</td>\n",
       "    </tr>\n",
       "    <tr>\n",
       "      <th>9944</th>\n",
       "      <td>9945</td>\n",
       "      <td>15703923</td>\n",
       "      <td>Cameron</td>\n",
       "      <td>744</td>\n",
       "      <td>Germany</td>\n",
       "      <td>Male</td>\n",
       "      <td>41</td>\n",
       "      <td>NaN</td>\n",
       "      <td>190409.34</td>\n",
       "      <td>2</td>\n",
       "      <td>1</td>\n",
       "      <td>1</td>\n",
       "      <td>138361.48</td>\n",
       "      <td>0</td>\n",
       "    </tr>\n",
       "  </tbody>\n",
       "</table>\n",
       "<p>464 rows × 14 columns</p>\n",
       "</div>"
      ],
      "text/plain": [
       "      RowNumber  CustomerId    Surname  CreditScore Geography  Gender  Age  \\\n",
       "48           49    15766205        Yin          550   Germany    Male   38   \n",
       "85           86    15805254    Ndukaku          652     Spain  Female   75   \n",
       "94           95    15676966      Capon          730     Spain    Male   42   \n",
       "123         124    15760085  Calabresi          684   Germany  Female   48   \n",
       "180         181    15716334     Rozier          850     Spain  Female   45   \n",
       "...         ...         ...        ...          ...       ...     ...  ...   \n",
       "9889       9890    15711489    Azikiwe          760     Spain  Female   32   \n",
       "9901       9902    15802909         Hu          706   Germany  Female   56   \n",
       "9923       9924    15786789         Ni          725    France  Female   29   \n",
       "9925       9926    15605672       Yuan          694    France  Female   38   \n",
       "9944       9945    15703923    Cameron          744   Germany    Male   41   \n",
       "\n",
       "      Tenure    Balance  NumOfProducts  HasCrCard  IsActiveMember  \\\n",
       "48       NaN  103391.38              1          0               1   \n",
       "85       NaN       0.00              2          1               1   \n",
       "94       NaN       0.00              2          0               1   \n",
       "123      NaN  126384.42              1          1               1   \n",
       "180      NaN  122311.21              1          1               1   \n",
       "...      ...        ...            ...        ...             ...   \n",
       "9889     NaN       0.00              1          1               1   \n",
       "9901     NaN  139603.22              1          1               1   \n",
       "9923     NaN       0.00              2          1               1   \n",
       "9925     NaN  195926.39              1          1               1   \n",
       "9944     NaN  190409.34              2          1               1   \n",
       "\n",
       "      EstimatedSalary  Exited  \n",
       "48           90878.13       0  \n",
       "85          114675.75       0  \n",
       "94           85982.47       0  \n",
       "123         198129.36       0  \n",
       "180          19482.50       0  \n",
       "...               ...     ...  \n",
       "9889        114565.35       0  \n",
       "9901         86383.61       0  \n",
       "9923        190776.83       0  \n",
       "9925         85522.84       0  \n",
       "9944        138361.48       0  \n",
       "\n",
       "[464 rows x 14 columns]"
      ]
     },
     "execution_count": 5,
     "metadata": {},
     "output_type": "execute_result"
    }
   ],
   "source": [
    "df.query('IsActiveMember == 1 and Tenure.isnull()').sort_values(by='RowNumber')"
   ]
  },
  {
   "cell_type": "code",
   "execution_count": 6,
   "metadata": {
    "scrolled": true
   },
   "outputs": [
    {
     "data": {
      "text/plain": [
       "1.0     952\n",
       "2.0     950\n",
       "8.0     933\n",
       "3.0     928\n",
       "5.0     927\n",
       "7.0     925\n",
       "4.0     885\n",
       "9.0     882\n",
       "6.0     881\n",
       "10.0    446\n",
       "0.0     382\n",
       "Name: Tenure, dtype: int64"
      ]
     },
     "execution_count": 6,
     "metadata": {},
     "output_type": "execute_result"
    }
   ],
   "source": [
    "df['Tenure'].value_counts()"
   ]
  },
  {
   "cell_type": "code",
   "execution_count": 7,
   "metadata": {
    "scrolled": false
   },
   "outputs": [
    {
     "data": {
      "text/plain": [
       "5.0"
      ]
     },
     "execution_count": 7,
     "metadata": {},
     "output_type": "execute_result"
    }
   ],
   "source": [
    "df['Tenure'].median()"
   ]
  },
  {
   "cell_type": "markdown",
   "metadata": {},
   "source": [
    "<div class=\"alert alert-block alert-info\">\n",
    "<b></b> Первичный анализ, не показал какой-либо явной связи пропусков с другими данными. Есть предположение что все пропуски связаны с какой-либо ошибкой в данных. Потому-что при изучении других столбцов, видно, что часть этих клиентов активные пользователи банка, многие испольуют по 2-3 продукта от банка. Другое предположение, что это могут быть пользователи, которые только хотят стать клиентами банка. Т.е банковские работники, вбили все данные о них будущих их клиентах, но те в свою очередь ещё не получили свои банковские карты/кредиты и т.д. Но я всё же скланяюсь к своему первому предположению, оно более реалистичное. Можно былоб попробовать заполнить данные медианным значением, но тогда число клиентов с банковским стажем 5 лет вдвое возрастёт, что может отразиться на искажении данных. В выборке у нас 10000 значений, а это достаточно большая выборка. Принимаю решение удалить пропущеные значения.\n",
    "</div>"
   ]
  },
  {
   "cell_type": "markdown",
   "metadata": {},
   "source": [
    "<div class=\"alert alert-block alert-info\">\n",
    "<b></b> На гистограмме видно, чтоу более 3000 пользователей присутствует нулевой баланс счёта. В целом такая ситуация возможна, они могут пользоваться другими услугами банка и не платить их картой, не пользоваться счётом. \n",
    "\n",
    "</div>"
   ]
  },
  {
   "cell_type": "code",
   "execution_count": 12,
   "metadata": {},
   "outputs": [
    {
     "data": {
      "image/png": "[encoded data removed]",
      "text/plain": [
       "<Figure size 648x432 with 1 Axes>"
      ]
     },
     "metadata": {
      "needs_background": "light"
     },
     "output_type": "display_data"
    }
   ],
   "source": [
    "df['Balance'].hist(bins=30, figsize=(9, 6)).set_title('Отображение баланса пользователей')\n",
    "plt.xlabel(\"Баланс пользователей\")\n",
    "plt.ylabel(\"Число пользователей\")\n",
    "plt.show()"
   ]
  },
  {
   "cell_type": "code",
   "execution_count": 13,
   "metadata": {
    "scrolled": false
   },
   "outputs": [
    {
     "data": {
      "image/png": "[encoded data removed]",
      "text/plain": [
       "<Figure size 648x432 with 1 Axes>"
      ]
     },
     "metadata": {},
     "output_type": "display_data"
    }
   ],
   "source": [
    "Geogr_piv_table = df.pivot_table(index='Geography', values='RowNumber', aggfunc=['count'])\n",
    "Geogr_piv_table.columns=['Count_of_users']\n",
    "Geogr_piv_table.plot(kind='pie', y='Count_of_users', figsize=(9, 6), autopct='%1.0f%%').set_title('Отображение клиентов банка по странам')\n",
    "plt.ylabel(\"\")\n",
    "plt.show()"
   ]
  },
  {
   "cell_type": "markdown",
   "metadata": {},
   "source": [
    "<div class=\"alert alert-block alert-info\">\n",
    "<b></b> На диаграмме видно, что большинство клиентов банка приходится на Францию, остальные доли равнозначно распределены между Германией и Испанией. Из этой диаграммы можно сделать одно важное заключение о том, что вся зарплата клиентов будет представлена в Евро. И нам не придётся ещё выполнять какие-либо конвертации.\n",
    "</div>"
   ]
  },
  {
   "cell_type": "code",
   "execution_count": 14,
   "metadata": {},
   "outputs": [
    {
     "data": {
      "image/png": "[encoded data removed]",
      "text/plain": [
       "<Figure size 648x432 with 1 Axes>"
      ]
     },
     "metadata": {
      "needs_background": "light"
     },
     "output_type": "display_data"
    }
   ],
   "source": [
    "df['EstimatedSalary'].sort_values(ascending=False).hist(bins=900, figsize=(9, 6)).set_title('Отображение распределения зарплат клиентов')\n",
    "plt.xlabel(\"Зарплата клиентов\")\n",
    "plt.ylabel(\"Число клиентов\")\n",
    "plt.show()"
   ]
  },
  {
   "cell_type": "markdown",
   "metadata": {},
   "source": [
    "<div class=\"alert alert-block alert-info\">\n",
    "<b></b> На гистограмме видно, что уровни зарплат находятся в очень широком диапазоне. Имеются клиенты и нулевым зарботком, а также клиенты с заработком по 200тыс.евро. В целом такая ситуация ничем не примечательная, все зарабатывают в меру своих возможностей.\n",
    "</div>"
   ]
  },
  {
   "cell_type": "markdown",
   "metadata": {
    "toc": true
   },
   "source": [
    "<div class=\"alert alert-block alert-info\">\n",
    "<b>Промежуточный вывод по первом разделу</b> \n",
    "    \n",
    "1) Пропущенные значения заменим методов KNNTenure. Это выполним мы на следующем шаге.\n",
    "\n",
    "2) Увидели, что треть пользователей нулевой баланс счёта. В текущих реалиях это возможно. Люди начинают пользоваться услугами карт из-за каких-либо разных причин (бесплатное обслуживание, приведи друга и получи деньгу и т.д.), выполнив условия просто перестают пользоваться счётом и всё. Раз за обслуживание платить не надо, то и закрывать счёт многие не хотят, вдруг произойдёт снова какая-то выгодная акция.\n",
    "\n",
    "3) Из диаграммы, которая отображает клиентов банка по странам, видно, что 50% клиентов приходится на Францию, а остальные по 25% на Германия и Испанию. Также сделали важное заключение, что все пользователи получают зарплату в Евро.\n",
    "\n",
    "4) Из гистограммы распределния зарплат клиентов банка поняли, что уровень зарплат находится в широком диапазоне, есть те кто не зарабатывает совсем, а есть те, кто делают хорошие деньги, и всё равно остаются верны данному банку.\n",
    "    \n",
    "</div>"
   ]
  },
  {
   "cell_type": "markdown",
   "metadata": {},
   "source": [
    "<div class=\"alert alert-block alert-info\">\n",
    "<b>ВАЖНОЕ !!! ИЗМЕНИЯ ПОСЛЕ ПЕРВОЙ ПРОВЕРКИ.\n",
    " \n",
    "Я понял, что удалять придётся слишком, для вторых и последующих пунктов, поэтому решил перенести весь переделанный проект в конец. Поэтому, Марат, что бы увидеть правки, листайте в самый низ. Наверное это не сильно грамотно, но теперь, чтоб исправить этот и не запутаться самому, я решил отделить его. Слишком разительные отличия просто.\n",
    " </b>\n",
    "</div>"
   ]
  },
  {
   "cell_type": "markdown",
   "metadata": {},
   "source": [
    "## Исследование задачи"
   ]
  },
  {
   "cell_type": "markdown",
   "metadata": {},
   "source": [
    "<div class=\"alert alert-block alert-info\">\n",
    "<b>ПРОДОЛЖЕНИЕ ПРОЕКТА СО ВТОРОГО ПУНКТА </b>\n"
   ]
  },
  {
   "cell_type": "code",
   "execution_count": 39,
   "metadata": {},
   "outputs": [],
   "source": [
    "df = pd.read_csv('/datasets/Churn.csv')\n",
    "df_copy = df.copy()"
   ]
  },
  {
   "cell_type": "markdown",
   "metadata": {},
   "source": [
    "<div class=\"alert alert-block alert-info\">\n",
    "<b></b> Определяем целевой столбец и рабочие.\n",
    "</div>\n"
   ]
  },
  {
   "cell_type": "code",
   "execution_count": 40,
   "metadata": {},
   "outputs": [],
   "source": [
    "df_copy = df_copy.drop(['RowNumber', 'CustomerId', 'Surname'], axis=1)"
   ]
  },
  {
   "cell_type": "code",
   "execution_count": 41,
   "metadata": {},
   "outputs": [],
   "source": [
    "target = df_copy['Exited']\n",
    "features = df_copy.drop('Exited', axis=1)"
   ]
  },
  {
   "cell_type": "markdown",
   "metadata": {},
   "source": [
    "<div class=\"alert alert-block alert-info\">\n",
    "<b></b> Задаём значение всевдослучайности.\n",
    "</div>"
   ]
  },
  {
   "cell_type": "code",
   "execution_count": 42,
   "metadata": {},
   "outputs": [],
   "source": [
    "state=12345"
   ]
  },
  {
   "cell_type": "markdown",
   "metadata": {},
   "source": [
    "<div class=\"alert alert-block alert-info\">\n",
    "<b></b> Разделяем выборки\n",
    "</div>"
   ]
  },
  {
   "cell_type": "code",
   "execution_count": 43,
   "metadata": {},
   "outputs": [],
   "source": [
    "features_train, features_test, target_train, target_test = train_test_split(features, target, test_size=0.4, \n",
    "                                                                                random_state=state\n",
    "                                                                               )\n",
    "\n",
    "features_valid, features_test, target_valid, target_test = train_test_split(features_test, target_test, \n",
    "                                                                                test_size=0.5, random_state=state\n",
    "                                                                               )"
   ]
  },
  {
   "cell_type": "markdown",
   "metadata": {},
   "source": [
    "<div class=\"alert alert-block alert-info\">\n",
    "<b></b> Распишем функцию для увеличения выборки. Но для начала посмотрим, на сколько отличается выборка целевого признака, отношение 0 к 1.\n",
    "</div>"
   ]
  },
  {
   "cell_type": "code",
   "execution_count": 44,
   "metadata": {},
   "outputs": [
    {
     "data": {
      "text/plain": [
       "0    4804\n",
       "1    1196\n",
       "Name: Exited, dtype: int64"
      ]
     },
     "execution_count": 44,
     "metadata": {},
     "output_type": "execute_result"
    }
   ],
   "source": [
    "target_train.value_counts()"
   ]
  },
  {
   "cell_type": "code",
   "execution_count": 45,
   "metadata": {},
   "outputs": [
    {
     "data": {
      "text/plain": [
       "4.016722408026756"
      ]
     },
     "execution_count": 45,
     "metadata": {},
     "output_type": "execute_result"
    }
   ],
   "source": [
    "rat = len(target_train.loc[target_train==0])/len(target_train.loc[target_train==1])\n",
    "rat"
   ]
  },
  {
   "cell_type": "markdown",
   "metadata": {},
   "source": [
    "<div class=\"alert alert-block alert-info\">\n",
    "<b></b> Всё таки значение больше к четырём, поэтому увеличим выборку в 4 раза. Установим значение repeat=4.\n",
    "</div>"
   ]
  },
  {
   "cell_type": "code",
   "execution_count": 46,
   "metadata": {},
   "outputs": [],
   "source": [
    "def upsample(features, target, repeat=4):\n",
    "    features_zeros=features[target==0]\n",
    "    features_ones=features[target==1]\n",
    "    target_zeros=target[target==0]\n",
    "    target_ones=target[target==1]\n",
    "    \n",
    "    features_upsampled=pd.concat([features_zeros]+[features_ones]*repeat)\n",
    "    target_upsampled=pd.concat([target_zeros]+[target_ones]*repeat)\n",
    "    features_upsampled, target_upsampled = shuffle(features_upsampled, target_upsampled, random_state=state)\n",
    "    \n",
    "    return features_upsampled, target_upsampled"
   ]
  },
  {
   "cell_type": "code",
   "execution_count": 47,
   "metadata": {},
   "outputs": [],
   "source": [
    "features_upsampled, target_upsampled = upsample(features_train, target_train)"
   ]
  },
  {
   "cell_type": "markdown",
   "metadata": {},
   "source": [
    "<div class=\"alert alert-block alert-info\">\n",
    "<b></b> На гистограмме проверим, что у нас всё получилось и выборки сравнялись.\n",
    "</div>"
   ]
  },
  {
   "cell_type": "code",
   "execution_count": 48,
   "metadata": {},
   "outputs": [
    {
     "data": {
      "image/png": "[encoded data removed]",
      "text/plain": [
       "<Figure size 216x216 with 1 Axes>"
      ]
     },
     "metadata": {
      "needs_background": "light"
     },
     "output_type": "display_data"
    }
   ],
   "source": [
    "target_upsampled.plot(kind ='hist', bins=2, figsize=(3,3))\n",
    "plt.title('Соотношение значений выборки после увелечения')\n",
    "plt.xlabel('Значения выборок')\n",
    "plt.ylabel('Частот значений')\n",
    "plt.show()"
   ]
  },
  {
   "cell_type": "markdown",
   "metadata": {},
   "source": [
    "<div class=\"alert alert-block alert-info\">\n",
    "<b></b> Распишем функции для уменьшения выборки. Раз в прошлой функции, мы увеличивали выборку в 4 раза, здесь нам надое её уменьшить в 4 раза, чтобы привести к равному диапазону. Установим значение frac=0.25.\n",
    "</div>"
   ]
  },
  {
   "cell_type": "code",
   "execution_count": 49,
   "metadata": {},
   "outputs": [],
   "source": [
    "def downsample(features, target, fraction=0.25):\n",
    "    features_zeros = features[target == 0]\n",
    "    features_ones = features[target == 1]\n",
    "    target_zeros = target[target == 0]\n",
    "    target_ones = target[target == 1]\n",
    "\n",
    "    features_downsampled = pd.concat(\n",
    "        [features_zeros.sample(frac=fraction, random_state=12345)] + [features_ones])\n",
    "    target_downsampled = pd.concat(\n",
    "        [target_zeros.sample(frac=fraction, random_state=12345)] + [target_ones])\n",
    "    \n",
    "    features_downsampled, target_downsampled = shuffle(\n",
    "        features_downsampled, target_downsampled, random_state=12345)\n",
    "    \n",
    "    return features_downsampled, target_downsampled"
   ]
  },
  {
   "cell_type": "code",
   "execution_count": 50,
   "metadata": {},
   "outputs": [],
   "source": [
    "features_downsampled, target_downsampled = downsample(features_train, target_train)"
   ]
  },
  {
   "cell_type": "markdown",
   "metadata": {},
   "source": [
    "<div class=\"alert alert-block alert-info\">\n",
    "<b></b> На гистограмме проверим, что у нас всё получилось и выборки сравнялись.\n",
    "</div>"
   ]
  },
  {
   "cell_type": "code",
   "execution_count": 51,
   "metadata": {},
   "outputs": [
    {
     "data": {
      "image/png": "[encoded data removed]",
      "text/plain": [
       "<Figure size 216x216 with 1 Axes>"
      ]
     },
     "metadata": {
      "needs_background": "light"
     },
     "output_type": "display_data"
    }
   ],
   "source": [
    "target_downsampled.plot(kind ='hist', bins=2, figsize=(3,3))\n",
    "plt.title('Соотношение значений выборки после уменьшения')\n",
    "plt.xlabel('Значения выборок')\n",
    "plt.ylabel('Частот значений')\n",
    "plt.show()"
   ]
  },
  {
   "cell_type": "markdown",
   "metadata": {},
   "source": [
    "<div class=\"alert alert-block alert-info\">\n",
    "<b></b> Разделяем тренировочную выборку на категориальные и численные признаки\n",
    "</div>"
   ]
  },
  {
   "cell_type": "code",
   "execution_count": 52,
   "metadata": {},
   "outputs": [
    {
     "name": "stdout",
     "output_type": "stream",
     "text": [
      "['Geography', 'Gender']\n"
     ]
    }
   ],
   "source": [
    "obj_features = features_train.select_dtypes(include='object').columns.to_list()\n",
    "\n",
    "print(obj_features)"
   ]
  },
  {
   "cell_type": "code",
   "execution_count": 53,
   "metadata": {},
   "outputs": [
    {
     "name": "stdout",
     "output_type": "stream",
     "text": [
      "['CreditScore', 'Age', 'Tenure', 'Balance', 'NumOfProducts', 'HasCrCard', 'IsActiveMember', 'EstimatedSalary']\n"
     ]
    }
   ],
   "source": [
    "num_features = features_train.select_dtypes(exclude='object').columns.to_list()\n",
    "\n",
    "print(num_features)"
   ]
  },
  {
   "cell_type": "markdown",
   "metadata": {},
   "source": [
    "<div class=\"alert alert-block alert-info\">\n",
    "<b></b> Для категориальнный признаков используем метод OHE,а для численных Scaler\n",
    "</div>"
   ]
  },
  {
   "cell_type": "code",
   "execution_count": 54,
   "metadata": {},
   "outputs": [],
   "source": [
    "encoder_ohe = OneHotEncoder(drop='first', sparse = False)\n",
    "\n",
    "encoder_ohe.fit(features_train[obj_features])\n",
    "encoder_ohe.fit(features_valid[obj_features])\n",
    "encoder_ohe.fit(features_test[obj_features])\n",
    "encoder_ohe.fit(features_upsampled[obj_features])\n",
    "encoder_ohe.fit(features_downsampled[obj_features])\n",
    "\n",
    "\n",
    "features_train[\n",
    "    encoder_ohe.get_feature_names()\n",
    "] = encoder_ohe.transform(features_train[obj_features])\n",
    "features_train = features_train.drop(obj_features, axis=1)\n",
    "\n",
    "features_valid[\n",
    "    encoder_ohe.get_feature_names()\n",
    "] = encoder_ohe.transform(features_valid[obj_features])\n",
    "features_valid = features_valid.drop(obj_features, axis=1)\n",
    "\n",
    "features_test[\n",
    "    encoder_ohe.get_feature_names()\n",
    "] = encoder_ohe.transform(features_test[obj_features])\n",
    "features_test = features_test.drop(obj_features, axis=1)\n",
    "\n",
    "features_upsampled[\n",
    "    encoder_ohe.get_feature_names()\n",
    "] = encoder_ohe.transform(features_upsampled[obj_features])\n",
    "features_upsampled = features_upsampled.drop(obj_features, axis=1)\n",
    "\n",
    "features_downsampled[\n",
    "    encoder_ohe.get_feature_names()\n",
    "] = encoder_ohe.transform(features_downsampled[obj_features])\n",
    "features_downsampled = features_downsampled.drop(obj_features, axis=1)\n",
    "\n",
    "\n",
    "scaler = StandardScaler()\n",
    "scaler.fit(features_train[num_features]) \n",
    "features_train[num_features] = scaler.transform(features_train[num_features])\n",
    "features_valid[num_features] = scaler.transform(features_valid[num_features])\n",
    "features_test[num_features] = scaler.transform(features_test[num_features])\n",
    "features_upsampled[num_features] = scaler.transform(features_upsampled[num_features])\n",
    "features_downsampled[num_features] = scaler.transform(features_downsampled[num_features])"
   ]
  },
  {
   "cell_type": "markdown",
   "metadata": {},
   "source": [
    "<div class=\"alert alert-block alert-info\">\n",
    "<b></b> Смотим что всё получилось\n",
    "</div>"
   ]
  },
  {
   "cell_type": "code",
   "execution_count": 55,
   "metadata": {
    "scrolled": true
   },
   "outputs": [
    {
     "data": {
      "text/html": [
       "<div>\n",
       "<style scoped>\n",
       "    .dataframe tbody tr th:only-of-type {\n",
       "        vertical-align: middle;\n",
       "    }\n",
       "\n",
       "    .dataframe tbody tr th {\n",
       "        vertical-align: top;\n",
       "    }\n",
       "\n",
       "    .dataframe thead th {\n",
       "        text-align: right;\n",
       "    }\n",
       "</style>\n",
       "<table border=\"1\" class=\"dataframe\">\n",
       "  <thead>\n",
       "    <tr style=\"text-align: right;\">\n",
       "      <th></th>\n",
       "      <th>CreditScore</th>\n",
       "      <th>Age</th>\n",
       "      <th>Tenure</th>\n",
       "      <th>Balance</th>\n",
       "      <th>NumOfProducts</th>\n",
       "      <th>HasCrCard</th>\n",
       "      <th>IsActiveMember</th>\n",
       "      <th>EstimatedSalary</th>\n",
       "      <th>x0_Germany</th>\n",
       "      <th>x0_Spain</th>\n",
       "      <th>x1_Male</th>\n",
       "    </tr>\n",
       "  </thead>\n",
       "  <tbody>\n",
       "    <tr>\n",
       "      <th>7479</th>\n",
       "      <td>-0.830326</td>\n",
       "      <td>-0.366305</td>\n",
       "      <td>1.090238</td>\n",
       "      <td>1.208467</td>\n",
       "      <td>-0.936108</td>\n",
       "      <td>0.647647</td>\n",
       "      <td>-0.995012</td>\n",
       "      <td>-0.215327</td>\n",
       "      <td>0.0</td>\n",
       "      <td>1.0</td>\n",
       "      <td>1.0</td>\n",
       "    </tr>\n",
       "    <tr>\n",
       "      <th>3411</th>\n",
       "      <td>0.662367</td>\n",
       "      <td>-0.179462</td>\n",
       "      <td>1.090238</td>\n",
       "      <td>0.582387</td>\n",
       "      <td>-0.936108</td>\n",
       "      <td>-1.544051</td>\n",
       "      <td>-0.995012</td>\n",
       "      <td>-0.361139</td>\n",
       "      <td>0.0</td>\n",
       "      <td>0.0</td>\n",
       "      <td>0.0</td>\n",
       "    </tr>\n",
       "    <tr>\n",
       "      <th>6027</th>\n",
       "      <td>2.103231</td>\n",
       "      <td>0.474487</td>\n",
       "      <td>-0.629056</td>\n",
       "      <td>1.005122</td>\n",
       "      <td>0.772118</td>\n",
       "      <td>-1.544051</td>\n",
       "      <td>1.005013</td>\n",
       "      <td>1.470525</td>\n",
       "      <td>1.0</td>\n",
       "      <td>0.0</td>\n",
       "      <td>1.0</td>\n",
       "    </tr>\n",
       "    <tr>\n",
       "      <th>1247</th>\n",
       "      <td>-1.400452</td>\n",
       "      <td>-1.393940</td>\n",
       "      <td>0.402520</td>\n",
       "      <td>-1.235001</td>\n",
       "      <td>0.772118</td>\n",
       "      <td>0.647647</td>\n",
       "      <td>-0.995012</td>\n",
       "      <td>-1.096096</td>\n",
       "      <td>0.0</td>\n",
       "      <td>0.0</td>\n",
       "      <td>1.0</td>\n",
       "    </tr>\n",
       "    <tr>\n",
       "      <th>3716</th>\n",
       "      <td>0.185535</td>\n",
       "      <td>-1.113676</td>\n",
       "      <td>-0.972915</td>\n",
       "      <td>1.117489</td>\n",
       "      <td>-0.936108</td>\n",
       "      <td>-1.544051</td>\n",
       "      <td>-0.995012</td>\n",
       "      <td>1.491636</td>\n",
       "      <td>1.0</td>\n",
       "      <td>0.0</td>\n",
       "      <td>0.0</td>\n",
       "    </tr>\n",
       "  </tbody>\n",
       "</table>\n",
       "</div>"
      ],
      "text/plain": [
       "      CreditScore       Age    Tenure   Balance  NumOfProducts  HasCrCard  \\\n",
       "7479    -0.830326 -0.366305  1.090238  1.208467      -0.936108   0.647647   \n",
       "3411     0.662367 -0.179462  1.090238  0.582387      -0.936108  -1.544051   \n",
       "6027     2.103231  0.474487 -0.629056  1.005122       0.772118  -1.544051   \n",
       "1247    -1.400452 -1.393940  0.402520 -1.235001       0.772118   0.647647   \n",
       "3716     0.185535 -1.113676 -0.972915  1.117489      -0.936108  -1.544051   \n",
       "\n",
       "      IsActiveMember  EstimatedSalary  x0_Germany  x0_Spain  x1_Male  \n",
       "7479       -0.995012        -0.215327         0.0       1.0      1.0  \n",
       "3411       -0.995012        -0.361139         0.0       0.0      0.0  \n",
       "6027        1.005013         1.470525         1.0       0.0      1.0  \n",
       "1247       -0.995012        -1.096096         0.0       0.0      1.0  \n",
       "3716       -0.995012         1.491636         1.0       0.0      0.0  "
      ]
     },
     "execution_count": 55,
     "metadata": {},
     "output_type": "execute_result"
    }
   ],
   "source": [
    "features_train.head()"
   ]
  },
  {
   "cell_type": "markdown",
   "metadata": {},
   "source": [
    "<div class=\"alert alert-block alert-info\">\n",
    "<b></b> Заполним пропуски методом ближайших соседей (KNNImputer)\n",
    "</div>"
   ]
  },
  {
   "cell_type": "code",
   "execution_count": 56,
   "metadata": {},
   "outputs": [
    {
     "data": {
      "text/plain": [
       "(0, (6000, 11))"
      ]
     },
     "execution_count": 56,
     "metadata": {},
     "output_type": "execute_result"
    }
   ],
   "source": [
    "knn_imputer = KNNImputer(n_neighbors = 5, weights = 'uniform')\n",
    "\n",
    "features_train = pd.DataFrame(knn_imputer.fit_transform(features_train), columns = features_train.columns)\n",
    "features_valid = pd.DataFrame(knn_imputer.fit_transform(features_valid), columns = features_valid.columns)\n",
    "features_test = pd.DataFrame(knn_imputer.fit_transform(features_test), columns = features_test.columns)\n",
    "features_upsampled = pd.DataFrame(knn_imputer.fit_transform(features_upsampled), columns = features_upsampled.columns)\n",
    "features_downsampled = pd.DataFrame(knn_imputer.fit_transform(features_downsampled), columns = features_downsampled.columns)\n",
    "\n",
    "features_train.Tenure.isna().sum(), features_train.shape"
   ]
  },
  {
   "cell_type": "markdown",
   "metadata": {},
   "source": [
    "<div class=\"alert alert-block alert-info\">\n",
    "<b></b> Данным шагом я хотел обратно преобразовать датафрейм, чтоб взглянуть как заполнился столбец Tenure, но ошибка которая там вызалит, я понимаю что проблема там в матричном перемножении, как пишет ошибка. Но как решить её в данном методе, я ответов в интернете и на других источниках не нашёл. Поверю в святого духа, что данные заполнились и получилось что-то похожее на нормальное распределение. Ну и построим график их того, что имеется. Нормальным распределением конечно не сильно пахнет, но спишем это, на особенность масштабированния данных.\n",
    "</div>"
   ]
  },
  {
   "cell_type": "code",
   "execution_count": 57,
   "metadata": {},
   "outputs": [
    {
     "data": {
      "image/png": "[encoded data removed]",
      "text/plain": [
       "<Figure size 432x288 with 1 Axes>"
      ]
     },
     "metadata": {
      "needs_background": "light"
     },
     "output_type": "display_data"
    }
   ],
   "source": [
    "sns.histplot(features_train['Tenure'], bins = 10)\n",
    "plt.title('Распределение Tenure после заполнения с помощью KNNImputer');"
   ]
  },
  {
   "cell_type": "markdown",
   "metadata": {},
   "source": [
    "<div class=\"alert alert-block alert-info\">\n",
    "<b></b> Теперь можем перейти к шагу обучения моделей. Выборки у нас все готовы, данные отмасштабированы по всем признакам.\n",
    "</div>"
   ]
  },
  {
   "cell_type": "markdown",
   "metadata": {},
   "source": [
    "## Исследование задачи"
   ]
  },
  {
   "cell_type": "markdown",
   "metadata": {},
   "source": [
    "<div class=\"alert alert-block alert-info\">\n",
    "<b></b> Введём функцию помощника для предсказания данных.\n",
    "</div>"
   ]
  },
  {
   "cell_type": "code",
   "execution_count": null,
   "metadata": {},
   "outputs": [],
   "source": [
    "def train_and_predict(model,  features_train, target_train, features_valid):  \n",
    "    \n",
    "    model.fit(features_train, target_train)\n",
    "    predicted_valid = model.predict(features_valid)\n",
    "    cros_val_result = \n",
    "    result = f1_score(target_valid, predicted_valid) \n",
    "\n",
    "    return result"
   ]
  },
  {
   "cell_type": "markdown",
   "metadata": {},
   "source": [
    "<div class=\"alert alert-block alert-info\">\n",
    "<b>Логистическая регрессия</b> \n",
    "</div>"
   ]
  },
  {
   "cell_type": "code",
   "execution_count": 59,
   "metadata": {},
   "outputs": [
    {
     "name": "stdout",
     "output_type": "stream",
     "text": [
      "Лучшее значение F1-меры:0.33052276559865096\n"
     ]
    }
   ],
   "source": [
    "model = LogisticRegression(solver='liblinear', random_state=state)\n",
    "print(f'Лучшее значение F1-меры:{train_and_predict(model, features_train, target_train, features_valid)}')"
   ]
  },
  {
   "cell_type": "markdown",
   "metadata": {},
   "source": [
    "<div class=\"alert alert-block alert-info\">\n",
    "<b>Случайный лес</b> \n",
    "</div>"
   ]
  },
  {
   "cell_type": "code",
   "execution_count": 60,
   "metadata": {},
   "outputs": [
    {
     "name": "stdout",
     "output_type": "stream",
     "text": [
      "Лучшее значение F1-меры:0.595166163141994, оптимальная глубина:15, оптимальное разветвление:60\n",
      "CPU times: user 3min 48s, sys: 1.05 s, total: 3min 49s\n",
      "Wall time: 3min 49s\n"
     ]
    }
   ],
   "source": [
    "%%time\n",
    "\n",
    "best_res = 0\n",
    "best_depth = 0\n",
    "best_est = 0\n",
    "\n",
    "count_F1 = []\n",
    "count_depth = []\n",
    "count_est = []\n",
    "\n",
    "for est in range(10, 250, 10):\n",
    "    for depth in range (1, 16, 1):\n",
    "        model_RFC = RandomForestClassifier(n_estimators=est, max_depth=depth, random_state=state)\n",
    "        result = train_and_predict(model_RFC, features_train, target_train, features_valid)\n",
    "        if result > best_res:\n",
    "            best_res = result\n",
    "            best_depth = depth\n",
    "            best_est = est\n",
    "        count_F1.append(result)\n",
    "        count_depth.append(depth)\n",
    "        count_est.append(est)   \n",
    "\n",
    "print(f'Лучшее значение F1-меры:{best_res}, оптимальная глубина:{best_depth}, оптимальное разветвление:{best_est}')\n"
   ]
  },
  {
   "cell_type": "code",
   "execution_count": 61,
   "metadata": {},
   "outputs": [
    {
     "data": {
      "image/png": "[encoded data removed]",
      "text/plain": [
       "<Figure size 864x432 with 1 Axes>"
      ]
     },
     "metadata": {
      "needs_background": "light"
     },
     "output_type": "display_data"
    }
   ],
   "source": [
    "plt.figure(figsize=(12, 6));\n",
    "plt.scatter(count_depth, count_F1)\n",
    "plt.axis([0,16,0,0.6])\n",
    "plt.title('Зависимость F1-меры от глубины обучения', fontsize=20)\n",
    "plt.xlabel('Глубина', color='black')\n",
    "plt.ylabel('F1-мера',color='black')\n",
    "plt.grid(True)\n",
    "plt.show()"
   ]
  },
  {
   "cell_type": "markdown",
   "metadata": {},
   "source": [
    "<div class=\"alert alert-block alert-info\">\n",
    "<b></b> Видно, что при увеличении глубины значения F1 меры увеличивались (до 13), а затем пошло на спад. Видимо там настал момент переобучения.\n",
    "</div>"
   ]
  },
  {
   "cell_type": "markdown",
   "metadata": {},
   "source": [
    "<div class=\"alert alert-block alert-info\">\n",
    "<b>Дерево решений</b> \n",
    "</div>"
   ]
  },
  {
   "cell_type": "code",
   "execution_count": 62,
   "metadata": {},
   "outputs": [
    {
     "name": "stdout",
     "output_type": "stream",
     "text": [
      "Лучшее значение F1-меры:0.5528700906344411, оптимальная глубина:4\n",
      "CPU times: user 44.7 ms, sys: 9 µs, total: 44.7 ms\n",
      "Wall time: 43.2 ms\n"
     ]
    }
   ],
   "source": [
    "%%time\n",
    "\n",
    "best_res = 0\n",
    "best_depth = 0\n",
    "\n",
    "for depth in range (1, 5, 1):\n",
    "        model_DTC = DecisionTreeClassifier(max_depth=depth, random_state=state)\n",
    "        result = train_and_predict(model_DTC, features_train, target_train, features_valid)\n",
    "        if result > best_res:\n",
    "            best_res = result\n",
    "            best_depth = depth\n",
    "    \n",
    "            \n",
    "print(f'Лучшее значение F1-меры:{best_res}, оптимальная глубина:{best_depth}')"
   ]
  },
  {
   "cell_type": "markdown",
   "metadata": {},
   "source": [
    "<div class=\"alert alert-block alert-info\">\n",
    "<b>Промежуточный вывод по второму разделу</b> \n",
    "    \n",
    "1) Даже с учётом небаланса классов, наилучший результат показала модель \"Случайного леса\" со следующим гиперпараметрами и значением F1-меры: F1-мера:0.595, оптимальная глубина:15, оптимальное разветвление:60. Время обучения заняло около 3ёх минут (3 мин. 15 сек), в сравнении с другими моделями заметно дольше.\n",
    "    \n",
    "2) Наихудший результат показала модель логистической регрессии со значением F1-меры:0.33.\n",
    "    \n",
    "3) А вот модель \"Решающего дерева\" почти приблизилась к наилучшему значению модели \"Случайного леса\" и значениеF1-меры составило : 0.552, при оптимальной глубине:4\n",
    "    \n",
    "В целом результаты не такие страшные, на последующих этапах мы уравняем классы несколькими способами и посмотрим как это отразится на значение F1-меры.\n",
    "    \n",
    "</div>"
   ]
  },
  {
   "cell_type": "markdown",
   "metadata": {},
   "source": [
    "## Борьба с дизбалансом"
   ]
  },
  {
   "cell_type": "markdown",
   "metadata": {},
   "source": [
    "### Взвешвание классов"
   ]
  },
  {
   "cell_type": "markdown",
   "metadata": {},
   "source": [
    "<div class=\"alert alert-block alert-info\">\n",
    "<b>Логистическая регрессия</b> \n",
    "</div>"
   ]
  },
  {
   "cell_type": "code",
   "execution_count": 63,
   "metadata": {},
   "outputs": [
    {
     "name": "stdout",
     "output_type": "stream",
     "text": [
      "Лучшее значение F1-меры:0.4888507718696398\n"
     ]
    }
   ],
   "source": [
    "model = LogisticRegression(solver='liblinear', random_state=state, class_weight='balanced')\n",
    "print(f'Лучшее значение F1-меры:{train_and_predict(model, features_train, target_train, features_valid)}')"
   ]
  },
  {
   "cell_type": "markdown",
   "metadata": {},
   "source": [
    "<div class=\"alert alert-block alert-info\">\n",
    "<b>Случайный лес</b> \n",
    "</div>"
   ]
  },
  {
   "cell_type": "code",
   "execution_count": 64,
   "metadata": {},
   "outputs": [
    {
     "name": "stdout",
     "output_type": "stream",
     "text": [
      "Лучшее значение F1-меры:0.6367816091954022, оптимальная глубина:9, оптимальное разветвление:160\n",
      "CPU times: user 3min 38s, sys: 743 ms, total: 3min 39s\n",
      "Wall time: 3min 39s\n"
     ]
    }
   ],
   "source": [
    "%%time\n",
    "\n",
    "best_res = 0\n",
    "best_depth = 0\n",
    "best_est = 0\n",
    "\n",
    "count_F1 = []\n",
    "count_depth = []\n",
    "count_est = []\n",
    "\n",
    "for est in range(10, 250, 20):\n",
    "    for depth in range (1, 16, 2):\n",
    "        model_RFC = RandomForestClassifier(n_estimators=est, max_depth=depth, random_state=state, class_weight='balanced')\n",
    "        result = train_and_predict(model_RFC, features_train, target_train, features_valid)\n",
    "        if result > best_res:\n",
    "            best_res = result\n",
    "            best_depth = depth\n",
    "            best_est = est\n",
    "        count_F1.append(result)\n",
    "        count_depth.append(depth)\n",
    "        count_est.append(est)\n",
    "\n",
    "print(f'Лучшее значение F1-меры:{best_res}, оптимальная глубина:{best_depth}, оптимальное разветвление:{best_est}')"
   ]
  },
  {
   "cell_type": "markdown",
   "metadata": {},
   "source": [
    "<div class=\"alert alert-block alert-info\">\n",
    "<b>Дерево решений</b> \n",
    "</div>"
   ]
  },
  {
   "cell_type": "code",
   "execution_count": 65,
   "metadata": {},
   "outputs": [
    {
     "name": "stdout",
     "output_type": "stream",
     "text": [
      "Лучшее значение F1-меры:0.541015625, оптимальная глубина:2\n",
      "CPU times: user 50.5 ms, sys: 0 ns, total: 50.5 ms\n",
      "Wall time: 60 ms\n"
     ]
    }
   ],
   "source": [
    "%%time\n",
    "\n",
    "best_res = 0\n",
    "best_depth = 0\n",
    "\n",
    "for depth in range (1, 5, 1):\n",
    "        model_DTC = DecisionTreeClassifier(max_depth=depth, random_state=state, class_weight='balanced')\n",
    "        result = train_and_predict(model_DTC, features_train, target_train, features_valid)\n",
    "        if result > best_res:\n",
    "            best_res = result\n",
    "            best_depth = depth\n",
    "    \n",
    "            \n",
    "print(f'Лучшее значение F1-меры:{best_res}, оптимальная глубина:{best_depth}')"
   ]
  },
  {
   "cell_type": "markdown",
   "metadata": {},
   "source": [
    "<div class=\"alert alert-block alert-info\">\n",
    "<b>Промежуточный вывод по методу \"Взвешивание классов\"</b> \n",
    "    \n",
    "1) Наилучший результат показала модель \"Случайного леса\" со следующим гиперпараметрами и значением F1-меры: F1-мера:0.636, оптимальная глубина:9, оптимальное разветвление:160. Время обучения заняло около 3ёх минут. \n",
    "    \n",
    "2) Наихудший результат показала модель логистической регрессии со значением F1-меры:0.488. Но значение после балансировки классов, заметно возросло. Положительная тенденция приятна.\n",
    "    \n",
    "3) А вот модель \"Решающего дерева\" также добавила пару пунктов в улучшение собственного качества и значениеF1-меры составило : 0.541, при оптимальной глубине:2\n",
    "    \n",
    "Можно сказать, что балансировка классов, заметно помогла всем моделям преуспеть в увеличении значения F1-меры.\n",
    "    \n",
    "</div>"
   ]
  },
  {
   "cell_type": "markdown",
   "metadata": {},
   "source": [
    "### Увеличение выборки"
   ]
  },
  {
   "cell_type": "markdown",
   "metadata": {},
   "source": [
    "<div class=\"alert alert-block alert-info\">\n",
    "<b>Логистическая регрессия</b> \n",
    "</div>"
   ]
  },
  {
   "cell_type": "code",
   "execution_count": 66,
   "metadata": {},
   "outputs": [
    {
     "name": "stdout",
     "output_type": "stream",
     "text": [
      "Лучшее значение F1-меры:0.4892703862660944\n"
     ]
    }
   ],
   "source": [
    "model = LogisticRegression(solver='liblinear', random_state=state)\n",
    "print(f'Лучшее значение F1-меры:{train_and_predict(model, features_upsampled, target_upsampled, features_valid)}')"
   ]
  },
  {
   "cell_type": "markdown",
   "metadata": {},
   "source": [
    "<div class=\"alert alert-block alert-info\">\n",
    "<b>Случайный лес</b> \n",
    "</div>"
   ]
  },
  {
   "cell_type": "code",
   "execution_count": 67,
   "metadata": {},
   "outputs": [
    {
     "name": "stdout",
     "output_type": "stream",
     "text": [
      "Лучшее значение F1-меры:0.6300518134715026, оптимальная глубина:8, оптимальное разветвление:30\n",
      "CPU times: user 5min 3s, sys: 483 ms, total: 5min 3s\n",
      "Wall time: 5min 4s\n"
     ]
    }
   ],
   "source": [
    "%%time\n",
    "\n",
    "best_res = 0\n",
    "best_depth = 0\n",
    "best_est = 0\n",
    "\n",
    "count_F1 = []\n",
    "count_depth = []\n",
    "count_est = []\n",
    "\n",
    "for est in range(10, 250, 20):\n",
    "    for depth in range (1, 16, 2):\n",
    "        model_RFC = RandomForestClassifier(n_estimators=est, max_depth=depth, random_state=state)\n",
    "        result = train_and_predict(model_RFC, features_upsampled, target_upsampled, features_valid)\n",
    "        if result > best_res:\n",
    "            best_res = result\n",
    "            best_depth = depth\n",
    "            best_est = est\n",
    "            count_F1.append(result)\n",
    "            count_depth.append(depth)\n",
    "            count_est.append(est)\n",
    "\n",
    "print(f'Лучшее значение F1-меры:{best_res}, оптимальная глубина:{best_depth}, оптимальное разветвление:{best_est}')"
   ]
  },
  {
   "cell_type": "markdown",
   "metadata": {},
   "source": [
    "<div class=\"alert alert-block alert-info\">\n",
    "<b>Дерево решений</b> \n",
    "</div>"
   ]
  },
  {
   "cell_type": "code",
   "execution_count": 68,
   "metadata": {},
   "outputs": [
    {
     "name": "stdout",
     "output_type": "stream",
     "text": [
      "Лучшее значение F1-меры:0.541015625, оптимальная глубина:2\n",
      "CPU times: user 53.4 ms, sys: 8 µs, total: 53.5 ms\n",
      "Wall time: 59.1 ms\n"
     ]
    }
   ],
   "source": [
    "%%time\n",
    "\n",
    "best_res = 0\n",
    "best_depth = 0\n",
    "\n",
    "for depth in range (1, 5, 1):\n",
    "        model_DTC = DecisionTreeClassifier(max_depth=depth, random_state=state)\n",
    "        result = train_and_predict(model_DTC, features_upsampled, target_upsampled, features_valid)\n",
    "        if result > best_res:\n",
    "            best_res = result\n",
    "            best_depth = depth\n",
    "    \n",
    "            \n",
    "print(f'Лучшее значение F1-меры:{best_res}, оптимальная глубина:{best_depth}')"
   ]
  },
  {
   "cell_type": "markdown",
   "metadata": {},
   "source": [
    "<div class=\"alert alert-block alert-info\">\n",
    "<b>Промежуточный вывод по методу \"Увеличение выборки\"</b> \n",
    "    \n",
    "1) Наилучший результат показала модель \"Случайного леса\" со следующим гиперпараметрами и значением F1-меры: F1-мера:0.63, оптимальная глубина:8, оптимальное разветвление:30. Время обучения заняло около 3ёх минут. \n",
    "    \n",
    "2) Наихудший результат показала модель логистической регрессии со значением F1-меры:0.48. Значение стало чуть меньше, в отличии от взвешивания классов.\n",
    "    \n",
    "3) А вот модель \"Решающего дерева\" также потеряли пару пунктов и значениеF1-меры составило : 0.541, при оптимальной глубине:4\n",
    "    \n",
    "Можно сказать, что увеличение целевых параметров, слабо позволяет приблизиться к максимальному значению F1-меры.\n",
    "    \n",
    "</div>"
   ]
  },
  {
   "cell_type": "markdown",
   "metadata": {},
   "source": [
    "### Уменьшение выборки"
   ]
  },
  {
   "cell_type": "markdown",
   "metadata": {},
   "source": [
    "<div class=\"alert alert-block alert-info\">\n",
    "<b>Логистическая регрессия</b> \n",
    "</div>"
   ]
  },
  {
   "cell_type": "code",
   "execution_count": 69,
   "metadata": {},
   "outputs": [
    {
     "name": "stdout",
     "output_type": "stream",
     "text": [
      "Лучшее значение F1-меры:0.48275862068965514\n"
     ]
    }
   ],
   "source": [
    "model = LogisticRegression(solver='liblinear', random_state=state)\n",
    "print(f'Лучшее значение F1-меры:{train_and_predict(model, features_downsampled, target_downsampled, features_valid)}')"
   ]
  },
  {
   "cell_type": "markdown",
   "metadata": {},
   "source": [
    "<div class=\"alert alert-block alert-info\">\n",
    "<b>Случайный лес</b> \n",
    "</div>"
   ]
  },
  {
   "cell_type": "code",
   "execution_count": 70,
   "metadata": {},
   "outputs": [
    {
     "name": "stdout",
     "output_type": "stream",
     "text": [
      "Лучшее значение F1-меры:0.6104417670682731, оптимальная глубина:4, оптимальное разветвление:10\n",
      "CPU times: user 1min 59s, sys: 476 ms, total: 2min\n",
      "Wall time: 2min\n"
     ]
    }
   ],
   "source": [
    "%%time\n",
    "\n",
    "best_res = 0\n",
    "best_depth = 0\n",
    "best_est = 0\n",
    "\n",
    "count_F1 = []\n",
    "count_depth = []\n",
    "count_est = []\n",
    "\n",
    "for est in range(10, 250, 10):\n",
    "    for depth in range (1, 16, 1):\n",
    "        model_RFC = RandomForestClassifier(n_estimators=est, max_depth=depth, random_state=state)\n",
    "        result = train_and_predict(model_RFC, features_downsampled, target_downsampled, features_valid)\n",
    "        if result > best_res:\n",
    "            best_res = result\n",
    "            best_depth = depth\n",
    "            best_est = est\n",
    "            count_F1.append(result)\n",
    "            count_depth.append(depth)\n",
    "            count_est.append(est)\n",
    "\n",
    "print(f'Лучшее значение F1-меры:{best_res}, оптимальная глубина:{best_depth}, оптимальное разветвление:{best_est}')"
   ]
  },
  {
   "cell_type": "markdown",
   "metadata": {},
   "source": [
    "<div class=\"alert alert-block alert-info\">\n",
    "<b>Дерево решений</b> \n",
    "</div>"
   ]
  },
  {
   "cell_type": "code",
   "execution_count": 71,
   "metadata": {},
   "outputs": [
    {
     "name": "stdout",
     "output_type": "stream",
     "text": [
      "Лучшее значение F1-меры:0.5555555555555556, оптимальная глубина:3\n",
      "CPU times: user 28.1 ms, sys: 0 ns, total: 28.1 ms\n",
      "Wall time: 38 ms\n"
     ]
    }
   ],
   "source": [
    "%%time\n",
    "\n",
    "best_res = 0\n",
    "best_depth = 0\n",
    "\n",
    "for depth in range (1, 5, 1):\n",
    "        model_DTC = DecisionTreeClassifier(max_depth=depth, random_state=state)\n",
    "        result = train_and_predict(model_DTC, features_downsampled, target_downsampled, features_valid)\n",
    "        if result > best_res:\n",
    "            best_res = result\n",
    "            best_depth = depth\n",
    "    \n",
    "            \n",
    "print(f'Лучшее значение F1-меры:{best_res}, оптимальная глубина:{best_depth}')"
   ]
  },
  {
   "cell_type": "markdown",
   "metadata": {},
   "source": [
    "<div class=\"alert alert-block alert-info\">\n",
    "<b>Промежуточный вывод по методу \"Уменьшение выборки\"</b> \n",
    "    \n",
    "1) Наилучший результат показала модель \"Случайного леса\" со следующим гиперпараметрами и значением F1-меры: F1-мера:0.561, оптимальная глубина:4, оптимальное разветвление:10. Время обучения заняло около 2ух минут. \n",
    "    \n",
    "2) Наихудший результат показала модель логистической регрессии со значением F1-меры:0.482. Значение стало ещё на пару тысячных  меньше, в отличии от увелечения классов.\n",
    "    \n",
    "3) А вот модель \"Решающего дерева\" также добавило пару пунктов и значениеF1-меры составило : 0.555, при оптимальной глубине:3\n",
    "    \n",
    "Можно сказать, что уменьшение целевых параметров, также не позволяет приблизиться к максимальному значению F1-меры.\n",
    "    \n",
    "</div>"
   ]
  },
  {
   "cell_type": "markdown",
   "metadata": {},
   "source": [
    "<div class=\"alert alert-block alert-info\">\n",
    "<b>КОММЕНТАРИЙ СТУДЕНТА V2</b>\n",
    "    \n",
    "-Парадокс есть, но всё же, хоть и называется логистическая регрессия,но она выполняет задачи классификации.\n",
    "    \n",
    "-Если правильно понимаю, логистическая регрессия плохо влияет на классификацию нелинейных разделимых наборов данных. А также основным ограничением логистической регрессии является предположение о линейности между зависимой переменной и независимыми переменными. Думаю всё же у нас есть столбцы с нелинейными данными, такие как - зарплата клиентов банка, сколькими продуктами банка он пользуется, кредитная история. (Моё предположение).\n",
    "    \n",
    "-Есть предположение, если правильно перевод статьи понял, что при недостатке целевого признака относительно всех признаков, логистическая регрессия может переобучаться, что и приводит к снижению точности модели. Когда мы организоваи баланс классов или увеличили выборку целевого признака. Когда выборку мы уменьшаньшили, у нас наоборот, остаьная выборка тоже значительно уменьшилась, и целевой признак мы там тоже пытаись выставить в уровне. Наверно в связи с этим и получилось увеличение точности модели.\n",
    "</div>"
   ]
  },
  {
   "cell_type": "markdown",
   "metadata": {},
   "source": [
    "## Тестирование модели"
   ]
  },
  {
   "cell_type": "markdown",
   "metadata": {},
   "source": [
    "<div class=\"alert alert-block alert-info\">\n",
    "Протестируем модель, которая показала самые оптимальные параметры, а именно: модель = \"Случайный лес\", оптимальная глубина = 9, оптимальное разветвление = 120, метод повышения точности = \"Взвешивание классов\". "
   ]
  },
  {
   "cell_type": "code",
   "execution_count": 72,
   "metadata": {},
   "outputs": [
    {
     "name": "stdout",
     "output_type": "stream",
     "text": [
      "Значение F1-меры на валидационной выборке: 0.6267281105990784\n",
      "Значение F1-меры на тестовой выборке: 0.6174801362088537\n"
     ]
    }
   ],
   "source": [
    "model = RandomForestClassifier(random_state=state, max_depth=9, n_estimators=120, class_weight='balanced')\n",
    "model.fit(features_train, target_train)\n",
    "\n",
    "predicted_valid = model.predict(features_valid)\n",
    "print(f'Значение F1-меры на валидационной выборке: {f1_score(target_valid, predicted_valid)}')\n",
    "\n",
    "predicted_test = model.predict(features_test)\n",
    "print(f'Значение F1-меры на тестовой выборке: {f1_score(target_test, predicted_test)}')"
   ]
  },
  {
   "cell_type": "code",
   "execution_count": 73,
   "metadata": {},
   "outputs": [
    {
     "name": "stdout",
     "output_type": "stream",
     "text": [
      "AUC-ROC равняется: 0.8556911183832469\n"
     ]
    }
   ],
   "source": [
    "probabilities_valid = model.predict_proba(features_valid)\n",
    "probabilities_one_valid = probabilities_valid[:, 1]\n",
    "auc_roc = roc_auc_score(target_valid, probabilities_one_valid)\n",
    "print(f'AUC-ROC равняется: {auc_roc}')"
   ]
  },
  {
   "cell_type": "markdown",
   "metadata": {},
   "source": [
    "<div class=\"alert alert-block alert-info\">\n",
    "Дополнительно отобразим ROC-кривую. "
   ]
  },
  {
   "cell_type": "code",
   "execution_count": 74,
   "metadata": {},
   "outputs": [
    {
     "data": {
      "image/png": "[encoded data removed]",
      "text/plain": [
       "<Figure size 432x288 with 1 Axes>"
      ]
     },
     "metadata": {
      "needs_background": "light"
     },
     "output_type": "display_data"
    }
   ],
   "source": [
    "fpr, tpr, thresholds = roc_curve(target_valid, probabilities_one_valid)\n",
    "plt.figure()\n",
    "plt.plot(fpr, tpr)\n",
    "plt.plot([0, 1], [0, 1], linestyle='--')\n",
    "plt.xlim([0, 1])\n",
    "plt.ylim([0, 1])\n",
    "plt.xlabel('False Positive Rate')\n",
    "plt.ylabel('True Positive Rate')\n",
    "plt.title('ROC-кривая')\n",
    "plt.show()"
   ]
  },
  {
   "cell_type": "markdown",
   "metadata": {},
   "source": [
    "<div class=\"alert alert-block alert-info\">\n",
    "<b>Итоговый вывод по проекту</b> \n",
    "    \n",
    "1) Наилучшей обученной моделью стала модель \"Случайного леса\" со следующими гиперпараметрами: оптимальная глубина = 9, оптимальное разветвление = 120, метод повышения точности = \"Взвешивание классов\". Значение F меры на обученной модели составила - 0.612.\n",
    "    \n",
    "2) Тестовое значение F1-меры на основе оптимальных гиперпараметров составило: 0.671. В целом результат получился лучше чем ожидаемый. От нас требовалось добиться точности выше 0.59, и мы с лихвой перевалили за это значение.\n",
    "\n",
    "3) Значение AUC-ROC (площадь от нашей кривой - синияя линия, до штриховой линии(случайные предсказанаия модели)- оранжевая) составило 0.852. Значение довольно высокое. Значит доля вернопредсказаных объектов к общему числу объектов больше относительно ложных срабатываний.\n",
    "    \n",
    "Все поставленные задачи были выполненые. \n",
    "Теперь, после ваших правок, прям гораздо глубже закопался в некоторых вопросах, что за чем идёт. На практике понял, чем отличается масштабирование классов, что такое порядковое и прямое кодирование. Что у этих параметров присутствуют более изящные пути решения. Понял, что пропуски иногда следует заменять на другие значения, прибегая к машинному обучения для дальнейшего заполнения пропусков. Потратил много времени, перерыл много материала. Но сейчас понимаю суть описанных выше подходов. Благодраю за комментарии. Думаю этот вариант устроит больше. Да, я ещё не все ваши советы использовал на практике, в связи со временем. Но в дальнейшем их учту. Но на большинсто вопросов вроде бы ответил.\n",
    "    \n",
    "\n",
    "</div>"
   ]
  },
  {
   "cell_type": "code",
   "execution_count": null,
   "metadata": {},
   "outputs": [],
   "source": []
  }
 ],
 "metadata": {
  "ExecuteTimeLog": [
   {
    "duration": 138,
    "start_time": "2023-10-11T14:18:37.455Z"
   },
   {
    "duration": 1483,
    "start_time": "2023-10-11T14:19:12.279Z"
   },
   {
    "duration": 162,
    "start_time": "2023-10-11T14:19:24.060Z"
   },
   {
    "duration": 115,
    "start_time": "2023-10-11T14:23:22.582Z"
   },
   {
    "duration": 564,
    "start_time": "2023-10-11T14:23:35.190Z"
   },
   {
    "duration": 16,
    "start_time": "2023-10-11T14:23:46.574Z"
   },
   {
    "duration": 45,
    "start_time": "2023-10-11T14:24:36.743Z"
   },
   {
    "duration": 18,
    "start_time": "2023-10-11T14:24:37.294Z"
   },
   {
    "duration": 23,
    "start_time": "2023-10-11T14:25:11.212Z"
   },
   {
    "duration": 4,
    "start_time": "2023-10-11T14:25:16.742Z"
   },
   {
    "duration": 60,
    "start_time": "2023-10-11T14:25:25.934Z"
   },
   {
    "duration": 43,
    "start_time": "2023-10-11T14:25:27.218Z"
   },
   {
    "duration": 19,
    "start_time": "2023-10-11T14:25:27.690Z"
   },
   {
    "duration": 61112,
    "start_time": "2023-10-11T14:25:28.451Z"
   },
   {
    "duration": 63696,
    "start_time": "2023-10-11T14:28:38.779Z"
   },
   {
    "duration": 16,
    "start_time": "2023-10-11T14:29:50.705Z"
   },
   {
    "duration": 12,
    "start_time": "2023-10-11T14:29:54.230Z"
   },
   {
    "duration": 61224,
    "start_time": "2023-10-11T14:29:58.773Z"
   },
   {
    "duration": 60894,
    "start_time": "2023-10-11T14:35:28.380Z"
   },
   {
    "duration": 6,
    "start_time": "2023-10-11T14:39:10.299Z"
   },
   {
    "duration": 6,
    "start_time": "2023-10-11T14:39:46.219Z"
   },
   {
    "duration": 61913,
    "start_time": "2023-10-11T14:42:11.457Z"
   },
   {
    "duration": 67012,
    "start_time": "2023-10-11T14:43:33.517Z"
   },
   {
    "duration": 65413,
    "start_time": "2023-10-11T14:46:30.903Z"
   },
   {
    "duration": 5,
    "start_time": "2023-10-11T14:48:33.176Z"
   },
   {
    "duration": 5,
    "start_time": "2023-10-11T14:48:51.147Z"
   },
   {
    "duration": 9,
    "start_time": "2023-10-11T14:49:08.707Z"
   },
   {
    "duration": 6,
    "start_time": "2023-10-11T14:49:28.036Z"
   },
   {
    "duration": 17,
    "start_time": "2023-10-11T14:49:44.550Z"
   },
   {
    "duration": 13,
    "start_time": "2023-10-11T14:49:49.891Z"
   },
   {
    "duration": 8,
    "start_time": "2023-10-11T14:49:56.455Z"
   },
   {
    "duration": 6,
    "start_time": "2023-10-11T14:50:04.974Z"
   },
   {
    "duration": 5,
    "start_time": "2023-10-11T14:50:07.856Z"
   },
   {
    "duration": 6,
    "start_time": "2023-10-11T14:50:13.004Z"
   },
   {
    "duration": 5,
    "start_time": "2023-10-11T14:50:16.205Z"
   },
   {
    "duration": 13,
    "start_time": "2023-10-11T14:50:44.972Z"
   },
   {
    "duration": 13,
    "start_time": "2023-10-11T14:51:08.887Z"
   },
   {
    "duration": 25,
    "start_time": "2023-10-11T14:51:15.315Z"
   },
   {
    "duration": 12,
    "start_time": "2023-10-11T14:51:22.034Z"
   },
   {
    "duration": 12,
    "start_time": "2023-10-11T14:55:40.012Z"
   },
   {
    "duration": 6,
    "start_time": "2023-10-11T14:55:54.288Z"
   },
   {
    "duration": 12,
    "start_time": "2023-10-11T14:55:59.133Z"
   },
   {
    "duration": 6,
    "start_time": "2023-10-11T14:56:06.941Z"
   },
   {
    "duration": 11,
    "start_time": "2023-10-11T14:56:13.341Z"
   },
   {
    "duration": 6,
    "start_time": "2023-10-11T14:56:22.005Z"
   },
   {
    "duration": 7,
    "start_time": "2023-10-11T14:56:25.581Z"
   },
   {
    "duration": 12,
    "start_time": "2023-10-11T14:57:36.971Z"
   },
   {
    "duration": 45,
    "start_time": "2023-10-11T14:57:42.301Z"
   },
   {
    "duration": 15,
    "start_time": "2023-10-11T14:57:42.589Z"
   },
   {
    "duration": 12,
    "start_time": "2023-10-11T14:57:43.445Z"
   },
   {
    "duration": 11,
    "start_time": "2023-10-11T14:58:07.978Z"
   },
   {
    "duration": 5,
    "start_time": "2023-10-11T14:58:15.654Z"
   },
   {
    "duration": 9,
    "start_time": "2023-10-11T14:58:24.029Z"
   },
   {
    "duration": 27,
    "start_time": "2023-10-11T14:58:30.529Z"
   },
   {
    "duration": 33,
    "start_time": "2023-10-11T14:58:40.062Z"
   },
   {
    "duration": 40,
    "start_time": "2023-10-11T14:58:43.521Z"
   },
   {
    "duration": 23,
    "start_time": "2023-10-11T14:58:59.346Z"
   },
   {
    "duration": 24,
    "start_time": "2023-10-11T14:59:25.698Z"
   },
   {
    "duration": 26,
    "start_time": "2023-10-11T14:59:30.833Z"
   },
   {
    "duration": 29,
    "start_time": "2023-10-11T14:59:38.737Z"
   },
   {
    "duration": 13,
    "start_time": "2023-10-11T14:59:46.268Z"
   },
   {
    "duration": 12,
    "start_time": "2023-10-11T14:59:58.769Z"
   },
   {
    "duration": 39,
    "start_time": "2023-10-11T15:00:52.422Z"
   },
   {
    "duration": 34,
    "start_time": "2023-10-11T15:00:57.371Z"
   },
   {
    "duration": 31,
    "start_time": "2023-10-11T15:01:07.801Z"
   },
   {
    "duration": 27,
    "start_time": "2023-10-11T15:02:24.290Z"
   },
   {
    "duration": 26,
    "start_time": "2023-10-11T15:02:42.965Z"
   },
   {
    "duration": 2058,
    "start_time": "2023-10-12T02:26:16.978Z"
   },
   {
    "duration": 149,
    "start_time": "2023-10-12T02:26:19.040Z"
   },
   {
    "duration": 18,
    "start_time": "2023-10-12T02:26:19.190Z"
   },
   {
    "duration": 56,
    "start_time": "2023-10-12T02:26:19.211Z"
   },
   {
    "duration": 8,
    "start_time": "2023-10-12T02:26:19.270Z"
   },
   {
    "duration": 172,
    "start_time": "2023-10-12T02:34:37.457Z"
   },
   {
    "duration": 24,
    "start_time": "2023-10-12T02:34:49.653Z"
   },
   {
    "duration": 6,
    "start_time": "2023-10-12T02:35:27.490Z"
   },
   {
    "duration": 6,
    "start_time": "2023-10-12T02:35:33.584Z"
   },
   {
    "duration": 4,
    "start_time": "2023-10-12T02:35:40.851Z"
   },
   {
    "duration": 12,
    "start_time": "2023-10-12T02:35:45.421Z"
   },
   {
    "duration": 6,
    "start_time": "2023-10-12T02:36:00.386Z"
   },
   {
    "duration": 37,
    "start_time": "2023-10-12T02:38:28.891Z"
   },
   {
    "duration": 23,
    "start_time": "2023-10-12T02:38:57.566Z"
   },
   {
    "duration": 33,
    "start_time": "2023-10-12T02:39:42.930Z"
   },
   {
    "duration": 38,
    "start_time": "2023-10-12T02:39:53.476Z"
   },
   {
    "duration": 40,
    "start_time": "2023-10-12T02:40:02.383Z"
   },
   {
    "duration": 39,
    "start_time": "2023-10-12T02:40:07.729Z"
   },
   {
    "duration": 40,
    "start_time": "2023-10-12T02:41:03.620Z"
   },
   {
    "duration": 24,
    "start_time": "2023-10-12T02:41:09.560Z"
   },
   {
    "duration": 26,
    "start_time": "2023-10-12T02:41:21.750Z"
   },
   {
    "duration": 1906,
    "start_time": "2023-10-12T16:00:27.810Z"
   },
   {
    "duration": 89,
    "start_time": "2023-10-12T16:00:29.718Z"
   },
   {
    "duration": 16,
    "start_time": "2023-10-12T16:00:29.808Z"
   },
   {
    "duration": 70,
    "start_time": "2023-10-12T16:00:29.826Z"
   },
   {
    "duration": 181,
    "start_time": "2023-10-12T16:00:29.898Z"
   },
   {
    "duration": 0,
    "start_time": "2023-10-12T16:00:30.082Z"
   },
   {
    "duration": 26,
    "start_time": "2023-10-12T16:01:14.084Z"
   },
   {
    "duration": 7,
    "start_time": "2023-10-12T16:08:38.866Z"
   },
   {
    "duration": 6,
    "start_time": "2023-10-12T16:08:57.271Z"
   },
   {
    "duration": 7,
    "start_time": "2023-10-12T16:09:18.502Z"
   },
   {
    "duration": 6,
    "start_time": "2023-10-12T16:10:59.263Z"
   },
   {
    "duration": 14,
    "start_time": "2023-10-12T16:11:02.818Z"
   },
   {
    "duration": 5,
    "start_time": "2023-10-12T16:11:10.807Z"
   },
   {
    "duration": 28,
    "start_time": "2023-10-12T16:15:31.378Z"
   },
   {
    "duration": 7,
    "start_time": "2023-10-12T16:35:29.655Z"
   },
   {
    "duration": 27,
    "start_time": "2023-10-12T16:37:05.303Z"
   },
   {
    "duration": 9,
    "start_time": "2023-10-12T16:37:30.219Z"
   },
   {
    "duration": 13,
    "start_time": "2023-10-12T16:37:44.387Z"
   },
   {
    "duration": 7,
    "start_time": "2023-10-12T16:37:50.051Z"
   },
   {
    "duration": 15,
    "start_time": "2023-10-12T16:37:50.901Z"
   },
   {
    "duration": 8,
    "start_time": "2023-10-12T16:37:57.436Z"
   },
   {
    "duration": 2780,
    "start_time": "2023-10-12T16:40:06.323Z"
   },
   {
    "duration": 6,
    "start_time": "2023-10-12T16:40:18.048Z"
   },
   {
    "duration": 5,
    "start_time": "2023-10-12T16:40:22.350Z"
   },
   {
    "duration": 1813,
    "start_time": "2023-10-14T12:10:57.019Z"
   },
   {
    "duration": 81,
    "start_time": "2023-10-14T12:10:58.834Z"
   },
   {
    "duration": 18,
    "start_time": "2023-10-14T12:10:58.917Z"
   },
   {
    "duration": 33,
    "start_time": "2023-10-14T12:10:58.937Z"
   },
   {
    "duration": 25,
    "start_time": "2023-10-14T12:10:58.973Z"
   },
   {
    "duration": 7,
    "start_time": "2023-10-14T12:10:58.999Z"
   },
   {
    "duration": 46,
    "start_time": "2023-10-14T12:10:59.008Z"
   },
   {
    "duration": 31,
    "start_time": "2023-10-14T12:10:59.055Z"
   },
   {
    "duration": 45,
    "start_time": "2023-10-14T12:10:59.087Z"
   },
   {
    "duration": 35,
    "start_time": "2023-10-14T12:10:59.134Z"
   },
   {
    "duration": 131,
    "start_time": "2023-10-14T12:32:04.416Z"
   },
   {
    "duration": 164,
    "start_time": "2023-10-14T12:32:17.766Z"
   },
   {
    "duration": 1451,
    "start_time": "2023-10-14T12:32:51.152Z"
   },
   {
    "duration": 934,
    "start_time": "2023-10-14T12:32:59.970Z"
   },
   {
    "duration": 286,
    "start_time": "2023-10-14T12:33:42.957Z"
   },
   {
    "duration": 321,
    "start_time": "2023-10-14T12:34:27.180Z"
   },
   {
    "duration": 223,
    "start_time": "2023-10-14T12:34:36.493Z"
   },
   {
    "duration": 199,
    "start_time": "2023-10-14T12:34:42.589Z"
   },
   {
    "duration": 199,
    "start_time": "2023-10-14T12:36:09.401Z"
   },
   {
    "duration": 387,
    "start_time": "2023-10-14T12:36:45.590Z"
   },
   {
    "duration": 96,
    "start_time": "2023-10-14T12:40:52.014Z"
   },
   {
    "duration": 1,
    "start_time": "2023-10-14T12:43:07.936Z"
   },
   {
    "duration": 16,
    "start_time": "2023-10-14T12:43:21.574Z"
   },
   {
    "duration": 17,
    "start_time": "2023-10-14T12:44:38.822Z"
   },
   {
    "duration": 370,
    "start_time": "2023-10-14T12:44:51.746Z"
   },
   {
    "duration": 394,
    "start_time": "2023-10-14T12:45:00.414Z"
   },
   {
    "duration": 1468,
    "start_time": "2023-10-14T12:47:08.070Z"
   },
   {
    "duration": 1337,
    "start_time": "2023-10-14T12:47:41.138Z"
   },
   {
    "duration": 1372,
    "start_time": "2023-10-14T12:49:42.067Z"
   },
   {
    "duration": 192,
    "start_time": "2023-10-14T12:50:12.109Z"
   },
   {
    "duration": 210,
    "start_time": "2023-10-14T12:50:46.763Z"
   },
   {
    "duration": 183,
    "start_time": "2023-10-14T12:50:50.806Z"
   },
   {
    "duration": 234,
    "start_time": "2023-10-14T12:51:07.745Z"
   },
   {
    "duration": 196,
    "start_time": "2023-10-14T12:51:19.906Z"
   },
   {
    "duration": 206,
    "start_time": "2023-10-14T12:51:48.978Z"
   },
   {
    "duration": 227,
    "start_time": "2023-10-14T12:55:26.013Z"
   },
   {
    "duration": 351,
    "start_time": "2023-10-14T12:55:31.078Z"
   },
   {
    "duration": 517,
    "start_time": "2023-10-14T12:55:34.155Z"
   },
   {
    "duration": 1503,
    "start_time": "2023-10-14T12:55:38.042Z"
   },
   {
    "duration": 473,
    "start_time": "2023-10-14T12:56:20.458Z"
   },
   {
    "duration": 753,
    "start_time": "2023-10-14T12:56:25.385Z"
   },
   {
    "duration": 2344,
    "start_time": "2023-10-14T12:56:30.489Z"
   },
   {
    "duration": 1370,
    "start_time": "2023-10-14T12:58:56.533Z"
   },
   {
    "duration": 1513,
    "start_time": "2023-10-14T12:59:59.029Z"
   },
   {
    "duration": 114,
    "start_time": "2023-10-14T13:00:24.181Z"
   },
   {
    "duration": 9,
    "start_time": "2023-10-14T13:00:30.057Z"
   },
   {
    "duration": 1382,
    "start_time": "2023-10-14T13:00:53.653Z"
   },
   {
    "duration": 196,
    "start_time": "2023-10-14T13:05:26.897Z"
   },
   {
    "duration": 15,
    "start_time": "2023-10-14T13:13:26.968Z"
   },
   {
    "duration": 4,
    "start_time": "2023-10-14T13:13:40.184Z"
   },
   {
    "duration": 5,
    "start_time": "2023-10-14T13:35:30.594Z"
   },
   {
    "duration": 5,
    "start_time": "2023-10-14T13:42:59.710Z"
   },
   {
    "duration": 1972,
    "start_time": "2023-10-15T12:53:03.493Z"
   },
   {
    "duration": 85,
    "start_time": "2023-10-15T12:53:05.467Z"
   },
   {
    "duration": 20,
    "start_time": "2023-10-15T12:53:05.554Z"
   },
   {
    "duration": 49,
    "start_time": "2023-10-15T12:53:05.576Z"
   },
   {
    "duration": 24,
    "start_time": "2023-10-15T12:53:05.628Z"
   },
   {
    "duration": 18,
    "start_time": "2023-10-15T12:53:05.654Z"
   },
   {
    "duration": 22,
    "start_time": "2023-10-15T12:53:05.674Z"
   },
   {
    "duration": 33,
    "start_time": "2023-10-15T12:53:05.697Z"
   },
   {
    "duration": 49,
    "start_time": "2023-10-15T12:53:05.732Z"
   },
   {
    "duration": 43,
    "start_time": "2023-10-15T12:53:05.783Z"
   },
   {
    "duration": 240,
    "start_time": "2023-10-15T12:53:05.828Z"
   },
   {
    "duration": 176,
    "start_time": "2023-10-15T12:53:06.072Z"
   },
   {
    "duration": 1343,
    "start_time": "2023-10-15T12:53:06.250Z"
   },
   {
    "duration": 4,
    "start_time": "2023-10-15T12:53:07.596Z"
   },
   {
    "duration": 28,
    "start_time": "2023-10-15T12:53:07.602Z"
   },
   {
    "duration": 116,
    "start_time": "2023-10-15T12:55:45.492Z"
   },
   {
    "duration": 4,
    "start_time": "2023-10-15T12:57:07.668Z"
   },
   {
    "duration": 12,
    "start_time": "2023-10-15T13:06:07.245Z"
   },
   {
    "duration": 14,
    "start_time": "2023-10-15T13:06:10.908Z"
   },
   {
    "duration": 12,
    "start_time": "2023-10-15T13:06:19.319Z"
   },
   {
    "duration": 15,
    "start_time": "2023-10-15T13:08:19.149Z"
   },
   {
    "duration": 11,
    "start_time": "2023-10-15T13:08:21.705Z"
   },
   {
    "duration": 4,
    "start_time": "2023-10-15T13:08:28.789Z"
   },
   {
    "duration": 11,
    "start_time": "2023-10-15T13:11:39.490Z"
   },
   {
    "duration": 10,
    "start_time": "2023-10-15T13:11:42.782Z"
   },
   {
    "duration": 10,
    "start_time": "2023-10-15T13:11:52.850Z"
   },
   {
    "duration": 10,
    "start_time": "2023-10-15T13:13:52.445Z"
   },
   {
    "duration": 4,
    "start_time": "2023-10-15T13:13:59.355Z"
   },
   {
    "duration": 6,
    "start_time": "2023-10-15T13:19:48.975Z"
   },
   {
    "duration": 6,
    "start_time": "2023-10-15T13:44:08.007Z"
   },
   {
    "duration": 2,
    "start_time": "2023-10-15T13:44:09.180Z"
   },
   {
    "duration": 1676,
    "start_time": "2023-10-16T02:15:53.108Z"
   },
   {
    "duration": 83,
    "start_time": "2023-10-16T02:15:54.787Z"
   },
   {
    "duration": 14,
    "start_time": "2023-10-16T02:15:54.871Z"
   },
   {
    "duration": 28,
    "start_time": "2023-10-16T02:15:54.887Z"
   },
   {
    "duration": 24,
    "start_time": "2023-10-16T02:15:54.917Z"
   },
   {
    "duration": 6,
    "start_time": "2023-10-16T02:15:54.942Z"
   },
   {
    "duration": 23,
    "start_time": "2023-10-16T02:15:54.950Z"
   },
   {
    "duration": 10,
    "start_time": "2023-10-16T02:15:54.975Z"
   },
   {
    "duration": 15,
    "start_time": "2023-10-16T02:15:54.987Z"
   },
   {
    "duration": 25,
    "start_time": "2023-10-16T02:15:55.003Z"
   },
   {
    "duration": 12,
    "start_time": "2023-10-16T02:15:55.030Z"
   },
   {
    "duration": 206,
    "start_time": "2023-10-16T02:15:55.043Z"
   },
   {
    "duration": 174,
    "start_time": "2023-10-16T02:15:55.251Z"
   },
   {
    "duration": 1332,
    "start_time": "2023-10-16T02:15:55.427Z"
   },
   {
    "duration": 4,
    "start_time": "2023-10-16T02:15:56.761Z"
   },
   {
    "duration": 21,
    "start_time": "2023-10-16T02:15:56.766Z"
   },
   {
    "duration": 20,
    "start_time": "2023-10-16T02:15:56.789Z"
   },
   {
    "duration": 22,
    "start_time": "2023-10-16T02:15:56.811Z"
   },
   {
    "duration": 14,
    "start_time": "2023-10-16T02:15:56.835Z"
   },
   {
    "duration": 4,
    "start_time": "2023-10-16T02:45:24.398Z"
   },
   {
    "duration": 67,
    "start_time": "2023-10-16T13:48:03.602Z"
   },
   {
    "duration": 49,
    "start_time": "2023-10-16T13:49:01.190Z"
   },
   {
    "duration": 1655,
    "start_time": "2023-10-16T13:49:14.050Z"
   },
   {
    "duration": 89,
    "start_time": "2023-10-16T13:49:15.707Z"
   },
   {
    "duration": 15,
    "start_time": "2023-10-16T13:49:15.798Z"
   },
   {
    "duration": 42,
    "start_time": "2023-10-16T13:49:15.815Z"
   },
   {
    "duration": 23,
    "start_time": "2023-10-16T13:49:15.859Z"
   },
   {
    "duration": 17,
    "start_time": "2023-10-16T13:49:15.884Z"
   },
   {
    "duration": 27,
    "start_time": "2023-10-16T13:49:15.903Z"
   },
   {
    "duration": 43,
    "start_time": "2023-10-16T13:49:15.932Z"
   },
   {
    "duration": 10,
    "start_time": "2023-10-16T13:49:15.977Z"
   },
   {
    "duration": 31,
    "start_time": "2023-10-16T13:49:15.990Z"
   },
   {
    "duration": 33,
    "start_time": "2023-10-16T13:49:16.023Z"
   },
   {
    "duration": 257,
    "start_time": "2023-10-16T13:49:16.058Z"
   },
   {
    "duration": 179,
    "start_time": "2023-10-16T13:49:16.317Z"
   },
   {
    "duration": 1352,
    "start_time": "2023-10-16T13:49:16.498Z"
   },
   {
    "duration": 5,
    "start_time": "2023-10-16T13:49:17.851Z"
   },
   {
    "duration": 24,
    "start_time": "2023-10-16T13:49:17.857Z"
   },
   {
    "duration": 23,
    "start_time": "2023-10-16T13:49:17.882Z"
   },
   {
    "duration": 41,
    "start_time": "2023-10-16T13:49:17.907Z"
   },
   {
    "duration": 38,
    "start_time": "2023-10-16T13:49:17.950Z"
   },
   {
    "duration": 1559,
    "start_time": "2023-10-16T13:49:17.990Z"
   },
   {
    "duration": 1439,
    "start_time": "2023-10-16T13:49:42.682Z"
   },
   {
    "duration": 2497,
    "start_time": "2023-10-16T13:50:00.547Z"
   },
   {
    "duration": 1845,
    "start_time": "2023-10-16T13:50:26.694Z"
   },
   {
    "duration": 13,
    "start_time": "2023-10-16T13:50:41.770Z"
   },
   {
    "duration": 22,
    "start_time": "2023-10-16T13:51:17.018Z"
   },
   {
    "duration": 15,
    "start_time": "2023-10-16T13:51:28.975Z"
   },
   {
    "duration": 13,
    "start_time": "2023-10-16T13:51:53.622Z"
   },
   {
    "duration": 15,
    "start_time": "2023-10-16T13:52:02.607Z"
   },
   {
    "duration": 13,
    "start_time": "2023-10-16T13:52:18.096Z"
   },
   {
    "duration": 1759,
    "start_time": "2023-10-16T13:52:24.532Z"
   },
   {
    "duration": 50,
    "start_time": "2023-10-16T13:52:26.293Z"
   },
   {
    "duration": 17,
    "start_time": "2023-10-16T13:52:26.348Z"
   },
   {
    "duration": 29,
    "start_time": "2023-10-16T13:52:26.367Z"
   },
   {
    "duration": 45,
    "start_time": "2023-10-16T13:52:26.398Z"
   },
   {
    "duration": 8,
    "start_time": "2023-10-16T13:52:26.445Z"
   },
   {
    "duration": 9,
    "start_time": "2023-10-16T13:52:26.455Z"
   },
   {
    "duration": 13,
    "start_time": "2023-10-16T13:52:26.466Z"
   },
   {
    "duration": 12,
    "start_time": "2023-10-16T13:52:26.481Z"
   },
   {
    "duration": 14,
    "start_time": "2023-10-16T13:52:26.496Z"
   },
   {
    "duration": 7,
    "start_time": "2023-10-16T13:52:26.524Z"
   },
   {
    "duration": 215,
    "start_time": "2023-10-16T13:52:26.533Z"
   },
   {
    "duration": 196,
    "start_time": "2023-10-16T13:52:26.750Z"
   },
   {
    "duration": 1469,
    "start_time": "2023-10-16T13:52:26.949Z"
   },
   {
    "duration": 6,
    "start_time": "2023-10-16T13:52:28.424Z"
   },
   {
    "duration": 8,
    "start_time": "2023-10-16T13:52:28.433Z"
   },
   {
    "duration": 18,
    "start_time": "2023-10-16T13:52:28.444Z"
   },
   {
    "duration": 24,
    "start_time": "2023-10-16T13:52:28.463Z"
   },
   {
    "duration": 5,
    "start_time": "2023-10-16T13:52:28.489Z"
   },
   {
    "duration": 17,
    "start_time": "2023-10-16T13:52:28.496Z"
   },
   {
    "duration": 6,
    "start_time": "2023-10-16T13:53:07.107Z"
   },
   {
    "duration": 5,
    "start_time": "2023-10-16T13:53:12.571Z"
   },
   {
    "duration": 113,
    "start_time": "2023-10-16T13:53:21.683Z"
   },
   {
    "duration": 104,
    "start_time": "2023-10-16T13:53:30.796Z"
   },
   {
    "duration": 117,
    "start_time": "2023-10-16T13:55:00.169Z"
   },
   {
    "duration": 289,
    "start_time": "2023-10-16T13:55:12.241Z"
   },
   {
    "duration": 174,
    "start_time": "2023-10-16T13:55:54.896Z"
   },
   {
    "duration": 22,
    "start_time": "2023-10-16T14:01:10.115Z"
   },
   {
    "duration": 156,
    "start_time": "2023-10-16T14:02:31.728Z"
   },
   {
    "duration": 17,
    "start_time": "2023-10-16T14:03:03.015Z"
   },
   {
    "duration": 16,
    "start_time": "2023-10-16T14:03:51.435Z"
   },
   {
    "duration": 4,
    "start_time": "2023-10-16T14:05:17.583Z"
   },
   {
    "duration": 43,
    "start_time": "2023-10-16T14:05:26.211Z"
   },
   {
    "duration": 36,
    "start_time": "2023-10-16T14:07:33.732Z"
   },
   {
    "duration": 5,
    "start_time": "2023-10-16T14:07:52.371Z"
   },
   {
    "duration": 140,
    "start_time": "2023-10-16T14:07:56.511Z"
   },
   {
    "duration": 4,
    "start_time": "2023-10-16T14:08:40.892Z"
   },
   {
    "duration": 89,
    "start_time": "2023-10-16T14:08:49.343Z"
   },
   {
    "duration": 5,
    "start_time": "2023-10-16T14:09:22.350Z"
   },
   {
    "duration": 103,
    "start_time": "2023-10-16T14:09:25.848Z"
   },
   {
    "duration": 5,
    "start_time": "2023-10-16T14:18:24.390Z"
   },
   {
    "duration": 61,
    "start_time": "2023-10-16T14:18:27.875Z"
   },
   {
    "duration": 4,
    "start_time": "2023-10-16T14:24:02.888Z"
   },
   {
    "duration": 132,
    "start_time": "2023-10-16T14:24:08.792Z"
   },
   {
    "duration": 68,
    "start_time": "2023-10-16T14:24:46.585Z"
   },
   {
    "duration": 89,
    "start_time": "2023-10-16T14:25:13.647Z"
   },
   {
    "duration": 5,
    "start_time": "2023-10-16T14:25:27.792Z"
   },
   {
    "duration": 79,
    "start_time": "2023-10-16T14:25:33.856Z"
   },
   {
    "duration": 5,
    "start_time": "2023-10-16T14:30:00.364Z"
   },
   {
    "duration": 157,
    "start_time": "2023-10-16T14:30:03.881Z"
   },
   {
    "duration": 9,
    "start_time": "2023-10-16T14:30:44.437Z"
   },
   {
    "duration": 91,
    "start_time": "2023-10-16T14:30:49.041Z"
   },
   {
    "duration": 6,
    "start_time": "2023-10-16T14:50:24.845Z"
   },
   {
    "duration": 163,
    "start_time": "2023-10-16T14:50:29.179Z"
   },
   {
    "duration": 4,
    "start_time": "2023-10-16T14:51:27.795Z"
   },
   {
    "duration": 130,
    "start_time": "2023-10-16T14:51:31.307Z"
   },
   {
    "duration": 1537,
    "start_time": "2023-10-16T14:52:07.048Z"
   },
   {
    "duration": 49,
    "start_time": "2023-10-16T14:52:08.587Z"
   },
   {
    "duration": 22,
    "start_time": "2023-10-16T14:52:08.638Z"
   },
   {
    "duration": 29,
    "start_time": "2023-10-16T14:52:08.661Z"
   },
   {
    "duration": 53,
    "start_time": "2023-10-16T14:52:08.693Z"
   },
   {
    "duration": 8,
    "start_time": "2023-10-16T14:52:08.750Z"
   },
   {
    "duration": 28,
    "start_time": "2023-10-16T14:52:08.759Z"
   },
   {
    "duration": 24,
    "start_time": "2023-10-16T14:52:08.789Z"
   },
   {
    "duration": 29,
    "start_time": "2023-10-16T14:52:08.815Z"
   },
   {
    "duration": 16,
    "start_time": "2023-10-16T14:52:08.845Z"
   },
   {
    "duration": 17,
    "start_time": "2023-10-16T14:52:08.862Z"
   },
   {
    "duration": 222,
    "start_time": "2023-10-16T14:52:08.880Z"
   },
   {
    "duration": 191,
    "start_time": "2023-10-16T14:52:09.104Z"
   },
   {
    "duration": 1573,
    "start_time": "2023-10-16T14:52:09.297Z"
   },
   {
    "duration": 4,
    "start_time": "2023-10-16T14:52:10.872Z"
   },
   {
    "duration": 79,
    "start_time": "2023-10-16T14:52:10.878Z"
   },
   {
    "duration": 24,
    "start_time": "2023-10-16T14:52:10.959Z"
   },
   {
    "duration": 14,
    "start_time": "2023-10-16T14:52:10.985Z"
   },
   {
    "duration": 19,
    "start_time": "2023-10-16T14:52:11.001Z"
   },
   {
    "duration": 179,
    "start_time": "2023-10-16T14:52:11.022Z"
   },
   {
    "duration": 134,
    "start_time": "2023-10-16T14:52:11.202Z"
   },
   {
    "duration": 1606,
    "start_time": "2023-10-16T14:52:19.359Z"
   },
   {
    "duration": 43,
    "start_time": "2023-10-16T14:52:20.967Z"
   },
   {
    "duration": 20,
    "start_time": "2023-10-16T14:52:21.012Z"
   },
   {
    "duration": 33,
    "start_time": "2023-10-16T14:52:21.042Z"
   },
   {
    "duration": 24,
    "start_time": "2023-10-16T14:52:21.077Z"
   },
   {
    "duration": 16,
    "start_time": "2023-10-16T14:52:21.102Z"
   },
   {
    "duration": 43,
    "start_time": "2023-10-16T14:52:21.131Z"
   },
   {
    "duration": 20,
    "start_time": "2023-10-16T14:52:21.176Z"
   },
   {
    "duration": 5,
    "start_time": "2023-10-16T14:52:21.198Z"
   },
   {
    "duration": 39,
    "start_time": "2023-10-16T14:52:21.205Z"
   },
   {
    "duration": 6,
    "start_time": "2023-10-16T14:52:21.250Z"
   },
   {
    "duration": 219,
    "start_time": "2023-10-16T14:52:21.258Z"
   },
   {
    "duration": 192,
    "start_time": "2023-10-16T14:52:21.478Z"
   },
   {
    "duration": 1491,
    "start_time": "2023-10-16T14:52:21.672Z"
   },
   {
    "duration": 4,
    "start_time": "2023-10-16T14:52:23.165Z"
   },
   {
    "duration": 44,
    "start_time": "2023-10-16T14:52:23.171Z"
   },
   {
    "duration": 28,
    "start_time": "2023-10-16T14:52:23.217Z"
   },
   {
    "duration": 15,
    "start_time": "2023-10-16T14:52:23.247Z"
   },
   {
    "duration": 43,
    "start_time": "2023-10-16T14:52:23.264Z"
   },
   {
    "duration": 149,
    "start_time": "2023-10-16T14:52:23.309Z"
   },
   {
    "duration": 172,
    "start_time": "2023-10-16T14:52:23.459Z"
   },
   {
    "duration": 5,
    "start_time": "2023-10-16T14:53:51.851Z"
   },
   {
    "duration": 81,
    "start_time": "2023-10-16T14:53:59.251Z"
   },
   {
    "duration": 1620,
    "start_time": "2023-10-16T14:54:07.354Z"
   },
   {
    "duration": 43,
    "start_time": "2023-10-16T14:54:08.976Z"
   },
   {
    "duration": 31,
    "start_time": "2023-10-16T14:54:09.020Z"
   },
   {
    "duration": 29,
    "start_time": "2023-10-16T14:54:09.054Z"
   },
   {
    "duration": 67,
    "start_time": "2023-10-16T14:54:09.085Z"
   },
   {
    "duration": 24,
    "start_time": "2023-10-16T14:54:09.154Z"
   },
   {
    "duration": 76,
    "start_time": "2023-10-16T14:54:09.180Z"
   },
   {
    "duration": 14,
    "start_time": "2023-10-16T14:54:09.258Z"
   },
   {
    "duration": 17,
    "start_time": "2023-10-16T14:54:09.274Z"
   },
   {
    "duration": 23,
    "start_time": "2023-10-16T14:54:09.293Z"
   },
   {
    "duration": 29,
    "start_time": "2023-10-16T14:54:09.318Z"
   },
   {
    "duration": 218,
    "start_time": "2023-10-16T14:54:09.350Z"
   },
   {
    "duration": 184,
    "start_time": "2023-10-16T14:54:09.570Z"
   },
   {
    "duration": 1558,
    "start_time": "2023-10-16T14:54:09.757Z"
   },
   {
    "duration": 32,
    "start_time": "2023-10-16T14:54:11.316Z"
   },
   {
    "duration": 3,
    "start_time": "2023-10-16T14:54:11.351Z"
   },
   {
    "duration": 34,
    "start_time": "2023-10-16T14:54:11.356Z"
   },
   {
    "duration": 19,
    "start_time": "2023-10-16T14:54:11.392Z"
   },
   {
    "duration": 19,
    "start_time": "2023-10-16T14:54:11.413Z"
   },
   {
    "duration": 150,
    "start_time": "2023-10-16T14:54:11.434Z"
   },
   {
    "duration": 162,
    "start_time": "2023-10-16T14:54:11.585Z"
   },
   {
    "duration": 6,
    "start_time": "2023-10-16T14:57:06.631Z"
   },
   {
    "duration": 65,
    "start_time": "2023-10-16T14:57:15.166Z"
   },
   {
    "duration": 5,
    "start_time": "2023-10-16T14:59:25.895Z"
   },
   {
    "duration": 5,
    "start_time": "2023-10-16T14:59:31.014Z"
   },
   {
    "duration": 153,
    "start_time": "2023-10-16T14:59:34.683Z"
   },
   {
    "duration": 4,
    "start_time": "2023-10-16T15:00:11.978Z"
   },
   {
    "duration": 123,
    "start_time": "2023-10-16T15:00:15.902Z"
   },
   {
    "duration": 4,
    "start_time": "2023-10-16T15:00:35.747Z"
   },
   {
    "duration": 109,
    "start_time": "2023-10-16T15:00:38.922Z"
   },
   {
    "duration": 1563,
    "start_time": "2023-10-17T02:16:16.346Z"
   },
   {
    "duration": 84,
    "start_time": "2023-10-17T02:16:17.911Z"
   },
   {
    "duration": 14,
    "start_time": "2023-10-17T02:16:17.997Z"
   },
   {
    "duration": 27,
    "start_time": "2023-10-17T02:16:18.014Z"
   },
   {
    "duration": 25,
    "start_time": "2023-10-17T02:16:18.043Z"
   },
   {
    "duration": 8,
    "start_time": "2023-10-17T02:16:18.069Z"
   },
   {
    "duration": 17,
    "start_time": "2023-10-17T02:16:18.102Z"
   },
   {
    "duration": 23,
    "start_time": "2023-10-17T02:16:18.121Z"
   },
   {
    "duration": 64,
    "start_time": "2023-10-17T02:16:18.146Z"
   },
   {
    "duration": 49,
    "start_time": "2023-10-17T02:16:18.212Z"
   },
   {
    "duration": 98,
    "start_time": "2023-10-17T02:16:18.262Z"
   },
   {
    "duration": 221,
    "start_time": "2023-10-17T02:16:18.361Z"
   },
   {
    "duration": 188,
    "start_time": "2023-10-17T02:16:18.583Z"
   },
   {
    "duration": 1287,
    "start_time": "2023-10-17T02:16:18.772Z"
   },
   {
    "duration": 4,
    "start_time": "2023-10-17T02:16:20.061Z"
   },
   {
    "duration": 73,
    "start_time": "2023-10-17T02:16:20.067Z"
   },
   {
    "duration": 31,
    "start_time": "2023-10-17T02:16:20.142Z"
   },
   {
    "duration": 47,
    "start_time": "2023-10-17T02:16:20.175Z"
   },
   {
    "duration": 34,
    "start_time": "2023-10-17T02:16:20.224Z"
   },
   {
    "duration": 146,
    "start_time": "2023-10-17T02:16:20.260Z"
   },
   {
    "duration": 98,
    "start_time": "2023-10-17T02:16:20.408Z"
   },
   {
    "duration": 117,
    "start_time": "2023-10-17T02:24:10.217Z"
   },
   {
    "duration": 22,
    "start_time": "2023-10-17T02:24:22.061Z"
   },
   {
    "duration": 10,
    "start_time": "2023-10-17T02:25:25.252Z"
   },
   {
    "duration": 0,
    "start_time": "2023-10-17T02:28:17.902Z"
   },
   {
    "duration": 202815,
    "start_time": "2023-10-17T02:34:04.799Z"
   },
   {
    "duration": 55,
    "start_time": "2023-10-17T02:39:14.357Z"
   },
   {
    "duration": 52,
    "start_time": "2023-10-17T02:39:27.209Z"
   },
   {
    "duration": 4,
    "start_time": "2023-10-17T02:45:38.752Z"
   },
   {
    "duration": 1897,
    "start_time": "2023-10-17T13:51:22.895Z"
   },
   {
    "duration": 108,
    "start_time": "2023-10-17T13:51:24.794Z"
   },
   {
    "duration": 23,
    "start_time": "2023-10-17T13:51:24.905Z"
   },
   {
    "duration": 46,
    "start_time": "2023-10-17T13:51:24.932Z"
   },
   {
    "duration": 46,
    "start_time": "2023-10-17T13:51:24.980Z"
   },
   {
    "duration": 41,
    "start_time": "2023-10-17T13:51:25.029Z"
   },
   {
    "duration": 70,
    "start_time": "2023-10-17T13:51:25.072Z"
   },
   {
    "duration": 46,
    "start_time": "2023-10-17T13:51:25.144Z"
   },
   {
    "duration": 26,
    "start_time": "2023-10-17T13:51:25.192Z"
   },
   {
    "duration": 52,
    "start_time": "2023-10-17T13:51:25.225Z"
   },
   {
    "duration": 61,
    "start_time": "2023-10-17T13:51:25.281Z"
   },
   {
    "duration": 342,
    "start_time": "2023-10-17T13:51:25.345Z"
   },
   {
    "duration": 205,
    "start_time": "2023-10-17T13:51:25.689Z"
   },
   {
    "duration": 1573,
    "start_time": "2023-10-17T13:51:25.896Z"
   },
   {
    "duration": 4,
    "start_time": "2023-10-17T13:51:27.471Z"
   },
   {
    "duration": 30,
    "start_time": "2023-10-17T13:51:27.477Z"
   },
   {
    "duration": 11,
    "start_time": "2023-10-17T13:51:27.509Z"
   },
   {
    "duration": 17,
    "start_time": "2023-10-17T13:51:27.521Z"
   },
   {
    "duration": 12,
    "start_time": "2023-10-17T13:51:27.539Z"
   },
   {
    "duration": 9,
    "start_time": "2023-10-17T13:51:27.553Z"
   },
   {
    "duration": 161,
    "start_time": "2023-10-17T13:51:27.564Z"
   },
   {
    "duration": 135,
    "start_time": "2023-10-17T13:51:27.727Z"
   },
   {
    "duration": 102,
    "start_time": "2023-10-17T13:51:27.868Z"
   },
   {
    "duration": 87,
    "start_time": "2023-10-17T13:51:27.972Z"
   },
   {
    "duration": 4,
    "start_time": "2023-10-17T13:53:14.659Z"
   },
   {
    "duration": 91,
    "start_time": "2023-10-17T13:53:27.694Z"
   },
   {
    "duration": 8293,
    "start_time": "2023-10-17T13:53:34.795Z"
   },
   {
    "duration": 4,
    "start_time": "2023-10-17T13:54:13.810Z"
   },
   {
    "duration": 469195,
    "start_time": "2023-10-17T13:54:17.590Z"
   },
   {
    "duration": 4,
    "start_time": "2023-10-17T14:05:46.520Z"
   },
   {
    "duration": 532054,
    "start_time": "2023-10-17T14:05:49.804Z"
   },
   {
    "duration": 5,
    "start_time": "2023-10-17T16:38:52.295Z"
   },
   {
    "duration": 7972,
    "start_time": "2023-10-17T16:39:04.715Z"
   },
   {
    "duration": 4,
    "start_time": "2023-10-17T16:39:42.903Z"
   },
   {
    "duration": 262,
    "start_time": "2023-10-17T16:39:49.152Z"
   },
   {
    "duration": 5512,
    "start_time": "2023-10-17T16:41:58.702Z"
   },
   {
    "duration": 19334,
    "start_time": "2023-10-17T16:42:08.587Z"
   },
   {
    "duration": 21,
    "start_time": "2023-10-17T16:42:42.819Z"
   },
   {
    "duration": 12367,
    "start_time": "2023-10-17T16:42:56.571Z"
   },
   {
    "duration": 205,
    "start_time": "2023-10-17T16:45:31.891Z"
   },
   {
    "duration": 7236,
    "start_time": "2023-10-17T16:46:34.783Z"
   },
   {
    "duration": 5655,
    "start_time": "2023-10-17T16:47:26.706Z"
   },
   {
    "duration": 235747,
    "start_time": "2023-10-17T16:49:10.638Z"
   },
   {
    "duration": 73,
    "start_time": "2023-10-17T17:00:18.078Z"
   },
   {
    "duration": 19610,
    "start_time": "2023-10-17T17:07:23.565Z"
   },
   {
    "duration": 1684,
    "start_time": "2023-10-18T02:05:59.739Z"
   },
   {
    "duration": 85,
    "start_time": "2023-10-18T02:06:01.425Z"
   },
   {
    "duration": 15,
    "start_time": "2023-10-18T02:06:01.512Z"
   },
   {
    "duration": 67,
    "start_time": "2023-10-18T02:06:01.529Z"
   },
   {
    "duration": 40,
    "start_time": "2023-10-18T02:06:01.598Z"
   },
   {
    "duration": 81,
    "start_time": "2023-10-18T02:06:01.640Z"
   },
   {
    "duration": 44,
    "start_time": "2023-10-18T02:06:01.723Z"
   },
   {
    "duration": 43,
    "start_time": "2023-10-18T02:06:01.769Z"
   },
   {
    "duration": 45,
    "start_time": "2023-10-18T02:06:01.814Z"
   },
   {
    "duration": 42,
    "start_time": "2023-10-18T02:06:01.860Z"
   },
   {
    "duration": 55,
    "start_time": "2023-10-18T02:06:01.904Z"
   },
   {
    "duration": 260,
    "start_time": "2023-10-18T02:06:01.961Z"
   },
   {
    "duration": 179,
    "start_time": "2023-10-18T02:06:02.223Z"
   },
   {
    "duration": 1382,
    "start_time": "2023-10-18T02:06:02.405Z"
   },
   {
    "duration": 5,
    "start_time": "2023-10-18T02:06:03.788Z"
   },
   {
    "duration": 5,
    "start_time": "2023-10-18T02:06:03.802Z"
   },
   {
    "duration": 6,
    "start_time": "2023-10-18T02:06:03.809Z"
   },
   {
    "duration": 8,
    "start_time": "2023-10-18T02:06:03.817Z"
   },
   {
    "duration": 28,
    "start_time": "2023-10-18T02:06:03.827Z"
   },
   {
    "duration": 144,
    "start_time": "2023-10-18T02:06:03.857Z"
   },
   {
    "duration": 108,
    "start_time": "2023-10-18T02:06:04.003Z"
   },
   {
    "duration": 25,
    "start_time": "2023-10-18T02:06:04.201Z"
   },
   {
    "duration": 205542,
    "start_time": "2023-10-18T02:06:04.227Z"
   },
   {
    "duration": 15885,
    "start_time": "2023-10-18T02:09:29.772Z"
   },
   {
    "duration": 163,
    "start_time": "2023-10-18T02:12:16.039Z"
   },
   {
    "duration": 203200,
    "start_time": "2023-10-18T02:15:07.157Z"
   },
   {
    "duration": 1021,
    "start_time": "2023-10-18T02:23:16.216Z"
   },
   {
    "duration": 1053,
    "start_time": "2023-10-18T02:23:28.144Z"
   },
   {
    "duration": 1053,
    "start_time": "2023-10-18T02:28:35.196Z"
   },
   {
    "duration": 1027,
    "start_time": "2023-10-18T02:32:19.135Z"
   },
   {
    "duration": 230,
    "start_time": "2023-10-18T02:32:58.755Z"
   },
   {
    "duration": 1040,
    "start_time": "2023-10-18T02:33:06.442Z"
   },
   {
    "duration": 4,
    "start_time": "2023-10-18T02:40:09.202Z"
   },
   {
    "duration": 1696,
    "start_time": "2023-10-18T16:12:13.331Z"
   },
   {
    "duration": 96,
    "start_time": "2023-10-18T16:12:15.029Z"
   },
   {
    "duration": 15,
    "start_time": "2023-10-18T16:12:15.127Z"
   },
   {
    "duration": 28,
    "start_time": "2023-10-18T16:12:15.144Z"
   },
   {
    "duration": 20,
    "start_time": "2023-10-18T16:12:15.173Z"
   },
   {
    "duration": 5,
    "start_time": "2023-10-18T16:12:15.195Z"
   },
   {
    "duration": 27,
    "start_time": "2023-10-18T16:12:15.202Z"
   },
   {
    "duration": 20,
    "start_time": "2023-10-18T16:12:15.230Z"
   },
   {
    "duration": 27,
    "start_time": "2023-10-18T16:12:15.252Z"
   },
   {
    "duration": 35,
    "start_time": "2023-10-18T16:12:15.282Z"
   },
   {
    "duration": 34,
    "start_time": "2023-10-18T16:12:15.318Z"
   },
   {
    "duration": 238,
    "start_time": "2023-10-18T16:12:15.353Z"
   },
   {
    "duration": 152,
    "start_time": "2023-10-18T16:12:15.594Z"
   },
   {
    "duration": 1270,
    "start_time": "2023-10-18T16:12:15.748Z"
   },
   {
    "duration": 5,
    "start_time": "2023-10-18T16:12:17.020Z"
   },
   {
    "duration": 46,
    "start_time": "2023-10-18T16:12:17.026Z"
   },
   {
    "duration": 40,
    "start_time": "2023-10-18T16:12:17.073Z"
   },
   {
    "duration": 30,
    "start_time": "2023-10-18T16:12:17.115Z"
   },
   {
    "duration": 33,
    "start_time": "2023-10-18T16:12:17.147Z"
   },
   {
    "duration": 146,
    "start_time": "2023-10-18T16:12:17.182Z"
   },
   {
    "duration": 115,
    "start_time": "2023-10-18T16:12:17.330Z"
   },
   {
    "duration": 111,
    "start_time": "2023-10-18T16:12:17.447Z"
   },
   {
    "duration": 194940,
    "start_time": "2023-10-18T16:12:17.559Z"
   },
   {
    "duration": 975,
    "start_time": "2023-10-18T16:15:32.501Z"
   },
   {
    "duration": 67,
    "start_time": "2023-10-18T16:15:33.479Z"
   },
   {
    "duration": 193501,
    "start_time": "2023-10-18T16:15:33.548Z"
   },
   {
    "duration": 996,
    "start_time": "2023-10-18T16:18:47.051Z"
   },
   {
    "duration": 4,
    "start_time": "2023-10-18T16:18:48.051Z"
   },
   {
    "duration": 122,
    "start_time": "2023-10-18T16:22:34.964Z"
   },
   {
    "duration": 43,
    "start_time": "2023-10-18T16:22:56.666Z"
   },
   {
    "duration": 4,
    "start_time": "2023-10-18T16:23:18.381Z"
   },
   {
    "duration": 46,
    "start_time": "2023-10-18T16:23:21.281Z"
   },
   {
    "duration": 4,
    "start_time": "2023-10-18T16:57:34.011Z"
   },
   {
    "duration": 47,
    "start_time": "2023-10-18T16:57:34.776Z"
   },
   {
    "duration": 4,
    "start_time": "2023-10-18T16:59:09.565Z"
   },
   {
    "duration": 4,
    "start_time": "2023-10-18T16:59:20.441Z"
   },
   {
    "duration": 106,
    "start_time": "2023-10-18T16:59:20.945Z"
   },
   {
    "duration": 340767,
    "start_time": "2023-10-18T16:59:44.389Z"
   },
   {
    "duration": 1720,
    "start_time": "2023-10-19T01:32:39.574Z"
   },
   {
    "duration": 85,
    "start_time": "2023-10-19T01:32:41.297Z"
   },
   {
    "duration": 14,
    "start_time": "2023-10-19T01:32:41.383Z"
   },
   {
    "duration": 45,
    "start_time": "2023-10-19T01:32:41.399Z"
   },
   {
    "duration": 26,
    "start_time": "2023-10-19T01:32:41.445Z"
   },
   {
    "duration": 6,
    "start_time": "2023-10-19T01:32:41.473Z"
   },
   {
    "duration": 14,
    "start_time": "2023-10-19T01:32:41.481Z"
   },
   {
    "duration": 7,
    "start_time": "2023-10-19T01:32:41.497Z"
   },
   {
    "duration": 35,
    "start_time": "2023-10-19T01:32:41.506Z"
   },
   {
    "duration": 13,
    "start_time": "2023-10-19T01:32:41.544Z"
   },
   {
    "duration": 25,
    "start_time": "2023-10-19T01:32:41.559Z"
   },
   {
    "duration": 194,
    "start_time": "2023-10-19T01:32:41.586Z"
   },
   {
    "duration": 166,
    "start_time": "2023-10-19T01:32:41.782Z"
   },
   {
    "duration": 1305,
    "start_time": "2023-10-19T01:32:41.950Z"
   },
   {
    "duration": 4,
    "start_time": "2023-10-19T01:32:43.257Z"
   },
   {
    "duration": 7,
    "start_time": "2023-10-19T01:32:43.263Z"
   },
   {
    "duration": 21,
    "start_time": "2023-10-19T01:32:43.271Z"
   },
   {
    "duration": 9,
    "start_time": "2023-10-19T01:32:43.294Z"
   },
   {
    "duration": 13,
    "start_time": "2023-10-19T01:32:43.304Z"
   },
   {
    "duration": 122,
    "start_time": "2023-10-19T01:32:43.318Z"
   },
   {
    "duration": 79,
    "start_time": "2023-10-19T01:32:43.441Z"
   },
   {
    "duration": 112,
    "start_time": "2023-10-19T01:32:43.606Z"
   },
   {
    "duration": 199883,
    "start_time": "2023-10-19T01:32:43.719Z"
   },
   {
    "duration": 1083,
    "start_time": "2023-10-19T01:36:03.604Z"
   },
   {
    "duration": 115,
    "start_time": "2023-10-19T01:36:04.689Z"
   },
   {
    "duration": 198012,
    "start_time": "2023-10-19T01:36:04.807Z"
   },
   {
    "duration": 1022,
    "start_time": "2023-10-19T01:39:22.820Z"
   },
   {
    "duration": 4,
    "start_time": "2023-10-19T01:39:23.845Z"
   },
   {
    "duration": 153,
    "start_time": "2023-10-19T01:39:23.851Z"
   },
   {
    "duration": 0,
    "start_time": "2023-10-19T01:45:16.188Z"
   },
   {
    "duration": 0,
    "start_time": "2023-10-19T01:45:16.189Z"
   },
   {
    "duration": 0,
    "start_time": "2023-10-19T01:45:16.190Z"
   },
   {
    "duration": 63,
    "start_time": "2023-10-19T01:52:20.974Z"
   },
   {
    "duration": 349509,
    "start_time": "2023-10-19T01:52:34.433Z"
   },
   {
    "duration": 1086,
    "start_time": "2023-10-19T01:58:23.945Z"
   },
   {
    "duration": 1545,
    "start_time": "2023-10-19T01:58:25.033Z"
   },
   {
    "duration": 1955,
    "start_time": "2023-10-19T03:37:37.464Z"
   },
   {
    "duration": 88,
    "start_time": "2023-10-19T03:37:39.422Z"
   },
   {
    "duration": 15,
    "start_time": "2023-10-19T03:37:39.512Z"
   },
   {
    "duration": 30,
    "start_time": "2023-10-19T03:37:39.528Z"
   },
   {
    "duration": 26,
    "start_time": "2023-10-19T03:37:39.560Z"
   },
   {
    "duration": 7,
    "start_time": "2023-10-19T03:37:39.587Z"
   },
   {
    "duration": 7,
    "start_time": "2023-10-19T03:37:39.596Z"
   },
   {
    "duration": 6,
    "start_time": "2023-10-19T03:37:39.605Z"
   },
   {
    "duration": 16,
    "start_time": "2023-10-19T03:37:39.613Z"
   },
   {
    "duration": 8,
    "start_time": "2023-10-19T03:37:39.646Z"
   },
   {
    "duration": 12,
    "start_time": "2023-10-19T03:37:39.656Z"
   },
   {
    "duration": 232,
    "start_time": "2023-10-19T03:37:39.669Z"
   },
   {
    "duration": 193,
    "start_time": "2023-10-19T03:37:39.903Z"
   },
   {
    "duration": 1419,
    "start_time": "2023-10-19T03:37:40.101Z"
   },
   {
    "duration": 5,
    "start_time": "2023-10-19T03:37:41.521Z"
   },
   {
    "duration": 13,
    "start_time": "2023-10-19T03:37:41.527Z"
   },
   {
    "duration": 9,
    "start_time": "2023-10-19T03:37:41.542Z"
   },
   {
    "duration": 15,
    "start_time": "2023-10-19T03:37:41.552Z"
   },
   {
    "duration": 7,
    "start_time": "2023-10-19T03:37:41.569Z"
   },
   {
    "duration": 142,
    "start_time": "2023-10-19T03:37:41.577Z"
   },
   {
    "duration": 127,
    "start_time": "2023-10-19T03:37:41.721Z"
   },
   {
    "duration": 113,
    "start_time": "2023-10-19T03:37:41.850Z"
   },
   {
    "duration": 216932,
    "start_time": "2023-10-19T03:37:41.965Z"
   },
   {
    "duration": 1111,
    "start_time": "2023-10-19T03:41:18.899Z"
   },
   {
    "duration": 61,
    "start_time": "2023-10-19T03:41:20.012Z"
   },
   {
    "duration": 213649,
    "start_time": "2023-10-19T03:41:20.077Z"
   },
   {
    "duration": 1094,
    "start_time": "2023-10-19T03:44:53.728Z"
   },
   {
    "duration": 5,
    "start_time": "2023-10-19T03:44:54.824Z"
   },
   {
    "duration": 120,
    "start_time": "2023-10-19T03:44:54.830Z"
   },
   {
    "duration": 381044,
    "start_time": "2023-10-19T03:44:54.954Z"
   },
   {
    "duration": 1713,
    "start_time": "2023-10-19T03:51:16.000Z"
   },
   {
    "duration": 1671,
    "start_time": "2023-10-19T03:57:03.343Z"
   },
   {
    "duration": 4,
    "start_time": "2023-10-19T04:24:31.150Z"
   },
   {
    "duration": 91,
    "start_time": "2023-10-19T04:42:50.356Z"
   },
   {
    "duration": 126880,
    "start_time": "2023-10-19T04:54:36.984Z"
   },
   {
    "duration": 871,
    "start_time": "2023-10-19T04:58:32.162Z"
   },
   {
    "duration": 5,
    "start_time": "2023-10-19T05:08:22.402Z"
   },
   {
    "duration": 122,
    "start_time": "2023-10-19T05:12:13.863Z"
   },
   {
    "duration": 199,
    "start_time": "2023-10-19T05:15:15.063Z"
   },
   {
    "duration": 12,
    "start_time": "2023-10-19T05:15:45.691Z"
   },
   {
    "duration": 12,
    "start_time": "2023-10-19T05:16:15.715Z"
   },
   {
    "duration": 49,
    "start_time": "2023-10-19T05:17:14.409Z"
   },
   {
    "duration": 1239,
    "start_time": "2023-10-19T05:17:51.753Z"
   },
   {
    "duration": 1559,
    "start_time": "2023-10-19T05:29:48.313Z"
   },
   {
    "duration": 46,
    "start_time": "2023-10-19T05:29:49.874Z"
   },
   {
    "duration": 15,
    "start_time": "2023-10-19T05:29:49.922Z"
   },
   {
    "duration": 28,
    "start_time": "2023-10-19T05:29:49.939Z"
   },
   {
    "duration": 28,
    "start_time": "2023-10-19T05:29:49.969Z"
   },
   {
    "duration": 8,
    "start_time": "2023-10-19T05:29:49.999Z"
   },
   {
    "duration": 43,
    "start_time": "2023-10-19T05:29:50.009Z"
   },
   {
    "duration": 16,
    "start_time": "2023-10-19T05:29:50.054Z"
   },
   {
    "duration": 24,
    "start_time": "2023-10-19T05:29:50.072Z"
   },
   {
    "duration": 12,
    "start_time": "2023-10-19T05:29:50.099Z"
   },
   {
    "duration": 29,
    "start_time": "2023-10-19T05:29:50.112Z"
   },
   {
    "duration": 249,
    "start_time": "2023-10-19T05:29:50.142Z"
   },
   {
    "duration": 189,
    "start_time": "2023-10-19T05:29:50.394Z"
   },
   {
    "duration": 1412,
    "start_time": "2023-10-19T05:29:50.586Z"
   },
   {
    "duration": 4,
    "start_time": "2023-10-19T05:29:52.000Z"
   },
   {
    "duration": 56,
    "start_time": "2023-10-19T05:29:52.006Z"
   },
   {
    "duration": 13,
    "start_time": "2023-10-19T05:29:52.063Z"
   },
   {
    "duration": 15,
    "start_time": "2023-10-19T05:29:52.078Z"
   },
   {
    "duration": 44,
    "start_time": "2023-10-19T05:29:52.095Z"
   },
   {
    "duration": 146,
    "start_time": "2023-10-19T05:29:52.140Z"
   },
   {
    "duration": 62,
    "start_time": "2023-10-19T05:29:52.288Z"
   },
   {
    "duration": 204,
    "start_time": "2023-10-19T05:29:52.354Z"
   },
   {
    "duration": 195341,
    "start_time": "2023-10-19T05:29:52.560Z"
   },
   {
    "duration": 970,
    "start_time": "2023-10-19T05:33:07.904Z"
   },
   {
    "duration": 79,
    "start_time": "2023-10-19T05:33:08.876Z"
   },
   {
    "duration": 194178,
    "start_time": "2023-10-19T05:33:09.048Z"
   },
   {
    "duration": 1035,
    "start_time": "2023-10-19T05:36:23.227Z"
   },
   {
    "duration": 4,
    "start_time": "2023-10-19T05:36:24.264Z"
   },
   {
    "duration": 80,
    "start_time": "2023-10-19T05:36:24.270Z"
   },
   {
    "duration": 325738,
    "start_time": "2023-10-19T05:36:24.446Z"
   },
   {
    "duration": 1479,
    "start_time": "2023-10-19T05:41:50.186Z"
   },
   {
    "duration": 5,
    "start_time": "2023-10-19T05:41:51.666Z"
   },
   {
    "duration": 83,
    "start_time": "2023-10-19T05:41:51.672Z"
   },
   {
    "duration": 123903,
    "start_time": "2023-10-19T05:41:51.757Z"
   },
   {
    "duration": 849,
    "start_time": "2023-10-19T05:43:55.661Z"
   },
   {
    "duration": 1092,
    "start_time": "2023-10-19T05:43:56.512Z"
   },
   {
    "duration": 4,
    "start_time": "2023-10-19T05:52:49.663Z"
   },
   {
    "duration": 1616,
    "start_time": "2023-10-19T07:32:07.601Z"
   },
   {
    "duration": 86,
    "start_time": "2023-10-19T07:32:09.219Z"
   },
   {
    "duration": 16,
    "start_time": "2023-10-19T07:32:09.307Z"
   },
   {
    "duration": 66,
    "start_time": "2023-10-19T07:32:09.325Z"
   },
   {
    "duration": 25,
    "start_time": "2023-10-19T07:32:09.393Z"
   },
   {
    "duration": 19,
    "start_time": "2023-10-19T07:32:09.420Z"
   },
   {
    "duration": 24,
    "start_time": "2023-10-19T07:32:09.441Z"
   },
   {
    "duration": 15,
    "start_time": "2023-10-19T07:32:09.467Z"
   },
   {
    "duration": 47,
    "start_time": "2023-10-19T07:32:09.483Z"
   },
   {
    "duration": 10,
    "start_time": "2023-10-19T07:32:09.533Z"
   },
   {
    "duration": 9,
    "start_time": "2023-10-19T07:32:09.545Z"
   },
   {
    "duration": 223,
    "start_time": "2023-10-19T07:32:09.556Z"
   },
   {
    "duration": 185,
    "start_time": "2023-10-19T07:32:09.781Z"
   },
   {
    "duration": 1398,
    "start_time": "2023-10-19T07:32:09.968Z"
   },
   {
    "duration": 5,
    "start_time": "2023-10-19T07:32:11.368Z"
   },
   {
    "duration": 19,
    "start_time": "2023-10-19T07:32:11.374Z"
   },
   {
    "duration": 19,
    "start_time": "2023-10-19T07:32:11.394Z"
   },
   {
    "duration": 8,
    "start_time": "2023-10-19T07:32:11.414Z"
   },
   {
    "duration": 19,
    "start_time": "2023-10-19T07:32:11.424Z"
   },
   {
    "duration": 133,
    "start_time": "2023-10-19T07:32:11.445Z"
   },
   {
    "duration": 68,
    "start_time": "2023-10-19T07:32:11.580Z"
   },
   {
    "duration": 117,
    "start_time": "2023-10-19T07:32:11.650Z"
   },
   {
    "duration": 193494,
    "start_time": "2023-10-19T07:32:11.769Z"
   },
   {
    "duration": 1034,
    "start_time": "2023-10-19T07:35:25.265Z"
   },
   {
    "duration": 53,
    "start_time": "2023-10-19T07:35:26.301Z"
   },
   {
    "duration": 193526,
    "start_time": "2023-10-19T07:35:26.356Z"
   },
   {
    "duration": 1015,
    "start_time": "2023-10-19T07:38:39.884Z"
   },
   {
    "duration": 4,
    "start_time": "2023-10-19T07:38:40.903Z"
   },
   {
    "duration": 143,
    "start_time": "2023-10-19T07:38:40.908Z"
   },
   {
    "duration": 324862,
    "start_time": "2023-10-19T07:38:41.054Z"
   },
   {
    "duration": 1457,
    "start_time": "2023-10-19T07:44:05.917Z"
   },
   {
    "duration": 4,
    "start_time": "2023-10-19T07:44:07.376Z"
   },
   {
    "duration": 73,
    "start_time": "2023-10-19T07:44:07.382Z"
   },
   {
    "duration": 122847,
    "start_time": "2023-10-19T07:44:07.547Z"
   },
   {
    "duration": 815,
    "start_time": "2023-10-19T07:46:10.396Z"
   },
   {
    "duration": 1092,
    "start_time": "2023-10-19T07:46:11.213Z"
   },
   {
    "duration": 5,
    "start_time": "2023-10-19T07:56:17.911Z"
   },
   {
    "duration": 108,
    "start_time": "2023-10-19T07:59:29.338Z"
   },
   {
    "duration": 276,
    "start_time": "2023-10-19T07:59:40.998Z"
   },
   {
    "duration": 153,
    "start_time": "2023-10-19T08:00:07.786Z"
   },
   {
    "duration": 10,
    "start_time": "2023-10-19T08:02:26.240Z"
   },
   {
    "duration": 5,
    "start_time": "2023-10-19T08:02:52.650Z"
   },
   {
    "duration": 117,
    "start_time": "2023-10-19T08:03:03.482Z"
   },
   {
    "duration": 124,
    "start_time": "2023-10-19T08:03:47.531Z"
   },
   {
    "duration": 3916,
    "start_time": "2023-10-19T12:03:07.445Z"
   },
   {
    "duration": 84,
    "start_time": "2023-10-19T12:03:11.364Z"
   },
   {
    "duration": 15,
    "start_time": "2023-10-19T12:03:11.450Z"
   },
   {
    "duration": 29,
    "start_time": "2023-10-19T12:03:11.468Z"
   },
   {
    "duration": 23,
    "start_time": "2023-10-19T12:03:11.498Z"
   },
   {
    "duration": 26,
    "start_time": "2023-10-19T12:03:11.522Z"
   },
   {
    "duration": 31,
    "start_time": "2023-10-19T12:03:11.550Z"
   },
   {
    "duration": 30,
    "start_time": "2023-10-19T12:03:11.583Z"
   },
   {
    "duration": 20,
    "start_time": "2023-10-19T12:03:11.615Z"
   },
   {
    "duration": 36,
    "start_time": "2023-10-19T12:03:11.639Z"
   },
   {
    "duration": 19,
    "start_time": "2023-10-19T12:03:11.677Z"
   },
   {
    "duration": 220,
    "start_time": "2023-10-19T12:03:11.698Z"
   },
   {
    "duration": 166,
    "start_time": "2023-10-19T12:03:11.920Z"
   },
   {
    "duration": 1317,
    "start_time": "2023-10-19T12:03:12.088Z"
   },
   {
    "duration": 4,
    "start_time": "2023-10-19T12:03:13.407Z"
   },
   {
    "duration": 27,
    "start_time": "2023-10-19T12:03:13.412Z"
   },
   {
    "duration": 11,
    "start_time": "2023-10-19T12:03:13.440Z"
   },
   {
    "duration": 18,
    "start_time": "2023-10-19T12:03:13.453Z"
   },
   {
    "duration": 71,
    "start_time": "2023-10-19T12:03:13.473Z"
   },
   {
    "duration": 147,
    "start_time": "2023-10-19T12:03:13.546Z"
   },
   {
    "duration": 74,
    "start_time": "2023-10-19T12:03:13.696Z"
   },
   {
    "duration": 171,
    "start_time": "2023-10-19T12:03:13.773Z"
   },
   {
    "duration": 187139,
    "start_time": "2023-10-19T12:03:13.946Z"
   },
   {
    "duration": 1047,
    "start_time": "2023-10-19T12:06:21.087Z"
   },
   {
    "duration": 137,
    "start_time": "2023-10-19T12:06:22.136Z"
   },
   {
    "duration": 193923,
    "start_time": "2023-10-19T12:06:22.350Z"
   },
   {
    "duration": 1031,
    "start_time": "2023-10-19T12:09:36.276Z"
   },
   {
    "duration": 4,
    "start_time": "2023-10-19T12:09:37.311Z"
   },
   {
    "duration": 142,
    "start_time": "2023-10-19T12:09:37.317Z"
   },
   {
    "duration": 171537,
    "start_time": "2023-10-19T12:09:37.464Z"
   },
   {
    "duration": 1423,
    "start_time": "2023-10-19T12:12:29.003Z"
   },
   {
    "duration": 6,
    "start_time": "2023-10-19T12:12:30.428Z"
   },
   {
    "duration": 314,
    "start_time": "2023-10-19T12:12:30.436Z"
   },
   {
    "duration": 9555,
    "start_time": "2023-10-19T12:12:30.752Z"
   },
   {
    "duration": 467,
    "start_time": "2023-10-19T12:12:40.309Z"
   },
   {
    "duration": 0,
    "start_time": "2023-10-19T12:12:40.779Z"
   },
   {
    "duration": 0,
    "start_time": "2023-10-19T12:12:40.780Z"
   },
   {
    "duration": 0,
    "start_time": "2023-10-19T12:12:40.782Z"
   },
   {
    "duration": 0,
    "start_time": "2023-10-19T12:12:40.783Z"
   },
   {
    "duration": 21,
    "start_time": "2023-10-19T12:12:54.344Z"
   },
   {
    "duration": 24,
    "start_time": "2023-10-19T12:13:48.415Z"
   },
   {
    "duration": 26,
    "start_time": "2023-10-19T12:14:15.627Z"
   },
   {
    "duration": 20,
    "start_time": "2023-10-19T12:14:56.690Z"
   },
   {
    "duration": 6289,
    "start_time": "2023-10-19T12:27:28.489Z"
   },
   {
    "duration": 61,
    "start_time": "2023-10-19T12:27:34.781Z"
   },
   {
    "duration": 20,
    "start_time": "2023-10-19T12:27:34.844Z"
   },
   {
    "duration": 54,
    "start_time": "2023-10-19T12:27:34.866Z"
   },
   {
    "duration": 47,
    "start_time": "2023-10-19T12:27:34.923Z"
   },
   {
    "duration": 13,
    "start_time": "2023-10-19T12:27:34.972Z"
   },
   {
    "duration": 25,
    "start_time": "2023-10-19T12:27:34.988Z"
   },
   {
    "duration": 54,
    "start_time": "2023-10-19T12:27:35.016Z"
   },
   {
    "duration": 28,
    "start_time": "2023-10-19T12:27:35.073Z"
   },
   {
    "duration": 38,
    "start_time": "2023-10-19T12:27:35.103Z"
   },
   {
    "duration": 36,
    "start_time": "2023-10-19T12:27:35.143Z"
   },
   {
    "duration": 296,
    "start_time": "2023-10-19T12:27:35.181Z"
   },
   {
    "duration": 220,
    "start_time": "2023-10-19T12:27:35.478Z"
   },
   {
    "duration": 1684,
    "start_time": "2023-10-19T12:27:35.701Z"
   },
   {
    "duration": 5,
    "start_time": "2023-10-19T12:27:37.387Z"
   },
   {
    "duration": 32,
    "start_time": "2023-10-19T12:27:37.393Z"
   },
   {
    "duration": 29,
    "start_time": "2023-10-19T12:27:37.427Z"
   },
   {
    "duration": 32,
    "start_time": "2023-10-19T12:27:37.459Z"
   },
   {
    "duration": 38,
    "start_time": "2023-10-19T12:27:37.493Z"
   },
   {
    "duration": 177,
    "start_time": "2023-10-19T12:27:37.533Z"
   },
   {
    "duration": 133,
    "start_time": "2023-10-19T12:27:37.712Z"
   },
   {
    "duration": 105,
    "start_time": "2023-10-19T12:27:37.846Z"
   },
   {
    "duration": 195765,
    "start_time": "2023-10-19T12:27:37.955Z"
   },
   {
    "duration": 1051,
    "start_time": "2023-10-19T12:30:53.722Z"
   },
   {
    "duration": 97,
    "start_time": "2023-10-19T12:30:54.775Z"
   },
   {
    "duration": 194519,
    "start_time": "2023-10-19T12:30:54.951Z"
   },
   {
    "duration": 1032,
    "start_time": "2023-10-19T12:34:09.473Z"
   },
   {
    "duration": 4,
    "start_time": "2023-10-19T12:34:10.507Z"
   },
   {
    "duration": 128,
    "start_time": "2023-10-19T12:34:10.513Z"
   },
   {
    "duration": 328017,
    "start_time": "2023-10-19T12:34:10.659Z"
   },
   {
    "duration": 1449,
    "start_time": "2023-10-19T12:39:38.678Z"
   },
   {
    "duration": 5,
    "start_time": "2023-10-19T12:39:40.128Z"
   },
   {
    "duration": 81,
    "start_time": "2023-10-19T12:39:40.134Z"
   },
   {
    "duration": 126092,
    "start_time": "2023-10-19T12:39:40.218Z"
   },
   {
    "duration": 862,
    "start_time": "2023-10-19T12:41:46.312Z"
   },
   {
    "duration": 1082,
    "start_time": "2023-10-19T12:41:47.179Z"
   },
   {
    "duration": 146,
    "start_time": "2023-10-19T12:41:48.270Z"
   },
   {
    "duration": 140,
    "start_time": "2023-10-19T12:41:48.417Z"
   },
   {
    "duration": 1879,
    "start_time": "2023-10-20T04:40:48.271Z"
   },
   {
    "duration": 102,
    "start_time": "2023-10-20T04:45:39.062Z"
   },
   {
    "duration": 5,
    "start_time": "2023-10-20T04:46:29.642Z"
   },
   {
    "duration": 10,
    "start_time": "2023-10-20T04:46:39.701Z"
   },
   {
    "duration": 1419,
    "start_time": "2023-10-20T04:46:52.222Z"
   },
   {
    "duration": 83,
    "start_time": "2023-10-20T04:46:53.643Z"
   },
   {
    "duration": 13,
    "start_time": "2023-10-20T04:46:53.728Z"
   },
   {
    "duration": 32,
    "start_time": "2023-10-20T04:46:53.742Z"
   },
   {
    "duration": 24,
    "start_time": "2023-10-20T04:46:53.776Z"
   },
   {
    "duration": 6,
    "start_time": "2023-10-20T04:46:53.807Z"
   },
   {
    "duration": 26,
    "start_time": "2023-10-20T04:46:53.815Z"
   },
   {
    "duration": 134,
    "start_time": "2023-10-20T04:46:53.843Z"
   },
   {
    "duration": 0,
    "start_time": "2023-10-20T04:46:53.980Z"
   },
   {
    "duration": 0,
    "start_time": "2023-10-20T04:46:53.981Z"
   },
   {
    "duration": 0,
    "start_time": "2023-10-20T04:46:53.982Z"
   },
   {
    "duration": 0,
    "start_time": "2023-10-20T04:46:53.983Z"
   },
   {
    "duration": 0,
    "start_time": "2023-10-20T04:46:53.984Z"
   },
   {
    "duration": 0,
    "start_time": "2023-10-20T04:46:53.985Z"
   },
   {
    "duration": 0,
    "start_time": "2023-10-20T04:46:53.986Z"
   },
   {
    "duration": 0,
    "start_time": "2023-10-20T04:46:53.987Z"
   },
   {
    "duration": 0,
    "start_time": "2023-10-20T04:46:53.988Z"
   },
   {
    "duration": 0,
    "start_time": "2023-10-20T04:46:53.989Z"
   },
   {
    "duration": 0,
    "start_time": "2023-10-20T04:46:54.006Z"
   },
   {
    "duration": 0,
    "start_time": "2023-10-20T04:46:54.007Z"
   },
   {
    "duration": 0,
    "start_time": "2023-10-20T04:46:54.008Z"
   },
   {
    "duration": 0,
    "start_time": "2023-10-20T04:46:54.010Z"
   },
   {
    "duration": 0,
    "start_time": "2023-10-20T04:46:54.011Z"
   },
   {
    "duration": 0,
    "start_time": "2023-10-20T04:46:54.012Z"
   },
   {
    "duration": 1,
    "start_time": "2023-10-20T04:46:54.013Z"
   },
   {
    "duration": 0,
    "start_time": "2023-10-20T04:46:54.015Z"
   },
   {
    "duration": 0,
    "start_time": "2023-10-20T04:46:54.016Z"
   },
   {
    "duration": 0,
    "start_time": "2023-10-20T04:46:54.017Z"
   },
   {
    "duration": 0,
    "start_time": "2023-10-20T04:46:54.019Z"
   },
   {
    "duration": 0,
    "start_time": "2023-10-20T04:46:54.020Z"
   },
   {
    "duration": 0,
    "start_time": "2023-10-20T04:46:54.022Z"
   },
   {
    "duration": 0,
    "start_time": "2023-10-20T04:46:54.023Z"
   },
   {
    "duration": 0,
    "start_time": "2023-10-20T04:46:54.025Z"
   },
   {
    "duration": 0,
    "start_time": "2023-10-20T04:46:54.026Z"
   },
   {
    "duration": 0,
    "start_time": "2023-10-20T04:46:54.027Z"
   },
   {
    "duration": 0,
    "start_time": "2023-10-20T04:46:54.029Z"
   },
   {
    "duration": 0,
    "start_time": "2023-10-20T04:46:54.030Z"
   },
   {
    "duration": 0,
    "start_time": "2023-10-20T04:46:54.031Z"
   },
   {
    "duration": 0,
    "start_time": "2023-10-20T04:46:54.033Z"
   },
   {
    "duration": 0,
    "start_time": "2023-10-20T04:46:54.033Z"
   },
   {
    "duration": 0,
    "start_time": "2023-10-20T04:46:54.034Z"
   },
   {
    "duration": 0,
    "start_time": "2023-10-20T04:46:54.035Z"
   },
   {
    "duration": 3,
    "start_time": "2023-10-20T04:48:26.700Z"
   },
   {
    "duration": 22,
    "start_time": "2023-10-20T04:48:48.891Z"
   },
   {
    "duration": 5,
    "start_time": "2023-10-20T04:51:32.431Z"
   },
   {
    "duration": 17,
    "start_time": "2023-10-20T04:51:55.251Z"
   },
   {
    "duration": 14,
    "start_time": "2023-10-20T04:51:58.030Z"
   },
   {
    "duration": 14,
    "start_time": "2023-10-20T04:52:21.069Z"
   },
   {
    "duration": 14,
    "start_time": "2023-10-20T04:53:21.975Z"
   },
   {
    "duration": 4,
    "start_time": "2023-10-20T04:53:32.695Z"
   },
   {
    "duration": 14,
    "start_time": "2023-10-20T04:53:40.703Z"
   },
   {
    "duration": 3,
    "start_time": "2023-10-20T04:53:50.744Z"
   },
   {
    "duration": 13,
    "start_time": "2023-10-20T04:54:21.643Z"
   },
   {
    "duration": 1499,
    "start_time": "2023-10-20T04:54:49.687Z"
   },
   {
    "duration": 43,
    "start_time": "2023-10-20T04:54:51.188Z"
   },
   {
    "duration": 13,
    "start_time": "2023-10-20T04:54:51.232Z"
   },
   {
    "duration": 30,
    "start_time": "2023-10-20T04:54:51.247Z"
   },
   {
    "duration": 29,
    "start_time": "2023-10-20T04:54:51.279Z"
   },
   {
    "duration": 5,
    "start_time": "2023-10-20T04:54:51.310Z"
   },
   {
    "duration": 15,
    "start_time": "2023-10-20T04:54:51.317Z"
   },
   {
    "duration": 13,
    "start_time": "2023-10-20T04:54:51.333Z"
   },
   {
    "duration": 14,
    "start_time": "2023-10-20T04:54:51.348Z"
   },
   {
    "duration": 139,
    "start_time": "2023-10-20T04:54:51.363Z"
   },
   {
    "duration": 0,
    "start_time": "2023-10-20T04:54:51.507Z"
   },
   {
    "duration": 0,
    "start_time": "2023-10-20T04:54:51.508Z"
   },
   {
    "duration": 0,
    "start_time": "2023-10-20T04:54:51.509Z"
   },
   {
    "duration": 0,
    "start_time": "2023-10-20T04:54:51.511Z"
   },
   {
    "duration": 0,
    "start_time": "2023-10-20T04:54:51.513Z"
   },
   {
    "duration": 0,
    "start_time": "2023-10-20T04:54:51.514Z"
   },
   {
    "duration": 0,
    "start_time": "2023-10-20T04:54:51.515Z"
   },
   {
    "duration": 0,
    "start_time": "2023-10-20T04:54:51.517Z"
   },
   {
    "duration": 0,
    "start_time": "2023-10-20T04:54:51.518Z"
   },
   {
    "duration": 0,
    "start_time": "2023-10-20T04:54:51.519Z"
   },
   {
    "duration": 0,
    "start_time": "2023-10-20T04:54:51.521Z"
   },
   {
    "duration": 0,
    "start_time": "2023-10-20T04:54:51.522Z"
   },
   {
    "duration": 0,
    "start_time": "2023-10-20T04:54:51.524Z"
   },
   {
    "duration": 0,
    "start_time": "2023-10-20T04:54:51.525Z"
   },
   {
    "duration": 0,
    "start_time": "2023-10-20T04:54:51.527Z"
   },
   {
    "duration": 0,
    "start_time": "2023-10-20T04:54:51.529Z"
   },
   {
    "duration": 0,
    "start_time": "2023-10-20T04:54:51.530Z"
   },
   {
    "duration": 0,
    "start_time": "2023-10-20T04:54:51.531Z"
   },
   {
    "duration": 0,
    "start_time": "2023-10-20T04:54:51.533Z"
   },
   {
    "duration": 0,
    "start_time": "2023-10-20T04:54:51.534Z"
   },
   {
    "duration": 0,
    "start_time": "2023-10-20T04:54:51.536Z"
   },
   {
    "duration": 0,
    "start_time": "2023-10-20T04:54:51.538Z"
   },
   {
    "duration": 0,
    "start_time": "2023-10-20T04:54:51.539Z"
   },
   {
    "duration": 0,
    "start_time": "2023-10-20T04:54:51.541Z"
   },
   {
    "duration": 0,
    "start_time": "2023-10-20T04:54:51.542Z"
   },
   {
    "duration": 0,
    "start_time": "2023-10-20T04:54:51.543Z"
   },
   {
    "duration": 0,
    "start_time": "2023-10-20T04:54:51.545Z"
   },
   {
    "duration": 0,
    "start_time": "2023-10-20T04:54:51.546Z"
   },
   {
    "duration": 0,
    "start_time": "2023-10-20T04:54:51.547Z"
   },
   {
    "duration": 0,
    "start_time": "2023-10-20T04:54:51.549Z"
   },
   {
    "duration": 0,
    "start_time": "2023-10-20T04:54:51.549Z"
   },
   {
    "duration": 0,
    "start_time": "2023-10-20T04:54:51.550Z"
   },
   {
    "duration": 0,
    "start_time": "2023-10-20T04:54:51.551Z"
   },
   {
    "duration": 0,
    "start_time": "2023-10-20T04:54:51.551Z"
   },
   {
    "duration": 0,
    "start_time": "2023-10-20T04:54:51.552Z"
   },
   {
    "duration": 0,
    "start_time": "2023-10-20T04:54:51.607Z"
   },
   {
    "duration": 16,
    "start_time": "2023-10-20T04:55:20.494Z"
   },
   {
    "duration": 20,
    "start_time": "2023-10-20T04:55:35.385Z"
   },
   {
    "duration": 18,
    "start_time": "2023-10-20T04:55:40.046Z"
   },
   {
    "duration": 19,
    "start_time": "2023-10-20T04:55:41.933Z"
   },
   {
    "duration": 19,
    "start_time": "2023-10-20T04:55:54.473Z"
   },
   {
    "duration": 4,
    "start_time": "2023-10-20T04:56:08.207Z"
   },
   {
    "duration": 3,
    "start_time": "2023-10-20T04:56:19.497Z"
   },
   {
    "duration": 3,
    "start_time": "2023-10-20T04:56:40.033Z"
   },
   {
    "duration": 19,
    "start_time": "2023-10-20T04:56:44.606Z"
   },
   {
    "duration": 56,
    "start_time": "2023-10-20T13:44:41.130Z"
   },
   {
    "duration": 1613,
    "start_time": "2023-10-20T13:44:48.714Z"
   },
   {
    "duration": 42,
    "start_time": "2023-10-20T13:44:50.328Z"
   },
   {
    "duration": 21,
    "start_time": "2023-10-20T13:44:50.371Z"
   },
   {
    "duration": 70,
    "start_time": "2023-10-20T13:44:50.393Z"
   },
   {
    "duration": 32,
    "start_time": "2023-10-20T13:44:50.466Z"
   },
   {
    "duration": 34,
    "start_time": "2023-10-20T13:44:50.499Z"
   },
   {
    "duration": 27,
    "start_time": "2023-10-20T13:44:50.535Z"
   },
   {
    "duration": 14,
    "start_time": "2023-10-20T13:44:50.565Z"
   },
   {
    "duration": 15,
    "start_time": "2023-10-20T13:44:50.581Z"
   },
   {
    "duration": 18,
    "start_time": "2023-10-20T13:44:50.597Z"
   },
   {
    "duration": 22,
    "start_time": "2023-10-20T13:44:50.616Z"
   },
   {
    "duration": 146,
    "start_time": "2023-10-20T13:44:50.640Z"
   },
   {
    "duration": 0,
    "start_time": "2023-10-20T13:44:50.790Z"
   },
   {
    "duration": 0,
    "start_time": "2023-10-20T13:44:50.792Z"
   },
   {
    "duration": 0,
    "start_time": "2023-10-20T13:44:50.793Z"
   },
   {
    "duration": 0,
    "start_time": "2023-10-20T13:44:50.795Z"
   },
   {
    "duration": 0,
    "start_time": "2023-10-20T13:44:50.797Z"
   },
   {
    "duration": 0,
    "start_time": "2023-10-20T13:44:50.798Z"
   },
   {
    "duration": 0,
    "start_time": "2023-10-20T13:44:50.800Z"
   },
   {
    "duration": 0,
    "start_time": "2023-10-20T13:44:50.801Z"
   },
   {
    "duration": 0,
    "start_time": "2023-10-20T13:44:50.802Z"
   },
   {
    "duration": 0,
    "start_time": "2023-10-20T13:44:50.804Z"
   },
   {
    "duration": 0,
    "start_time": "2023-10-20T13:44:50.806Z"
   },
   {
    "duration": 0,
    "start_time": "2023-10-20T13:44:50.807Z"
   },
   {
    "duration": 0,
    "start_time": "2023-10-20T13:44:50.808Z"
   },
   {
    "duration": 0,
    "start_time": "2023-10-20T13:44:50.810Z"
   },
   {
    "duration": 0,
    "start_time": "2023-10-20T13:44:50.811Z"
   },
   {
    "duration": 0,
    "start_time": "2023-10-20T13:44:50.845Z"
   },
   {
    "duration": 0,
    "start_time": "2023-10-20T13:44:50.846Z"
   },
   {
    "duration": 0,
    "start_time": "2023-10-20T13:44:50.847Z"
   },
   {
    "duration": 0,
    "start_time": "2023-10-20T13:44:50.849Z"
   },
   {
    "duration": 0,
    "start_time": "2023-10-20T13:44:50.850Z"
   },
   {
    "duration": 0,
    "start_time": "2023-10-20T13:44:50.852Z"
   },
   {
    "duration": 0,
    "start_time": "2023-10-20T13:44:50.853Z"
   },
   {
    "duration": 0,
    "start_time": "2023-10-20T13:44:50.855Z"
   },
   {
    "duration": 0,
    "start_time": "2023-10-20T13:44:50.856Z"
   },
   {
    "duration": 0,
    "start_time": "2023-10-20T13:44:50.858Z"
   },
   {
    "duration": 0,
    "start_time": "2023-10-20T13:44:50.859Z"
   },
   {
    "duration": 0,
    "start_time": "2023-10-20T13:44:50.860Z"
   },
   {
    "duration": 0,
    "start_time": "2023-10-20T13:44:50.862Z"
   },
   {
    "duration": 0,
    "start_time": "2023-10-20T13:44:50.863Z"
   },
   {
    "duration": 0,
    "start_time": "2023-10-20T13:44:50.864Z"
   },
   {
    "duration": 0,
    "start_time": "2023-10-20T13:44:50.867Z"
   },
   {
    "duration": 0,
    "start_time": "2023-10-20T13:44:50.868Z"
   },
   {
    "duration": 0,
    "start_time": "2023-10-20T13:44:50.870Z"
   },
   {
    "duration": 0,
    "start_time": "2023-10-20T13:44:50.871Z"
   },
   {
    "duration": 7,
    "start_time": "2023-10-20T13:45:00.387Z"
   },
   {
    "duration": 5,
    "start_time": "2023-10-20T13:45:01.001Z"
   },
   {
    "duration": 9,
    "start_time": "2023-10-20T13:45:01.388Z"
   },
   {
    "duration": 7,
    "start_time": "2023-10-20T13:45:02.239Z"
   },
   {
    "duration": 242,
    "start_time": "2023-10-20T13:45:03.345Z"
   },
   {
    "duration": 171,
    "start_time": "2023-10-20T13:45:03.588Z"
   },
   {
    "duration": 1264,
    "start_time": "2023-10-20T13:45:04.618Z"
   },
   {
    "duration": 5,
    "start_time": "2023-10-20T13:45:09.496Z"
   },
   {
    "duration": 3,
    "start_time": "2023-10-20T13:45:10.646Z"
   },
   {
    "duration": 3,
    "start_time": "2023-10-20T13:45:11.138Z"
   },
   {
    "duration": 6,
    "start_time": "2023-10-20T13:45:11.778Z"
   },
   {
    "duration": 3,
    "start_time": "2023-10-20T13:45:12.811Z"
   },
   {
    "duration": 138,
    "start_time": "2023-10-20T13:45:13.926Z"
   },
   {
    "duration": 119,
    "start_time": "2023-10-20T13:45:15.929Z"
   },
   {
    "duration": 38,
    "start_time": "2023-10-20T13:45:22.848Z"
   },
   {
    "duration": 60,
    "start_time": "2023-10-22T15:41:43.721Z"
   },
   {
    "duration": 8,
    "start_time": "2023-10-22T15:41:53.562Z"
   },
   {
    "duration": 1771,
    "start_time": "2023-10-22T15:42:21.934Z"
   },
   {
    "duration": 43,
    "start_time": "2023-10-22T15:42:28.397Z"
   },
   {
    "duration": 6,
    "start_time": "2023-10-22T15:43:21.103Z"
   },
   {
    "duration": 4,
    "start_time": "2023-10-22T15:43:26.830Z"
   },
   {
    "duration": 96,
    "start_time": "2023-10-22T15:43:44.998Z"
   },
   {
    "duration": 4,
    "start_time": "2023-10-22T15:44:02.400Z"
   },
   {
    "duration": 14,
    "start_time": "2023-10-22T15:44:51.842Z"
   },
   {
    "duration": 7,
    "start_time": "2023-10-22T15:45:16.970Z"
   },
   {
    "duration": 6,
    "start_time": "2023-10-22T15:45:18.678Z"
   },
   {
    "duration": 5,
    "start_time": "2023-10-22T15:46:52.577Z"
   },
   {
    "duration": 9,
    "start_time": "2023-10-22T15:46:53.804Z"
   },
   {
    "duration": 4,
    "start_time": "2023-10-22T15:48:05.009Z"
   },
   {
    "duration": 11,
    "start_time": "2023-10-22T15:48:10.755Z"
   },
   {
    "duration": 152,
    "start_time": "2023-10-22T15:48:33.521Z"
   },
   {
    "duration": 4,
    "start_time": "2023-10-22T15:48:50.321Z"
   },
   {
    "duration": 11,
    "start_time": "2023-10-22T15:48:58.877Z"
   },
   {
    "duration": 123,
    "start_time": "2023-10-22T15:49:18.261Z"
   },
   {
    "duration": 6,
    "start_time": "2023-10-22T15:49:52.055Z"
   },
   {
    "duration": 7,
    "start_time": "2023-10-22T15:49:57.562Z"
   },
   {
    "duration": 200,
    "start_time": "2023-10-22T15:50:06.304Z"
   },
   {
    "duration": 100,
    "start_time": "2023-10-22T15:50:30.230Z"
   },
   {
    "duration": 14,
    "start_time": "2023-10-22T15:50:58.129Z"
   },
   {
    "duration": 2171,
    "start_time": "2023-10-22T15:51:31.977Z"
   },
   {
    "duration": 170,
    "start_time": "2023-10-22T15:51:59.542Z"
   },
   {
    "duration": 4,
    "start_time": "2023-10-22T15:52:57.104Z"
   },
   {
    "duration": 3,
    "start_time": "2023-10-22T15:53:26.765Z"
   },
   {
    "duration": 26,
    "start_time": "2023-10-22T15:54:28.142Z"
   },
   {
    "duration": 181548,
    "start_time": "2023-10-22T15:54:47.037Z"
   },
   {
    "duration": 168,
    "start_time": "2023-10-22T15:57:48.587Z"
   },
   {
    "duration": 41,
    "start_time": "2023-10-22T15:57:48.757Z"
   },
   {
    "duration": 51,
    "start_time": "2023-10-22T15:59:22.693Z"
   },
   {
    "duration": 185657,
    "start_time": "2023-10-22T15:59:30.721Z"
   },
   {
    "duration": 49,
    "start_time": "2023-10-22T16:02:36.381Z"
   },
   {
    "duration": 23,
    "start_time": "2023-10-22T16:03:22.496Z"
   },
   {
    "duration": 236562,
    "start_time": "2023-10-22T16:03:29.845Z"
   },
   {
    "duration": 61,
    "start_time": "2023-10-22T16:07:26.409Z"
   },
   {
    "duration": 17,
    "start_time": "2023-10-22T16:07:58.258Z"
   },
   {
    "duration": 124119,
    "start_time": "2023-10-22T16:08:08.100Z"
   },
   {
    "duration": 46,
    "start_time": "2023-10-22T16:10:12.221Z"
   },
   {
    "duration": 589,
    "start_time": "2023-10-22T16:10:12.269Z"
   },
   {
    "duration": 95,
    "start_time": "2023-10-22T16:10:12.860Z"
   },
   {
    "duration": 142,
    "start_time": "2023-10-22T16:10:12.957Z"
   },
   {
    "duration": 3713,
    "start_time": "2023-10-23T05:35:21.691Z"
   },
   {
    "duration": 6,
    "start_time": "2023-10-23T05:35:59.235Z"
   },
   {
    "duration": 176,
    "start_time": "2023-10-23T05:35:59.243Z"
   },
   {
    "duration": 15,
    "start_time": "2023-10-23T05:35:59.421Z"
   },
   {
    "duration": 58,
    "start_time": "2023-10-23T05:35:59.438Z"
   },
   {
    "duration": 31,
    "start_time": "2023-10-23T05:35:59.498Z"
   },
   {
    "duration": 8,
    "start_time": "2023-10-23T05:35:59.530Z"
   },
   {
    "duration": 33,
    "start_time": "2023-10-23T05:35:59.540Z"
   },
   {
    "duration": 32,
    "start_time": "2023-10-23T05:35:59.575Z"
   },
   {
    "duration": 17,
    "start_time": "2023-10-23T05:35:59.609Z"
   },
   {
    "duration": 30,
    "start_time": "2023-10-23T05:35:59.628Z"
   },
   {
    "duration": 25,
    "start_time": "2023-10-23T05:35:59.660Z"
   },
   {
    "duration": 230,
    "start_time": "2023-10-23T05:35:59.687Z"
   },
   {
    "duration": 195,
    "start_time": "2023-10-23T05:35:59.918Z"
   },
   {
    "duration": 1441,
    "start_time": "2023-10-23T05:36:00.115Z"
   },
   {
    "duration": 22,
    "start_time": "2023-10-23T05:36:19.935Z"
   },
   {
    "duration": 19,
    "start_time": "2023-10-23T05:36:34.631Z"
   },
   {
    "duration": 22,
    "start_time": "2023-10-23T05:37:01.234Z"
   },
   {
    "duration": 5,
    "start_time": "2023-10-23T05:39:22.803Z"
   },
   {
    "duration": 40,
    "start_time": "2023-10-23T05:39:22.810Z"
   },
   {
    "duration": 13,
    "start_time": "2023-10-23T05:39:22.852Z"
   },
   {
    "duration": 22,
    "start_time": "2023-10-23T05:39:22.867Z"
   },
   {
    "duration": 54,
    "start_time": "2023-10-23T05:39:22.891Z"
   },
   {
    "duration": 6,
    "start_time": "2023-10-23T05:39:22.946Z"
   },
   {
    "duration": 12,
    "start_time": "2023-10-23T05:39:22.953Z"
   },
   {
    "duration": 4,
    "start_time": "2023-10-23T05:39:22.966Z"
   },
   {
    "duration": 17,
    "start_time": "2023-10-23T05:39:22.972Z"
   },
   {
    "duration": 12,
    "start_time": "2023-10-23T05:39:22.990Z"
   },
   {
    "duration": 10,
    "start_time": "2023-10-23T05:39:23.003Z"
   },
   {
    "duration": 183,
    "start_time": "2023-10-23T05:39:23.015Z"
   },
   {
    "duration": 255,
    "start_time": "2023-10-23T05:39:23.200Z"
   },
   {
    "duration": 1301,
    "start_time": "2023-10-23T05:39:23.457Z"
   },
   {
    "duration": 2,
    "start_time": "2023-10-23T05:39:24.760Z"
   },
   {
    "duration": 28,
    "start_time": "2023-10-23T05:39:24.764Z"
   },
   {
    "duration": 36,
    "start_time": "2023-10-23T05:39:24.793Z"
   },
   {
    "duration": 31,
    "start_time": "2023-10-23T05:39:24.831Z"
   },
   {
    "duration": 17,
    "start_time": "2023-10-23T05:39:24.864Z"
   },
   {
    "duration": 9,
    "start_time": "2023-10-23T05:39:24.883Z"
   },
   {
    "duration": 8,
    "start_time": "2023-10-23T05:39:24.894Z"
   },
   {
    "duration": 12,
    "start_time": "2023-10-23T05:39:24.904Z"
   },
   {
    "duration": 6,
    "start_time": "2023-10-23T05:39:24.918Z"
   },
   {
    "duration": 5,
    "start_time": "2023-10-23T05:39:24.927Z"
   },
   {
    "duration": 13,
    "start_time": "2023-10-23T05:39:24.933Z"
   },
   {
    "duration": 6,
    "start_time": "2023-10-23T05:39:24.948Z"
   },
   {
    "duration": 18,
    "start_time": "2023-10-23T05:39:24.955Z"
   },
   {
    "duration": 5,
    "start_time": "2023-10-23T05:39:24.974Z"
   },
   {
    "duration": 5,
    "start_time": "2023-10-23T05:39:24.980Z"
   },
   {
    "duration": 21,
    "start_time": "2023-10-23T05:39:24.987Z"
   },
   {
    "duration": 9,
    "start_time": "2023-10-23T05:39:25.010Z"
   },
   {
    "duration": 5,
    "start_time": "2023-10-23T05:39:25.020Z"
   },
   {
    "duration": 5,
    "start_time": "2023-10-23T05:39:25.027Z"
   },
   {
    "duration": 10,
    "start_time": "2023-10-23T05:39:25.034Z"
   },
   {
    "duration": 7,
    "start_time": "2023-10-23T05:39:25.046Z"
   },
   {
    "duration": 10,
    "start_time": "2023-10-23T05:39:25.054Z"
   },
   {
    "duration": 5,
    "start_time": "2023-10-23T05:39:25.065Z"
   },
   {
    "duration": 7,
    "start_time": "2023-10-23T05:39:25.071Z"
   },
   {
    "duration": 44,
    "start_time": "2023-10-23T05:39:25.079Z"
   },
   {
    "duration": 5,
    "start_time": "2023-10-23T05:39:25.124Z"
   },
   {
    "duration": 10,
    "start_time": "2023-10-23T05:39:25.130Z"
   },
   {
    "duration": 5,
    "start_time": "2023-10-23T05:39:25.141Z"
   },
   {
    "duration": 12,
    "start_time": "2023-10-23T05:39:25.147Z"
   },
   {
    "duration": 5,
    "start_time": "2023-10-23T05:39:25.160Z"
   },
   {
    "duration": 6,
    "start_time": "2023-10-23T05:39:25.166Z"
   },
   {
    "duration": 4,
    "start_time": "2023-10-23T05:39:25.173Z"
   },
   {
    "duration": 12,
    "start_time": "2023-10-23T05:39:25.178Z"
   },
   {
    "duration": 143,
    "start_time": "2023-10-23T05:39:25.192Z"
   },
   {
    "duration": 4,
    "start_time": "2023-10-23T05:39:25.343Z"
   },
   {
    "duration": 12,
    "start_time": "2023-10-23T05:39:25.349Z"
   },
   {
    "duration": 119,
    "start_time": "2023-10-23T05:39:25.362Z"
   },
   {
    "duration": 5,
    "start_time": "2023-10-23T05:39:25.483Z"
   },
   {
    "duration": 6,
    "start_time": "2023-10-23T05:39:25.490Z"
   },
   {
    "duration": 109,
    "start_time": "2023-10-23T05:39:25.498Z"
   },
   {
    "duration": 13,
    "start_time": "2023-10-23T05:39:25.609Z"
   },
   {
    "duration": 2027,
    "start_time": "2023-10-23T05:39:25.623Z"
   },
   {
    "duration": 159,
    "start_time": "2023-10-23T05:48:06.072Z"
   },
   {
    "duration": 22,
    "start_time": "2023-10-23T05:48:40.611Z"
   },
   {
    "duration": 106,
    "start_time": "2023-10-23T05:48:49.973Z"
   },
   {
    "duration": 11,
    "start_time": "2023-10-23T05:49:17.937Z"
   },
   {
    "duration": 9,
    "start_time": "2023-10-23T05:49:52.380Z"
   },
   {
    "duration": 4057,
    "start_time": "2023-10-23T06:01:50.729Z"
   },
   {
    "duration": 45,
    "start_time": "2023-10-23T06:01:54.787Z"
   },
   {
    "duration": 15,
    "start_time": "2023-10-23T06:01:54.834Z"
   },
   {
    "duration": 53,
    "start_time": "2023-10-23T06:01:54.852Z"
   },
   {
    "duration": 39,
    "start_time": "2023-10-23T06:01:54.907Z"
   },
   {
    "duration": 7,
    "start_time": "2023-10-23T06:01:54.949Z"
   },
   {
    "duration": 17,
    "start_time": "2023-10-23T06:01:54.958Z"
   },
   {
    "duration": 33,
    "start_time": "2023-10-23T06:01:54.977Z"
   },
   {
    "duration": 16,
    "start_time": "2023-10-23T06:01:55.012Z"
   },
   {
    "duration": 26,
    "start_time": "2023-10-23T06:01:55.032Z"
   },
   {
    "duration": 45,
    "start_time": "2023-10-23T06:01:55.060Z"
   },
   {
    "duration": 229,
    "start_time": "2023-10-23T06:01:55.107Z"
   },
   {
    "duration": 170,
    "start_time": "2023-10-23T06:01:55.338Z"
   },
   {
    "duration": 1353,
    "start_time": "2023-10-23T06:01:55.510Z"
   },
   {
    "duration": 3,
    "start_time": "2023-10-23T06:01:56.865Z"
   },
   {
    "duration": 22,
    "start_time": "2023-10-23T06:01:56.870Z"
   },
   {
    "duration": 20,
    "start_time": "2023-10-23T06:01:56.893Z"
   },
   {
    "duration": 30,
    "start_time": "2023-10-23T06:01:56.915Z"
   },
   {
    "duration": 22,
    "start_time": "2023-10-23T06:01:56.947Z"
   },
   {
    "duration": 30,
    "start_time": "2023-10-23T06:01:56.971Z"
   },
   {
    "duration": 18,
    "start_time": "2023-10-23T06:01:57.003Z"
   },
   {
    "duration": 4,
    "start_time": "2023-10-23T06:01:57.024Z"
   },
   {
    "duration": 18,
    "start_time": "2023-10-23T06:01:57.030Z"
   },
   {
    "duration": 8,
    "start_time": "2023-10-23T06:01:57.050Z"
   },
   {
    "duration": 23,
    "start_time": "2023-10-23T06:01:57.060Z"
   },
   {
    "duration": 11,
    "start_time": "2023-10-23T06:01:57.084Z"
   },
   {
    "duration": 6,
    "start_time": "2023-10-23T06:01:57.097Z"
   },
   {
    "duration": 14,
    "start_time": "2023-10-23T06:01:57.108Z"
   },
   {
    "duration": 25,
    "start_time": "2023-10-23T06:01:57.124Z"
   },
   {
    "duration": 14,
    "start_time": "2023-10-23T06:01:57.151Z"
   },
   {
    "duration": 5,
    "start_time": "2023-10-23T06:01:57.166Z"
   },
   {
    "duration": 29,
    "start_time": "2023-10-23T06:01:57.173Z"
   },
   {
    "duration": 13,
    "start_time": "2023-10-23T06:01:57.204Z"
   },
   {
    "duration": 14,
    "start_time": "2023-10-23T06:01:57.218Z"
   },
   {
    "duration": 24,
    "start_time": "2023-10-23T06:01:57.233Z"
   },
   {
    "duration": 27,
    "start_time": "2023-10-23T06:01:57.259Z"
   },
   {
    "duration": 26,
    "start_time": "2023-10-23T06:01:57.288Z"
   },
   {
    "duration": 17,
    "start_time": "2023-10-23T06:01:57.316Z"
   },
   {
    "duration": 58,
    "start_time": "2023-10-23T06:01:57.335Z"
   },
   {
    "duration": 5,
    "start_time": "2023-10-23T06:01:57.395Z"
   },
   {
    "duration": 17,
    "start_time": "2023-10-23T06:01:57.401Z"
   },
   {
    "duration": 46,
    "start_time": "2023-10-23T06:01:57.420Z"
   },
   {
    "duration": 33,
    "start_time": "2023-10-23T06:01:57.468Z"
   },
   {
    "duration": 12,
    "start_time": "2023-10-23T06:01:57.503Z"
   },
   {
    "duration": 32,
    "start_time": "2023-10-23T06:01:57.517Z"
   },
   {
    "duration": 14,
    "start_time": "2023-10-23T06:01:57.551Z"
   },
   {
    "duration": 29,
    "start_time": "2023-10-23T06:01:57.567Z"
   },
   {
    "duration": 128,
    "start_time": "2023-10-23T06:01:57.598Z"
   },
   {
    "duration": 4,
    "start_time": "2023-10-23T06:01:57.728Z"
   },
   {
    "duration": 10,
    "start_time": "2023-10-23T06:01:57.745Z"
   },
   {
    "duration": 254,
    "start_time": "2023-10-23T06:01:57.757Z"
   },
   {
    "duration": 6,
    "start_time": "2023-10-23T06:01:58.013Z"
   },
   {
    "duration": 21,
    "start_time": "2023-10-23T06:01:58.021Z"
   },
   {
    "duration": 109,
    "start_time": "2023-10-23T06:01:58.045Z"
   },
   {
    "duration": 14,
    "start_time": "2023-10-23T06:01:58.156Z"
   },
   {
    "duration": 2774,
    "start_time": "2023-10-23T06:01:58.172Z"
   },
   {
    "duration": 179,
    "start_time": "2023-10-23T06:02:00.948Z"
   },
   {
    "duration": 3,
    "start_time": "2023-10-23T06:02:01.128Z"
   },
   {
    "duration": 201,
    "start_time": "2023-10-23T06:02:01.144Z"
   },
   {
    "duration": 174533,
    "start_time": "2023-10-23T06:02:01.347Z"
   },
   {
    "duration": 163,
    "start_time": "2023-10-23T06:04:55.882Z"
   },
   {
    "duration": 100,
    "start_time": "2023-10-23T06:04:56.046Z"
   },
   {
    "duration": 97,
    "start_time": "2023-10-23T06:04:56.148Z"
   },
   {
    "duration": 173592,
    "start_time": "2023-10-23T06:04:56.247Z"
   },
   {
    "duration": 52,
    "start_time": "2023-10-23T06:07:49.844Z"
   },
   {
    "duration": 145,
    "start_time": "2023-10-23T06:07:49.899Z"
   },
   {
    "duration": 221036,
    "start_time": "2023-10-23T06:07:50.047Z"
   },
   {
    "duration": 59,
    "start_time": "2023-10-23T06:11:31.085Z"
   },
   {
    "duration": 15,
    "start_time": "2023-10-23T06:11:31.146Z"
   },
   {
    "duration": 116603,
    "start_time": "2023-10-23T06:11:31.163Z"
   },
   {
    "duration": 31,
    "start_time": "2023-10-23T06:13:27.768Z"
   },
   {
    "duration": 550,
    "start_time": "2023-10-23T06:13:27.801Z"
   },
   {
    "duration": 84,
    "start_time": "2023-10-23T06:13:28.358Z"
   },
   {
    "duration": 112,
    "start_time": "2023-10-23T06:13:28.458Z"
   },
   {
    "duration": 1816,
    "start_time": "2023-10-23T08:52:25.242Z"
   },
   {
    "duration": 93,
    "start_time": "2023-10-23T08:52:27.060Z"
   },
   {
    "duration": 17,
    "start_time": "2023-10-23T08:52:27.155Z"
   },
   {
    "duration": 67,
    "start_time": "2023-10-23T08:52:27.174Z"
   },
   {
    "duration": 91,
    "start_time": "2023-10-23T08:52:27.243Z"
   },
   {
    "duration": 11,
    "start_time": "2023-10-23T08:52:27.336Z"
   },
   {
    "duration": 46,
    "start_time": "2023-10-23T08:52:27.348Z"
   },
   {
    "duration": 21,
    "start_time": "2023-10-23T08:52:27.396Z"
   },
   {
    "duration": 33,
    "start_time": "2023-10-23T08:52:27.418Z"
   },
   {
    "duration": 42,
    "start_time": "2023-10-23T08:52:27.453Z"
   },
   {
    "duration": 20,
    "start_time": "2023-10-23T08:52:27.496Z"
   },
   {
    "duration": 222,
    "start_time": "2023-10-23T08:52:27.518Z"
   },
   {
    "duration": 184,
    "start_time": "2023-10-23T08:52:27.742Z"
   },
   {
    "duration": 1470,
    "start_time": "2023-10-23T08:52:27.930Z"
   },
   {
    "duration": 4,
    "start_time": "2023-10-23T08:52:29.410Z"
   },
   {
    "duration": 57,
    "start_time": "2023-10-23T08:52:29.416Z"
   },
   {
    "duration": 1638,
    "start_time": "2023-10-23T08:57:27.025Z"
   },
   {
    "duration": 52,
    "start_time": "2023-10-23T08:57:28.665Z"
   },
   {
    "duration": 16,
    "start_time": "2023-10-23T08:57:28.720Z"
   },
   {
    "duration": 41,
    "start_time": "2023-10-23T08:57:28.738Z"
   },
   {
    "duration": 41,
    "start_time": "2023-10-23T08:57:28.781Z"
   },
   {
    "duration": 91,
    "start_time": "2023-10-23T08:57:28.824Z"
   },
   {
    "duration": 27,
    "start_time": "2023-10-23T08:57:28.917Z"
   },
   {
    "duration": 38,
    "start_time": "2023-10-23T08:57:28.946Z"
   },
   {
    "duration": 29,
    "start_time": "2023-10-23T08:57:28.985Z"
   },
   {
    "duration": 12,
    "start_time": "2023-10-23T08:57:29.018Z"
   },
   {
    "duration": 20,
    "start_time": "2023-10-23T08:57:29.032Z"
   },
   {
    "duration": 244,
    "start_time": "2023-10-23T08:57:29.054Z"
   },
   {
    "duration": 216,
    "start_time": "2023-10-23T08:57:29.300Z"
   },
   {
    "duration": 1513,
    "start_time": "2023-10-23T08:57:29.518Z"
   },
   {
    "duration": 3,
    "start_time": "2023-10-23T08:57:31.033Z"
   },
   {
    "duration": 48,
    "start_time": "2023-10-23T08:57:31.039Z"
   },
   {
    "duration": 74,
    "start_time": "2023-10-23T08:57:31.089Z"
   },
   {
    "duration": 49,
    "start_time": "2023-10-23T08:57:31.165Z"
   },
   {
    "duration": 56,
    "start_time": "2023-10-23T08:57:31.216Z"
   },
   {
    "duration": 222,
    "start_time": "2023-10-23T08:57:31.274Z"
   },
   {
    "duration": 92,
    "start_time": "2023-10-23T08:57:31.498Z"
   },
   {
    "duration": 39,
    "start_time": "2023-10-23T08:57:31.592Z"
   },
   {
    "duration": 50,
    "start_time": "2023-10-23T08:57:31.633Z"
   },
   {
    "duration": 68,
    "start_time": "2023-10-23T08:57:31.685Z"
   },
   {
    "duration": 119,
    "start_time": "2023-10-23T08:57:31.754Z"
   },
   {
    "duration": 48,
    "start_time": "2023-10-23T08:57:31.875Z"
   },
   {
    "duration": 57,
    "start_time": "2023-10-23T08:57:31.925Z"
   },
   {
    "duration": 109,
    "start_time": "2023-10-23T08:57:31.987Z"
   },
   {
    "duration": 129,
    "start_time": "2023-10-23T08:57:32.098Z"
   },
   {
    "duration": 35,
    "start_time": "2023-10-23T08:57:32.229Z"
   },
   {
    "duration": 34,
    "start_time": "2023-10-23T08:57:32.266Z"
   },
   {
    "duration": 27,
    "start_time": "2023-10-23T08:57:32.305Z"
   },
   {
    "duration": 44,
    "start_time": "2023-10-23T08:57:32.334Z"
   },
   {
    "duration": 61,
    "start_time": "2023-10-23T08:57:32.380Z"
   },
   {
    "duration": 51,
    "start_time": "2023-10-23T08:57:32.442Z"
   },
   {
    "duration": 50,
    "start_time": "2023-10-23T08:57:32.495Z"
   },
   {
    "duration": 71,
    "start_time": "2023-10-23T08:57:32.547Z"
   },
   {
    "duration": 15,
    "start_time": "2023-10-23T08:57:32.619Z"
   },
   {
    "duration": 79,
    "start_time": "2023-10-23T08:57:32.636Z"
   },
   {
    "duration": 5,
    "start_time": "2023-10-23T08:57:32.717Z"
   },
   {
    "duration": 15,
    "start_time": "2023-10-23T08:57:32.723Z"
   },
   {
    "duration": 5,
    "start_time": "2023-10-23T08:57:32.740Z"
   },
   {
    "duration": 23,
    "start_time": "2023-10-23T08:57:32.747Z"
   },
   {
    "duration": 44,
    "start_time": "2023-10-23T08:57:32.771Z"
   },
   {
    "duration": 14,
    "start_time": "2023-10-23T08:57:32.817Z"
   },
   {
    "duration": 5,
    "start_time": "2023-10-23T08:57:32.832Z"
   },
   {
    "duration": 22,
    "start_time": "2023-10-23T08:57:32.839Z"
   },
   {
    "duration": 130,
    "start_time": "2023-10-23T08:57:32.862Z"
   },
   {
    "duration": 14,
    "start_time": "2023-10-23T08:57:32.993Z"
   },
   {
    "duration": 53,
    "start_time": "2023-10-23T08:57:33.017Z"
   },
   {
    "duration": 545,
    "start_time": "2023-10-23T08:57:33.072Z"
   },
   {
    "duration": 6,
    "start_time": "2023-10-23T08:57:33.618Z"
   },
   {
    "duration": 21,
    "start_time": "2023-10-23T08:57:33.626Z"
   },
   {
    "duration": 125,
    "start_time": "2023-10-23T08:57:33.649Z"
   },
   {
    "duration": 16,
    "start_time": "2023-10-23T08:57:33.775Z"
   },
   {
    "duration": 2523,
    "start_time": "2023-10-23T08:57:33.792Z"
   },
   {
    "duration": 179,
    "start_time": "2023-10-23T08:57:36.317Z"
   },
   {
    "duration": 15,
    "start_time": "2023-10-23T08:57:36.501Z"
   },
   {
    "duration": 192,
    "start_time": "2023-10-23T08:57:36.518Z"
   },
   {
    "duration": 246676,
    "start_time": "2023-10-23T08:57:36.712Z"
   },
   {
    "duration": 184,
    "start_time": "2023-10-23T09:01:43.389Z"
   },
   {
    "duration": 63,
    "start_time": "2023-10-23T09:01:43.575Z"
   },
   {
    "duration": 65,
    "start_time": "2023-10-23T09:01:43.640Z"
   },
   {
    "duration": 246364,
    "start_time": "2023-10-23T09:01:43.708Z"
   },
   {
    "duration": 67,
    "start_time": "2023-10-23T09:05:50.074Z"
   },
   {
    "duration": 72,
    "start_time": "2023-10-23T09:05:50.142Z"
   },
   {
    "duration": 339402,
    "start_time": "2023-10-23T09:05:50.219Z"
   },
   {
    "duration": 64,
    "start_time": "2023-10-23T09:11:29.623Z"
   },
   {
    "duration": 38,
    "start_time": "2023-10-23T09:11:29.688Z"
   },
   {
    "duration": 147369,
    "start_time": "2023-10-23T09:11:29.809Z"
   },
   {
    "duration": 50,
    "start_time": "2023-10-23T09:13:57.180Z"
   },
   {
    "duration": 786,
    "start_time": "2023-10-23T09:13:57.232Z"
   },
   {
    "duration": 84,
    "start_time": "2023-10-23T09:13:58.020Z"
   },
   {
    "duration": 133,
    "start_time": "2023-10-23T09:13:58.108Z"
   },
   {
    "duration": 49,
    "start_time": "2023-10-24T04:57:51.706Z"
   },
   {
    "duration": 1591,
    "start_time": "2023-10-24T04:58:01.181Z"
   },
   {
    "duration": 81,
    "start_time": "2023-10-24T04:58:02.774Z"
   },
   {
    "duration": 13,
    "start_time": "2023-10-24T04:58:02.856Z"
   },
   {
    "duration": 23,
    "start_time": "2023-10-24T04:58:02.871Z"
   },
   {
    "duration": 22,
    "start_time": "2023-10-24T04:58:02.896Z"
   },
   {
    "duration": 25,
    "start_time": "2023-10-24T04:58:02.919Z"
   },
   {
    "duration": 5,
    "start_time": "2023-10-24T04:58:02.946Z"
   },
   {
    "duration": 11,
    "start_time": "2023-10-24T04:58:02.952Z"
   },
   {
    "duration": 5,
    "start_time": "2023-10-24T04:58:02.965Z"
   },
   {
    "duration": 2,
    "start_time": "2023-10-24T04:58:02.972Z"
   },
   {
    "duration": 3,
    "start_time": "2023-10-24T04:58:02.976Z"
   },
   {
    "duration": 207,
    "start_time": "2023-10-24T04:58:02.980Z"
   },
   {
    "duration": 162,
    "start_time": "2023-10-24T04:58:03.189Z"
   },
   {
    "duration": 1098,
    "start_time": "2023-10-24T04:58:03.352Z"
   },
   {
    "duration": 3,
    "start_time": "2023-10-24T04:58:04.451Z"
   },
   {
    "duration": 3,
    "start_time": "2023-10-24T04:58:04.456Z"
   },
   {
    "duration": 4,
    "start_time": "2023-10-24T04:58:04.461Z"
   },
   {
    "duration": 3,
    "start_time": "2023-10-24T04:58:04.467Z"
   },
   {
    "duration": 3,
    "start_time": "2023-10-24T04:58:04.472Z"
   },
   {
    "duration": 6,
    "start_time": "2023-10-24T04:58:04.477Z"
   },
   {
    "duration": 4,
    "start_time": "2023-10-24T04:58:04.484Z"
   },
   {
    "duration": 3,
    "start_time": "2023-10-24T04:58:04.490Z"
   },
   {
    "duration": 53,
    "start_time": "2023-10-24T04:58:04.494Z"
   },
   {
    "duration": 8,
    "start_time": "2023-10-24T04:58:04.549Z"
   },
   {
    "duration": 20,
    "start_time": "2023-10-24T04:58:04.558Z"
   },
   {
    "duration": 8,
    "start_time": "2023-10-24T04:58:04.579Z"
   },
   {
    "duration": 10,
    "start_time": "2023-10-24T04:58:04.588Z"
   },
   {
    "duration": 3,
    "start_time": "2023-10-24T04:58:04.681Z"
   },
   {
    "duration": 24,
    "start_time": "2023-10-24T04:58:04.686Z"
   },
   {
    "duration": 12,
    "start_time": "2023-10-24T04:58:04.712Z"
   },
   {
    "duration": 25,
    "start_time": "2023-10-24T04:58:04.726Z"
   },
   {
    "duration": 7,
    "start_time": "2023-10-24T04:58:04.753Z"
   },
   {
    "duration": 18,
    "start_time": "2023-10-24T04:58:04.762Z"
   },
   {
    "duration": 29,
    "start_time": "2023-10-24T04:58:04.781Z"
   },
   {
    "duration": 9,
    "start_time": "2023-10-24T04:58:04.812Z"
   },
   {
    "duration": 6,
    "start_time": "2023-10-24T04:58:04.823Z"
   },
   {
    "duration": 17,
    "start_time": "2023-10-24T04:58:04.831Z"
   },
   {
    "duration": 5,
    "start_time": "2023-10-24T04:58:04.850Z"
   },
   {
    "duration": 47,
    "start_time": "2023-10-24T04:58:04.857Z"
   },
   {
    "duration": 4,
    "start_time": "2023-10-24T04:58:04.906Z"
   },
   {
    "duration": 20,
    "start_time": "2023-10-24T04:58:04.912Z"
   },
   {
    "duration": 23,
    "start_time": "2023-10-24T04:58:04.933Z"
   },
   {
    "duration": 12,
    "start_time": "2023-10-24T04:58:04.957Z"
   },
   {
    "duration": 21,
    "start_time": "2023-10-24T04:58:04.970Z"
   },
   {
    "duration": 11,
    "start_time": "2023-10-24T04:58:04.992Z"
   },
   {
    "duration": 4,
    "start_time": "2023-10-24T04:58:05.004Z"
   },
   {
    "duration": 23,
    "start_time": "2023-10-24T04:58:05.010Z"
   },
   {
    "duration": 131,
    "start_time": "2023-10-24T04:58:05.034Z"
   },
   {
    "duration": 4,
    "start_time": "2023-10-24T04:58:05.166Z"
   },
   {
    "duration": 21,
    "start_time": "2023-10-24T04:58:05.172Z"
   },
   {
    "duration": 113,
    "start_time": "2023-10-24T04:58:05.194Z"
   },
   {
    "duration": 6,
    "start_time": "2023-10-24T04:58:05.308Z"
   },
   {
    "duration": 31,
    "start_time": "2023-10-24T04:58:05.315Z"
   },
   {
    "duration": 101,
    "start_time": "2023-10-24T04:58:05.347Z"
   },
   {
    "duration": 11,
    "start_time": "2023-10-24T04:58:05.450Z"
   },
   {
    "duration": 2181,
    "start_time": "2023-10-24T04:58:05.462Z"
   },
   {
    "duration": 151,
    "start_time": "2023-10-24T04:58:07.645Z"
   },
   {
    "duration": 4,
    "start_time": "2023-10-24T04:58:07.798Z"
   },
   {
    "duration": 39,
    "start_time": "2023-10-24T04:58:07.803Z"
   },
   {
    "duration": 229456,
    "start_time": "2023-10-24T04:58:07.844Z"
   },
   {
    "duration": 159,
    "start_time": "2023-10-24T05:01:57.302Z"
   },
   {
    "duration": 47,
    "start_time": "2023-10-24T05:01:57.463Z"
   },
   {
    "duration": 41,
    "start_time": "2023-10-24T05:01:57.511Z"
   },
   {
    "duration": 219739,
    "start_time": "2023-10-24T05:01:57.554Z"
   },
   {
    "duration": 63,
    "start_time": "2023-10-24T05:05:37.295Z"
   },
   {
    "duration": 21,
    "start_time": "2023-10-24T05:05:37.361Z"
   },
   {
    "duration": 304523,
    "start_time": "2023-10-24T05:05:37.383Z"
   },
   {
    "duration": 63,
    "start_time": "2023-10-24T05:10:41.907Z"
   },
   {
    "duration": 14,
    "start_time": "2023-10-24T05:10:41.971Z"
   },
   {
    "duration": 120316,
    "start_time": "2023-10-24T05:10:41.986Z"
   },
   {
    "duration": 42,
    "start_time": "2023-10-24T05:12:42.304Z"
   },
   {
    "duration": 719,
    "start_time": "2023-10-24T05:12:42.348Z"
   },
   {
    "duration": 41,
    "start_time": "2023-10-24T05:12:43.068Z"
   },
   {
    "duration": 120,
    "start_time": "2023-10-24T05:12:43.110Z"
   }
  ],
  "kernelspec": {
   "display_name": "Python 3 (ipykernel)",
   "language": "python",
   "name": "python3"
  },
  "language_info": {
   "codemirror_mode": {
    "name": "ipython",
    "version": 3
   },
   "file_extension": ".py",
   "mimetype": "text/x-python",
   "name": "python",
   "nbconvert_exporter": "python",
   "pygments_lexer": "ipython3",
   "version": "3.9.5"
  },
  "toc": {
   "base_numbering": 1,
   "nav_menu": {},
   "number_sections": true,
   "sideBar": true,
   "skip_h1_title": true,
   "title_cell": "Содержание",
   "title_sidebar": "Contents",
   "toc_cell": true,
   "toc_position": {
    "height": "calc(100% - 180px)",
    "left": "10px",
    "top": "150px",
    "width": "284.8px"
   },
   "toc_section_display": true,
   "toc_window_display": false
  }
 },
 "nbformat": 4,
 "nbformat_minor": 2
}
