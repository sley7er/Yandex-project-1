{
 "cells": [
  {
   "cell_type": "markdown",
   "metadata": {},
   "source": [
    "# Прогнозирование оттока клиентов в сети отелей «Как в гостях»"
   ]
  },
  {
   "cell_type": "markdown",
   "metadata": {},
   "source": [
    "Перед нами проект, в котором мы должны проанализировать данные и предсказать долю отказов бронирования непослушных клиентов, чтобы минимизировать убытки отельного бизнеса и непосредственно повысить качество его работы. Столбцов много, данных много, задач много, но все решается, главное постепенно переходить к каждой задачи и внимательно расписывать, согласно условиям."
   ]
  },
  {
   "cell_type": "markdown",
   "metadata": {},
   "source": [
    "### Откройте файлы с данными"
   ]
  },
  {
   "cell_type": "markdown",
   "metadata": {},
   "source": [
    "<div class=\"alert alert-block alert-info\">\n",
    "<b></b> Импортируем основные библиотеки и установим недостоющие\n",
    "</div>"
   ]
  },
  {
   "cell_type": "code",
   "execution_count": 1,
   "metadata": {},
   "outputs": [
    {
     "ename": "ModuleNotFoundError",
     "evalue": "No module named 'ydata_profiling'",
     "output_type": "error",
     "traceback": [
      "\u001b[1;31m---------------------------------------------------------------------------\u001b[0m",
      "\u001b[1;31mModuleNotFoundError\u001b[0m                       Traceback (most recent call last)",
      "\u001b[1;32m~\\AppData\\Local\\Temp\\ipykernel_10980\\1299559036.py\u001b[0m in \u001b[0;36m<module>\u001b[1;34m\u001b[0m\n\u001b[0;32m      2\u001b[0m \u001b[1;32mimport\u001b[0m \u001b[0mnumpy\u001b[0m \u001b[1;32mas\u001b[0m \u001b[0mnp\u001b[0m\u001b[1;33m\u001b[0m\u001b[1;33m\u001b[0m\u001b[0m\n\u001b[0;32m      3\u001b[0m \u001b[1;32mimport\u001b[0m \u001b[0mpandas\u001b[0m \u001b[1;32mas\u001b[0m \u001b[0mpd\u001b[0m\u001b[1;33m\u001b[0m\u001b[1;33m\u001b[0m\u001b[0m\n\u001b[1;32m----> 4\u001b[1;33m \u001b[1;32mfrom\u001b[0m \u001b[0mydata_profiling\u001b[0m \u001b[1;32mimport\u001b[0m \u001b[0mProfileReport\u001b[0m\u001b[1;33m\u001b[0m\u001b[1;33m\u001b[0m\u001b[0m\n\u001b[0m\u001b[0;32m      5\u001b[0m \u001b[1;33m\u001b[0m\u001b[0m\n\u001b[0;32m      6\u001b[0m \u001b[1;31m# импорты из стандартной библиотеки\u001b[0m\u001b[1;33m\u001b[0m\u001b[1;33m\u001b[0m\u001b[0m\n",
      "\u001b[1;31mModuleNotFoundError\u001b[0m: No module named 'ydata_profiling'"
     ]
    }
   ],
   "source": [
    "# импорты сторонних библиотек\n",
    "import numpy as np\n",
    "import pandas as pd\n",
    "from ydata_profiling import ProfileReport\n",
    "\n",
    "# импорты из стандартной библиотеки\n",
    "import warnings\n",
    "\n",
    "\n",
    "# импорты модулей текущего проекта\n",
    "# длина строки до 78 символов\n",
    "from sklearn.compose import make_column_transformer\n",
    "from sklearn.model_selection import train_test_split\n",
    "from sklearn.ensemble import RandomForestClassifier\n",
    "from sklearn.linear_model import LogisticRegression\n",
    "from sklearn.tree import DecisionTreeClassifier\n",
    "from sklearn.ensemble import ExtraTreesClassifier\n",
    "from sklearn.metrics import accuracy_score\n",
    "from sklearn.dummy import DummyClassifier\n",
    "from sklearn.metrics import roc_auc_score\n",
    "from sklearn.metrics import roc_curve\n",
    "from sklearn.metrics import recall_score, precision_score\n",
    "from matplotlib import pylab as plt\n",
    "import matplotlib.pyplot as plt\n",
    "from sklearn.impute import KNNImputer\n",
    "from sklearn.metrics import f1_score\n",
    "from sklearn.model_selection import cross_val_score\n",
    "from sklearn.utils import shuffle\n",
    "import matplotlib.pyplot as plt\n",
    "import seaborn as sns\n",
    "from sklearn.preprocessing import (\n",
    "    OneHotEncoder,\n",
    "    OrdinalEncoder,\n",
    "    StandardScaler)\n",
    "from sklearn.model_selection import (\n",
    "    GridSearchCV,\n",
    "    RandomizedSearchCV,\n",
    "    train_test_split)\n",
    "\n",
    "# настройки\n",
    "pd.options.mode.chained_assignment = None\n",
    "warnings.filterwarnings(\"ignore\")\n",
    "\n",
    "# параметр для создания вседослучайностей\n",
    "state = 12345\n",
    "\n",
    "# бюджет на разработку системы прогнозирования\n",
    "BUDGET = 400_000\n",
    "\n",
    "# размер депозита (коэффициент от стоимости и затрат)\n",
    "DEPOSIT = 0.8\n",
    "\n",
    "# сезонные коэффициенты\n",
    "SPRING_LEVEL = 1.2\n",
    "SUMMER_LEVEL = 1.4\n",
    "STANDART_LEVEL = 1\n",
    "\n",
    "# стоимость номеров за ночь\n",
    "PRICE_A = 1_000\n",
    "PRICE_B = 800\n",
    "PRICE_C = 600\n",
    "PRICE_D = 550\n",
    "PRICE_E = 500\n",
    "PRICE_F = 450\n",
    "PRICE_G = 350\n",
    "\n",
    "# стоимость разового обслуживания\n",
    "SERVICE_A = 400\n",
    "SERVICE_B = 350\n",
    "SERVICE_C = 350\n",
    "SERVICE_D = 150\n",
    "SERVICE_E = 150\n",
    "SERVICE_F = 150\n",
    "SERVICE_G = 150"
   ]
  },
  {
   "cell_type": "code",
   "execution_count": null,
   "metadata": {
    "scrolled": true
   },
   "outputs": [],
   "source": [
    "!pip install -U imbalanced-learn"
   ]
  },
  {
   "cell_type": "code",
   "execution_count": 2,
   "metadata": {},
   "outputs": [],
   "source": [
    "from imblearn.pipeline import Pipeline\n",
    "from imblearn.pipeline import make_pipeline\n",
    "from imblearn.over_sampling import SMOTE\n",
    "from imblearn.under_sampling import NearMiss"
   ]
  },
  {
   "cell_type": "code",
   "execution_count": null,
   "metadata": {},
   "outputs": [],
   "source": [
    "# код ревьюера\n",
    "df_train = pd.read_csv('/datasets/hotel_train.csv') \n",
    "df_test = pd.read_csv('/datasets/hotel_test.csv') "
   ]
  },
  {
   "cell_type": "markdown",
   "metadata": {},
   "source": [
    "<div class=\"alert alert-warning\">\n",
    "<h2>Комментарий ревьюера v2<a class=\"tocSkip\"></a></h2>\n",
    "    \n",
    "**Есть совет** ⚠️: если ты работаешь локально, то тогда стоит переписать код таким образом, что бы он запускался и в Jupyter Hub, и локально без внесения дополнительных правок. Для этого можно использовать конструкцию <a href=\"https://pythonworld.ru/tipy-dannyx-v-python/isklyucheniya-v-python-konstrukciya-try-except-dlya-obrabotki-isklyuchenij.html\" target=\"blank_\">try-except</a> для путей файлов или применить библиотеку os:\n",
    "    \n",
    "    import os\n",
    "    \n",
    "    pth1_train = '/folder_1/data_train.csv'\n",
    "    pth1_test = '/folder_1/data_test.csv'\n",
    "    \n",
    "    pth2_train = '/folder_2/data_train.csv'\n",
    "    pth2_test = '/folder_2/data_test.csv'\n",
    "    \n",
    "    if os.path.exists(pth1_train) and os.path.exists(pth1_test):\n",
    "        df = pd.read_csv(pth1_train)\n",
    "        df_test = pd.read_csv(pth1_test)\n",
    "    elif os.path.exists(pth2_train) and os.path.exists(pth2_test):\n",
    "        df = pd.read_csv(pth2_train)\n",
    "        df_test = pd.read_csv(pth2_test)\n",
    "    else:\n",
    "        print('Something is wrong')\n",
    "\n",
    "В этот раз я поправил, чтобы допроверить проект, но в следующий раз будь внимательнее, это считается критичной ошибкой, проект должен целиком запускаться в окружении Практикума\n",
    "</div>"
   ]
  },
  {
   "cell_type": "code",
   "execution_count": null,
   "metadata": {},
   "outputs": [],
   "source": [
    "df_test_copy = df_test"
   ]
  },
  {
   "cell_type": "markdown",
   "metadata": {},
   "source": [
    "<div class=\"alert alert-block alert-info\">\n",
    "<b></b> Посмотрим на тренировочный и тестовый датасет.\n",
    "</div>"
   ]
  },
  {
   "cell_type": "code",
   "execution_count": null,
   "metadata": {},
   "outputs": [],
   "source": [
    "print('Тренировочная выборка')\n",
    "print(df_train.info())\n",
    "print()\n",
    "print('#######################')\n",
    "print()\n",
    "print('Тестовая выборка')\n",
    "print(df_test.info())"
   ]
  },
  {
   "cell_type": "code",
   "execution_count": null,
   "metadata": {
    "scrolled": true
   },
   "outputs": [],
   "source": [
    "print('Тренировочная выборка')\n",
    "print(df_train.describe())\n",
    "print()\n",
    "print('#######################')\n",
    "print()\n",
    "print('Тестовая выборка')\n",
    "print(df_test.describe())"
   ]
  },
  {
   "cell_type": "markdown",
   "metadata": {},
   "source": [
    "<div class=\"alert alert-block alert-info\">\n",
    "<b></b> Столбцов много, значений много, но мы не боимся и берёмся за первичный анализ.\n",
    "</div>"
   ]
  },
  {
   "cell_type": "markdown",
   "metadata": {},
   "source": [
    "<div class=\"alert alert-success\">\n",
    "<h2>Комментарий ревьюера<a class=\"tocSkip\"></a></h2>\n",
    "    \n",
    "**Отлично!** ✔️: данные на месте!</div>"
   ]
  },
  {
   "cell_type": "markdown",
   "metadata": {},
   "source": [
    "### Предобработка и исследовательский анализ данных"
   ]
  },
  {
   "cell_type": "markdown",
   "metadata": {},
   "source": [
    "<div class=\"alert alert-block alert-info\">\n",
    "<b></b> Сделаем важный шаг и посмотрим, что это за зверь ydata_profiling с методом ProfileReport.\n",
    "</div>"
   ]
  },
  {
   "cell_type": "code",
   "execution_count": null,
   "metadata": {},
   "outputs": [],
   "source": [
    "report = ProfileReport(df_train, title='My Data')\n",
    "report_test = ProfileReport(df_test, title='My Data Test')"
   ]
  },
  {
   "cell_type": "code",
   "execution_count": null,
   "metadata": {},
   "outputs": [],
   "source": [
    "report"
   ]
  },
  {
   "cell_type": "code",
   "execution_count": null,
   "metadata": {},
   "outputs": [],
   "source": [
    "report_test"
   ]
  },
  {
   "cell_type": "markdown",
   "metadata": {},
   "source": [
    "<div class=\"alert alert-block alert-info\">\n",
    "<b>Первичные мысли по отчёту ProfileReport</b> \n",
    "    \n",
    "1) Можно видеть, что в данных отсутствуют пропуски. А это хороший знак.\n",
    "1.1) Отсутствуют полностью дубликаты. Что говорит о высоком качестве данных (этот признак мы ещё проверим чуть дальше).\n",
    "\n",
    "2) В большинстве столбцов присутствует большой дизбаланс значений. В дальнейшем это может отразить на обучении модели. \n",
    "\n",
    "2.1) Целевой признак также несбалансирован, в дальнейшем будем использовать методы увеличения, уменьшения выборки или    балансировку класса.\n",
    "  \n",
    "3) Столец id сильно влияет на корреляцию некоторых столбцов. Его необходимо будем удалить.\n",
    "\n",
    "3.1) Столбец с указанием года нам не потребуется для обучения модели. Там присутствует только два значения (2015 и 2016 год)\n",
    "    и должного эффекта на обучение он не окажет, его можем удалить\n",
    "    \n",
    "4) Метод ProfileReport позволил оперативно определить список категориальных и количественных переменных. Создадим для них отдельные списки.\n",
    "  \n",
    "4) Хоть и метод ProfileReport даёт хорошую визуализацию для первичного анализа данных, некоторые столбцы рассматриваются вручную.\n",
    "</div>"
   ]
  },
  {
   "cell_type": "markdown",
   "metadata": {},
   "source": [
    "<div class=\"alert alert-success\">\n",
    "<h2>Комментарий ревьюера<a class=\"tocSkip\"></a></h2>\n",
    "    \n",
    "**Отлично!** ✔️: круто, что используешь профайлер, очень упрощает работу!</div>"
   ]
  },
  {
   "cell_type": "markdown",
   "metadata": {},
   "source": [
    "<div class=\"alert alert-block alert-info\">\n",
    "<b></b> Повторно продублируем корреляционную матрицу с некоторыми изменениями для большей наглядности.\n",
    "</div>"
   ]
  },
  {
   "cell_type": "code",
   "execution_count": null,
   "metadata": {},
   "outputs": [],
   "source": [
    "plt.figure(figsize=(20, 10))\n",
    "plt.title('Корреляция признаков для тренировочной выборки', weight = 'bold')\n",
    "cmap = sns.diverging_palette(230, 20, as_cmap=True)\n",
    "sns.heatmap(df_train.corr(method='spearman'), annot = True, cmap=cmap)\n",
    "plt.show()"
   ]
  },
  {
   "cell_type": "markdown",
   "metadata": {},
   "source": [
    "<div class=\"alert alert-block alert-info\">\n",
    "<b></b> На представленной корреляционной матрице для тренировочной выборки отчётливо видна хорошая сходимость некоторых признаков между собой,равняется  а именно:\n",
    "    \n",
    "- зависимость количества ночей в выходные дни (stays_in_weekend_nights) от общего количества ночей (total_nights), корреляция равняется 0.63;\n",
    "    \n",
    "- зависимость количества ночей в будние дни (stays_in_week_nights) от общего количества ночей (total_nights), корреляция равняется 0.87;\n",
    "    \n",
    "- зависимость количества дней между датой бронирования и датой прибытия (lead_time) от общего количества ночей (total_nights), корреляция равняется 0.43;\n",
    "    \n",
    "- зависимость количества дней между датой бронирования и датой прибытия (lead_time) от количества ночей в будние дни (stays_in_week_nights), корреляция равняется 0.38;\n",
    "</div>"
   ]
  },
  {
   "cell_type": "code",
   "execution_count": null,
   "metadata": {},
   "outputs": [],
   "source": [
    "plt.figure(figsize=(20, 10))\n",
    "plt.title('Корреляция признаков для копии тестовой выборки', weight = 'bold')\n",
    "cmap = sns.diverging_palette(230, 20, as_cmap=True)\n",
    "sns.heatmap(df_test_copy.corr(method='spearman'), annot = True, cmap=cmap)\n",
    "plt.show()"
   ]
  },
  {
   "cell_type": "markdown",
   "metadata": {},
   "source": [
    "<div class=\"alert alert-block alert-info\">\n",
    "<b></b> На представленной корреляционной матрице для копии тестовой выборки отчётливо видна хорошая сходимость некоторых признаков между собой,равняется  а именно:\n",
    "    \n",
    "- столбе год прибытия, arrival_date_year никак и ни с чем не коррелирует. Это происходит из-за того, что в тестовой выборки присутствуют данные только за 2017 год. Поэтому сделаем заключением о том, что данный столбец необходимо удалить из тренировочной и копии тестовой выборки, два значения не окажут сильного влияния на модель.\n",
    "    \n",
    "- зависимость количества ночей в выходные дни (stays_in_weekend_nights) от общего количества ночей (total_nights), корреляция равняется 0.61;\n",
    "    \n",
    "- зависимость количества ночей в будние дни (stays_in_week_nights) от общего количества ночей (total_nights), корреляция равняется 0.88;\n",
    "    \n",
    "- зависимость количества дней между датой бронирования и датой прибытия (lead_time) от общего количества ночей (total_nights), корреляция равняется 0.41;\n",
    "    \n",
    "- зависимость количества дней между датой бронирования и датой прибытия (lead_time) от количества ночей в будние дни (stays_in_week_nights), корреляция равняется 0.37;\n",
    "    \n",
    "Дополнительно можно выделить, что среднии значения корреляционных матриц примерно равны (что касается описанны выше параметров), это может говорить, что выборки относительно друг друга сбалансированы.\n",
    "</div>"
   ]
  },
  {
   "cell_type": "markdown",
   "metadata": {},
   "source": [
    "<div class=\"alert alert-success\">\n",
    "<h2>Комментарий ревьюера<a class=\"tocSkip\"></a></h2>\n",
    "    \n",
    "**Отлично!** ✔️: молодец, что изучаешь корреляцию признаков!</div>"
   ]
  },
  {
   "cell_type": "code",
   "execution_count": null,
   "metadata": {},
   "outputs": [],
   "source": [
    "df_train.drop(['arrival_date_year'], axis='columns', inplace=True)\n",
    "df_test_copy.drop(['arrival_date_year'], axis='columns', inplace=True)"
   ]
  },
  {
   "cell_type": "markdown",
   "metadata": {},
   "source": [
    "<div class=\"alert alert-block alert-info\">\n",
    "<b></b> Создадим список для численных и категориальных признаков.\n",
    "</div>"
   ]
  },
  {
   "cell_type": "code",
   "execution_count": null,
   "metadata": {},
   "outputs": [],
   "source": [
    "num_features = [\n",
    "          'lead_time', 'stays_in_weekend_nights', \n",
    "          'stays_in_week_nights', 'total_of_special_requests', \n",
    "          'total_nights'\n",
    "         ]\n",
    "\n",
    "obj_features = [\n",
    "             'arrival_date_month', 'arrival_date_week_number', \n",
    "             'arrival_date_day_of_month', 'adults', 'children', \n",
    "            'babies', 'meal', 'country', 'distribution_channel', \n",
    "             'previous_cancellations', 'previous_bookings_not_canceled',\n",
    "            'reserved_room_type', 'booking_changes', \n",
    "             'days_in_waiting_list', 'customer_type', \n",
    "             'required_car_parking_spaces'\n",
    "            ]"
   ]
  },
  {
   "cell_type": "markdown",
   "metadata": {},
   "source": [
    "<div class=\"alert alert-block alert-info\">\n",
    "<b></b> Некоторые столбцы для категориальных переменных могут вызвать сомнения. Объясню, почему добавил такие сюда. К примеру столбцы с число взрослых, детей и малюток имеют небольшой разброс от 0 до 3-ёх четырёх значений. При таком небольшом количестве разброса данных, мы с уверенностью можем отнести их категориальным признакам.\n",
    "    \n",
    "Особенно интересен столбец с малюткам, метод ProfileReport позволил сразу увидеть, что все значения в данном столбце сосредоточены на 0. Можно подкорректировать остальные переменные где имеются малютки и привести их к значения 1, что значит присутствует малютка, а если 0, то малютки отсутствуют. Провернём это.\n",
    "</div>"
   ]
  },
  {
   "cell_type": "code",
   "execution_count": null,
   "metadata": {},
   "outputs": [],
   "source": [
    "df_train.loc[(df_train['babies'] > 1), 'babies'] = 1\n",
    "df_test_copy.loc[(df_test_copy['babies'] > 1), 'babies'] = 1"
   ]
  },
  {
   "cell_type": "code",
   "execution_count": null,
   "metadata": {},
   "outputs": [],
   "source": [
    "df_train['babies'].unique()"
   ]
  },
  {
   "cell_type": "markdown",
   "metadata": {},
   "source": [
    "<div class=\"alert alert-success\">\n",
    "<h2>Комментарий ревьюера<a class=\"tocSkip\"></a></h2>\n",
    "    \n",
    "**Отлично!** ✔️: верно, так признак будет более показательным, тогда его можно переименовать, например, в `has_babies`, чтобы обозначить его теперь уже бинарную природу</div>"
   ]
  },
  {
   "cell_type": "markdown",
   "metadata": {},
   "source": [
    "<div class=\"alert alert-block alert-info\">\n",
    "<b></b> У нас присутствуют также столбцы с числом взрослых и детей. Проверим теорию о том, что дети без родителей могут забронировать отели. Такое в жизни недопустимо, а вот в данных может бывать всякое.\n",
    "</div>"
   ]
  },
  {
   "cell_type": "code",
   "execution_count": null,
   "metadata": {},
   "outputs": [],
   "source": [
    "df_Fam = df_train[['adults', 'children', 'babies', 'customer_type']]\n",
    "df_Fam.query('adults==0')"
   ]
  },
  {
   "cell_type": "code",
   "execution_count": null,
   "metadata": {},
   "outputs": [],
   "source": [
    "df_Fam_test = df_test_copy[['adults', 'children', 'babies', 'customer_type']]\n",
    "df_Fam_test.query('adults==0')"
   ]
  },
  {
   "cell_type": "code",
   "execution_count": null,
   "metadata": {},
   "outputs": [],
   "source": [
    "df_train = df_train.loc[df_train['adults'] != 0]\n",
    "df_test_copy = df_test.loc[df_test['adults'] != 0]"
   ]
  },
  {
   "cell_type": "markdown",
   "metadata": {},
   "source": [
    "<div class=\"alert alert-block alert-info\">\n",
    "<b></b> Теория подтвердилась, такие значения присутствуют, их скоротечно удалим, чтоб такие данные не отразились на обучении дальнейшей модели.\n",
    "</div>"
   ]
  },
  {
   "cell_type": "markdown",
   "metadata": {},
   "source": [
    "<div class=\"alert alert-success\">\n",
    "<h2>Комментарий ревьюера<a class=\"tocSkip\"></a></h2>\n",
    "    \n",
    "**Отлично!** ✔️: все так, детям до 14 лет без взрослых сдать номер не могут, тогда все бронирования без взрослых постояльцев похожи на аномалии, которые лучше обработать</div>"
   ]
  },
  {
   "cell_type": "markdown",
   "metadata": {},
   "source": [
    "<div class=\"alert alert-block alert-info\">\n",
    "<b></b> Рассмотрим теперь столбец со списком стран, откуда едут клиенты. ProfileReport показал, что список стран невероятно большой, поэтому выделим самые часто встречающиеся, а остальные страны пометим как значение other. Это позволит модели быть чуть точнее и не распыляться на единичные значения. Такое мы уже сделали со столбцами малюток. В other добавим все страны, процент от общего числа которых меньше одной сотой.\n",
    "</div>"
   ]
  },
  {
   "cell_type": "code",
   "execution_count": null,
   "metadata": {},
   "outputs": [],
   "source": [
    "vc = df_train['country'].value_counts(normalize=True)\n",
    "df_train.loc[df_train['country'].isin(vc[vc < 0.01].index), 'country'] = 'other'\n",
    "\n",
    "vc_t = df_test_copy['country'].value_counts(normalize=True)\n",
    "df_test_copy.loc[df_test_copy['country'].isin(vc[vc < 0.01].index), 'country'] = 'other'"
   ]
  },
  {
   "cell_type": "code",
   "execution_count": null,
   "metadata": {},
   "outputs": [],
   "source": [
    "df_train['country'].unique()"
   ]
  },
  {
   "cell_type": "code",
   "execution_count": null,
   "metadata": {},
   "outputs": [],
   "source": [
    "df_test_copy['country'].unique()"
   ]
  },
  {
   "cell_type": "code",
   "execution_count": null,
   "metadata": {},
   "outputs": [],
   "source": [
    "df_test_copy['country'].value_counts()"
   ]
  },
  {
   "cell_type": "code",
   "execution_count": null,
   "metadata": {},
   "outputs": [],
   "source": [
    "values_c = ['CAF', 'GHA', 'GTM', 'LAO', 'SDN', 'TGO', 'UMI', 'SLE', 'ATF', 'NCL', 'ASM', 'KIR', 'NPL', 'MDG', 'FJI', 'MYT', 'BHS', 'MRT', 'FRO']\n",
    "df_test_copy = df_test_copy[df_test_copy.country.isin (values_c) == False ]\n"
   ]
  },
  {
   "cell_type": "code",
   "execution_count": null,
   "metadata": {},
   "outputs": [],
   "source": [
    "df_test_copy['country'].value_counts()"
   ]
  },
  {
   "cell_type": "markdown",
   "metadata": {},
   "source": [
    "<div class=\"alert alert-success\">\n",
    "<h2>Комментарий ревьюера<a class=\"tocSkip\"></a></h2>\n",
    "    \n",
    "**Отлично!** ✔️: с учетом того, что для большинства стран представлено нерепрезентативное количество бронирований, такое решение вполне подходит :)</div>"
   ]
  },
  {
   "cell_type": "markdown",
   "metadata": {},
   "source": [
    "<div class=\"alert alert-block alert-info\">\n",
    "<b></b> Удалим столбцы с id клиентов, для обучения модели они никак не понадобятся.\n",
    "</div>"
   ]
  },
  {
   "cell_type": "code",
   "execution_count": null,
   "metadata": {},
   "outputs": [],
   "source": [
    "df_train.drop(['id'], axis='columns', inplace=True)\n",
    "df_test_copy.drop(['id'], axis='columns', inplace=True)"
   ]
  },
  {
   "cell_type": "markdown",
   "metadata": {},
   "source": [
    "<div class=\"alert alert-block alert-info\">\n",
    "<b></b> После удаления столбца id лучше проверить ещё раз на наличие дубликатов, есть вероятность что они могли появиться (и когда просто пролистывал данные, я их заметил)\n",
    "</div>"
   ]
  },
  {
   "cell_type": "code",
   "execution_count": null,
   "metadata": {
    "scrolled": true
   },
   "outputs": [],
   "source": [
    "print(f'Число дубликатов в тренировочной выборке: {df_train.duplicated().sum()}')\n",
    "print(f'Число дубликатов в тестовой выборке: {df_test_copy.duplicated().sum()}')"
   ]
  },
  {
   "cell_type": "code",
   "execution_count": null,
   "metadata": {},
   "outputs": [],
   "source": [
    "df_train[df_train.duplicated(keep=False)]"
   ]
  },
  {
   "cell_type": "code",
   "execution_count": null,
   "metadata": {
    "scrolled": true
   },
   "outputs": [],
   "source": [
    "print(f'Число дубликатов в тренировочной выборке: {df_train.duplicated().sum()}')\n",
    "print(f'Число дубликатов в тренировочной выборке: {df_test_copy.duplicated().sum()}')"
   ]
  },
  {
   "cell_type": "markdown",
   "metadata": {},
   "source": [
    "<div class=\"alert alert-block alert-info\">\n",
    "<b></b> Видно, что количество дубликатов неимоверно большое, почти треть выборки это дубликаты. Чтож, на это могут быть различные причины: технические ошибки (в приложении, программе и т.д.), человеческий фактор(люди по ошибки могли дважды забронировать или наоборот групповое бронирование). Для дальнейшего обучения категорически нельзя использовать такую выборку, все дубликаты из тренировочной выборки необходимо немедленно очистить.\n",
    "</div>"
   ]
  },
  {
   "cell_type": "code",
   "execution_count": null,
   "metadata": {},
   "outputs": [],
   "source": [
    "df_train.drop_duplicates(inplace=True)\n",
    "df_test_copy.drop_duplicates(inplace=True)"
   ]
  },
  {
   "cell_type": "markdown",
   "metadata": {},
   "source": [
    "<div class=\"alert alert-success\">\n",
    "<h2>Комментарий ревьюера<a class=\"tocSkip\"></a></h2>\n",
    "    \n",
    "**Отлично!** ✔️: согласен, так как дубликаты могут привести к переобучению моделей и смещению метрик(особенно при использовании кросс-валидации), то правильнее их будет удалить</div>"
   ]
  },
  {
   "cell_type": "markdown",
   "metadata": {},
   "source": [
    "<div class=\"alert alert-block alert-info\">\n",
    "<b></b> Проверим значения по месяцам прибытия.\n",
    "</div>"
   ]
  },
  {
   "cell_type": "code",
   "execution_count": null,
   "metadata": {},
   "outputs": [],
   "source": [
    "plt.subplots(1, figsize=(7, 4))\n",
    "plt.title('Гистограмма распределения бронирования номеров по месяцам для тренировочной выборки')\n",
    "sns.histplot(data=df_train, x='arrival_date_month', bins=12, hue='is_canceled')\n",
    "plt.xticks(\n",
    "    rotation=45,\n",
    "    horizontalalignment='right',\n",
    "    fontweight='light',\n",
    "    fontsize='medium',\n",
    ")\n",
    "plt.show()\n",
    "\n",
    "plt.subplots(1, figsize=(7, 4))\n",
    "plt.title('Гистограмма распределения бронирования номеров по месяцам для тестовой выборки')\n",
    "sns.histplot(data=df_test_copy, x='arrival_date_month', bins=12, hue='is_canceled')\n",
    "plt.xticks(\n",
    "    rotation=45,\n",
    "    horizontalalignment='right',\n",
    "    fontweight='light',\n",
    "    fontsize='large',\n",
    ")\n",
    "plt.show()"
   ]
  },
  {
   "cell_type": "markdown",
   "metadata": {},
   "source": [
    "<div class=\"alert alert-block alert-info\">\n",
    "<b></b> \n",
    "1) Тренировочная выборка    \n",
    "\n",
    "Анализ показывает, большое количество бронирований приходится на октябрь, а наименьшее на январь и соответсвенно отмена бронирований тоже выпадает на эти месяца. Высокую отмену на январь можно объяснить праздничными днями и неопределённостью людей в плане выезда в определённый отель. Они могут всё поменять по несколько раз буквально в дни вылета и приезда в отель. Можно увидеть такую тенденцию, что к лету число бронирований уменьшается, к осени обратно растёт, к зиме снова резкое падение. Отмена бронирований имеет похожую зависимость, но не такую сильную. Повышенное число бронирований и отмен осенью, можно объяснить концом года, многие отправляют в командировки или по другим рабочим делам. А если это командиовка, бюджет на отель ограничен, многие могли забыть или не учесть этой информации, и затем потом отменяют бронирование.\n",
    "    \n",
    "2) Тестовая выборка \n",
    "\n",
    "На тестовой выборки немного другая картина. С января расчёт количество броней и доля отмен соответственно растёт. К маю достигается пик, а затем к августу всё  идёт на спад. Количество отмен уменьшается не так явно, как количество броней.\n",
    "\n",
    "</div>"
   ]
  },
  {
   "cell_type": "markdown",
   "metadata": {},
   "source": [
    "<div class=\"alert alert-block alert-info\">\n",
    "<b></b> Проверим значения по неделям прибытия.\n",
    "</div>"
   ]
  },
  {
   "cell_type": "code",
   "execution_count": null,
   "metadata": {},
   "outputs": [],
   "source": [
    "plt.subplots(1, figsize=(8, 4))\n",
    "plt.title('Гистограмма распределения бронирования номеров по неделям для тренировочной выборки')\n",
    "sns.histplot(data=df_train, x='arrival_date_week_number', bins=50, hue='is_canceled')\n",
    "plt.xticks(\n",
    "    rotation=0,\n",
    "    horizontalalignment='right',\n",
    "    fontweight='medium',\n",
    "    fontsize='medium',\n",
    ")\n",
    "plt.show()\n",
    "\n",
    "plt.subplots(1, figsize=(8, 4))\n",
    "plt.title('Гистограмма распределения бронирования номеров по неделям для тестовой выборки')\n",
    "sns.histplot(data=df_test_copy, x='arrival_date_week_number', bins=35, hue='is_canceled')\n",
    "plt.xticks(\n",
    "    rotation=0,\n",
    "    horizontalalignment='right',\n",
    "    fontweight='medium',\n",
    "    fontsize='medium',\n",
    ")\n",
    "plt.show()"
   ]
  },
  {
   "cell_type": "markdown",
   "metadata": {},
   "source": [
    "<div class=\"alert alert-block alert-info\">\n",
    "<b></b> \n",
    "1) Тренировочная выборка    \n",
    "\n",
    "На тренировочной выборке явно видно два пика, где-то в середине года и ближе к концу. В эти недели количество броней и их отмен достигает своего максимума.\n",
    "    \n",
    "2) Тестовая выборка \n",
    "\n",
    "На тестовой выборки картина более равномерная, отсутствуют как таковые пики на 'хороших' бронях и отменёных бронях.\n",
    "\n",
    "</div>"
   ]
  },
  {
   "cell_type": "markdown",
   "metadata": {},
   "source": [
    "<div class=\"alert alert-block alert-info\">\n",
    "<b></b> Проверим значения по дням прибытия.\n",
    "</div>"
   ]
  },
  {
   "cell_type": "code",
   "execution_count": null,
   "metadata": {},
   "outputs": [],
   "source": [
    "plt.subplots(1, figsize=(8, 5))\n",
    "plt.title('Гистограмма распределения бронирования номеров по дням для тренировочной выборки')\n",
    "sns.histplot(data=df_train, x='arrival_date_day_of_month', bins=31, hue='is_canceled')\n",
    "plt.xticks(\n",
    "    rotation=45,\n",
    "    horizontalalignment='right',\n",
    "    fontweight='medium',\n",
    "    fontsize='medium',\n",
    ")\n",
    "plt.show()\n",
    "\n",
    "plt.subplots(1, figsize=(8, 5))\n",
    "plt.title('Гистограмма распределения бронирования номеров по дням для тестовой выборки')\n",
    "sns.histplot(data=df_test_copy, x='arrival_date_day_of_month', bins=31, hue='is_canceled')\n",
    "plt.xticks(\n",
    "    rotation=45,\n",
    "    horizontalalignment='right',\n",
    "    fontweight='medium',\n",
    "    fontsize='medium',\n",
    ")\n",
    "plt.show()"
   ]
  },
  {
   "cell_type": "markdown",
   "metadata": {},
   "source": [
    "<div class=\"alert alert-block alert-info\">\n",
    "<b></b> \n",
    "1) Тренировочная выборка    \n",
    "\n",
    "Данные распределены нормально, отсутствуют аномалии.\n",
    "    \n",
    "2) Тестовая выборка \n",
    "\n",
    "Данные распределены нормально, отсутствуют аномалии.\n",
    "\n",
    "</div>"
   ]
  },
  {
   "cell_type": "markdown",
   "metadata": {},
   "source": [
    "<div class=\"alert alert-block alert-info\">\n",
    "<b></b> Рассмотрим ситуацию с клиентами, которые хоть раз до этого бронировали номера.\n",
    "</div>"
   ]
  },
  {
   "cell_type": "code",
   "execution_count": null,
   "metadata": {},
   "outputs": [],
   "source": [
    "sns.catplot(data=df_train, y='is_repeated_guest', hue='is_canceled', kind='count', height=5, aspect=2).set(title='Тренировочная выборка')\n",
    "plt.xlabel('Количество повторных бронирований', color='black')\n",
    "sns.catplot(data=df_test_copy, y='is_repeated_guest', hue='is_canceled', kind='count', height=5, aspect=2).set(title='Тестовая выборка')\n",
    "plt.xlabel('Количество повторных бронирований', color='black')\n",
    "plt.show()"
   ]
  },
  {
   "cell_type": "markdown",
   "metadata": {},
   "source": [
    "<div class=\"alert alert-block alert-info\">\n",
    "<b></b> Из выборки видно, что клиенты которые уже бронировали отель до этого, тоже могут отменять бронирование. Это видно как на тренировочной и тестовой выборке.\n",
    "</div>"
   ]
  },
  {
   "cell_type": "markdown",
   "metadata": {},
   "source": [
    "<div class=\"alert alert-success\">\n",
    "<h2>Комментарий ревьюера<a class=\"tocSkip\"></a></h2>\n",
    "    \n",
    "**Отлично!** ✔️: 👍</div>"
   ]
  },
  {
   "cell_type": "markdown",
   "metadata": {},
   "source": [
    "<div class=\"alert alert-block alert-info\">\n",
    "<b></b> Ознакомимся со значениям в столбце meal, reserved_room_type. Видно, что в некоторых из них присутствуют лишние пробелы, но ничего, мы поправим это.\n",
    "</div>"
   ]
  },
  {
   "cell_type": "code",
   "execution_count": null,
   "metadata": {},
   "outputs": [],
   "source": [
    "df_train['meal'].unique()"
   ]
  },
  {
   "cell_type": "code",
   "execution_count": null,
   "metadata": {},
   "outputs": [],
   "source": [
    "df_train['reserved_room_type'].unique()"
   ]
  },
  {
   "cell_type": "code",
   "execution_count": null,
   "metadata": {},
   "outputs": [],
   "source": [
    "df_train['customer_type'].unique() "
   ]
  },
  {
   "cell_type": "code",
   "execution_count": null,
   "metadata": {},
   "outputs": [],
   "source": [
    "df_train['distribution_channel'].unique() "
   ]
  },
  {
   "cell_type": "code",
   "execution_count": null,
   "metadata": {},
   "outputs": [],
   "source": [
    "df_train['meal'] = df_train['meal'].str.strip()\n",
    "df_test_copy['meal'] = df_test_copy['meal'].str.strip()\n",
    "\n",
    "df_train['reserved_room_type'] = df_train['reserved_room_type'].str.strip()\n",
    "df_test_copy['reserved_room_type'] = df_test_copy['reserved_room_type'].str.strip()"
   ]
  },
  {
   "cell_type": "markdown",
   "metadata": {},
   "source": [
    "<div class=\"alert alert-success\">\n",
    "<h2>Комментарий ревьюера<a class=\"tocSkip\"></a></h2>\n",
    "    \n",
    "**Отлично!** ✔️: хорошо, что заметил лишние пробелы!</div>"
   ]
  },
  {
   "cell_type": "markdown",
   "metadata": {},
   "source": [
    "<div class=\"alert alert-block alert-info\">\n",
    "<b></b> Как и со столбцом с малютками, провернём данную схему для ещё нескольких столбцов. В таких столбцах как: booking_changes, previous_booking_not_canceled, previous_cancellations, day_in_waiting_list, required_car_parking сильно преобладают нулевые значения, и кранйе малая доля отпадает другие значения. Преобразуем данные столбцы так, что 0 соответствует - отсутствием/ненадобностью, а 1 значит есть/имеется/нужно.\n",
    "</div>"
   ]
  },
  {
   "cell_type": "code",
   "execution_count": null,
   "metadata": {},
   "outputs": [],
   "source": [
    "df_train.loc[(df_train['booking_changes'] > 1), 'booking_changes'] = 1\n",
    "df_test_copy.loc[(df_test_copy['booking_changes'] > 1), 'booking_changes'] = 1\n",
    "\n",
    "df_train.loc[(df_train['previous_bookings_not_canceled'] > 1), \n",
    "             'previous_bookings_not_canceled'] = 1\n",
    "df_test_copy.loc[(df_test_copy['previous_bookings_not_canceled'] > 1), \n",
    "                 'previous_bookings_not_canceled'] = 1\n",
    "\n",
    "df_train.loc[(df_train['previous_cancellations'] > 1), \n",
    "             'previous_cancellations'] = 1\n",
    "df_test_copy.loc[(df_test_copy['previous_cancellations'] > 1), \n",
    "                 'previous_cancellations'] = 1\n",
    "\n",
    "df_train.loc[(df_train['days_in_waiting_list'] > 1), \n",
    "             'days_in_waiting_list'] = 1\n",
    "df_test_copy.loc[(df_test_copy['days_in_waiting_list'] > 1), \n",
    "                 'days_in_waiting_list'] = 1\n",
    "\n",
    "df_train.loc[(df_train['required_car_parking_spaces'] > 1), \n",
    "             'required_car_parking_spaces'] = 1\n",
    "df_test_copy.loc[(df_test_copy['required_car_parking_spaces'] > 1), \n",
    "                 'required_car_parking_spaces'] = 1"
   ]
  },
  {
   "cell_type": "code",
   "execution_count": null,
   "metadata": {},
   "outputs": [],
   "source": [
    "df_test_copy['required_car_parking_spaces'].unique()"
   ]
  },
  {
   "cell_type": "markdown",
   "metadata": {},
   "source": [
    "<div class=\"alert alert-block alert-info\">\n",
    "<b></b> Да, у нас всё получилось, остались только нули и единицы.\n",
    "</div>"
   ]
  },
  {
   "cell_type": "markdown",
   "metadata": {},
   "source": [
    "<div class=\"alert alert-success\">\n",
    "<h2>Комментарий ревьюера<a class=\"tocSkip\"></a></h2>\n",
    "    \n",
    "**Отлично!** ✔️: окей, лишний шум в данных будет ни к чему</div>"
   ]
  },
  {
   "cell_type": "markdown",
   "metadata": {},
   "source": [
    "<div class=\"alert alert-block alert-info\">\n",
    "<b></b> Построим диаграмму рассеивания для численных признаков.\n",
    "</div>"
   ]
  },
  {
   "cell_type": "code",
   "execution_count": null,
   "metadata": {},
   "outputs": [],
   "source": [
    "print(\"                                          ДИАГРАММА РАССЕИВАНИЯ\")\n",
    "pd.plotting.scatter_matrix(df_train[num_features], figsize=(13,13))\n",
    "plt.show()"
   ]
  },
  {
   "cell_type": "markdown",
   "metadata": {},
   "source": [
    "<div class=\"alert alert-block alert-info\">\n",
    "<b></b> В целом диаграмма рассеивания новой информации не принесла. Прослеживается явная корреляция между некоторыми признаками. Данный вывод я делал выше.\n",
    "</div>"
   ]
  },
  {
   "cell_type": "markdown",
   "metadata": {},
   "source": [
    "<div class=\"alert alert-block alert-info\">\n",
    "<b></b> Когда обработали столбцы, стоит проверить нашу выборку для категорий и численных значений, что всё впорядке.\n",
    "</div>"
   ]
  },
  {
   "cell_type": "code",
   "execution_count": null,
   "metadata": {},
   "outputs": [],
   "source": [
    "df_train[obj_features].sample(5)"
   ]
  },
  {
   "cell_type": "code",
   "execution_count": null,
   "metadata": {},
   "outputs": [],
   "source": [
    "df_train[num_features].sample(5)"
   ]
  },
  {
   "cell_type": "markdown",
   "metadata": {},
   "source": [
    "<div class=\"alert alert-block alert-info\">\n",
    "<b></b> Видно, что некоторые значения имеют тип данных float, приведём их всех к int.\n",
    "</div>"
   ]
  },
  {
   "cell_type": "code",
   "execution_count": null,
   "metadata": {},
   "outputs": [],
   "source": [
    "df_train['lead_time'] = df_train['lead_time'].astype('int64')\n",
    "df_test_copy['lead_time'] = df_test_copy['lead_time'].astype('int64')"
   ]
  },
  {
   "cell_type": "code",
   "execution_count": null,
   "metadata": {},
   "outputs": [],
   "source": [
    "df_train[['adults', 'children', 'babies']] = df_train[['adults', 'children', 'babies']].astype('int64')\n",
    "df_test_copy[['adults', 'children', 'babies']] = df_test_copy[['adults', 'children', 'babies']].astype('int64')"
   ]
  },
  {
   "cell_type": "markdown",
   "metadata": {},
   "source": [
    "<div class=\"alert alert-block alert-info\">\n",
    "<b>Вывод по второму разделу (предобработка и анализ данных)</b> \n",
    "\n",
    "Все ключевые комментарии оставлны в процессе обработки их.\n",
    "\n",
    "1) Проработы дубликаты, которые встретились в выборках.\n",
    "\n",
    "2) Определены категориальные и количественные признаки для дальнейшей работы.\n",
    "    \n",
    "3) Некоторые столбцы из списка численных значений приведены к категориальным значениям. Это сделано в связи с большим дизбалансом значений в столбце. Теперь в них присутствуют только 0 или 1. \n",
    "\n",
    "4) Удалены столбцы с годом заезда и с id пользователей, так как на обучение модели они никак не повлияют и важной информации для обучения не несут. В столбце с годом заезда вообще присутствует одно значение (тестовая выборка) и два значения (тренировочная выборка)\n",
    "    \n",
    "5) Подправлены лишние пробелы присутствующие в значениях в столбцах meal и reserved_room_type.\n",
    "</div>"
   ]
  },
  {
   "cell_type": "markdown",
   "metadata": {},
   "source": [
    "<div class=\"alert alert-success\">\n",
    "<h2>Комментарий ревьюера<a class=\"tocSkip\"></a></h2>\n",
    "    \n",
    "**Отлично!** ✔️: супер, можно переходить к расчету прибыли</div>"
   ]
  },
  {
   "cell_type": "markdown",
   "metadata": {},
   "source": [
    "### Вычислите бизнес метрику"
   ]
  },
  {
   "cell_type": "markdown",
   "metadata": {},
   "source": [
    "<div class=\"alert alert-block alert-info\">\n",
    "<b></b> В условии задачи от нас требовалось выполнить расчёты на тестовой выборки.\n",
    "</div>"
   ]
  },
  {
   "cell_type": "markdown",
   "metadata": {},
   "source": [
    "<div class=\"alert alert-block alert-info\">\n",
    "<b></b> Создадим функцию которая позволит на определить уровень сезонного коэффициента для выборки.\n",
    "</div>"
   ]
  },
  {
   "cell_type": "code",
   "execution_count": null,
   "metadata": {},
   "outputs": [],
   "source": [
    "def season_level(months):\n",
    "\n",
    "    season_level = months\n",
    "\n",
    "    # летний коэффициент\n",
    "    season_level.loc[(months == 'June') | (months == 'July') | (months == 'August')] = SUMMER_LEVEL \n",
    "\n",
    "    # осенний коэффициент\n",
    "    season_level.loc[(months == 'September') | (months == 'October') | (months == 'November') |\n",
    "                     (months == 'March') | (months == 'April') | (months == 'May')] = SPRING_LEVEL\n",
    "\n",
    "    # стандартный коэффициент\n",
    "    season_level.loc[(months == 'December') | (months == 'January') | (months == 'February') ] = STANDART_LEVEL\n",
    "\n",
    "    return season_level"
   ]
  },
  {
   "cell_type": "markdown",
   "metadata": {},
   "source": [
    "<div class=\"alert alert-danger\">\n",
    "<h2>Комментарий ревьюера<a class=\"tocSkip\"></a></h2>\n",
    "\n",
    "**Нужно доработать** ❌: согласно заданию, весной и осенью цены повышаются на 20%, а летом — на 40%. Перепроверь, что сезонные коэффициенты применяются корректно</div>"
   ]
  },
  {
   "cell_type": "markdown",
   "metadata": {},
   "source": [
    "<div class=\"alert alert-block alert-info\">\n",
    "<b>КОММЕНТАРИЙ СТУДЕНТА 1</b>\n",
    "\n",
    "Подправил. Увидел свою ошибку.\n",
    "</div>"
   ]
  },
  {
   "cell_type": "markdown",
   "metadata": {},
   "source": [
    "<div class=\"alert alert-success\">\n",
    "<h2>Комментарий ревьюера v2<a class=\"tocSkip\"></a></h2>\n",
    "    \n",
    "**Отлично!** ✔️: теперь с сезонными коэффициентами полный порядок :)</div>"
   ]
  },
  {
   "cell_type": "markdown",
   "metadata": {},
   "source": [
    "<div class=\"alert alert-block alert-info\">\n",
    "<b></b> Создадим функцию которая позволит на определить cтоимость номера от его класса и соответствующий уровень обслуживания для его.\n",
    "</div>"
   ]
  },
  {
   "cell_type": "code",
   "execution_count": null,
   "metadata": {},
   "outputs": [],
   "source": [
    "def price_(room_type):\n",
    "\n",
    "    prices = room_type\n",
    "\n",
    "    # укажем стоимость номера\n",
    "    prices.loc[room_type == 'A'] = PRICE_A\n",
    "    prices.loc[room_type == 'B'] = PRICE_B\n",
    "    prices.loc[room_type == 'C'] = PRICE_C\n",
    "    prices.loc[room_type == 'D'] = PRICE_D\n",
    "    prices.loc[room_type == 'E'] = PRICE_E\n",
    "    prices.loc[room_type == 'F'] = PRICE_F\n",
    "    prices.loc[room_type == 'G'] = PRICE_G\n",
    "\n",
    "    return prices"
   ]
  },
  {
   "cell_type": "code",
   "execution_count": null,
   "metadata": {},
   "outputs": [],
   "source": [
    "def service_(room_type):\n",
    "\n",
    "    services = room_type\n",
    "\n",
    "    # укажем стоимость разового обслуживания\n",
    "    services.loc[room_type == 'A'] = SERVICE_A\n",
    "    services.loc[room_type == 'B'] = SERVICE_B\n",
    "    services.loc[room_type == 'C'] = SERVICE_C\n",
    "    services.loc[room_type == 'D'] = SERVICE_D\n",
    "    services.loc[room_type == 'E'] = SERVICE_E\n",
    "    services.loc[room_type == 'F'] = SERVICE_F\n",
    "    services.loc[room_type == 'G'] = SERVICE_G\n",
    "\n",
    "    return services"
   ]
  },
  {
   "cell_type": "markdown",
   "metadata": {},
   "source": [
    "<div class=\"alert alert-block alert-info\">\n",
    "<b></b> Немного пришлось повозить с созданием копий, а то значения в функции переприсваивались. И я не сразу это понял. Функции service_ и price_ хотел объединить в одну, но где-то функция даёт сбой, и она присваивает только первые значения для стоимости номера для обох случаев. Поэтому пришлось разделить.\n",
    "</div>"
   ]
  },
  {
   "cell_type": "markdown",
   "metadata": {},
   "source": [
    "<div class=\"alert alert-warning\">\n",
    "<h2>Комментарий ревьюера<a class=\"tocSkip\"></a></h2>\n",
    "    \n",
    "**Есть совет** ⚠️: можно попробовать объединить их, например, так:\n",
    "    \n",
    "    def get_prices(row):\n",
    "        type = row['reserved_room_type']\n",
    "        if type == 'A':\n",
    "            row['price_room'] = PRICE_A\n",
    "            row['cleaning'] = SERVICE_A\n",
    "        elif type == 'B':\n",
    "            row['price_room'] = PRICE_B\n",
    "            row['cleaning'] = SERVICE_B\n",
    "        ...\n",
    "        return row\n",
    "    \n",
    "    df = df.apply(get_prices, axis=1)\n",
    "    \n",
    "Либо, вместо функций, можно использовать словари и метод <a href=\"https://pandas.pydata.org/docs/reference/api/pandas.Series.map.html\" target=\"blank_\">map</a>, например, так:\n",
    "    \n",
    "    prices = {\n",
    "        'A': [PRICE_A, SERVICE_A],\n",
    "        'B': [PRICE_B, SERVICE_B],\n",
    "        ...\n",
    "    }\n",
    "    \n",
    "    df['price_room'] = df['reserved_room_type'].map(lambda type: prices[type][0])\n",
    "    df['cleaning'] = df['reserved_room_type'].map(lambda type: prices[type][1])\n",
    "    \n",
    "Но твое решение тоже работает вполне оптимально :)</div>"
   ]
  },
  {
   "cell_type": "markdown",
   "metadata": {},
   "source": [
    "<div class=\"alert alert-block alert-info\">\n",
    "<b>КОММЕНТАРИЙ СТУДЕНТА 1</b>\n",
    "\n",
    "Благодарю, что подсказали пару дополнительных вариантов для реализации функции :)\n",
    "</div>"
   ]
  },
  {
   "cell_type": "markdown",
   "metadata": {},
   "source": [
    "<div class=\"alert alert-success\">\n",
    "<h2>Комментарий ревьюера v2<a class=\"tocSkip\"></a></h2>\n",
    "    \n",
    "**Отлично!** ✔️: 👍</div>"
   ]
  },
  {
   "cell_type": "code",
   "execution_count": null,
   "metadata": {},
   "outputs": [],
   "source": [
    "TEST = df_test_copy.copy()"
   ]
  },
  {
   "cell_type": "code",
   "execution_count": null,
   "metadata": {},
   "outputs": [],
   "source": [
    "TEST['season_lvl'] = season_level(df_test_copy.copy()['arrival_date_month'])"
   ]
  },
  {
   "cell_type": "code",
   "execution_count": null,
   "metadata": {},
   "outputs": [],
   "source": [
    "TEST['serv_for_room'] = service_(df_test_copy.copy()['reserved_room_type'])"
   ]
  },
  {
   "cell_type": "code",
   "execution_count": null,
   "metadata": {},
   "outputs": [],
   "source": [
    "TEST['price_for_room'] = price_(df_test_copy.copy()['reserved_room_type'])"
   ]
  },
  {
   "cell_type": "code",
   "execution_count": null,
   "metadata": {},
   "outputs": [],
   "source": [
    "profit = TEST.query('is_canceled == 0')\n",
    "lesion = TEST.query('is_canceled == 1')"
   ]
  },
  {
   "cell_type": "code",
   "execution_count": null,
   "metadata": {},
   "outputs": [],
   "source": [
    "profit_for_hotel = ((profit['total_nights'] * profit['season_lvl'] * profit['price_for_room']) - \n",
    " (profit['serv_for_room'] * (1 + profit['total_nights']//2))).sum()"
   ]
  },
  {
   "cell_type": "markdown",
   "metadata": {},
   "source": [
    "<div class=\"alert alert-danger\">\n",
    "<h2>Комментарий ревьюера<a class=\"tocSkip\"></a></h2>\n",
    "\n",
    "**Нужно доработать** ❌: здесь необходимо доразобраться с количеством уборок, по этому поводу в задании есть две фразы:\n",
    "- Если клиент снял номер надолго, то убираются каждые два дня.\n",
    "- Прибыль отеля — это разница между стоимостью номера за все ночи и затраты на обслуживание: как при подготовке номера, так и при проживании постояльца\n",
    "    \n",
    "А отсюда мы узнаем три факта:\n",
    "- в задании не указано, что значит «снял номер надолго», тогда здесь подразумевается любой срок от 2 ночей;\n",
    "- затраты на обслуживание в случае, когда клиент заселился, нужно вычитать из суммарной стоимости за номер — это у тебя реализовано;\n",
    "- есть еще одна обязательная уборка перед заселением клиента</div>"
   ]
  },
  {
   "cell_type": "markdown",
   "metadata": {},
   "source": [
    "<div class=\"alert alert-block alert-info\">\n",
    "<b>КОММЕНТАРИЙ СТУДЕНТА 1</b>\n",
    "\n",
    "Увидел свою ошибку. Пытался это реализовать через np.ceil (округление до потолка), но видимо не до конца учёл некоторые моменты. Благодарю что подсказали.\n",
    "</div>"
   ]
  },
  {
   "cell_type": "markdown",
   "metadata": {},
   "source": [
    "<div class=\"alert alert-success\">\n",
    "<h2>Комментарий ревьюера v2<a class=\"tocSkip\"></a></h2>\n",
    "    \n",
    "**Отлично!** ✔️: теперь формула для расчета прибыли до внедрения модели составлена верно!</div>"
   ]
  },
  {
   "cell_type": "markdown",
   "metadata": {},
   "source": [
    "<div class=\"alert alert-warning\">\n",
    "<h2>Комментарий ревьюера<a class=\"tocSkip\"></a></h2>\n",
    "    \n",
    "**Есть совет** ⚠️: тогда для того, чтобы рассчитать количество уборок для любого количества ночей можно использовать формулу `1 + total_nights // 2`. Получается следующее:\n",
    "    \n",
    "1 ночь, убираться будут только перед заселением 1 + 1 // 2 = 1\n",
    "    \n",
    "2 ночи, убираться будут днем после первой ночи и перед заселением, 1 + 2 // 2 = 2\n",
    "    \n",
    "3 ночи, убираться будут днем после первой ночи и перед заселением, 1 + 3 // 2 = 2\n",
    "    \n",
    "4 ночи, убираться будут днем после первой ночи, днём после третьей ночи и перед заселением, 1 + 4 // 2 = 3 и т.д.\n",
    "</div>"
   ]
  },
  {
   "cell_type": "code",
   "execution_count": null,
   "metadata": {},
   "outputs": [],
   "source": [
    "lesion_for_hotel = -(lesion['season_lvl'] * lesion['price_for_room'] + lesion['serv_for_room']).sum()"
   ]
  },
  {
   "cell_type": "code",
   "execution_count": null,
   "metadata": {},
   "outputs": [],
   "source": [
    "print(f'Прибыль отель по тестовой выборке составляет: {int(profit_for_hotel):,} (руб.)')\n",
    "print(f'Убыток отеля при отмени брони по тестовой выборке составляет: {int(lesion_for_hotel):,} (руб.)')\n",
    "print(f'Убыток от прибыли составляет: {round(((int(lesion_for_hotel) / int(profit_for_hotel)) * 100), 2)} % ')"
   ]
  },
  {
   "cell_type": "markdown",
   "metadata": {},
   "source": [
    "<div class=\"alert alert-block alert-info\">\n",
    "<b>Вывод по третьему разделу (расчёт бизнес метрики)</b> \n",
    "\n",
    "Видно, по тестовым данным, убыток от отмены номера составляет почти 10.5 млн.рублей, а в процентах это почти 25% от общей прибыли. Такие существенные убытки необходимо минизировать.\n",
    "</div>"
   ]
  },
  {
   "cell_type": "markdown",
   "metadata": {},
   "source": [
    "<div class=\"alert alert-success\">\n",
    "<h2>Комментарий ревьюера<a class=\"tocSkip\"></a></h2>\n",
    "    \n",
    "**Отлично!** ✔️: в остальном с формулой все окей :)</div>"
   ]
  },
  {
   "cell_type": "markdown",
   "metadata": {},
   "source": [
    "### Формулировка ML-задачи на основе бизнес-задачи"
   ]
  },
  {
   "cell_type": "markdown",
   "metadata": {},
   "source": [
    "<div class=\"alert alert-block alert-info\">\n",
    "<b></b> Получим необходимые нам выборки: целевую и остаточную.\n",
    "</div>"
   ]
  },
  {
   "cell_type": "code",
   "execution_count": null,
   "metadata": {},
   "outputs": [],
   "source": [
    "features_train = df_train.drop('is_canceled', axis=1)\n",
    "features_test = df_test_copy.drop('is_canceled', axis=1)\n",
    "\n",
    "target_train = df_train['is_canceled']\n",
    "target_test = df_test_copy['is_canceled']"
   ]
  },
  {
   "cell_type": "markdown",
   "metadata": {},
   "source": [
    "<div class=\"alert alert-block alert-info\">\n",
    "<b></b> Распишем функцию для увеличения выборки. Но для начала посмотрим, на сколько отличается выборка целевого признака, отношение 0 к 1.\n",
    "</div>"
   ]
  },
  {
   "cell_type": "code",
   "execution_count": null,
   "metadata": {
    "scrolled": true
   },
   "outputs": [],
   "source": [
    "target_train.value_counts()"
   ]
  },
  {
   "cell_type": "code",
   "execution_count": null,
   "metadata": {
    "scrolled": true
   },
   "outputs": [],
   "source": [
    "rat = len(target_train.loc[target_train==0])/len(target_train.loc[target_train==1])\n",
    "rat"
   ]
  },
  {
   "cell_type": "markdown",
   "metadata": {},
   "source": [
    "<div class=\"alert alert-block alert-info\">\n",
    "<b></b> Всё таки значение больше к трём, поэтому увеличим выборку в 3 раза. Установим значение repeat=3.\n",
    "</div>"
   ]
  },
  {
   "cell_type": "markdown",
   "metadata": {},
   "source": [
    "<div class=\"alert alert-block alert-info\">\n",
    "<b>КОММЕНТАРИЙ СТУДЕНТА 1</b>\n",
    "\n",
    "Up-Downsampling оставлю как пережиток прошлого и учитывать не буду.\n",
    "</div>"
   ]
  },
  {
   "cell_type": "code",
   "execution_count": null,
   "metadata": {},
   "outputs": [],
   "source": [
    "def upsample(features, target, repeat=3):\n",
    "    features_zeros=features[target==0]\n",
    "    features_ones=features[target==1]\n",
    "    target_zeros=target[target==0]\n",
    "    target_ones=target[target==1]\n",
    "    \n",
    "    features_upsampled=pd.concat([features_zeros]+[features_ones]*repeat)\n",
    "    target_upsampled=pd.concat([target_zeros]+[target_ones]*repeat)\n",
    "    features_upsampled, target_upsampled = shuffle(features_upsampled, target_upsampled, random_state=state)\n",
    "    \n",
    "    return features_upsampled, target_upsampled"
   ]
  },
  {
   "cell_type": "code",
   "execution_count": null,
   "metadata": {},
   "outputs": [],
   "source": [
    "features_upsampled, target_upsampled = upsample(features_train, target_train)"
   ]
  },
  {
   "cell_type": "markdown",
   "metadata": {},
   "source": [
    "<div class=\"alert alert-block alert-info\">\n",
    "<b></b> На гистограмме проверим, что у нас всё получилось и выборки сравнялись.\n",
    "</div>"
   ]
  },
  {
   "cell_type": "code",
   "execution_count": null,
   "metadata": {},
   "outputs": [],
   "source": [
    "target_upsampled.plot(kind ='hist', bins=2, figsize=(3,3))\n",
    "plt.title('Соотношение значений выборки после увелечения')\n",
    "plt.xlabel('Значения выборок')\n",
    "plt.ylabel('Частот значений')\n",
    "plt.show()"
   ]
  },
  {
   "cell_type": "markdown",
   "metadata": {},
   "source": [
    "<div class=\"alert alert-block alert-info\">\n",
    "<b></b> Распишем функции для уменьшения выборки. Раз в прошлой функции, мы увеличивали выборку в 3 раза, здесь нам надое её уменьшить в 3 раза, чтобы привести к равному диапазону. Установим значение frac=0.33.\n",
    "</div>"
   ]
  },
  {
   "cell_type": "code",
   "execution_count": null,
   "metadata": {},
   "outputs": [],
   "source": [
    "def downsample(features, target, fraction=0.33):\n",
    "    features_zeros = features[target == 0]\n",
    "    features_ones = features[target == 1]\n",
    "    target_zeros = target[target == 0]\n",
    "    target_ones = target[target == 1]\n",
    "\n",
    "    features_downsampled = pd.concat(\n",
    "        [features_zeros.sample(frac=fraction, random_state=12345)] + [features_ones])\n",
    "    target_downsampled = pd.concat(\n",
    "        [target_zeros.sample(frac=fraction, random_state=12345)] + [target_ones])\n",
    "    \n",
    "    features_downsampled, target_downsampled = shuffle(\n",
    "        features_downsampled, target_downsampled, random_state=12345)\n",
    "    \n",
    "    return features_downsampled, target_downsampled"
   ]
  },
  {
   "cell_type": "code",
   "execution_count": null,
   "metadata": {},
   "outputs": [],
   "source": [
    "features_downsampled, target_downsampled = downsample(features_train, target_train)"
   ]
  },
  {
   "cell_type": "code",
   "execution_count": null,
   "metadata": {},
   "outputs": [],
   "source": [
    "target_downsampled.plot(kind ='hist', bins=2, figsize=(3,3))\n",
    "plt.title('Соотношение значений выборки после уменьшения')\n",
    "plt.xlabel('Значения выборок')\n",
    "plt.ylabel('Частот значений')\n",
    "plt.show()"
   ]
  },
  {
   "cell_type": "markdown",
   "metadata": {},
   "source": [
    "<div class=\"alert alert-danger\">\n",
    "<h2>Комментарий ревьюера<a class=\"tocSkip\"></a></h2>\n",
    "\n",
    "**Нужно доработать** ❌: так как далее модели необходимо сравнивать по метрикам на кросс-валидации, то необходимо учесть, что на upsample/downsample выборках нельзя проводить кросс-валидацию:\n",
    "- так как upsample дублирует уже имеющиеся объекты, то при кросс-валидации в валидационные фолды могут попасть дубликаты, из-за чего модель почти гарантированно переобучится;\n",
    "- в случае downsample в фолдах окажутся более сбалансированные выборки, чем исходная, поэтому метрики окажутся завышенными;\n",
    "    \n",
    "<a href=\"https://kiwidamien.github.io/how-to-do-cross-validation-when-upsampling-data.html\" target=\"blank_\">Тут</a> можно почитать про это подробнее. Лучшей стратегией будет либо попробовать другие инструменты, как описано в статье, либо использовать другой способ борьбы с дисбалансом, либо реализовать собственную кросс-валидацию</div>"
   ]
  },
  {
   "cell_type": "markdown",
   "metadata": {},
   "source": [
    "<div class=\"alert alert-block alert-info\">\n",
    "<b>КОММЕНТАРИЙ СТУДЕНТА 1</b>\n",
    "\n",
    "Попробую методы которые указаны в статье. Благодарю за разъяснение.\n",
    "</div>"
   ]
  },
  {
   "cell_type": "markdown",
   "metadata": {},
   "source": [
    "<div class=\"alert alert-success\">\n",
    "<h2>Комментарий ревьюера v2<a class=\"tocSkip\"></a></h2>\n",
    "    \n",
    "**Отлично!** ✔️: 👍</div>"
   ]
  },
  {
   "cell_type": "markdown",
   "metadata": {},
   "source": [
    "<div class=\"alert alert-block alert-info\">\n",
    "<b></b> Для категориальнный признаков используем метод OHE,а для численных Scaler\n",
    "</div>"
   ]
  },
  {
   "cell_type": "code",
   "execution_count": null,
   "metadata": {},
   "outputs": [],
   "source": [
    "num_features = [\n",
    "          'lead_time', 'stays_in_weekend_nights', \n",
    "          'stays_in_week_nights', 'total_of_special_requests', \n",
    "          'total_nights'\n",
    "         ]\n",
    "\n",
    "obj_features = [\n",
    "             'arrival_date_month', 'arrival_date_week_number', \n",
    "             'arrival_date_day_of_month', 'adults', 'children', \n",
    "            'babies', 'meal', 'country', 'distribution_channel', \n",
    "             'previous_cancellations', 'previous_bookings_not_canceled',\n",
    "            'reserved_room_type', 'booking_changes', \n",
    "             'days_in_waiting_list', 'customer_type', \n",
    "             'required_car_parking_spaces'\n",
    "            ]"
   ]
  },
  {
   "cell_type": "code",
   "execution_count": null,
   "metadata": {},
   "outputs": [],
   "source": [
    "encoder_ohe = OneHotEncoder(drop='first', sparse = False)\n",
    "encoder_ohe.fit(features_train[obj_features])"
   ]
  },
  {
   "cell_type": "code",
   "execution_count": null,
   "metadata": {},
   "outputs": [],
   "source": [
    "features_train[\n",
    "    encoder_ohe.get_feature_names_out()\n",
    "] = encoder_ohe.transform(features_train[obj_features])\n",
    "features_train = features_train.drop(obj_features, axis=1)"
   ]
  },
  {
   "cell_type": "code",
   "execution_count": null,
   "metadata": {},
   "outputs": [],
   "source": [
    "features_test[\n",
    "    encoder_ohe.get_feature_names_out()\n",
    "] = encoder_ohe.transform(features_test[obj_features])\n",
    "features_test = features_test.drop(obj_features, axis=1)"
   ]
  },
  {
   "cell_type": "code",
   "execution_count": null,
   "metadata": {},
   "outputs": [],
   "source": [
    "scaler = StandardScaler()\n",
    "scaler.fit(features_train[num_features]) \n",
    "features_train[num_features] = scaler.transform(features_train[num_features])\n",
    "features_test[num_features] = scaler.transform(features_test[num_features])"
   ]
  },
  {
   "cell_type": "markdown",
   "metadata": {},
   "source": [
    "<div class=\"alert alert-block alert-info\">\n",
    "<b></b> Используем новые методы балансировки классов, такие как SMOTE и NearMiss.\n",
    "</div>"
   ]
  },
  {
   "cell_type": "code",
   "execution_count": null,
   "metadata": {},
   "outputs": [],
   "source": [
    "smt = SMOTE(random_state=state)\n",
    "features_train_smote, target_train_smote = smt.fit_resample(features_train, target_train)"
   ]
  },
  {
   "cell_type": "code",
   "execution_count": null,
   "metadata": {},
   "outputs": [],
   "source": [
    "nm = NearMiss()\n",
    "features_train_miss, target_train_miss = nm.fit_resample(features_train, target_train.ravel())"
   ]
  },
  {
   "cell_type": "markdown",
   "metadata": {},
   "source": [
    "<div class=\"alert alert-warning\">\n",
    "<h2>Комментарий ревьюера v2<a class=\"tocSkip\"></a></h2>\n",
    "    \n",
    "**Есть совет** ⚠️: такой подход уже больше подходит, но правильнее будет использовать оба метода внутри пайплайнов от imblearn, давай попробуем разобраться чуть подробнее. Суть кросс-валидации в следующем:\n",
    "- выборка несколько раз делится на обучающий и валидационный фолды;\n",
    "- после каждого деления модель обучается на обучающем фолде, а оценивается на валидационном;\n",
    "- итоговой оценкой модели будет служить среднее между получившимися метриками на валидационных фолдах;\n",
    "    \n",
    "То есть, если сначала устранить дисбаланс во всей обучающей выборке, а потом проводить кросс-валидацию, то во время кросс-валидации в валидационные фолды могут попасть те объекты, которые синтезировал SMOTE, что может привести к утечке данных. А по аналогии с downsample, NearMiss изменит баланс классов в исходной выборке, из-за чего соотношение классов в валидационных фолдах окажется более сбалансированным, что приведет к смещению метрик.\n",
    "    \n",
    "Для того, чтобы избежать этого, нужно убедиться, что SMOTE/NearMiss применяется только к обучающим фолдам внутри кросс-валидации. Как раз для этого используется пайплайн от imblearn, при его использовании алгоритм будет следующий:\n",
    "- выборка также несколько раз делится на обучающий и валидационный фолд;\n",
    "- после каждого деления к обучающему фолду применится SMOTE/NearMiss;\n",
    "- модель обучится на увеличенном/уменьшенном обучающем фолде и оценится на нетронутом валидационном;\n",
    "- принцип итоговой оценки не поменяется\n",
    "    \n",
    "Тогда для корректного устранения дисбаланса при проведении кросс-валидации можно либо использовать пайплайн от imblearn, либо методы, которые не меняют баланс классов в выборке(например, взвешивание классов или изменение порога классификации), либо провести кросс-валидацию вручную(пример был в тренажере в уроке `Машинное обучение в бизнесе — Сбор данных — Кросс-валидация в Python`) и устранить дисбаланс только в обучающем фолде\n",
    "</div>"
   ]
  },
  {
   "cell_type": "markdown",
   "metadata": {},
   "source": [
    "<div class=\"alert alert-block alert-info\">\n",
    "<b></b> Проверим, что у нас прошла обрабокта категориальных и численных признаков.\n",
    "</div>"
   ]
  },
  {
   "cell_type": "markdown",
   "metadata": {},
   "source": [
    "<div class=\"alert alert-success\">\n",
    "<h2>Комментарий ревьюера<a class=\"tocSkip\"></a></h2>\n",
    "    \n",
    "**Отлично!** ✔️: здорово, что для OHE используешь именно OneHotEncoder!</div>"
   ]
  },
  {
   "cell_type": "markdown",
   "metadata": {},
   "source": [
    "<div class=\"alert alert-warning\">\n",
    "<h2>Комментарий ревьюера<a class=\"tocSkip\"></a></h2>\n",
    "    \n",
    "**Есть совет** ⚠️: вообще для «деревянных» моделей лучше использовать порядковое кодирование, так как они заметно быстрее обучаются на меньшем количестве признаков и не теряют в качестве, есть <a href=\"https://medium.com/data-design/visiting-categorical-features-and-encoding-in-decision-trees-53400fa65931\" target=\"blank_\">шикарная статья</a> на эту тему. Но для линейных моделей(в том числе логистической регрессии) порядковое кодирование не подходит, потому что задает приоритет признакам, которого в природе данных нет. Тогда, например, значение 10^2 в признаке X для них будет важнее, чем значение 10^1, а это далеко не всегда верное утверждение. Поэтому для них лучше использовать OHE.\n",
    "    \n",
    "Также для «деревянных» моделей масштабирование совсем не обязательно, <a href=\"https://towardsdatascience.com/how-data-normalization-affects-your-random-forest-algorithm-fbc6753b4ddf\" target=\"blank_\">тут</a> можно почитать про это подробнее. Но для линейных моделей наоборот, может заметно улучшить метрики\n",
    "    \n",
    "Тогда у тебя получится разная предобработка для разных моделей, это вполне нормально, тут могут помочь пайплайны, они особенно полезны как раз в подобных случаях\n",
    "    \n",
    "Подробнее про пайплайны:\n",
    "* https://scikit-learn.org/stable/modules/generated/sklearn.pipeline.Pipeline.html\n",
    "* https://scikit-learn.org/stable/modules/compose.html\n",
    "* https://towardsdatascience.com/how-to-use-sklearn-pipelines-for-ridiculously-neat-code-a61ab66ca90d</div>"
   ]
  },
  {
   "cell_type": "markdown",
   "metadata": {},
   "source": [
    "<div class=\"alert alert-block alert-info\">\n",
    "<b>КОММЕНТАРИЙ СТУДЕНТА 1</b>\n",
    "\n",
    "Ознакомплюсь с данным материалом уже после выполнения проекта. Очень интересно будет почитать и чуть больше углубиться.\n",
    "</div>"
   ]
  },
  {
   "cell_type": "markdown",
   "metadata": {},
   "source": [
    "<div class=\"alert alert-success\">\n",
    "<h2>Комментарий ревьюера v2<a class=\"tocSkip\"></a></h2>\n",
    "    \n",
    "**Отлично!** ✔️: 👍</div>"
   ]
  },
  {
   "cell_type": "markdown",
   "metadata": {},
   "source": [
    "### Разработка модели ML"
   ]
  },
  {
   "cell_type": "markdown",
   "metadata": {},
   "source": [
    "<div class=\"alert alert-block alert-info\">\n",
    "<b></b> Для обучения модели разделим тренировочную выборку на тренирвочную (меньшей доли) и валидационную. \n",
    "    \n",
    "P.S. Возможно это лишние движения, которые только перегружают код, но если так то попрошу поправить меня :)\n",
    "</div>"
   ]
  },
  {
   "cell_type": "code",
   "execution_count": null,
   "metadata": {},
   "outputs": [],
   "source": [
    "#features_train, features_valid, target_train, target_valid = train_test_split(features_train, target_train, test_size=0.25, \n",
    "                                                                                #random_state=state\n",
    "                                                                               #)"
   ]
  },
  {
   "cell_type": "markdown",
   "metadata": {},
   "source": [
    "<div class=\"alert alert-warning\">\n",
    "<h2>Комментарий ревьюера<a class=\"tocSkip\"></a></h2>\n",
    "    \n",
    "**Есть совет** ⚠️: в этом проекте можно отказаться от выделения валидационной выборки: так как сравнивать модели необходимо по метрикам на кросс-валидации, тогда подбирать гиперпараметры также можно на кросс-валидации, так метрики будут более показательны, а риск переобучения ниже</div>"
   ]
  },
  {
   "cell_type": "markdown",
   "metadata": {},
   "source": [
    "<div class=\"alert alert-block alert-info\">\n",
    "<b>КОММЕНТАРИЙ СТУДЕНТА 1</b>\n",
    "\n",
    "Хорошо, отказываюсь от выделения выборки на валидационную и тренировочную. Буду пробовать.\n",
    "Правильно понимаю, что в данном примере кода:\n",
    "- model.fit(features_train, target_train)\n",
    "- predicted_valid = model.predict(features_valid)\n",
    "\n",
    "В строке features_valid мы вставляем заместо его features_train? Т.е она на себе обучается и на себе же даёт предсказания? Я правильно понял или нет?\n",
    "</div>"
   ]
  },
  {
   "cell_type": "markdown",
   "metadata": {},
   "source": [
    "<div class=\"alert alert-warning\">\n",
    "<h2>Комментарий ревьюера v2<a class=\"tocSkip\"></a></h2>\n",
    "    \n",
    "**Есть совет** ⚠️: не совсем, при таком подходе метрики будут не очень показательны, ведь модель уже видела эти объекты на этапе обучения. Поэтому, если отказаться от выделения отдельной валидационной выборке, то модели необходимо сравнивать по метрикам на кросс-валидации. А обучать модель и получать предсказания в таком случае не обязательно, cross_val_score сделает всек самостоятельно, например:\n",
    "\n",
    "    RANDOM_STATE = 12345\n",
    "    best_f1 = 0\n",
    "    best_RFC = None\n",
    "    \n",
    "    for est in range(10, 250, 10):\n",
    "        for depth in range (1, 16, 1):\n",
    "            model_RFC = RandomForestClassifier(n_estimators=est, max_depth=depth, random_state=RANDOM_STATE)\n",
    "            f1 = cross_val_score(model_RFC, features_train, target_train, cv=5, scoring='f1').mean()\n",
    "            if f1 > best_f1:\n",
    "                best_f1 = f1\n",
    "                best_RFC = model_RFC\n",
    "    \n",
    "    print('Лучшая модель:', best_RFC)\n",
    "    print('F1-мера:', best_f1)\n",
    "    \n",
    "В таком случае переобучение здесь не грозит, так как модель несколько раз(в зависимости параметра cv) обучится на обучающих фолдах, а оценка будет проводитcя на валидационном фолде, который не участвовал в обучении\n",
    "\n",
    "</div>"
   ]
  },
  {
   "cell_type": "markdown",
   "metadata": {},
   "source": [
    "<div class=\"alert alert-block alert-info\">\n",
    "<b></b> Для оценки моделей будем использовать метркику F1 меру, так как она полноценно даёт оценить качество описанной модели. Также напишем функцию, которая будет обучать модели и выводить значения метрики.\n",
    "</div>"
   ]
  },
  {
   "cell_type": "markdown",
   "metadata": {},
   "source": [
    "<div class=\"alert alert-warning\">\n",
    "<h2>Комментарий ревьюера<a class=\"tocSkip\"></a></h2>\n",
    "    \n",
    "**Есть совет** ⚠️: не совсем понятно, что значит «дает полноценно оценить качество», здесь нужно твое пояснение\n",
    "\n",
    "Вообще выбор метрики всегда зависит от бизнес-задачи, и если ты считаешь, что именно F1-мера лучше других позволит минимизировать убытки от отмен бронирования, то нужно это аргументировать</div>"
   ]
  },
  {
   "cell_type": "markdown",
   "metadata": {},
   "source": [
    "<div class=\"alert alert-block alert-info\">\n",
    "<b>КОММЕНТАРИЙ СТУДЕНТА 1</b> \n",
    "    \n",
    "Для оценки моделей будем использовать метркику F1 меру, так как она полноценно даёт оценить качество описанной модели. Что я имею ввиду под полноценностью. Помимо F1 меры мы имеем такие метрики как полнота и точность. По отдельности полнота и точность не слишком информативны. Нужно одновременно повышать показатели обеих. \n",
    "Полнота и точность оценивают качество прогноза положительного класса с разных позиций. Recall описывает, как хорошо модель разобралась в особенностях этого класса и распознала его. Precision выявляет, не переусердствует ли модель, присваивая положительные метки.А F1 мера это среднее гармоническое полноты и точности. В данном случае для предсказания отказов, я предлагаю выбрать именно метрику F1. \n",
    "   \n",
    " Также напишем функцию, которая будет обучать модели и выводить значения метрики.\n",
    "</div>"
   ]
  },
  {
   "cell_type": "markdown",
   "metadata": {},
   "source": [
    "<div class=\"alert alert-warning\">\n",
    "<h2>Комментарий ревьюера v2<a class=\"tocSkip\"></a></h2>\n",
    "    \n",
    "**Есть совет** ⚠️: окей, принимается, но здесь есть нюанс:\n",
    "- метрика **precision** показывает, какая доля объектов, которую модель определила как положительные, действительно положительные. То есть, максимизируя метрику precision, мы пытаемся минимизировать количество **ложноположительных** ответов: клиентов, которые не собирались отменять бронирование, а модель решила, что они все-таки отменят.\n",
    "- метрика **recall** — это доля положительных объектов, которую нашла модель, из всех положительных объектов. Максимизируя recall мы хотим минимизировать количество **ложноотрицательных** ответов модели: клиентов, которые отменят бронирование, но модель решила, что они заселятся.\n",
    "    \n",
    "Как мы знаем, отель несет убытки только в случае отмены бронирования(то есть положительных объектов), значит, нам важно найти максимальное количество таких объектов. Тогда для нас важнее всего минимизировать количество ложноотрицательных ответов, чтобы отель мог взять депозит с наибольшего количества «отменяльщиков».\n",
    "    \n",
    "Ложноположительные ответы не так критичны, так как депозит просто пойдет в стоимость оплаты. Но тут может возникнуть другая проблема: депозит может отпугнуть клиентов на этапе бронрования, в том числе «надежных». Мы не знаем, какие именно издержки понесет отель в этом случае, тогда стоит попробовать компенсировать это не метрикой, а экспериментом. Для этого можно попробовать проверить такой сценарий, назовем его худшим: пусть половина случайных клиентов из тех, с кого модель предложит взять депозит(вне зависимости от факта отмены), откажутся от услуг. Если сможешь расчитать выручку в таком случае, будет очень наглядно, стоит ли внедрять модель\n",
    "    \n",
    "А вообще можно пойти еще дальше: раз основная задача модели — это максимизация прибыли, то почему бы не использовать прибыль в качестве метрики :) Но тогда ее нужно сделать метрикой, для этого можно создать свой scorer с помощью <a href=\"https://scikit-learn.org/stable/modules/generated/sklearn.metrics.make_scorer.html\" target=\"blank_\">make_scorer</a> и передавать его cross_val_score. Использование кастомных метрик выходит за рамки курса, поэтому это не обязательно, но если интересно, то можешь попробовать реализовать самостоятельно, будет здорово :)\n",
    "</div>"
   ]
  },
  {
   "cell_type": "code",
   "execution_count": null,
   "metadata": {},
   "outputs": [],
   "source": [
    "def train_and_predict(model,  features_train, target_train, features_valid):  \n",
    "    \n",
    "    model.fit(features_train, target_train)\n",
    "    predicted_valid = model.predict(features_valid)\n",
    "    scores = cross_val_score(model, features_train, target_train, cv=5, scoring='f1')\n",
    "    final_score = sum(scores) / len(scores) \n",
    "\n",
    "    return final_score"
   ]
  },
  {
   "cell_type": "markdown",
   "metadata": {},
   "source": [
    "<div class=\"alert alert-danger\">\n",
    "<h2>Комментарий ревьюера<a class=\"tocSkip\"></a></h2>\n",
    "\n",
    "**Нужно доработать** ❌: cross_val_score использует в качестве метрики ту, которая используется для метода score в самой модели. В случае выбранных тобой моделей — это accuracy_score. Так как основная метрика — не accuracy, то, чтобы задать необходимую метрику, можно передать ее в параметр scoring, подробнее про это можно почитать в <a href=\"https://scikit-learn.org/stable/modules/generated/sklearn.model_selection.cross_val_score.html\" target=\"blank_\">документации</a>, а список поддерживаемых метрик можно посмотреть <a href=\"https://scikit-learn.org/stable/modules/model_evaluation.html#scoring-parameter\" target=\"blank_\">здесь</a>\n",
    "</div>"
   ]
  },
  {
   "cell_type": "markdown",
   "metadata": {},
   "source": [
    "<div class=\"alert alert-success\">\n",
    "<h2>Комментарий ревьюера v2<a class=\"tocSkip\"></a></h2>\n",
    "    \n",
    "**Отлично!** ✔️: 👍</div>"
   ]
  },
  {
   "cell_type": "markdown",
   "metadata": {},
   "source": [
    "<div class=\"alert alert-block alert-info\">\n",
    "<b>Логистическая регрессия</b> \n",
    "</div>"
   ]
  },
  {
   "cell_type": "code",
   "execution_count": null,
   "metadata": {},
   "outputs": [],
   "source": [
    "%%time\n",
    "model = LogisticRegression(solver='liblinear', random_state=state)\n",
    "final_score = train_and_predict(model, features_train, target_train, features_train)\n",
    "print(f'Лучшее значение F1 после кросс-валидации: {final_score.round(4)}')"
   ]
  },
  {
   "cell_type": "code",
   "execution_count": null,
   "metadata": {},
   "outputs": [],
   "source": [
    "df_results = pd.DataFrame({'Модель': ['Logistic Regression. Нулевая'], 'Score F1 cross-valid': [final_score],\n",
    "                           'Время обучения (минуты)': [4.27/60], 'Гиперпараметры': [None]})\n"
   ]
  },
  {
   "cell_type": "code",
   "execution_count": null,
   "metadata": {},
   "outputs": [],
   "source": [
    "df_results"
   ]
  },
  {
   "cell_type": "markdown",
   "metadata": {},
   "source": [
    "<div class=\"alert alert-block alert-info\">\n",
    "<b>Случайный лес</b> \n",
    "</div>"
   ]
  },
  {
   "cell_type": "code",
   "execution_count": null,
   "metadata": {},
   "outputs": [],
   "source": [
    "%%time\n",
    "\n",
    "best_res = 0\n",
    "best_depth = 0\n",
    "best_est = 0\n",
    "best_scores = 0\n",
    "\n",
    "count_F1 = []\n",
    "count_depth = []\n",
    "count_est = []\n",
    "\n",
    "for est in range(10, 250, 10):\n",
    "    for depth in range (1, 16, 1):\n",
    "        model_RFC = RandomForestClassifier(n_estimators=est, max_depth=depth, random_state=state)\n",
    "        result, final_score = train_and_predict(model_RFC, features_train, target_train, features_train)\n",
    "        if result > best_res:\n",
    "            best_res = result\n",
    "            best_depth = depth\n",
    "            best_est = est\n",
    "            best_scores = final_score\n",
    "        count_F1.append(result)\n",
    "        count_depth.append(depth)\n",
    "        count_est.append(est)   \n",
    "\n",
    "result, final_score \n",
    "print(f'Лучшее значение F1-меры при кросс-валидации:{final_score}, оптимальная глубина:{best_depth}, оптимальное разветвление:{best_est}')\n"
   ]
  },
  {
   "cell_type": "code",
   "execution_count": null,
   "metadata": {},
   "outputs": [],
   "source": [
    "df_results.loc[len(df_results.index)] = ['Случайный лес. Нулевая',\n",
    "                                         0.44, 63, 'depth=15, est=50']"
   ]
  },
  {
   "cell_type": "markdown",
   "metadata": {},
   "source": [
    "<div class=\"alert alert-block alert-info\">\n",
    "<b>МЫСЛИ В СЛУХ</b> \n",
    "    \n",
    "Думаю, что немного перемудрил с выборками, так как прочёл, что при кросс-валидации нет необходимости изначально использовать split для получения выборок. И вопрос, на сколько адекватным будет расчёт F1 меры и средней оценки качества модели (через cross_val_score). Понимаю что разные метрики, но имею ввиду в моём варианте написания. Или можно былоб сначатьа пустить все модели через кросс-валидацию, найти тут, у которой лучше значение и уже к ней расчитать выбранную мной метрику?\n",
    "</div>"
   ]
  },
  {
   "cell_type": "markdown",
   "metadata": {},
   "source": [
    "<div class=\"alert alert-warning\">\n",
    "<h2>Комментарий ревьюера<a class=\"tocSkip\"></a></h2>\n",
    "    \n",
    "**Есть совет** ⚠️: cross_val_score — это не метрика, а удобный метод для проведения кросс-валидации, внутри которой может использоваться любая метрика. Поэтому, как я писал выше, здесь правильнее всего будет подбирать гиперпараметры и сравнивать модели на кросс-валидации, указав основную метрику в параметре scoring, а от валидационной выборки действительно можно отказаться</div>"
   ]
  },
  {
   "cell_type": "markdown",
   "metadata": {},
   "source": [
    "<div class=\"alert alert-block alert-info\">\n",
    "<b>КОММЕНТАРИЙ СТУДЕНТА 1</b>\n",
    "\n",
    "Понял разницу, теперь попробую реализовать правильно это на практике.\n",
    "</div>"
   ]
  },
  {
   "cell_type": "markdown",
   "metadata": {},
   "source": [
    "<div class=\"alert alert-success\">\n",
    "<h2>Комментарий ревьюера v2<a class=\"tocSkip\"></a></h2>\n",
    "    \n",
    "**Отлично!** ✔️: 👍</div>"
   ]
  },
  {
   "cell_type": "markdown",
   "metadata": {},
   "source": [
    "<div class=\"alert alert-block alert-info\">\n",
    "<b>Дерево решений</b> \n",
    "</div>"
   ]
  },
  {
   "cell_type": "code",
   "execution_count": null,
   "metadata": {},
   "outputs": [],
   "source": [
    "%%time\n",
    "\n",
    "best_res = 0\n",
    "best_depth = 0\n",
    "best_scores = 0\n",
    "\n",
    "for depth in range (1, 5, 1):\n",
    "        model_DTC = DecisionTreeClassifier(max_depth=depth, random_state=state)\n",
    "        final_score = train_and_predict(model_DTC, features_train, target_train, features_train)\n",
    "        if final_score > best_scores:\n",
    "            best_scores = final_score\n",
    "            best_depth = depth\n",
    "    \n",
    "            \n",
    "print(f'Лучшее значение F1-меры после кросс-валидации:{best_scores.round(4)}, оптимальная глубина:{best_depth}')"
   ]
  },
  {
   "cell_type": "markdown",
   "metadata": {},
   "source": [
    "<div class=\"alert alert-warning\">\n",
    "<h2>Комментарий ревьюера<a class=\"tocSkip\"></a></h2>\n",
    "    \n",
    "**Есть совет** ⚠️: для честного эксперимента стоит точнее настроить модели. Постарайся подобрать хотя бы по 2-3 разных гиперпараметра(помимо взвешивания классов) для **каждой** модели, выбранной тобой для исследования</div>"
   ]
  },
  {
   "cell_type": "markdown",
   "metadata": {},
   "source": [
    "<div class=\"alert alert-block alert-info\">\n",
    "<b>КОММЕНТАРИЙ СТУДЕНТА 1</b>\n",
    "\n",
    "Чуть больше углубился в пару других параметров по балансировке классов. Благодарю за наставление.\n",
    "</div>"
   ]
  },
  {
   "cell_type": "code",
   "execution_count": null,
   "metadata": {},
   "outputs": [],
   "source": [
    "df_results.loc[len(df_results.index)] = ['Дерево решений. Нулевая',\n",
    "                                         0.2042, 5.39/60, 'depth=4']"
   ]
  },
  {
   "cell_type": "code",
   "execution_count": null,
   "metadata": {},
   "outputs": [],
   "source": [
    "df_results"
   ]
  },
  {
   "cell_type": "markdown",
   "metadata": {},
   "source": [
    "<div class=\"alert alert-block alert-info\">\n",
    "<b>Промежуточный вывод по первичному обучению моделей</b> \n",
    "\n",
    "На удивление, без учёта балансировки классов и других методв увеличения или уменьшения выборки, модель логистической регрессии показала лучшие результаты (значение F1-меры 0.24)  за минимальное время обучения (4 секунды). В сравнении с моделью случайного леса (значение F1-меры 0.231) и временью обучения чуть больше одного часа, это прекрасный показатель.\n",
    "</div>"
   ]
  },
  {
   "cell_type": "markdown",
   "metadata": {},
   "source": [
    "#### Взвешивание классов"
   ]
  },
  {
   "cell_type": "markdown",
   "metadata": {},
   "source": [
    "<div class=\"alert alert-block alert-info\">\n",
    "<b>Логистическая регрессия</b> \n",
    "</div>"
   ]
  },
  {
   "cell_type": "code",
   "execution_count": null,
   "metadata": {},
   "outputs": [],
   "source": [
    "%%time\n",
    "model = LogisticRegression(solver='liblinear', random_state=state, class_weight='balanced')\n",
    "final_score = train_and_predict(model, features_train, target_train, features_train)\n",
    "print(f'Лучшее значение F1-меры после кросс-валидации: {final_score.round(4)}')"
   ]
  },
  {
   "cell_type": "code",
   "execution_count": null,
   "metadata": {},
   "outputs": [],
   "source": [
    "df_results.loc[len(df_results.index)] = ['Logistic Regression. Балансировка классов',\n",
    "                                         0.331, 4.67/60, None]"
   ]
  },
  {
   "cell_type": "markdown",
   "metadata": {},
   "source": [
    "<div class=\"alert alert-block alert-info\">\n",
    "<b>Случайный лес</b> \n",
    "</div>"
   ]
  },
  {
   "cell_type": "code",
   "execution_count": null,
   "metadata": {},
   "outputs": [],
   "source": [
    "%%time\n",
    "\n",
    "best_res = 0\n",
    "best_depth = 0\n",
    "best_est = 0\n",
    "best_scores = 0\n",
    "\n",
    "count_F1 = []\n",
    "count_depth = []\n",
    "count_est = []\n",
    "\n",
    "for est in range(10, 130, 30):\n",
    "    for depth in range (3, 8, 1):\n",
    "        model_RFC = RandomForestClassifier(n_estimators=est, max_depth=depth, random_state=state, class_weight='balanced')\n",
    "        final_score = train_and_predict(model_RFC, features_train, target_train, features_train)\n",
    "        if final_score > best_scores:\n",
    "            best_depth = depth\n",
    "            best_est = est\n",
    "            best_scores = final_score\n",
    "        count_depth.append(depth)\n",
    "        count_est.append(est)   \n",
    "\n",
    "final_score \n",
    "print(f'Лучшее значение F1-меры после кросс-валидации:{best_scores.round(4)}, оптимальная глубина:{best_depth}, оптимальное разветвление:{best_est}')"
   ]
  },
  {
   "cell_type": "code",
   "execution_count": null,
   "metadata": {},
   "outputs": [],
   "source": [
    "df_results.loc[len(df_results.index)] = ['Случайный лес. Балансировка классов',\n",
    "                                         0.4265, 64, 'depth=4, est=70']"
   ]
  },
  {
   "cell_type": "markdown",
   "metadata": {},
   "source": [
    "<div class=\"alert alert-block alert-info\">\n",
    "<b>Дерево решений</b> \n",
    "</div>"
   ]
  },
  {
   "cell_type": "code",
   "execution_count": null,
   "metadata": {},
   "outputs": [],
   "source": [
    "%%time\n",
    "\n",
    "best_res = 0\n",
    "best_depth = 0\n",
    "best_scores = 0\n",
    "\n",
    "for depth in range (1, 5, 1):\n",
    "        model_DTC = DecisionTreeClassifier(max_depth=depth, random_state=state, class_weight='balanced')\n",
    "        final_score = train_and_predict(model_DTC, features_train, target_train, features_train)\n",
    "        if final_score > best_scores:\n",
    "            best_depth = depth\n",
    "            best_scores = final_score\n",
    "    \n",
    "            \n",
    "print(f'Лучшее значение F1-меры после кросс-валидации:{best_scores.round(3)}, оптимальная глубина:{best_depth}')"
   ]
  },
  {
   "cell_type": "code",
   "execution_count": null,
   "metadata": {},
   "outputs": [],
   "source": [
    "df_results.loc[len(df_results.index)] = ['Дерево решений. Балансировка классов',\n",
    "                                         0.5, 5.95/60, 'depth=4']"
   ]
  },
  {
   "cell_type": "markdown",
   "metadata": {},
   "source": [
    "<div class=\"alert alert-block alert-info\">\n",
    "<b>Промежуточный вывод после использования метода балансировки классов</b> \n",
    "\n",
    "При сбалансированных классах, модель дерева решений показала лучшие результаты и значение F1 меры сосавило 0.5 при 5 секундах обучения. Лучшие параметры были достигнуты при глубине 5. \n",
    "Модель логистической регрессии (0.331) и случайного леса (0.426) показала более худшие результаты .\n",
    "</div>"
   ]
  },
  {
   "cell_type": "markdown",
   "metadata": {},
   "source": [
    "#### SMOTE"
   ]
  },
  {
   "cell_type": "markdown",
   "metadata": {},
   "source": [
    "<div class=\"alert alert-block alert-info\">\n",
    "<b>Логистическая регрессия</b> \n",
    "</div>"
   ]
  },
  {
   "cell_type": "code",
   "execution_count": null,
   "metadata": {},
   "outputs": [],
   "source": [
    "%%time\n",
    "model = LogisticRegression(solver='liblinear', random_state=state)\n",
    "final_score = train_and_predict(model, features_train_smote, target_train_smote, features_train_smote)\n",
    "print(f'Лучшее значение F1-меры после кросс-валидации:{final_score.round(4)}')"
   ]
  },
  {
   "cell_type": "code",
   "execution_count": null,
   "metadata": {},
   "outputs": [],
   "source": [
    "df_results.loc[len(df_results.index)] = ['Logistic Regression. SMOTE',\n",
    "                                         0.6854, 7/60, None]"
   ]
  },
  {
   "cell_type": "markdown",
   "metadata": {},
   "source": [
    "<div class=\"alert alert-block alert-info\">\n",
    "<b>Случайный лес</b> \n",
    "</div>"
   ]
  },
  {
   "cell_type": "code",
   "execution_count": null,
   "metadata": {},
   "outputs": [],
   "source": [
    "%%time\n",
    "\n",
    "best_depth = 0\n",
    "best_est = 0\n",
    "best_scores = 0\n",
    "\n",
    "for est in range(10, 130, 30):\n",
    "    for depth in range (3, 8, 1):\n",
    "        model_RFC = RandomForestClassifier(n_estimators=est, max_depth=depth, random_state=state)\n",
    "        final_score = train_and_predict(model_RFC, features_train_smote, target_train_smote, features_train_smote)\n",
    "        if final_score > best_scores:\n",
    "            best_depth = depth\n",
    "            best_est = est\n",
    "            best_scores = final_score   \n",
    "\n",
    "best_scores \n",
    "print(f'Лучшее значение F1-меры после кросс-валидации:{best_scores.round(4)}, оптимальная глубина:{best_depth}, оптимальное разветвление:{best_est}')"
   ]
  },
  {
   "cell_type": "code",
   "execution_count": null,
   "metadata": {},
   "outputs": [],
   "source": [
    "df_results.loc[len(df_results.index)] = ['Случайный лес. SMOTE',\n",
    "                                         0.772, 130, 'depth=7, est=70']"
   ]
  },
  {
   "cell_type": "markdown",
   "metadata": {},
   "source": [
    "<div class=\"alert alert-block alert-info\">\n",
    "<b>Дерево решений</b> \n",
    "</div>"
   ]
  },
  {
   "cell_type": "code",
   "execution_count": null,
   "metadata": {},
   "outputs": [],
   "source": [
    "%%time\n",
    "\n",
    "best_res = 0\n",
    "best_depth = 0\n",
    "best_scores = 0\n",
    "\n",
    "for depth in range (1, 5, 1):\n",
    "        model_DTC = DecisionTreeClassifier(max_depth=depth, random_state=state)\n",
    "        final_score = train_and_predict(model_DTC, features_train_smote, target_train_smote, features_train_smote)\n",
    "        if final_score > best_scores:\n",
    "            best_depth = depth\n",
    "            best_scores = final_score\n",
    "    \n",
    "            \n",
    "print(f'Лучшее значение F1-меры после кросс-валидации:{best_scores.round(4)}, оптимальная глубина:{best_depth}')"
   ]
  },
  {
   "cell_type": "code",
   "execution_count": null,
   "metadata": {},
   "outputs": [],
   "source": [
    "df_results.loc[len(df_results.index)] = ['Дерево решений. SMOTE',\n",
    "                                         0.7453, 8.63/60, 'depth=4']"
   ]
  },
  {
   "cell_type": "markdown",
   "metadata": {},
   "source": [
    "<div class=\"alert alert-block alert-info\">\n",
    "<b>Промежуточный вывод после использования метода увеличения целевого признака</b> \n",
    "\n",
    "При балансировки методом SMOTE, модель случайного леса показала наилучшие результаты. Значение F1 меры после кросс-валидации составило 0.772 при глубине 7 и числу ветвей 70. Модель дерева решений отличается на пару пунктов, её результаты F1 меры - 0.7453. Модель Логистической регрессии на удивление тоже показала хорошие результаты при данной балансировки и её значение F1 меры составило 0.68."
   ]
  },
  {
   "cell_type": "markdown",
   "metadata": {},
   "source": [
    "#### NearMiss"
   ]
  },
  {
   "cell_type": "markdown",
   "metadata": {},
   "source": [
    "<div class=\"alert alert-block alert-info\">\n",
    "<b>Логистическая регрессия</b> \n",
    "</div>"
   ]
  },
  {
   "cell_type": "code",
   "execution_count": null,
   "metadata": {},
   "outputs": [],
   "source": [
    "%%time\n",
    "model = LogisticRegression(solver='liblinear', random_state=state)\n",
    "final_score = train_and_predict(model, features_train_miss, target_train_miss, features_train_miss)\n",
    "print(f'Лучшее значение F1-меры после кросс-валидации:{final_score.round(4)}')"
   ]
  },
  {
   "cell_type": "code",
   "execution_count": null,
   "metadata": {},
   "outputs": [],
   "source": [
    "df_results.loc[len(df_results.index)] = ['Logistic Regression. NearMiss',\n",
    "                                         0.464, 1.71/60, None]"
   ]
  },
  {
   "cell_type": "markdown",
   "metadata": {},
   "source": [
    "<div class=\"alert alert-block alert-info\">\n",
    "<b>Случайный лес</b> \n",
    "</div>"
   ]
  },
  {
   "cell_type": "code",
   "execution_count": null,
   "metadata": {},
   "outputs": [],
   "source": [
    "%%time\n",
    "\n",
    "best_res = 0\n",
    "best_depth = 0\n",
    "best_est = 0\n",
    "best_scores = 0\n",
    "\n",
    "count_F1 = []\n",
    "count_depth = []\n",
    "count_est = []\n",
    "\n",
    "for est in range(10, 160, 30):\n",
    "    for depth in range (3, 10, 1):\n",
    "        model_RFC = RandomForestClassifier(n_estimators=est, max_depth=depth, random_state=state)\n",
    "        final_score = train_and_predict(model_RFC, features_train_miss, target_train_miss, features_train_miss)\n",
    "        if final_score > best_scores:\n",
    "            best_depth = depth\n",
    "            best_est = est\n",
    "            best_scores = final_score\n",
    "        count_depth.append(depth)\n",
    "        count_est.append(est)   \n",
    "\n",
    "final_score \n",
    "print(f'Лучшее значение F1-меры после кросс-валидации:{best_scores.round(4)}, оптимальная глубина:{best_depth}, оптимальное разветвление:{best_est}')"
   ]
  },
  {
   "cell_type": "code",
   "execution_count": null,
   "metadata": {},
   "outputs": [],
   "source": [
    "df_results.loc[len(df_results.index)] = ['Случайныйы лес. NearMiss',\n",
    "                                         0.5342, 44, 'depth=5, est=10']"
   ]
  },
  {
   "cell_type": "markdown",
   "metadata": {},
   "source": [
    "<div class=\"alert alert-block alert-info\">\n",
    "<b>Дерево решений</b> \n",
    "</div>"
   ]
  },
  {
   "cell_type": "code",
   "execution_count": null,
   "metadata": {},
   "outputs": [],
   "source": [
    "%%time\n",
    "\n",
    "best_res = 0\n",
    "best_depth = 0\n",
    "best_scores = 0\n",
    "\n",
    "for depth in range (1, 5, 1):\n",
    "        model_DTC = DecisionTreeClassifier(max_depth=depth, random_state=state)\n",
    "        final_score = train_and_predict(model_DTC, features_train_miss, target_train_miss, features_train_miss)\n",
    "        if final_score > best_scores:\n",
    "            best_depth = depth\n",
    "            best_scores = final_score\n",
    "    \n",
    "            \n",
    "print(f'Лучшее значение F1-меры после кросс-валидации:{best_scores.round(4)}, оптимальная глубина:{best_depth}')"
   ]
  },
  {
   "cell_type": "code",
   "execution_count": null,
   "metadata": {},
   "outputs": [],
   "source": [
    "df_results.loc[len(df_results.index)] = ['Дерево решений. NearMiss',\n",
    "                                         0.6924, 2.42/60, 'depth=4']"
   ]
  },
  {
   "cell_type": "markdown",
   "metadata": {},
   "source": [
    "<div class=\"alert alert-block alert-info\">\n",
    "<b>Промежуточный вывод после использования метода уменьшения целевого признака</b> \n",
    "\n",
    "Модель дерева решений при балансировки методом NearMiss показала наилучшие результаты и значение F1 меры составило 0.69. В то время как модель случайного леса и логистической регрессии имеют более заниженные значения F1 меры (0.53 для случайного леса и 0.46 для логистической регрессии)."
   ]
  },
  {
   "cell_type": "code",
   "execution_count": null,
   "metadata": {},
   "outputs": [],
   "source": [
    "df_results = df_results.round(3)\n",
    "df_results"
   ]
  },
  {
   "cell_type": "markdown",
   "metadata": {},
   "source": [
    "<div class=\"alert alert-block alert-info\">\n",
    "<b>Выбор лучшей модели</b> \n",
    "\n",
    "Выборка у нас получилась широкая. Для бизнеса я бы посоветовал остановиться на модели \"Случайного леса\" с методом SMOTE балансировки классов, т.к. она показала максимальное значение F1-меры=0.777. Оптимальные гиперпараметры: depth=7, est=70. Немного уменьшились максимально значение для гиперпараметров для чуть скорого обучения модели и получие результатов для анализа данного подхода."
   ]
  },
  {
   "cell_type": "markdown",
   "metadata": {},
   "source": [
    "<div class=\"alert alert-success\">\n",
    "<h2>Комментарий ревьюера<a class=\"tocSkip\"></a></h2>\n",
    "    \n",
    "**Отлично!** ✔️: лайк за табличку с результатами!</div>"
   ]
  },
  {
   "cell_type": "code",
   "execution_count": null,
   "metadata": {},
   "outputs": [],
   "source": [
    "%%time\n",
    "model = RandomForestClassifier(random_state=state, max_depth=7, n_estimators=70)\n",
    "model.fit(features_train_smote, target_train_smote)\n",
    "predicted_test = model.predict(features_test)\n",
    "print(f'Значение F1-меры на тестовой выборке: {f1_score(target_test, predicted_test).round(3)}')\n",
    "print(f'Accuracy = {accuracy_score(target_test, predicted_test):.4f}')\n",
    "print(f'Recall = {recall_score(target_test, predicted_test):.4f}') \n",
    "print(f'Precision = {precision_score(target_test, predicted_test):.4f}')"
   ]
  },
  {
   "cell_type": "markdown",
   "metadata": {},
   "source": [
    "<div class=\"alert alert-danger\">\n",
    "<h2>Комментарий ревьюера<a class=\"tocSkip\"></a></h2>\n",
    "\n",
    "**Нужно доработать** ❌: на финальном тестировании лучшую модель также необходимо обучить на обучающей выборке, а вот предсказания получать уже для тестовой\n",
    "\n",
    "Также методы для устранения дисбаланса путем ресемплинга(такие как upsample или downsample) категорически нельзя применять к валидационной/тестовой выборке(по аналогии с кросс-валидацией), иначе метрики будут непоказательны</div>"
   ]
  },
  {
   "cell_type": "markdown",
   "metadata": {},
   "source": [
    "<div class=\"alert alert-block alert-info\">\n",
    "<b>КОММЕНТАРИЙ СТУДЕНТА 1</b>\n",
    "\n",
    "Увидел свою ошибку. Подправил. \n",
    "</div>"
   ]
  },
  {
   "cell_type": "markdown",
   "metadata": {},
   "source": [
    "<div class=\"alert alert-success\">\n",
    "<h2>Комментарий ревьюера v2<a class=\"tocSkip\"></a></h2>\n",
    "    \n",
    "**Отлично!** ✔️: вот теперь другое дело!</div>"
   ]
  },
  {
   "cell_type": "markdown",
   "metadata": {},
   "source": [
    "<div class=\"alert alert-block alert-info\">\n",
    "<b>Результаты тестовой выборки</b> \n",
    "\n",
    "Результаты на тестовой выборке оказались не такими замечательными как на тестовой. Значение F1 меры составило 0.565. Точно чуть выше среднего и составляет 0.722. Посмотрим что покажет расчёт прибыли на основе предсказанных данных."
   ]
  },
  {
   "cell_type": "code",
   "execution_count": null,
   "metadata": {},
   "outputs": [],
   "source": [
    "probabilities_test = model.predict_proba(features_test)\n",
    "probabilities_one_test = probabilities_test[:, 1]\n",
    "auc_roc = roc_auc_score(target_test, probabilities_one_test)\n",
    "print(f'AUC-ROC равняется: {auc_roc.round(3)}')"
   ]
  },
  {
   "cell_type": "code",
   "execution_count": null,
   "metadata": {},
   "outputs": [],
   "source": [
    "fpr, tpr, thresholds = roc_curve(target_test, probabilities_one_test)\n",
    "plt.figure()\n",
    "plt.plot(fpr, tpr)\n",
    "plt.plot([0, 1], [0, 1], linestyle='--')\n",
    "plt.xlim([0, 1])\n",
    "plt.ylim([0, 1])\n",
    "plt.xlabel('False Positive Rate')\n",
    "plt.ylabel('True Positive Rate')\n",
    "plt.title('ROC-кривая')\n",
    "plt.show()"
   ]
  },
  {
   "cell_type": "markdown",
   "metadata": {},
   "source": [
    "<div class=\"alert alert-block alert-info\">\n",
    "<b></b> \n",
    "ROC - кривая показывает хорошую форму, доля правильно положительных ответов неспешно растёт. Наша модель отличается от случайной."
   ]
  },
  {
   "cell_type": "markdown",
   "metadata": {},
   "source": [
    "#### Шаг 5. Расчёт прибыли"
   ]
  },
  {
   "cell_type": "markdown",
   "metadata": {},
   "source": [
    "<div class=\"alert alert-block alert-info\">\n",
    "<b></b> \n",
    "Чтобы понять как модель нам принесёт прибыль от её внедрения, нужно вспомнить условия задачи. Прибыль для отеля появляется в тот момент когда клиент отменяет бронирование (сюда входит бронь номера за ночь и затраты на уборку). Внедрение модели выглядит так, мы сравниваем количество отказов в выборки с предсказаниями нашей модели умноженной на депозит который внесёт клиент, если отменет бронь. Таким образом мы посмотрим прибыль которую мы можем получить. Расчёт прибыли будет происходить на тестовой выборке."
   ]
  },
  {
   "cell_type": "code",
   "execution_count": null,
   "metadata": {},
   "outputs": [],
   "source": [
    "df_predicted_test= pd.DataFrame(predicted_test)"
   ]
  },
  {
   "cell_type": "code",
   "execution_count": null,
   "metadata": {},
   "outputs": [],
   "source": [
    "TEST['predict'] = df_predicted_test"
   ]
  },
  {
   "cell_type": "code",
   "execution_count": null,
   "metadata": {},
   "outputs": [],
   "source": [
    "TEST_p = TEST.copy()"
   ]
  },
  {
   "cell_type": "code",
   "execution_count": null,
   "metadata": {},
   "outputs": [],
   "source": [
    "TEST_p = TEST.copy()"
   ]
  },
  {
   "cell_type": "code",
   "execution_count": null,
   "metadata": {},
   "outputs": [],
   "source": [
    "TEST_p['profit_h'] = 0"
   ]
  },
  {
   "cell_type": "code",
   "execution_count": null,
   "metadata": {},
   "outputs": [],
   "source": [
    "TEST_p.loc[(TEST_p['is_canceled'] == 0) & (TEST_p['predict'] == 0), 'profit_h'] = (TEST_p['price_for_room'] * TEST_p['season_lvl'] * TEST_p['total_nights']) - (TEST_p['serv_for_room'] * (1 + TEST_p['total_nights'] // 2))"
   ]
  },
  {
   "cell_type": "code",
   "execution_count": null,
   "metadata": {},
   "outputs": [],
   "source": [
    "TEST_p.loc[(TEST_p['is_canceled'] == 0) & (TEST_p['predict'] == 1), 'profit_h'] = (TEST_p['price_for_room'] * TEST_p['season_lvl'] * TEST_p['total_nights']) - (TEST_p['serv_for_room'] * (1 + TEST_p['total_nights'] // 2))"
   ]
  },
  {
   "cell_type": "code",
   "execution_count": null,
   "metadata": {},
   "outputs": [],
   "source": [
    "TEST_p.loc[(TEST_p['is_canceled'] == 1) & (TEST_p['predict'] == 0), 'profit_h'] = -((TEST_p['serv_for_room'] + (TEST_p['price_for_room'] * TEST_p['season_lvl'])))"
   ]
  },
  {
   "cell_type": "code",
   "execution_count": null,
   "metadata": {},
   "outputs": [],
   "source": [
    "TEST_p.loc[(TEST_p['is_canceled'] == 1) & (TEST_p['predict'] == 1), 'profit_h'] = (TEST_p['price_for_room'] * TEST_p['season_lvl'] * DEPOSIT) + (TEST_p['serv_for_room'] * DEPOSIT) - (TEST_p['serv_for_room'] + (TEST_p['price_for_room'] * TEST_p['season_lvl']))"
   ]
  },
  {
   "cell_type": "code",
   "execution_count": null,
   "metadata": {
    "scrolled": true
   },
   "outputs": [],
   "source": [
    "profit_from_ML = TEST_p['profit_h'].sum()"
   ]
  },
  {
   "cell_type": "markdown",
   "metadata": {},
   "source": [
    "<div class=\"alert alert-danger\">\n",
    "<h2>Комментарий ревьюера<a class=\"tocSkip\"></a></h2>\n",
    "\n",
    "**Нужно доработать** ❌: так как модель будет предсказывать отмену брони не идеально, то для корректного расчета прибыли после внедрения модели, нужно одновременно учитывать факт отмены и предсказания модели. Чтобы не запутаться, можно рассмотреть все возможные варианты:\n",
    "    \n",
    "is_canceled = 0, predictions = 0 — постоялец заселился (profit > 0), модель предсказала, что он заселится. В этом случае прибыль отеля никак не меняется.\n",
    "    \n",
    "is_canceled = 0, predictions = 1 — постоялец заселился (profit > 0), модель предсказала, что он отменит. В этом случае постоялец внесёт депозит, который пойдёт в счёт оплаты, то есть в этом случае прибыль отеля тоже никак не меняется.\n",
    "    \n",
    "is_canceled = 1, predictions = 0 — постоялец отменил бронь (profit < 0), модель предсказала, что он заселится, то есть депозит с такого клиента не брали. Тогда прибыль отеля тоже никак не меняется, отель просто потерял деньги, как и до внедрения модели.\n",
    "                                                                        \n",
    "is_canceled = 1, predictions = 1 — постоялец отменил бронь (profit < 0), модель предсказала, что он отменит, с постояльца взяли депозит в 80% от стоимости номера за одни сутки с учетом сезонного коэффициента и затрат на разовую уборку, отель потеряет только 20% от той суммы, которую терял без модели, так как остальное покроет депозит\n",
    "</div>"
   ]
  },
  {
   "cell_type": "markdown",
   "metadata": {},
   "source": [
    "<div class=\"alert alert-block alert-info\">\n",
    "<b>КОММЕНТАРИЙ СТУДЕНТА 1</b>\n",
    "\n",
    "Рассмотрел все варианты, понял, что не учёл. Благодарю за подсказку.\n",
    "</div>"
   ]
  },
  {
   "cell_type": "markdown",
   "metadata": {},
   "source": [
    "<div class=\"alert alert-success\">\n",
    "<h2>Комментарий ревьюера v2<a class=\"tocSkip\"></a></h2>\n",
    "    \n",
    "**Отлично!** ✔️: формула для расчета прибыли после внедрения модели также составлена верно!</div>"
   ]
  },
  {
   "cell_type": "markdown",
   "metadata": {},
   "source": [
    "<div class=\"alert alert-block alert-info\">\n",
    "<b></b> \n",
    "При анализе данных в первых этапах помню о том, что в тестовой выборке у нас представлены данные только за 8 месяцев. Чтобы получить примерную прибыль за весь год, домножим нашу прибыль на 1.5. Бонусом надо вычесть стоимость разработки системы."
   ]
  },
  {
   "cell_type": "code",
   "execution_count": null,
   "metadata": {},
   "outputs": [],
   "source": [
    "print(f\"Прибыль от внедрения систесы предсказаний отмены номера за тестовый период: {profit_from_ML - BUDGET:,} (рублей)\")\n",
    "print(f\"Прибыль от внедрения систесы предсказаний отмены номера за год: {profit_from_ML * 1.5 - BUDGET:,} (рублей)\")\n",
    "print(f\"Средняя прибыль в месяц: {round(((profit_from_ML * 1.5 - BUDGET) / 12), 2):,} (рублей)\")"
   ]
  },
  {
   "cell_type": "markdown",
   "metadata": {},
   "source": [
    "<div class=\"alert alert-block alert-info\">\n",
    "<b>Результаты определния прибыли</b> \n",
    "\n",
    "Нехитрым способом мы пришли к тому, что определили прибыль от внедрения системы и она составляет чуть больше 16 млн.рублей за год. Это уже с вычетом выделенного бюджета на разработку системы. Средняя прибыль за год составила 2.1 млн. рублей. На этом значении можно сделать заключение о том, что разработка окупится всего-лишь за месяц, даже меньше. Считаю оправданным вводить данную систему в эксплуатацию."
   ]
  },
  {
   "cell_type": "markdown",
   "metadata": {},
   "source": [
    "<div class=\"alert alert-block alert-info\">\n",
    "<b>КОММЕНТАРИЙ СТУДЕНТА 1</b>\n",
    "\n",
    "Появился вопрос. Выше я расчитывал прибыль по тестововой выборке и там с учётом убытков она составляет 32.5 млн. рублей. После внедрения системы предсказания отказов, прибыль составила 16.5 млн. рублей. Или я немного запутался? или моя модель настолько ушла в минус ?\n",
    "</div>"
   ]
  },
  {
   "cell_type": "markdown",
   "metadata": {},
   "source": [
    "<div class=\"alert alert-warning\">\n",
    "<h2>Комментарий ревьюера v2<a class=\"tocSkip\"></a></h2>\n",
    "    \n",
    "**Есть совет** ⚠️: судя по выводу выше, проблема не в формуле а в том, что для не которых строк нет предсказаний модели, из-за чего прибыль оказалась нулевой. Перепроверь, что выборка для расчета прибыли и выборка для предсказаний совпадают по индексам. А добавить предсказания в датафрейм можно еще проще:\n",
    "\n",
    "    predictions = model.predict(features_test)\n",
    "    df['predict'] = predictions\n",
    "    \n",
    "Вообще модель любого качества не может так уменьшить прибыль, так как внедрение модели меняет выручку только в одном случае: когда клиент отменил бронирование(is_canceled=1) и модель это успешно определила(predictions=1). Получается, суммарная прибыль после внедрения может быть меньше изначальной только на 400000 (если модель не предсказала ни одной отмены бронирования, мы просто потратили деньги на разработку), во всех остальных случаях она будет больше\n",
    "    \n",
    "Пожалуйста, поправь этот момент самостоятельно\n",
    "</div>"
   ]
  },
  {
   "cell_type": "code",
   "execution_count": null,
   "metadata": {},
   "outputs": [],
   "source": [
    "# код ревьюера\n",
    "\n",
    "TEST_p.sample(5)"
   ]
  },
  {
   "cell_type": "markdown",
   "metadata": {},
   "source": [
    "### Опишите портрет «ненадёжного» клиента"
   ]
  },
  {
   "cell_type": "markdown",
   "metadata": {},
   "source": [
    "<div class=\"alert alert-block alert-info\">\n",
    "<b></b> \n",
    "\n",
    "Попробуем оценить наиболее значимые параметры в выборке для ненадёжного клиента. И для наиболее важных параметров представим графики для большего понимания ненадёжного клиента."
   ]
  },
  {
   "cell_type": "code",
   "execution_count": null,
   "metadata": {
    "scrolled": true
   },
   "outputs": [],
   "source": [
    "model_skl_iris = RandomForestClassifier()\n",
    "model_skl_iris.fit(features_test,\n",
    "                   target_test)\n",
    "\n",
    "skl_iris_imp = pd.Series(model_skl_iris.feature_importances_,\n",
    "                        features_test.columns).sort_values()\n",
    "\n",
    "fig, ax = plt.subplots(figsize=(16,20))\n",
    "skl_iris_imp.plot.barh(ax=ax)\n",
    "ax.set_title(\"Важность признаков\")\n",
    "ax.set_ylabel('Важность')\n",
    "fig.tight_layout()"
   ]
  },
  {
   "cell_type": "markdown",
   "metadata": {},
   "source": [
    "<div class=\"alert alert-block alert-info\">\n",
    "<b></b> \n",
    "\n",
    "Да получилось немного коряво, признаю, но наиболее значимые признаки можно увидеть.\n",
    "\n",
    "P.S. Возникали ошибки когда брал чистый data frame(тренировочный) и что-то вечно не давано. В дальнейшем постараюсь решить с этим проблему, углубиться сильнее в работу данного способа, так как понимаю его наверно важность. Поправьте если нет. Что я имею ввиду под важностью. Чтобы перед обучением модели прогнать через него все параметры и увидеть, какие из них оказывают большее влияние. А остальные менее значимые удалить, чтобы подчистить модель перед обучением и сократить время обучения. \n",
    "Правильно мыслю? или ещё есть другие применения."
   ]
  },
  {
   "cell_type": "markdown",
   "metadata": {},
   "source": [
    "<div class=\"alert alert-success\">\n",
    "<h2>Комментарий ревьюера<a class=\"tocSkip\"></a></h2>\n",
    "    \n",
    "**Отлично!** ✔️: круто, что знаешь про важность признаков! Действительно, feature_importance можно использовать для выбора только нужных признаков, но после подбора гиперпараметров важность может измениться, поэтому алгоритм будет следующим:\n",
    "- обучить модель и подобрать для нее гиперпараметры на полном датасете(за исключением однозначно не нужных признаков, вроде id)\n",
    "- изучить важность признаков, отсеять признаки с нулевой важностью\n",
    "- заново обучить модель только на значимых признаках, это позволит сократить время обучения без потери в качестве.\n",
    "    \n",
    "Также изучение важности признаков поможет убедиться, что модель обучилась корректно, сравнив результаты исследовательского анализа с результатами модели.\n",
    "</div>"
   ]
  },
  {
   "cell_type": "markdown",
   "metadata": {},
   "source": [
    "<div class=\"alert alert-warning\">\n",
    "<h2>Комментарий ревьюера<a class=\"tocSkip\"></a></h2>\n",
    "    \n",
    "**Есть совет** ⚠️: помимо встроенных методов, можно попробовать изучить важность признаков по-другому: например, с помощью библиотеки <a href=\"https://shap.readthedocs.io/en/latest/index.html\">SHAP</a>. Одно из преимушеств этого подхода в том, что он позволяет оценить важность признака независимо от остальных признаков. <a href=\"https://habr.com/ru/articles/428213/\" target=\"blank_\">Здесь</a> можно подробнее почитать про сам принцип алгоритма, а <a href=\"https://www.kaggle.com/code/wrosinski/shap-feature-importance-with-feature-engineering\" target=\"blank_\">тут</a> есть подробный пример использования</div>"
   ]
  },
  {
   "cell_type": "markdown",
   "metadata": {},
   "source": [
    "<div class=\"alert alert-block alert-info\">\n",
    "<b>КОММЕНТАРИЙ СТУДЕНТА 1</b>\n",
    "\n",
    "Благодарю за доп. материал. Ознакомлюсь с ним уже после проекта.\n",
    "</div>"
   ]
  },
  {
   "cell_type": "markdown",
   "metadata": {},
   "source": [
    "<div class=\"alert alert-success\">\n",
    "<h2>Комментарий ревьюера v2<a class=\"tocSkip\"></a></h2>\n",
    "    \n",
    "**Отлично!** ✔️: 👍</div>"
   ]
  },
  {
   "cell_type": "code",
   "execution_count": null,
   "metadata": {
    "scrolled": true
   },
   "outputs": [],
   "source": [
    "sns.displot(df_train, x='lead_time', hue='is_canceled', kind='hist', multiple='stack', height=7, aspect=7/5)\n",
    "plt.title('Дата бронирования')\n",
    "plt.show()"
   ]
  },
  {
   "cell_type": "code",
   "execution_count": null,
   "metadata": {},
   "outputs": [],
   "source": [
    "sns.displot(df_train, x='total_nights', hue='is_canceled', bins=10, kind='hist', multiple='stack', height=7, aspect=7/5)\n",
    "plt.title('Общее число ночей бронирования')\n",
    "plt.show()"
   ]
  },
  {
   "cell_type": "code",
   "execution_count": null,
   "metadata": {},
   "outputs": [],
   "source": [
    "sns.displot(df_train, x='stays_in_week_nights', hue='is_canceled', bins=6, kind='hist', multiple='stack', height=7, aspect=7/5)\n",
    "plt.title('На сколько дней клиент остановится в будние дни')\n",
    "plt.show()"
   ]
  },
  {
   "cell_type": "code",
   "execution_count": null,
   "metadata": {},
   "outputs": [],
   "source": [
    "sns.displot(df_train, x='total_of_special_requests', hue='is_canceled',bins=5 ,kind='hist', multiple='stack', height=7, aspect=7/5)\n",
    "plt.title('Количество дополнительных запросов')\n",
    "plt.show()"
   ]
  },
  {
   "cell_type": "code",
   "execution_count": null,
   "metadata": {},
   "outputs": [],
   "source": [
    "sns.displot(df_train, x='stays_in_weekend_nights', hue='is_canceled', bins=4, kind='hist', multiple='stack', height=7, aspect=7/5)\n",
    "plt.title('На сколько дней клиент остановится в выходные дни')\n",
    "plt.show()"
   ]
  },
  {
   "cell_type": "code",
   "execution_count": null,
   "metadata": {},
   "outputs": [],
   "source": [
    "sns.displot(df_train, x='distribution_channel', hue='is_canceled', bins=4, kind='hist', multiple='stack', height=7, aspect=7/5)\n",
    "plt.title('Каналы дистрибуции')\n",
    "\n",
    "plt.show()"
   ]
  },
  {
   "cell_type": "code",
   "execution_count": null,
   "metadata": {},
   "outputs": [],
   "source": [
    "sns.displot(df_train, x='customer_type', hue='is_canceled', bins=4, kind='hist', multiple='stack', height=7, aspect=7/5)\n",
    "plt.title('Тип заказчика')\n",
    "plt.show()"
   ]
  },
  {
   "cell_type": "code",
   "execution_count": null,
   "metadata": {},
   "outputs": [],
   "source": [
    "sns.displot(df_train, x='country', hue='is_canceled', bins=4, kind='hist', multiple='stack', height=7, aspect=7/5)\n",
    "plt.title('Страна проживания клиента')\n",
    "plt.show()"
   ]
  },
  {
   "cell_type": "markdown",
   "metadata": {},
   "source": [
    "<div class=\"alert alert-block alert-info\">\n",
    "<b>Результаты определния \"Ненадёжного клиента\"</b> \n",
    "\n",
    "- бронирование номера слишком заранее (за 100 дней и более);\n",
    "- общее число ночей для остановки не превышает 3ёх;\n",
    "- если в будние дни клиент остаётся не дольше чем на 3 дня;\n",
    "- если в выходные дни остаётся не дольше чем на 3 дня;\n",
    "- число дополнительных запросов для отеля (менее 1 или запросы отсутствуют);\n",
    "- клиент забронировал/узнал отель через дистрибуцию TA/TO;\n",
    "- тип клиента Transien или Transien-Party;\n",
    "- страна проживания клиента PRT, GBR, ESP, FRA."
   ]
  },
  {
   "cell_type": "markdown",
   "metadata": {},
   "source": [
    "<div class=\"alert alert-success\">\n",
    "<h2>Комментарий ревьюера<a class=\"tocSkip\"></a></h2>\n",
    "    \n",
    "**Отлично!** ✔️: вполне наглядный получился портрет :)</div>"
   ]
  },
  {
   "cell_type": "markdown",
   "metadata": {},
   "source": [
    "### Напишите общий вывод"
   ]
  },
  {
   "cell_type": "markdown",
   "metadata": {},
   "source": [
    "<div class=\"alert alert-block alert-info\">\n",
    "<b>Итоговый вывод по проекту</b> \n",
    "\n",
    "Вот и подходит к концу второй сборный проект, подведём основные итоги по нему.\n",
    "    \n",
    "1) Анализ данных занял большую часть времени. Данные представлены в хорошем виде. На входе мы имели две выборки, тренировочную и тестовую. В процессе обработки были удалены некоторые столбцы(id, год прибытия) и после появившиеся дубликаты также были устранены. Пропуски в выборках отсутствовали. Устранены также излишние пробелы в столбцах: reserved_room_type и meal.\n",
    "\n",
    "1.1) Кореляционные матрицы показали хорошую сходимость некоторых признаков, а именно:\n",
    "    \n",
    "- зависимость количества ночей в выходные дни (stays_in_weekend_nights) от общего количества ночей (total_nights);\n",
    "    \n",
    "- зависимость количества ночей в будние дни (stays_in_week_nights) от общего количества ночей (total_nights);\n",
    "    \n",
    "- зависимость количества дней между датой бронирования и датой прибытия (lead_time) от общего количества ночей (total_nights);\n",
    "    \n",
    "- зависимость количества дней между датой бронирования и датой прибытия (lead_time) от количества ночей в будние дни (stays_in_week_nights).\n",
    "    \n",
    "1.2) Определены числовые и категориальные столбцы в выборках. Часть числовых столбцов превратились категориальные из-за большого дисбаланса нулевых значениях. В таких столбцах остальные значения, которые больше 1, были приравнены к 1. И теперь 0 в данных столбцах значит нет/не было/отсутствует, а 1 значит да/есть.\n",
    "\n",
    "1.3) Построены гистограммы для связи некоторых переменных и выявления, когда и при каких условиях клиент отменял заказ.\n",
    "    \n",
    "1.4) Метод ProfileReport даёт хорошую база для старта анализа данных, упрощает многие моменты для первичного понимания, что происходит с данными и куда следует более детально приглядеться. Хоть он и упрощает старт, практически все столбцы требуется просматривать вручную для больше детальности природы данных.\n",
    "    \n",
    "2) Была расчитана бизнес метрика для подсчёта количества убытков и прибыли на тестовой выборке. По тестовым данным, убыток от отмены номера составляет почти 10.5 млн.рублей, а в процентах это почти 30% от общей прибыли. Такие существенные убытки необходимо минизировать. Написана функция для расчёта убытков и прибыли.\n",
    "    \n",
    "3)Определена оптимальная модель для расчёта прибыли. Хоть выборка у нас получилась широкая. Для бизнеса я бы посоветовал остановиться на модели \"Случайного леса\" с увеличением выборки целевого признака, т.к. она показала максимальное значение F1-меры=0.7 и значения оценки кросс-валидации=0.8. Оптимальные гиперпараметры: depth=7, est=70.\n",
    "\n",
    "3.1) Результаты расчёты данной модели на тестовой выборке оказались лучше ожидаемых. Время обучения составило считанные секунды. Значение F1 меры составило 0.565, что немного ниже чем на тренировочной модели.Значение AUC-ROC составило 0.776. А ROC - кривая показывает хорошую форму, доля правильно положительных ответов уверенно растёт.\n",
    "    \n",
    "3.2) Затем на основе этой модели рассчитали ожидаему прибыль от внедрения системы предсказания отказов. Данная прибыль была расчитана по принципу сравнения значений отказов тестовой выборки с предсказанными значениями умноженными на депозит клиент. Расчёты показали, что прибыль от внедрения системы и она составляет чуть больше 25 млн.рублей за год. Это уже с вычетом выделенного бюджета на разработку системы. Средняя прибыль за год составила 2.1 млн. рублей. На этом значении можно сделать заключение о том, что разработка окупится всего-лишь за месяц, даже меньше. Считаю оправданным вводить данную систему в эксплуатацию.\n",
    "\n",
    "4) Ненадёжный клиент должен соответствовать следующим критериям:\n",
    "- бронирование номера слишком заранее (за 100 дней и более);\n",
    "- общее число ночей для остановки не превышает 3ёх;\n",
    "- если в будние дни клиент остаётся не дольше чем на 3 дня;\n",
    "- если в выходные дни остаётся не дольше чем на 3 дня;\n",
    "- число дополнительных запросов для отеля (менее 1 или запросы отсутствуют);\n",
    "- клиент забронировал/узнал отель через дистрибуцию TA/TO;\n",
    "- тип клиента Transien или Transien-Party;\n",
    "- страна проживания клиента PRT, GBR, ESP, FRA."
   ]
  },
  {
   "cell_type": "markdown",
   "metadata": {},
   "source": [
    "<div style=\"padding: 20px 25px; border: 2px #6495ed solid\">\n",
    "    \n",
    "<h2 style=\"color: #87187D\">Итоговый комментарий ревьюера<a class=\"tocSkip\"></a></h2>\n",
    "\n",
    "Видно, что ты приложил много усилий, спасибо за проект!\n",
    "\n",
    "Но тебе обязательно нужно обратить внимание на следующее:\n",
    "* поправь расчет прибыли до и после внедрения модели;\n",
    "* не используй upsample/downsample при проведении кросс-валидации;\n",
    "* укажи основную метрику при вызове cross_val_score;\n",
    "* поправь этап финального тестирования лучшей модели\n",
    "\n",
    "Остальные комментарии можно найти в проекте. Готов ответить на любые вопросы :)\n",
    "\n",
    "<b>Жду доработанный проект на повторное ревью! Удачи!</b>\n",
    "        \n",
    "</div>"
   ]
  },
  {
   "cell_type": "markdown",
   "metadata": {},
   "source": [
    "<div style=\"padding: 20px 25px; border: 2px #6495ed solid\">\n",
    "    \n",
    "<h2 style=\"color: #87187D\">Итоговый комментарий ревьюера v2<a class=\"tocSkip\"></a></h2>\n",
    "\n",
    "То, что нужно, молодец!\n",
    "\n",
    "Все критичные замечания исправлены, и теперь я могу принять твою работу :) Но не забудь доразобраться с расчетом прибыли после внедрения модели\n",
    "\n",
    "<b>Успехов в обучении!</b>\n",
    "        \n",
    "</div>"
   ]
  },
  {
   "cell_type": "code",
   "execution_count": null,
   "metadata": {},
   "outputs": [],
   "source": []
  }
 ],
 "metadata": {
  "ExecuteTimeLog": [
   {
    "duration": 1719,
    "start_time": "2023-10-30T17:21:31.468Z"
   },
   {
    "duration": 464,
    "start_time": "2023-10-30T17:23:37.476Z"
   },
   {
    "duration": 6,
    "start_time": "2023-10-30T17:27:52.035Z"
   },
   {
    "duration": 73,
    "start_time": "2023-10-30T17:28:25.275Z"
   },
   {
    "duration": 136,
    "start_time": "2023-10-30T17:29:43.471Z"
   },
   {
    "duration": 23375,
    "start_time": "2023-10-30T17:30:29.627Z"
   },
   {
    "duration": 3150,
    "start_time": "2023-10-30T17:31:00.164Z"
   },
   {
    "duration": 48,
    "start_time": "2023-10-30T17:31:14.007Z"
   },
   {
    "duration": 22,
    "start_time": "2023-10-30T17:31:44.603Z"
   },
   {
    "duration": 20,
    "start_time": "2023-10-30T17:31:57.775Z"
   },
   {
    "duration": 80,
    "start_time": "2023-10-30T17:32:37.866Z"
   },
   {
    "duration": 2803,
    "start_time": "2023-10-30T17:44:04.850Z"
   },
   {
    "duration": 1619,
    "start_time": "2023-10-30T17:44:07.656Z"
   },
   {
    "duration": 450,
    "start_time": "2023-10-30T17:44:09.277Z"
   },
   {
    "duration": 288,
    "start_time": "2023-10-30T17:44:57.750Z"
   },
   {
    "duration": 23,
    "start_time": "2023-10-30T17:45:22.477Z"
   },
   {
    "duration": 85,
    "start_time": "2023-10-31T04:01:59.426Z"
   },
   {
    "duration": 3307,
    "start_time": "2023-10-31T04:02:03.947Z"
   },
   {
    "duration": 445,
    "start_time": "2023-10-31T04:02:21.729Z"
   },
   {
    "duration": 27125,
    "start_time": "2023-10-31T04:03:07.203Z"
   },
   {
    "duration": 130,
    "start_time": "2023-10-31T04:03:59.787Z"
   },
   {
    "duration": 5643,
    "start_time": "2023-10-31T04:08:08.704Z"
   },
   {
    "duration": 17,
    "start_time": "2023-10-31T04:08:33.143Z"
   },
   {
    "duration": 3339,
    "start_time": "2023-10-31T04:08:48.809Z"
   },
   {
    "duration": 94,
    "start_time": "2023-10-31T04:11:08.089Z"
   },
   {
    "duration": 2628,
    "start_time": "2023-10-31T04:11:12.467Z"
   },
   {
    "duration": 21,
    "start_time": "2023-10-31T04:11:32.540Z"
   },
   {
    "duration": 2702,
    "start_time": "2023-10-31T04:14:27.574Z"
   },
   {
    "duration": 2224,
    "start_time": "2023-10-31T04:14:54.383Z"
   },
   {
    "duration": 275,
    "start_time": "2023-10-31T04:16:13.101Z"
   },
   {
    "duration": 459,
    "start_time": "2023-10-31T04:16:15.352Z"
   },
   {
    "duration": 122,
    "start_time": "2023-10-31T04:16:24.304Z"
   },
   {
    "duration": 32879,
    "start_time": "2023-10-31T04:17:11.468Z"
   },
   {
    "duration": 31779,
    "start_time": "2023-10-31T04:20:05.913Z"
   },
   {
    "duration": 7048,
    "start_time": "2023-10-31T04:22:39.240Z"
   },
   {
    "duration": 2746,
    "start_time": "2023-10-31T04:22:56.559Z"
   },
   {
    "duration": 5795,
    "start_time": "2023-10-31T04:22:59.307Z"
   },
   {
    "duration": 2397,
    "start_time": "2023-10-31T04:23:05.104Z"
   },
   {
    "duration": 283,
    "start_time": "2023-10-31T04:23:07.504Z"
   },
   {
    "duration": 246,
    "start_time": "2023-10-31T04:23:07.789Z"
   },
   {
    "duration": 41837,
    "start_time": "2023-10-31T04:23:08.037Z"
   },
   {
    "duration": 225,
    "start_time": "2023-10-31T04:25:25.696Z"
   },
   {
    "duration": 236,
    "start_time": "2023-10-31T04:25:29.633Z"
   },
   {
    "duration": 201,
    "start_time": "2023-10-31T04:39:26.246Z"
   },
   {
    "duration": 27,
    "start_time": "2023-10-31T04:39:33.739Z"
   },
   {
    "duration": 45,
    "start_time": "2023-10-31T04:39:52.863Z"
   },
   {
    "duration": 54,
    "start_time": "2023-10-31T04:40:04.255Z"
   },
   {
    "duration": 45,
    "start_time": "2023-10-31T04:40:38.749Z"
   },
   {
    "duration": 141,
    "start_time": "2023-10-31T04:41:23.455Z"
   },
   {
    "duration": 20,
    "start_time": "2023-10-31T04:53:17.117Z"
   },
   {
    "duration": 20,
    "start_time": "2023-10-31T04:53:22.879Z"
   },
   {
    "duration": 7,
    "start_time": "2023-10-31T05:03:01.548Z"
   },
   {
    "duration": 6,
    "start_time": "2023-10-31T05:16:00.376Z"
   },
   {
    "duration": 5,
    "start_time": "2023-10-31T05:16:05.578Z"
   },
   {
    "duration": 6,
    "start_time": "2023-10-31T05:16:14.124Z"
   },
   {
    "duration": 4,
    "start_time": "2023-10-31T05:16:16.474Z"
   },
   {
    "duration": 5,
    "start_time": "2023-10-31T05:16:20.108Z"
   },
   {
    "duration": 31,
    "start_time": "2023-10-31T05:16:52.407Z"
   },
   {
    "duration": 19962,
    "start_time": "2023-10-31T07:21:07.828Z"
   },
   {
    "duration": 9188,
    "start_time": "2023-10-31T07:21:27.792Z"
   },
   {
    "duration": 2976,
    "start_time": "2023-10-31T07:21:36.982Z"
   },
   {
    "duration": 1422,
    "start_time": "2023-10-31T07:21:39.960Z"
   },
   {
    "duration": 47,
    "start_time": "2023-10-31T07:21:41.384Z"
   },
   {
    "duration": 129,
    "start_time": "2023-10-31T07:21:41.433Z"
   },
   {
    "duration": 39452,
    "start_time": "2023-10-31T07:21:41.563Z"
   },
   {
    "duration": 242,
    "start_time": "2023-10-31T07:22:21.017Z"
   },
   {
    "duration": 26,
    "start_time": "2023-10-31T07:22:21.260Z"
   },
   {
    "duration": 20,
    "start_time": "2023-10-31T07:46:17.580Z"
   },
   {
    "duration": 21,
    "start_time": "2023-10-31T07:46:21.083Z"
   },
   {
    "duration": 6,
    "start_time": "2023-10-31T07:47:00.990Z"
   },
   {
    "duration": 1363,
    "start_time": "2023-10-31T07:47:13.409Z"
   },
   {
    "duration": 11,
    "start_time": "2023-10-31T07:47:20.462Z"
   },
   {
    "duration": 12,
    "start_time": "2023-10-31T07:47:33.470Z"
   },
   {
    "duration": 13,
    "start_time": "2023-10-31T07:47:42.197Z"
   },
   {
    "duration": 13,
    "start_time": "2023-10-31T07:47:48.610Z"
   },
   {
    "duration": 12,
    "start_time": "2023-10-31T07:47:49.957Z"
   },
   {
    "duration": 12,
    "start_time": "2023-10-31T07:47:53.070Z"
   },
   {
    "duration": 12,
    "start_time": "2023-10-31T08:05:06.493Z"
   },
   {
    "duration": 13,
    "start_time": "2023-10-31T08:05:12.725Z"
   },
   {
    "duration": 13,
    "start_time": "2023-10-31T08:05:38.714Z"
   },
   {
    "duration": 21,
    "start_time": "2023-10-31T08:05:44.142Z"
   },
   {
    "duration": 15,
    "start_time": "2023-10-31T08:05:50.752Z"
   },
   {
    "duration": 15,
    "start_time": "2023-10-31T08:05:58.172Z"
   },
   {
    "duration": 12,
    "start_time": "2023-10-31T08:06:09.707Z"
   },
   {
    "duration": 11,
    "start_time": "2023-10-31T08:06:14.400Z"
   },
   {
    "duration": 12,
    "start_time": "2023-10-31T08:06:32.960Z"
   },
   {
    "duration": 11,
    "start_time": "2023-10-31T08:06:49.695Z"
   },
   {
    "duration": 26,
    "start_time": "2023-10-31T08:08:29.104Z"
   },
   {
    "duration": 18,
    "start_time": "2023-10-31T08:08:51.890Z"
   },
   {
    "duration": 12,
    "start_time": "2023-10-31T08:09:00.992Z"
   },
   {
    "duration": 6,
    "start_time": "2023-10-31T08:09:18.322Z"
   },
   {
    "duration": 6,
    "start_time": "2023-10-31T08:09:23.101Z"
   },
   {
    "duration": 16,
    "start_time": "2023-10-31T08:09:29.969Z"
   },
   {
    "duration": 16,
    "start_time": "2023-10-31T08:09:43.528Z"
   },
   {
    "duration": 29,
    "start_time": "2023-10-31T08:10:02.455Z"
   },
   {
    "duration": 3,
    "start_time": "2023-10-31T08:10:55.273Z"
   },
   {
    "duration": 18,
    "start_time": "2023-10-31T08:11:01.983Z"
   },
   {
    "duration": 1342,
    "start_time": "2023-10-31T08:11:58.240Z"
   },
   {
    "duration": 13,
    "start_time": "2023-10-31T08:12:12.259Z"
   },
   {
    "duration": 16,
    "start_time": "2023-10-31T08:12:31.480Z"
   },
   {
    "duration": 13,
    "start_time": "2023-10-31T08:13:15.241Z"
   },
   {
    "duration": 5,
    "start_time": "2023-10-31T08:13:30.987Z"
   },
   {
    "duration": 14,
    "start_time": "2023-10-31T08:13:52.217Z"
   },
   {
    "duration": 17,
    "start_time": "2023-10-31T08:20:55.574Z"
   },
   {
    "duration": 17,
    "start_time": "2023-10-31T08:21:31.592Z"
   },
   {
    "duration": 17,
    "start_time": "2023-10-31T08:22:03.174Z"
   },
   {
    "duration": 4,
    "start_time": "2023-10-31T08:43:16.043Z"
   },
   {
    "duration": 16,
    "start_time": "2023-10-31T08:43:31.366Z"
   },
   {
    "duration": 4,
    "start_time": "2023-10-31T08:43:40.941Z"
   },
   {
    "duration": 32,
    "start_time": "2023-10-31T08:43:46.757Z"
   },
   {
    "duration": 28,
    "start_time": "2023-10-31T08:44:35.434Z"
   },
   {
    "duration": 20,
    "start_time": "2023-10-31T08:44:44.394Z"
   },
   {
    "duration": 3440,
    "start_time": "2023-10-31T08:45:02.010Z"
   },
   {
    "duration": 5253,
    "start_time": "2023-10-31T08:45:05.452Z"
   },
   {
    "duration": 2576,
    "start_time": "2023-10-31T08:45:10.707Z"
   },
   {
    "duration": 240,
    "start_time": "2023-10-31T08:45:13.285Z"
   },
   {
    "duration": 48,
    "start_time": "2023-10-31T08:45:13.528Z"
   },
   {
    "duration": 152,
    "start_time": "2023-10-31T08:45:13.578Z"
   },
   {
    "duration": 39823,
    "start_time": "2023-10-31T08:45:13.732Z"
   },
   {
    "duration": 246,
    "start_time": "2023-10-31T08:45:53.557Z"
   },
   {
    "duration": 17,
    "start_time": "2023-10-31T08:45:53.805Z"
   },
   {
    "duration": 46,
    "start_time": "2023-10-31T08:45:53.845Z"
   },
   {
    "duration": 9,
    "start_time": "2023-10-31T08:48:35.253Z"
   },
   {
    "duration": 10,
    "start_time": "2023-10-31T08:48:40.738Z"
   },
   {
    "duration": 44,
    "start_time": "2023-10-31T08:48:48.573Z"
   },
   {
    "duration": 9,
    "start_time": "2023-10-31T08:49:16.577Z"
   },
   {
    "duration": 16,
    "start_time": "2023-10-31T08:49:20.564Z"
   },
   {
    "duration": 10,
    "start_time": "2023-10-31T08:49:25.236Z"
   },
   {
    "duration": 15,
    "start_time": "2023-10-31T08:49:27.686Z"
   },
   {
    "duration": 13,
    "start_time": "2023-10-31T08:49:31.517Z"
   },
   {
    "duration": 10,
    "start_time": "2023-10-31T08:49:33.798Z"
   },
   {
    "duration": 10,
    "start_time": "2023-10-31T08:49:37.548Z"
   },
   {
    "duration": 13,
    "start_time": "2023-10-31T08:49:47.857Z"
   },
   {
    "duration": 12,
    "start_time": "2023-10-31T08:49:51.717Z"
   },
   {
    "duration": 12,
    "start_time": "2023-10-31T08:49:57.648Z"
   },
   {
    "duration": 10,
    "start_time": "2023-10-31T08:52:26.483Z"
   },
   {
    "duration": 21483,
    "start_time": "2023-10-31T15:05:50.665Z"
   },
   {
    "duration": 9807,
    "start_time": "2023-10-31T15:06:12.150Z"
   },
   {
    "duration": 2933,
    "start_time": "2023-10-31T15:06:21.959Z"
   },
   {
    "duration": 465,
    "start_time": "2023-10-31T15:06:24.894Z"
   },
   {
    "duration": 48,
    "start_time": "2023-10-31T15:06:25.361Z"
   },
   {
    "duration": 139,
    "start_time": "2023-10-31T15:06:25.411Z"
   },
   {
    "duration": 42878,
    "start_time": "2023-10-31T15:06:25.552Z"
   },
   {
    "duration": 248,
    "start_time": "2023-10-31T15:07:08.432Z"
   },
   {
    "duration": 23,
    "start_time": "2023-10-31T15:07:08.682Z"
   },
   {
    "duration": 57,
    "start_time": "2023-10-31T15:07:08.708Z"
   },
   {
    "duration": 29,
    "start_time": "2023-10-31T15:15:21.632Z"
   },
   {
    "duration": 33472,
    "start_time": "2023-10-31T15:15:39.559Z"
   },
   {
    "duration": 15,
    "start_time": "2023-10-31T15:24:00.308Z"
   },
   {
    "duration": 30,
    "start_time": "2023-10-31T15:25:13.916Z"
   },
   {
    "duration": 16,
    "start_time": "2023-10-31T15:25:21.012Z"
   },
   {
    "duration": 16,
    "start_time": "2023-10-31T15:25:28.639Z"
   },
   {
    "duration": 27,
    "start_time": "2023-10-31T15:25:38.864Z"
   },
   {
    "duration": 26,
    "start_time": "2023-10-31T15:25:45.251Z"
   },
   {
    "duration": 25,
    "start_time": "2023-10-31T15:25:54.586Z"
   },
   {
    "duration": 24,
    "start_time": "2023-10-31T15:26:00.488Z"
   },
   {
    "duration": 52,
    "start_time": "2023-10-31T15:30:10.396Z"
   },
   {
    "duration": 229,
    "start_time": "2023-10-31T15:31:24.400Z"
   },
   {
    "duration": 6,
    "start_time": "2023-10-31T15:31:29.247Z"
   },
   {
    "duration": 4,
    "start_time": "2023-10-31T15:31:35.120Z"
   },
   {
    "duration": 5,
    "start_time": "2023-10-31T15:31:38.979Z"
   },
   {
    "duration": 10,
    "start_time": "2023-10-31T15:31:59.872Z"
   },
   {
    "duration": 16,
    "start_time": "2023-10-31T15:32:04.300Z"
   },
   {
    "duration": 12,
    "start_time": "2023-10-31T15:32:06.843Z"
   },
   {
    "duration": 4,
    "start_time": "2023-10-31T15:32:08.691Z"
   },
   {
    "duration": 5,
    "start_time": "2023-10-31T15:32:15.974Z"
   },
   {
    "duration": 12,
    "start_time": "2023-10-31T15:32:21.140Z"
   },
   {
    "duration": 5,
    "start_time": "2023-10-31T15:32:27.269Z"
   },
   {
    "duration": 50,
    "start_time": "2023-10-31T15:32:32.948Z"
   },
   {
    "duration": 37,
    "start_time": "2023-10-31T15:35:50.172Z"
   },
   {
    "duration": 51,
    "start_time": "2023-10-31T15:36:21.240Z"
   },
   {
    "duration": 3636,
    "start_time": "2023-10-31T15:36:57.828Z"
   },
   {
    "duration": 5355,
    "start_time": "2023-10-31T15:37:01.466Z"
   },
   {
    "duration": 2684,
    "start_time": "2023-10-31T15:37:06.824Z"
   },
   {
    "duration": 242,
    "start_time": "2023-10-31T15:37:09.510Z"
   },
   {
    "duration": 50,
    "start_time": "2023-10-31T15:37:09.754Z"
   },
   {
    "duration": 148,
    "start_time": "2023-10-31T15:37:09.807Z"
   },
   {
    "duration": 23,
    "start_time": "2023-10-31T15:37:09.957Z"
   },
   {
    "duration": 41426,
    "start_time": "2023-10-31T15:37:09.982Z"
   },
   {
    "duration": 37987,
    "start_time": "2023-10-31T15:37:51.410Z"
   },
   {
    "duration": 47,
    "start_time": "2023-10-31T15:38:29.401Z"
   },
   {
    "duration": 20,
    "start_time": "2023-10-31T15:38:29.450Z"
   },
   {
    "duration": 103,
    "start_time": "2023-10-31T15:38:29.472Z"
   },
   {
    "duration": 339,
    "start_time": "2023-10-31T15:38:29.576Z"
   },
   {
    "duration": 21,
    "start_time": "2023-10-31T15:40:01.876Z"
   },
   {
    "duration": 16,
    "start_time": "2023-10-31T15:40:16.135Z"
   },
   {
    "duration": 58,
    "start_time": "2023-10-31T15:42:07.315Z"
   },
   {
    "duration": 3,
    "start_time": "2023-10-31T15:42:38.972Z"
   },
   {
    "duration": 257,
    "start_time": "2023-10-31T15:42:45.356Z"
   },
   {
    "duration": 2646,
    "start_time": "2023-10-31T15:43:41.595Z"
   },
   {
    "duration": 5447,
    "start_time": "2023-10-31T15:43:44.244Z"
   },
   {
    "duration": 2483,
    "start_time": "2023-10-31T15:43:49.693Z"
   },
   {
    "duration": 245,
    "start_time": "2023-10-31T15:43:52.178Z"
   },
   {
    "duration": 44,
    "start_time": "2023-10-31T15:43:52.425Z"
   },
   {
    "duration": 139,
    "start_time": "2023-10-31T15:43:52.471Z"
   },
   {
    "duration": 21,
    "start_time": "2023-10-31T15:43:52.612Z"
   },
   {
    "duration": 41309,
    "start_time": "2023-10-31T15:43:52.643Z"
   },
   {
    "duration": 38222,
    "start_time": "2023-10-31T15:44:33.955Z"
   },
   {
    "duration": 17,
    "start_time": "2023-10-31T15:45:12.180Z"
   },
   {
    "duration": 54,
    "start_time": "2023-10-31T15:45:12.199Z"
   },
   {
    "duration": 91,
    "start_time": "2023-10-31T15:45:12.254Z"
   },
   {
    "duration": 11,
    "start_time": "2023-10-31T15:45:12.347Z"
   },
   {
    "duration": 37,
    "start_time": "2023-10-31T15:46:27.519Z"
   },
   {
    "duration": 35,
    "start_time": "2023-10-31T15:46:30.487Z"
   },
   {
    "duration": 11,
    "start_time": "2023-10-31T15:53:50.982Z"
   },
   {
    "duration": 180,
    "start_time": "2023-10-31T15:55:10.106Z"
   },
   {
    "duration": 17,
    "start_time": "2023-10-31T15:55:28.566Z"
   },
   {
    "duration": 14,
    "start_time": "2023-10-31T15:55:50.033Z"
   },
   {
    "duration": 42,
    "start_time": "2023-10-31T15:55:56.666Z"
   },
   {
    "duration": 2523,
    "start_time": "2023-10-31T15:56:30.550Z"
   },
   {
    "duration": 5336,
    "start_time": "2023-10-31T15:56:33.076Z"
   },
   {
    "duration": 2584,
    "start_time": "2023-10-31T15:56:38.415Z"
   },
   {
    "duration": 252,
    "start_time": "2023-10-31T15:56:41.000Z"
   },
   {
    "duration": 44,
    "start_time": "2023-10-31T15:56:41.254Z"
   },
   {
    "duration": 144,
    "start_time": "2023-10-31T15:56:41.300Z"
   },
   {
    "duration": 21,
    "start_time": "2023-10-31T15:56:41.446Z"
   },
   {
    "duration": 41348,
    "start_time": "2023-10-31T15:56:41.468Z"
   },
   {
    "duration": 38677,
    "start_time": "2023-10-31T15:57:22.817Z"
   },
   {
    "duration": 13,
    "start_time": "2023-10-31T15:58:01.496Z"
   },
   {
    "duration": 61,
    "start_time": "2023-10-31T15:58:01.511Z"
   },
   {
    "duration": 94,
    "start_time": "2023-10-31T15:58:01.574Z"
   },
   {
    "duration": 151,
    "start_time": "2023-10-31T15:58:01.670Z"
   },
   {
    "duration": 3,
    "start_time": "2023-10-31T15:58:01.843Z"
   },
   {
    "duration": 24,
    "start_time": "2023-10-31T15:59:05.192Z"
   },
   {
    "duration": 44,
    "start_time": "2023-10-31T16:00:06.064Z"
   },
   {
    "duration": 42,
    "start_time": "2023-10-31T16:01:39.401Z"
   },
   {
    "duration": 72,
    "start_time": "2023-10-31T16:01:46.579Z"
   },
   {
    "duration": 61,
    "start_time": "2023-10-31T16:03:00.551Z"
   },
   {
    "duration": 48,
    "start_time": "2023-10-31T16:06:45.255Z"
   },
   {
    "duration": 172,
    "start_time": "2023-10-31T16:06:55.802Z"
   },
   {
    "duration": 11,
    "start_time": "2023-10-31T16:07:04.990Z"
   },
   {
    "duration": 2614,
    "start_time": "2023-10-31T16:07:54.414Z"
   },
   {
    "duration": 5598,
    "start_time": "2023-10-31T16:07:57.030Z"
   },
   {
    "duration": 2620,
    "start_time": "2023-10-31T16:08:02.630Z"
   },
   {
    "duration": 236,
    "start_time": "2023-10-31T16:08:05.252Z"
   },
   {
    "duration": 46,
    "start_time": "2023-10-31T16:08:05.489Z"
   },
   {
    "duration": 144,
    "start_time": "2023-10-31T16:08:05.537Z"
   },
   {
    "duration": 21,
    "start_time": "2023-10-31T16:08:05.683Z"
   },
   {
    "duration": 41395,
    "start_time": "2023-10-31T16:08:05.706Z"
   },
   {
    "duration": 38700,
    "start_time": "2023-10-31T16:08:47.103Z"
   },
   {
    "duration": 41,
    "start_time": "2023-10-31T16:09:25.807Z"
   },
   {
    "duration": 129,
    "start_time": "2023-10-31T16:09:25.850Z"
   },
   {
    "duration": 181,
    "start_time": "2023-10-31T16:09:25.980Z"
   },
   {
    "duration": 267,
    "start_time": "2023-10-31T16:09:26.163Z"
   },
   {
    "duration": 0,
    "start_time": "2023-10-31T16:09:26.431Z"
   },
   {
    "duration": 0,
    "start_time": "2023-10-31T16:09:26.432Z"
   },
   {
    "duration": 0,
    "start_time": "2023-10-31T16:09:26.433Z"
   },
   {
    "duration": 0,
    "start_time": "2023-10-31T16:09:26.434Z"
   },
   {
    "duration": 12,
    "start_time": "2023-10-31T16:10:08.158Z"
   },
   {
    "duration": 12,
    "start_time": "2023-10-31T16:10:25.639Z"
   },
   {
    "duration": 2682,
    "start_time": "2023-10-31T16:10:43.330Z"
   },
   {
    "duration": 5274,
    "start_time": "2023-10-31T16:10:46.014Z"
   },
   {
    "duration": 2734,
    "start_time": "2023-10-31T16:10:51.290Z"
   },
   {
    "duration": 237,
    "start_time": "2023-10-31T16:10:54.027Z"
   },
   {
    "duration": 44,
    "start_time": "2023-10-31T16:10:54.266Z"
   },
   {
    "duration": 164,
    "start_time": "2023-10-31T16:10:54.312Z"
   },
   {
    "duration": 30,
    "start_time": "2023-10-31T16:10:54.478Z"
   },
   {
    "duration": 41458,
    "start_time": "2023-10-31T16:10:54.510Z"
   },
   {
    "duration": 39514,
    "start_time": "2023-10-31T16:11:35.988Z"
   },
   {
    "duration": 11,
    "start_time": "2023-10-31T16:12:15.505Z"
   },
   {
    "duration": 146,
    "start_time": "2023-10-31T16:12:15.517Z"
   },
   {
    "duration": 182,
    "start_time": "2023-10-31T16:12:15.665Z"
   },
   {
    "duration": 53,
    "start_time": "2023-10-31T16:12:15.849Z"
   },
   {
    "duration": 209,
    "start_time": "2023-10-31T16:12:15.904Z"
   },
   {
    "duration": 0,
    "start_time": "2023-10-31T16:12:16.114Z"
   },
   {
    "duration": 0,
    "start_time": "2023-10-31T16:12:16.115Z"
   },
   {
    "duration": 0,
    "start_time": "2023-10-31T16:12:16.117Z"
   },
   {
    "duration": 0,
    "start_time": "2023-10-31T16:12:16.118Z"
   },
   {
    "duration": 2,
    "start_time": "2023-10-31T16:12:43.458Z"
   },
   {
    "duration": 14,
    "start_time": "2023-10-31T16:13:09.805Z"
   },
   {
    "duration": 2574,
    "start_time": "2023-10-31T16:13:30.593Z"
   },
   {
    "duration": 5362,
    "start_time": "2023-10-31T16:13:33.169Z"
   },
   {
    "duration": 2636,
    "start_time": "2023-10-31T16:13:38.533Z"
   },
   {
    "duration": 237,
    "start_time": "2023-10-31T16:13:41.171Z"
   },
   {
    "duration": 47,
    "start_time": "2023-10-31T16:13:41.410Z"
   },
   {
    "duration": 143,
    "start_time": "2023-10-31T16:13:41.458Z"
   },
   {
    "duration": 22,
    "start_time": "2023-10-31T16:13:41.603Z"
   },
   {
    "duration": 40838,
    "start_time": "2023-10-31T16:13:41.626Z"
   },
   {
    "duration": 39088,
    "start_time": "2023-10-31T16:14:22.465Z"
   },
   {
    "duration": 12,
    "start_time": "2023-10-31T16:15:01.555Z"
   },
   {
    "duration": 314,
    "start_time": "2023-10-31T16:15:01.569Z"
   },
   {
    "duration": 129,
    "start_time": "2023-10-31T16:15:01.885Z"
   },
   {
    "duration": 56,
    "start_time": "2023-10-31T16:15:02.016Z"
   },
   {
    "duration": 57,
    "start_time": "2023-10-31T16:15:02.075Z"
   },
   {
    "duration": 38,
    "start_time": "2023-10-31T16:15:02.135Z"
   },
   {
    "duration": 70,
    "start_time": "2023-10-31T16:15:02.175Z"
   },
   {
    "duration": 43,
    "start_time": "2023-10-31T16:15:02.247Z"
   },
   {
    "duration": 93,
    "start_time": "2023-10-31T16:15:02.291Z"
   },
   {
    "duration": 2228,
    "start_time": "2023-10-31T16:31:17.439Z"
   },
   {
    "duration": 49,
    "start_time": "2023-11-01T02:23:12.986Z"
   },
   {
    "duration": 20271,
    "start_time": "2023-11-01T02:23:24.333Z"
   },
   {
    "duration": 9102,
    "start_time": "2023-11-01T02:23:44.607Z"
   },
   {
    "duration": 2825,
    "start_time": "2023-11-01T02:23:53.712Z"
   },
   {
    "duration": 447,
    "start_time": "2023-11-01T02:23:56.539Z"
   },
   {
    "duration": 48,
    "start_time": "2023-11-01T02:23:56.988Z"
   },
   {
    "duration": 150,
    "start_time": "2023-11-01T02:23:57.038Z"
   },
   {
    "duration": 31,
    "start_time": "2023-11-01T02:23:57.191Z"
   },
   {
    "duration": 43392,
    "start_time": "2023-11-01T02:23:57.223Z"
   },
   {
    "duration": 39531,
    "start_time": "2023-11-01T02:24:40.618Z"
   },
   {
    "duration": 10,
    "start_time": "2023-11-01T02:25:20.154Z"
   },
   {
    "duration": 146,
    "start_time": "2023-11-01T02:25:20.166Z"
   },
   {
    "duration": 128,
    "start_time": "2023-11-01T02:25:20.314Z"
   },
   {
    "duration": 99,
    "start_time": "2023-11-01T02:25:20.443Z"
   },
   {
    "duration": 86,
    "start_time": "2023-11-01T02:25:20.545Z"
   },
   {
    "duration": 69,
    "start_time": "2023-11-01T02:25:20.633Z"
   },
   {
    "duration": 16,
    "start_time": "2023-11-01T02:25:20.704Z"
   },
   {
    "duration": 2290,
    "start_time": "2023-11-01T02:25:20.721Z"
   },
   {
    "duration": 7,
    "start_time": "2023-11-01T02:28:21.815Z"
   },
   {
    "duration": 12,
    "start_time": "2023-11-01T02:28:39.699Z"
   },
   {
    "duration": 17,
    "start_time": "2023-11-01T02:28:56.823Z"
   },
   {
    "duration": 18,
    "start_time": "2023-11-01T02:29:05.099Z"
   },
   {
    "duration": 17,
    "start_time": "2023-11-01T02:29:09.751Z"
   },
   {
    "duration": 15,
    "start_time": "2023-11-01T02:29:24.511Z"
   },
   {
    "duration": 18,
    "start_time": "2023-11-01T02:29:28.059Z"
   },
   {
    "duration": 13,
    "start_time": "2023-11-01T02:29:59.379Z"
   },
   {
    "duration": 2,
    "start_time": "2023-11-01T02:31:11.295Z"
   },
   {
    "duration": 29,
    "start_time": "2023-11-01T02:31:29.463Z"
   },
   {
    "duration": 21,
    "start_time": "2023-11-01T02:31:39.034Z"
   },
   {
    "duration": 2094,
    "start_time": "2023-11-01T02:35:55.815Z"
   },
   {
    "duration": 3413,
    "start_time": "2023-11-01T02:36:04.491Z"
   },
   {
    "duration": 5488,
    "start_time": "2023-11-01T02:36:07.906Z"
   },
   {
    "duration": 2633,
    "start_time": "2023-11-01T02:36:13.396Z"
   },
   {
    "duration": 226,
    "start_time": "2023-11-01T02:36:16.031Z"
   },
   {
    "duration": 49,
    "start_time": "2023-11-01T02:36:16.259Z"
   },
   {
    "duration": 138,
    "start_time": "2023-11-01T02:36:16.310Z"
   },
   {
    "duration": 22,
    "start_time": "2023-11-01T02:36:16.450Z"
   },
   {
    "duration": 41166,
    "start_time": "2023-11-01T02:36:16.473Z"
   },
   {
    "duration": 38331,
    "start_time": "2023-11-01T02:36:57.642Z"
   },
   {
    "duration": 34,
    "start_time": "2023-11-01T02:37:35.975Z"
   },
   {
    "duration": 124,
    "start_time": "2023-11-01T02:37:36.011Z"
   },
   {
    "duration": 176,
    "start_time": "2023-11-01T02:37:36.137Z"
   },
   {
    "duration": 89,
    "start_time": "2023-11-01T02:37:36.314Z"
   },
   {
    "duration": 32,
    "start_time": "2023-11-01T02:37:36.405Z"
   },
   {
    "duration": 2,
    "start_time": "2023-11-01T02:37:36.439Z"
   },
   {
    "duration": 28,
    "start_time": "2023-11-01T02:37:36.443Z"
   },
   {
    "duration": 44,
    "start_time": "2023-11-01T02:37:36.473Z"
   },
   {
    "duration": 20,
    "start_time": "2023-11-01T02:37:36.518Z"
   },
   {
    "duration": 16,
    "start_time": "2023-11-01T02:37:36.540Z"
   },
   {
    "duration": 20,
    "start_time": "2023-11-01T02:37:36.557Z"
   },
   {
    "duration": 2260,
    "start_time": "2023-11-01T02:37:36.579Z"
   },
   {
    "duration": 1961,
    "start_time": "2023-11-01T02:37:38.841Z"
   },
   {
    "duration": 11,
    "start_time": "2023-11-01T02:47:31.532Z"
   },
   {
    "duration": 3020,
    "start_time": "2023-11-01T04:04:57.526Z"
   },
   {
    "duration": 6370,
    "start_time": "2023-11-01T04:05:00.548Z"
   },
   {
    "duration": 2669,
    "start_time": "2023-11-01T04:05:06.920Z"
   },
   {
    "duration": 251,
    "start_time": "2023-11-01T04:05:09.591Z"
   },
   {
    "duration": 46,
    "start_time": "2023-11-01T04:05:09.845Z"
   },
   {
    "duration": 143,
    "start_time": "2023-11-01T04:05:09.902Z"
   },
   {
    "duration": 24,
    "start_time": "2023-11-01T04:05:10.047Z"
   },
   {
    "duration": 41959,
    "start_time": "2023-11-01T04:05:10.072Z"
   },
   {
    "duration": 39190,
    "start_time": "2023-11-01T04:05:52.033Z"
   },
   {
    "duration": 11,
    "start_time": "2023-11-01T04:06:31.225Z"
   },
   {
    "duration": 178,
    "start_time": "2023-11-01T04:06:31.238Z"
   },
   {
    "duration": 131,
    "start_time": "2023-11-01T04:06:31.418Z"
   },
   {
    "duration": 98,
    "start_time": "2023-11-01T04:06:31.551Z"
   },
   {
    "duration": 97,
    "start_time": "2023-11-01T04:06:31.653Z"
   },
   {
    "duration": 37,
    "start_time": "2023-11-01T04:06:31.752Z"
   },
   {
    "duration": 37,
    "start_time": "2023-11-01T04:06:31.791Z"
   },
   {
    "duration": 24,
    "start_time": "2023-11-01T04:06:31.830Z"
   },
   {
    "duration": 23,
    "start_time": "2023-11-01T04:06:31.856Z"
   },
   {
    "duration": 42,
    "start_time": "2023-11-01T04:06:31.882Z"
   },
   {
    "duration": 32,
    "start_time": "2023-11-01T04:06:31.926Z"
   },
   {
    "duration": 2242,
    "start_time": "2023-11-01T04:06:31.959Z"
   },
   {
    "duration": 2076,
    "start_time": "2023-11-01T04:06:34.203Z"
   },
   {
    "duration": 9,
    "start_time": "2023-11-01T04:06:36.280Z"
   },
   {
    "duration": 21537,
    "start_time": "2023-11-01T07:23:53.579Z"
   },
   {
    "duration": 9426,
    "start_time": "2023-11-01T07:24:15.119Z"
   },
   {
    "duration": 2964,
    "start_time": "2023-11-01T07:24:24.548Z"
   },
   {
    "duration": 478,
    "start_time": "2023-11-01T07:24:27.514Z"
   },
   {
    "duration": 52,
    "start_time": "2023-11-01T07:24:27.995Z"
   },
   {
    "duration": 161,
    "start_time": "2023-11-01T07:24:28.049Z"
   },
   {
    "duration": 25,
    "start_time": "2023-11-01T07:24:28.212Z"
   },
   {
    "duration": 44076,
    "start_time": "2023-11-01T07:24:28.239Z"
   },
   {
    "duration": 40854,
    "start_time": "2023-11-01T07:25:12.317Z"
   },
   {
    "duration": 36,
    "start_time": "2023-11-01T07:25:53.173Z"
   },
   {
    "duration": 232,
    "start_time": "2023-11-01T07:25:53.211Z"
   },
   {
    "duration": 183,
    "start_time": "2023-11-01T07:25:53.445Z"
   },
   {
    "duration": 99,
    "start_time": "2023-11-01T07:25:53.630Z"
   },
   {
    "duration": 37,
    "start_time": "2023-11-01T07:25:53.733Z"
   },
   {
    "duration": 3,
    "start_time": "2023-11-01T07:25:53.772Z"
   },
   {
    "duration": 39,
    "start_time": "2023-11-01T07:25:53.776Z"
   },
   {
    "duration": 22,
    "start_time": "2023-11-01T07:25:53.817Z"
   },
   {
    "duration": 17,
    "start_time": "2023-11-01T07:25:53.841Z"
   },
   {
    "duration": 44,
    "start_time": "2023-11-01T07:25:53.860Z"
   },
   {
    "duration": 26,
    "start_time": "2023-11-01T07:25:53.906Z"
   },
   {
    "duration": 2583,
    "start_time": "2023-11-01T07:25:53.934Z"
   },
   {
    "duration": 2798,
    "start_time": "2023-11-01T07:25:56.519Z"
   },
   {
    "duration": 10,
    "start_time": "2023-11-01T07:25:59.319Z"
   },
   {
    "duration": 190,
    "start_time": "2023-11-01T07:40:45.865Z"
   },
   {
    "duration": 164,
    "start_time": "2023-11-01T07:40:53.573Z"
   },
   {
    "duration": 165,
    "start_time": "2023-11-01T07:41:05.644Z"
   },
   {
    "duration": 356,
    "start_time": "2023-11-01T07:48:47.181Z"
   },
   {
    "duration": 349,
    "start_time": "2023-11-01T07:48:56.821Z"
   },
   {
    "duration": 464,
    "start_time": "2023-11-01T07:49:42.964Z"
   },
   {
    "duration": 819,
    "start_time": "2023-11-01T07:52:33.894Z"
   },
   {
    "duration": 0,
    "start_time": "2023-11-01T07:55:14.009Z"
   },
   {
    "duration": 452,
    "start_time": "2023-11-01T07:55:17.110Z"
   },
   {
    "duration": 749,
    "start_time": "2023-11-01T07:57:27.701Z"
   },
   {
    "duration": 506,
    "start_time": "2023-11-01T07:57:47.540Z"
   },
   {
    "duration": 515,
    "start_time": "2023-11-01T07:57:55.765Z"
   },
   {
    "duration": 438,
    "start_time": "2023-11-01T07:59:06.174Z"
   },
   {
    "duration": 502,
    "start_time": "2023-11-01T07:59:13.236Z"
   },
   {
    "duration": 482,
    "start_time": "2023-11-01T07:59:36.760Z"
   },
   {
    "duration": 562,
    "start_time": "2023-11-01T07:59:44.046Z"
   },
   {
    "duration": 499,
    "start_time": "2023-11-01T07:59:53.111Z"
   },
   {
    "duration": 409,
    "start_time": "2023-11-01T08:00:13.413Z"
   },
   {
    "duration": 397,
    "start_time": "2023-11-01T08:00:19.514Z"
   },
   {
    "duration": 523,
    "start_time": "2023-11-01T08:00:28.160Z"
   },
   {
    "duration": 566,
    "start_time": "2023-11-01T08:01:28.170Z"
   },
   {
    "duration": 513,
    "start_time": "2023-11-01T08:01:35.025Z"
   },
   {
    "duration": 100,
    "start_time": "2023-11-01T08:01:40.475Z"
   },
   {
    "duration": 499,
    "start_time": "2023-11-01T08:01:42.822Z"
   },
   {
    "duration": 550,
    "start_time": "2023-11-01T08:02:34.170Z"
   },
   {
    "duration": 479,
    "start_time": "2023-11-01T08:02:49.081Z"
   },
   {
    "duration": 492,
    "start_time": "2023-11-01T08:02:59.366Z"
   },
   {
    "duration": 496,
    "start_time": "2023-11-01T08:03:09.428Z"
   },
   {
    "duration": 466,
    "start_time": "2023-11-01T08:03:17.095Z"
   },
   {
    "duration": 478,
    "start_time": "2023-11-01T08:04:19.066Z"
   },
   {
    "duration": 490,
    "start_time": "2023-11-01T08:04:29.645Z"
   },
   {
    "duration": 491,
    "start_time": "2023-11-01T08:04:46.945Z"
   },
   {
    "duration": 474,
    "start_time": "2023-11-01T08:05:17.321Z"
   },
   {
    "duration": 475,
    "start_time": "2023-11-01T08:05:35.762Z"
   },
   {
    "duration": 507,
    "start_time": "2023-11-01T08:05:46.013Z"
   },
   {
    "duration": 530,
    "start_time": "2023-11-01T08:05:51.483Z"
   },
   {
    "duration": 528,
    "start_time": "2023-11-01T08:06:11.192Z"
   },
   {
    "duration": 512,
    "start_time": "2023-11-01T08:06:33.124Z"
   },
   {
    "duration": 529,
    "start_time": "2023-11-01T08:06:44.097Z"
   },
   {
    "duration": 503,
    "start_time": "2023-11-01T08:07:07.834Z"
   },
   {
    "duration": 524,
    "start_time": "2023-11-01T08:07:20.854Z"
   },
   {
    "duration": 276,
    "start_time": "2023-11-01T08:07:36.625Z"
   },
   {
    "duration": 497,
    "start_time": "2023-11-01T08:07:43.416Z"
   },
   {
    "duration": 123,
    "start_time": "2023-11-01T08:08:06.194Z"
   },
   {
    "duration": 263,
    "start_time": "2023-11-01T08:08:27.424Z"
   },
   {
    "duration": 151,
    "start_time": "2023-11-01T08:08:45.695Z"
   },
   {
    "duration": 305,
    "start_time": "2023-11-01T08:09:01.113Z"
   },
   {
    "duration": 309,
    "start_time": "2023-11-01T08:09:07.596Z"
   },
   {
    "duration": 363,
    "start_time": "2023-11-01T08:09:24.664Z"
   },
   {
    "duration": 299,
    "start_time": "2023-11-01T08:09:35.672Z"
   },
   {
    "duration": 296,
    "start_time": "2023-11-01T08:09:42.012Z"
   },
   {
    "duration": 292,
    "start_time": "2023-11-01T08:09:48.022Z"
   },
   {
    "duration": 97,
    "start_time": "2023-11-01T08:10:10.906Z"
   },
   {
    "duration": 14,
    "start_time": "2023-11-01T08:10:26.439Z"
   },
   {
    "duration": 280,
    "start_time": "2023-11-01T08:10:29.912Z"
   },
   {
    "duration": 389,
    "start_time": "2023-11-01T08:11:03.808Z"
   },
   {
    "duration": 489,
    "start_time": "2023-11-01T08:11:18.156Z"
   },
   {
    "duration": 614,
    "start_time": "2023-11-01T08:11:30.475Z"
   },
   {
    "duration": 393,
    "start_time": "2023-11-01T08:13:19.491Z"
   },
   {
    "duration": 136,
    "start_time": "2023-11-01T08:14:06.749Z"
   },
   {
    "duration": 121,
    "start_time": "2023-11-01T08:14:46.671Z"
   },
   {
    "duration": 529,
    "start_time": "2023-11-01T08:14:55.354Z"
   },
   {
    "duration": 616,
    "start_time": "2023-11-01T08:15:27.757Z"
   },
   {
    "duration": 542,
    "start_time": "2023-11-01T08:15:45.592Z"
   },
   {
    "duration": 486,
    "start_time": "2023-11-01T08:15:58.683Z"
   },
   {
    "duration": 567,
    "start_time": "2023-11-01T08:16:14.434Z"
   },
   {
    "duration": 511,
    "start_time": "2023-11-01T08:17:11.166Z"
   },
   {
    "duration": 519,
    "start_time": "2023-11-01T08:17:32.754Z"
   },
   {
    "duration": 508,
    "start_time": "2023-11-01T08:17:40.533Z"
   },
   {
    "duration": 506,
    "start_time": "2023-11-01T08:19:51.738Z"
   },
   {
    "duration": 529,
    "start_time": "2023-11-01T08:27:08.343Z"
   },
   {
    "duration": 505,
    "start_time": "2023-11-01T08:27:21.135Z"
   },
   {
    "duration": 507,
    "start_time": "2023-11-01T08:28:09.466Z"
   },
   {
    "duration": 85,
    "start_time": "2023-11-01T08:28:44.674Z"
   },
   {
    "duration": 818,
    "start_time": "2023-11-01T08:28:58.568Z"
   },
   {
    "duration": 547,
    "start_time": "2023-11-01T08:29:12.974Z"
   },
   {
    "duration": 506,
    "start_time": "2023-11-01T08:29:35.172Z"
   },
   {
    "duration": 505,
    "start_time": "2023-11-01T08:29:57.255Z"
   },
   {
    "duration": 510,
    "start_time": "2023-11-01T08:30:06.846Z"
   },
   {
    "duration": 520,
    "start_time": "2023-11-01T08:30:29.512Z"
   },
   {
    "duration": 509,
    "start_time": "2023-11-01T08:30:38.121Z"
   },
   {
    "duration": 618,
    "start_time": "2023-11-01T08:31:14.027Z"
   },
   {
    "duration": 647,
    "start_time": "2023-11-01T08:31:24.159Z"
   },
   {
    "duration": 556,
    "start_time": "2023-11-01T08:31:37.153Z"
   },
   {
    "duration": 418,
    "start_time": "2023-11-01T08:31:47.909Z"
   },
   {
    "duration": 466,
    "start_time": "2023-11-01T08:31:55.823Z"
   },
   {
    "duration": 540,
    "start_time": "2023-11-01T08:32:04.211Z"
   },
   {
    "duration": 467,
    "start_time": "2023-11-01T08:32:13.359Z"
   },
   {
    "duration": 544,
    "start_time": "2023-11-01T08:32:18.320Z"
   },
   {
    "duration": 460,
    "start_time": "2023-11-01T08:32:26.751Z"
   },
   {
    "duration": 474,
    "start_time": "2023-11-01T08:32:33.655Z"
   },
   {
    "duration": 468,
    "start_time": "2023-11-01T08:32:53.501Z"
   },
   {
    "duration": 498,
    "start_time": "2023-11-01T08:33:00.282Z"
   },
   {
    "duration": 451,
    "start_time": "2023-11-01T08:33:07.310Z"
   },
   {
    "duration": 458,
    "start_time": "2023-11-01T08:33:13.359Z"
   },
   {
    "duration": 462,
    "start_time": "2023-11-01T08:33:22.062Z"
   },
   {
    "duration": 467,
    "start_time": "2023-11-01T08:33:31.675Z"
   },
   {
    "duration": 503,
    "start_time": "2023-11-01T08:33:38.102Z"
   },
   {
    "duration": 512,
    "start_time": "2023-11-01T08:33:43.892Z"
   },
   {
    "duration": 511,
    "start_time": "2023-11-01T08:33:54.023Z"
   },
   {
    "duration": 466,
    "start_time": "2023-11-01T08:36:16.629Z"
   },
   {
    "duration": 471,
    "start_time": "2023-11-01T08:36:35.481Z"
   },
   {
    "duration": 516,
    "start_time": "2023-11-01T08:36:52.292Z"
   },
   {
    "duration": 495,
    "start_time": "2023-11-01T08:37:24.190Z"
   },
   {
    "duration": 444,
    "start_time": "2023-11-01T08:37:33.032Z"
   },
   {
    "duration": 61,
    "start_time": "2023-11-01T08:38:28.584Z"
   },
   {
    "duration": 5487,
    "start_time": "2023-11-01T08:38:51.172Z"
   },
   {
    "duration": 6082,
    "start_time": "2023-11-01T08:38:56.662Z"
   },
   {
    "duration": 4463,
    "start_time": "2023-11-01T08:39:02.747Z"
   },
   {
    "duration": 460,
    "start_time": "2023-11-01T08:39:07.212Z"
   },
   {
    "duration": 48,
    "start_time": "2023-11-01T08:39:07.675Z"
   },
   {
    "duration": 152,
    "start_time": "2023-11-01T08:39:07.724Z"
   },
   {
    "duration": 37,
    "start_time": "2023-11-01T08:39:07.878Z"
   },
   {
    "duration": 43614,
    "start_time": "2023-11-01T08:39:07.917Z"
   },
   {
    "duration": 40171,
    "start_time": "2023-11-01T08:39:51.534Z"
   },
   {
    "duration": 12,
    "start_time": "2023-11-01T08:40:31.707Z"
   },
   {
    "duration": 284,
    "start_time": "2023-11-01T08:40:31.721Z"
   },
   {
    "duration": 109,
    "start_time": "2023-11-01T08:40:32.007Z"
   },
   {
    "duration": 64,
    "start_time": "2023-11-01T08:40:32.119Z"
   },
   {
    "duration": 49,
    "start_time": "2023-11-01T08:40:32.186Z"
   },
   {
    "duration": 3,
    "start_time": "2023-11-01T08:40:32.238Z"
   },
   {
    "duration": 52,
    "start_time": "2023-11-01T08:40:32.242Z"
   },
   {
    "duration": 25,
    "start_time": "2023-11-01T08:40:32.296Z"
   },
   {
    "duration": 23,
    "start_time": "2023-11-01T08:40:32.323Z"
   },
   {
    "duration": 28,
    "start_time": "2023-11-01T08:40:32.348Z"
   },
   {
    "duration": 18,
    "start_time": "2023-11-01T08:40:32.378Z"
   },
   {
    "duration": 522,
    "start_time": "2023-11-01T08:40:32.398Z"
   },
   {
    "duration": 443,
    "start_time": "2023-11-01T08:40:32.922Z"
   },
   {
    "duration": 483,
    "start_time": "2023-11-01T08:40:33.367Z"
   },
   {
    "duration": 2357,
    "start_time": "2023-11-01T08:40:33.851Z"
   },
   {
    "duration": 2093,
    "start_time": "2023-11-01T08:40:36.209Z"
   },
   {
    "duration": 10,
    "start_time": "2023-11-01T08:40:38.304Z"
   },
   {
    "duration": 468,
    "start_time": "2023-11-01T08:41:26.678Z"
   },
   {
    "duration": 449,
    "start_time": "2023-11-01T08:41:36.630Z"
   },
   {
    "duration": 477,
    "start_time": "2023-11-01T08:41:46.670Z"
   },
   {
    "duration": 588,
    "start_time": "2023-11-01T08:42:39.675Z"
   },
   {
    "duration": 688,
    "start_time": "2023-11-01T08:42:58.558Z"
   },
   {
    "duration": 631,
    "start_time": "2023-11-01T08:43:10.748Z"
   },
   {
    "duration": 637,
    "start_time": "2023-11-01T08:43:22.089Z"
   },
   {
    "duration": 22,
    "start_time": "2023-11-01T09:48:36.750Z"
   },
   {
    "duration": 6,
    "start_time": "2023-11-01T09:49:09.740Z"
   },
   {
    "duration": 5,
    "start_time": "2023-11-01T09:49:17.367Z"
   },
   {
    "duration": 188,
    "start_time": "2023-11-01T09:49:31.976Z"
   },
   {
    "duration": 7,
    "start_time": "2023-11-01T09:49:36.117Z"
   },
   {
    "duration": 447,
    "start_time": "2023-11-01T09:58:35.347Z"
   },
   {
    "duration": 807,
    "start_time": "2023-11-01T09:58:45.964Z"
   },
   {
    "duration": 872,
    "start_time": "2023-11-01T09:58:54.384Z"
   },
   {
    "duration": 1739,
    "start_time": "2023-11-01T09:59:02.966Z"
   },
   {
    "duration": 763,
    "start_time": "2023-11-01T09:59:12.811Z"
   },
   {
    "duration": 650,
    "start_time": "2023-11-01T09:59:48.715Z"
   },
   {
    "duration": 848,
    "start_time": "2023-11-01T09:59:54.073Z"
   },
   {
    "duration": 793,
    "start_time": "2023-11-01T10:00:29.277Z"
   },
   {
    "duration": 838,
    "start_time": "2023-11-01T10:04:13.287Z"
   },
   {
    "duration": 810,
    "start_time": "2023-11-01T10:04:22.461Z"
   },
   {
    "duration": 809,
    "start_time": "2023-11-01T10:04:34.756Z"
   },
   {
    "duration": 780,
    "start_time": "2023-11-01T10:04:45.596Z"
   },
   {
    "duration": 3,
    "start_time": "2023-11-01T10:26:55.382Z"
   },
   {
    "duration": 4,
    "start_time": "2023-11-01T10:27:05.185Z"
   },
   {
    "duration": 19069,
    "start_time": "2023-11-01T15:16:04.285Z"
   },
   {
    "duration": 9479,
    "start_time": "2023-11-01T15:16:23.356Z"
   },
   {
    "duration": 2753,
    "start_time": "2023-11-01T15:16:32.837Z"
   },
   {
    "duration": 467,
    "start_time": "2023-11-01T15:16:35.592Z"
   },
   {
    "duration": 52,
    "start_time": "2023-11-01T15:16:36.061Z"
   },
   {
    "duration": 267,
    "start_time": "2023-11-01T15:16:36.115Z"
   },
   {
    "duration": 63,
    "start_time": "2023-11-01T15:16:36.383Z"
   },
   {
    "duration": 188,
    "start_time": "2023-11-01T15:16:36.448Z"
   },
   {
    "duration": 43577,
    "start_time": "2023-11-01T15:16:36.638Z"
   },
   {
    "duration": 39493,
    "start_time": "2023-11-01T15:17:20.218Z"
   },
   {
    "duration": 11,
    "start_time": "2023-11-01T15:17:59.725Z"
   },
   {
    "duration": 212,
    "start_time": "2023-11-01T15:17:59.738Z"
   },
   {
    "duration": 190,
    "start_time": "2023-11-01T15:17:59.952Z"
   },
   {
    "duration": 99,
    "start_time": "2023-11-01T15:18:00.144Z"
   },
   {
    "duration": 39,
    "start_time": "2023-11-01T15:18:00.245Z"
   },
   {
    "duration": 3,
    "start_time": "2023-11-01T15:18:00.285Z"
   },
   {
    "duration": 53,
    "start_time": "2023-11-01T15:18:00.290Z"
   },
   {
    "duration": 44,
    "start_time": "2023-11-01T15:18:00.346Z"
   },
   {
    "duration": 39,
    "start_time": "2023-11-01T15:18:00.391Z"
   },
   {
    "duration": 36,
    "start_time": "2023-11-01T15:18:00.433Z"
   },
   {
    "duration": 57,
    "start_time": "2023-11-01T15:18:00.471Z"
   },
   {
    "duration": 600,
    "start_time": "2023-11-01T15:18:00.530Z"
   },
   {
    "duration": 670,
    "start_time": "2023-11-01T15:18:01.132Z"
   },
   {
    "duration": 623,
    "start_time": "2023-11-01T15:18:01.803Z"
   },
   {
    "duration": 772,
    "start_time": "2023-11-01T15:18:02.428Z"
   },
   {
    "duration": 2850,
    "start_time": "2023-11-01T15:18:03.201Z"
   },
   {
    "duration": 2334,
    "start_time": "2023-11-01T15:18:06.053Z"
   },
   {
    "duration": 10,
    "start_time": "2023-11-01T15:18:08.392Z"
   },
   {
    "duration": 24,
    "start_time": "2023-11-01T15:18:08.404Z"
   },
   {
    "duration": 4,
    "start_time": "2023-11-01T15:31:46.440Z"
   },
   {
    "duration": 4,
    "start_time": "2023-11-01T15:44:16.713Z"
   },
   {
    "duration": 5,
    "start_time": "2023-11-01T15:44:40.997Z"
   },
   {
    "duration": 6,
    "start_time": "2023-11-01T15:45:37.769Z"
   },
   {
    "duration": 6,
    "start_time": "2023-11-01T15:45:41.661Z"
   },
   {
    "duration": 216,
    "start_time": "2023-11-01T15:53:52.192Z"
   },
   {
    "duration": 12,
    "start_time": "2023-11-01T15:55:44.759Z"
   },
   {
    "duration": 10,
    "start_time": "2023-11-01T15:56:16.780Z"
   },
   {
    "duration": 87,
    "start_time": "2023-11-01T15:56:21.123Z"
   },
   {
    "duration": 6,
    "start_time": "2023-11-01T15:56:24.904Z"
   },
   {
    "duration": 6,
    "start_time": "2023-11-01T15:56:30.942Z"
   },
   {
    "duration": 3850,
    "start_time": "2023-11-01T16:31:21.993Z"
   },
   {
    "duration": 6602,
    "start_time": "2023-11-01T16:31:25.846Z"
   },
   {
    "duration": 3160,
    "start_time": "2023-11-01T16:31:32.451Z"
   },
   {
    "duration": 358,
    "start_time": "2023-11-01T16:31:35.614Z"
   },
   {
    "duration": 95,
    "start_time": "2023-11-01T16:31:35.976Z"
   },
   {
    "duration": 236,
    "start_time": "2023-11-01T16:31:36.073Z"
   },
   {
    "duration": 38,
    "start_time": "2023-11-01T16:31:36.311Z"
   },
   {
    "duration": 48355,
    "start_time": "2023-11-01T16:31:36.351Z"
   },
   {
    "duration": 47336,
    "start_time": "2023-11-01T16:32:24.724Z"
   },
   {
    "duration": 4,
    "start_time": "2023-11-01T16:33:12.063Z"
   },
   {
    "duration": 390,
    "start_time": "2023-11-01T16:33:12.069Z"
   },
   {
    "duration": 0,
    "start_time": "2023-11-01T16:33:12.461Z"
   },
   {
    "duration": 0,
    "start_time": "2023-11-01T16:33:12.462Z"
   },
   {
    "duration": 0,
    "start_time": "2023-11-01T16:33:12.463Z"
   },
   {
    "duration": 0,
    "start_time": "2023-11-01T16:33:12.465Z"
   },
   {
    "duration": 0,
    "start_time": "2023-11-01T16:33:12.466Z"
   },
   {
    "duration": 0,
    "start_time": "2023-11-01T16:33:12.467Z"
   },
   {
    "duration": 0,
    "start_time": "2023-11-01T16:33:12.468Z"
   },
   {
    "duration": 0,
    "start_time": "2023-11-01T16:33:12.469Z"
   },
   {
    "duration": 0,
    "start_time": "2023-11-01T16:33:12.470Z"
   },
   {
    "duration": 0,
    "start_time": "2023-11-01T16:33:12.471Z"
   },
   {
    "duration": 0,
    "start_time": "2023-11-01T16:33:12.472Z"
   },
   {
    "duration": 0,
    "start_time": "2023-11-01T16:33:12.473Z"
   },
   {
    "duration": 0,
    "start_time": "2023-11-01T16:33:12.474Z"
   },
   {
    "duration": 0,
    "start_time": "2023-11-01T16:33:12.475Z"
   },
   {
    "duration": 0,
    "start_time": "2023-11-01T16:33:12.476Z"
   },
   {
    "duration": 0,
    "start_time": "2023-11-01T16:33:12.477Z"
   },
   {
    "duration": 0,
    "start_time": "2023-11-01T16:33:12.478Z"
   },
   {
    "duration": 0,
    "start_time": "2023-11-01T16:33:12.479Z"
   },
   {
    "duration": 0,
    "start_time": "2023-11-01T16:33:12.480Z"
   },
   {
    "duration": 0,
    "start_time": "2023-11-01T16:33:12.481Z"
   },
   {
    "duration": 0,
    "start_time": "2023-11-01T16:33:12.483Z"
   },
   {
    "duration": 0,
    "start_time": "2023-11-01T16:33:12.524Z"
   },
   {
    "duration": 3,
    "start_time": "2023-11-01T16:37:56.706Z"
   },
   {
    "duration": 6,
    "start_time": "2023-11-01T16:38:03.042Z"
   },
   {
    "duration": 7,
    "start_time": "2023-11-01T16:38:04.422Z"
   },
   {
    "duration": 13,
    "start_time": "2023-11-01T16:38:05.538Z"
   },
   {
    "duration": 7,
    "start_time": "2023-11-01T16:38:06.299Z"
   },
   {
    "duration": 19,
    "start_time": "2023-11-01T16:44:57.584Z"
   },
   {
    "duration": 17,
    "start_time": "2023-11-01T16:44:57.891Z"
   },
   {
    "duration": 13,
    "start_time": "2023-11-01T16:44:58.807Z"
   },
   {
    "duration": 29,
    "start_time": "2023-11-01T16:50:21.210Z"
   },
   {
    "duration": 8,
    "start_time": "2023-11-01T16:50:27.542Z"
   },
   {
    "duration": 18,
    "start_time": "2023-11-01T16:50:36.855Z"
   },
   {
    "duration": 13,
    "start_time": "2023-11-01T16:50:37.457Z"
   },
   {
    "duration": 7,
    "start_time": "2023-11-01T16:50:37.898Z"
   },
   {
    "duration": 3373,
    "start_time": "2023-11-01T16:51:25.182Z"
   },
   {
    "duration": 9393,
    "start_time": "2023-11-01T16:51:28.557Z"
   },
   {
    "duration": 3265,
    "start_time": "2023-11-01T16:51:37.965Z"
   },
   {
    "duration": 296,
    "start_time": "2023-11-01T16:51:41.233Z"
   },
   {
    "duration": 12,
    "start_time": "2023-11-01T16:51:41.538Z"
   },
   {
    "duration": 84,
    "start_time": "2023-11-01T16:51:41.554Z"
   },
   {
    "duration": 164,
    "start_time": "2023-11-01T16:51:41.642Z"
   },
   {
    "duration": 40,
    "start_time": "2023-11-01T16:51:41.808Z"
   },
   {
    "duration": 48185,
    "start_time": "2023-11-01T16:51:41.850Z"
   },
   {
    "duration": 44172,
    "start_time": "2023-11-01T16:52:30.038Z"
   },
   {
    "duration": 25,
    "start_time": "2023-11-01T16:53:14.212Z"
   },
   {
    "duration": 13,
    "start_time": "2023-11-01T16:53:14.239Z"
   },
   {
    "duration": 6,
    "start_time": "2023-11-01T16:53:14.256Z"
   },
   {
    "duration": 73,
    "start_time": "2023-11-01T16:53:14.264Z"
   },
   {
    "duration": 24,
    "start_time": "2023-11-01T16:53:14.341Z"
   },
   {
    "duration": 11,
    "start_time": "2023-11-01T16:53:14.366Z"
   },
   {
    "duration": 84,
    "start_time": "2023-11-01T16:53:14.379Z"
   },
   {
    "duration": 7,
    "start_time": "2023-11-01T16:53:14.465Z"
   },
   {
    "duration": 60,
    "start_time": "2023-11-01T16:53:14.474Z"
   },
   {
    "duration": 35,
    "start_time": "2023-11-01T16:53:14.547Z"
   },
   {
    "duration": 171,
    "start_time": "2023-11-01T16:53:14.584Z"
   },
   {
    "duration": 95,
    "start_time": "2023-11-01T16:53:14.757Z"
   },
   {
    "duration": 65,
    "start_time": "2023-11-01T16:53:14.855Z"
   },
   {
    "duration": 89,
    "start_time": "2023-11-01T16:53:14.924Z"
   },
   {
    "duration": 567,
    "start_time": "2023-11-01T16:53:15.015Z"
   },
   {
    "duration": 770,
    "start_time": "2023-11-01T16:53:15.584Z"
   },
   {
    "duration": 794,
    "start_time": "2023-11-01T16:53:16.372Z"
   },
   {
    "duration": 807,
    "start_time": "2023-11-01T16:53:17.169Z"
   },
   {
    "duration": 2487,
    "start_time": "2023-11-01T16:53:17.978Z"
   },
   {
    "duration": 2377,
    "start_time": "2023-11-01T16:53:20.466Z"
   },
   {
    "duration": 12,
    "start_time": "2023-11-01T16:53:22.845Z"
   },
   {
    "duration": 21,
    "start_time": "2023-11-01T16:53:22.859Z"
   },
   {
    "duration": 18,
    "start_time": "2023-11-01T16:54:09.409Z"
   },
   {
    "duration": 6,
    "start_time": "2023-11-01T16:54:09.909Z"
   },
   {
    "duration": 5,
    "start_time": "2023-11-01T16:54:11.357Z"
   },
   {
    "duration": 11,
    "start_time": "2023-11-01T16:54:27.159Z"
   },
   {
    "duration": 18,
    "start_time": "2023-11-01T16:54:41.457Z"
   },
   {
    "duration": 6,
    "start_time": "2023-11-01T16:54:42.077Z"
   },
   {
    "duration": 15,
    "start_time": "2023-11-01T16:54:43.030Z"
   },
   {
    "duration": 2807,
    "start_time": "2023-11-01T16:55:06.881Z"
   },
   {
    "duration": 5563,
    "start_time": "2023-11-01T16:55:09.691Z"
   },
   {
    "duration": 2780,
    "start_time": "2023-11-01T16:55:15.256Z"
   },
   {
    "duration": 269,
    "start_time": "2023-11-01T16:55:18.038Z"
   },
   {
    "duration": 3,
    "start_time": "2023-11-01T16:55:18.309Z"
   },
   {
    "duration": 121,
    "start_time": "2023-11-01T16:55:18.313Z"
   },
   {
    "duration": 138,
    "start_time": "2023-11-01T16:55:18.436Z"
   },
   {
    "duration": 22,
    "start_time": "2023-11-01T16:55:18.575Z"
   },
   {
    "duration": 42230,
    "start_time": "2023-11-01T16:55:18.599Z"
   },
   {
    "duration": 40556,
    "start_time": "2023-11-01T16:56:00.835Z"
   },
   {
    "duration": 4,
    "start_time": "2023-11-01T16:56:41.393Z"
   },
   {
    "duration": 48,
    "start_time": "2023-11-01T16:56:41.398Z"
   },
   {
    "duration": 21,
    "start_time": "2023-11-01T16:56:41.449Z"
   },
   {
    "duration": 64,
    "start_time": "2023-11-01T16:56:41.472Z"
   },
   {
    "duration": 26,
    "start_time": "2023-11-01T16:56:41.541Z"
   },
   {
    "duration": 72,
    "start_time": "2023-11-01T16:56:41.569Z"
   },
   {
    "duration": 89,
    "start_time": "2023-11-01T16:56:41.643Z"
   },
   {
    "duration": 36,
    "start_time": "2023-11-01T16:56:41.734Z"
   },
   {
    "duration": 25,
    "start_time": "2023-11-01T16:56:41.772Z"
   },
   {
    "duration": 38,
    "start_time": "2023-11-01T16:56:41.799Z"
   },
   {
    "duration": 90,
    "start_time": "2023-11-01T16:56:41.840Z"
   },
   {
    "duration": 79,
    "start_time": "2023-11-01T16:56:41.932Z"
   },
   {
    "duration": 130,
    "start_time": "2023-11-01T16:56:42.013Z"
   },
   {
    "duration": 95,
    "start_time": "2023-11-01T16:56:42.146Z"
   },
   {
    "duration": 518,
    "start_time": "2023-11-01T16:56:42.243Z"
   },
   {
    "duration": 647,
    "start_time": "2023-11-01T16:56:42.763Z"
   },
   {
    "duration": 615,
    "start_time": "2023-11-01T16:56:43.412Z"
   },
   {
    "duration": 773,
    "start_time": "2023-11-01T16:56:44.035Z"
   },
   {
    "duration": 2483,
    "start_time": "2023-11-01T16:56:44.809Z"
   },
   {
    "duration": 2375,
    "start_time": "2023-11-01T16:56:47.294Z"
   },
   {
    "duration": 9,
    "start_time": "2023-11-01T16:56:49.671Z"
   },
   {
    "duration": 10,
    "start_time": "2023-11-01T16:56:49.683Z"
   },
   {
    "duration": 197,
    "start_time": "2023-11-01T17:12:23.246Z"
   },
   {
    "duration": 2886,
    "start_time": "2023-11-01T17:15:03.431Z"
   },
   {
    "duration": 5838,
    "start_time": "2023-11-01T17:15:06.320Z"
   },
   {
    "duration": 2633,
    "start_time": "2023-11-01T17:15:12.161Z"
   },
   {
    "duration": 250,
    "start_time": "2023-11-01T17:15:14.795Z"
   },
   {
    "duration": 3,
    "start_time": "2023-11-01T17:15:15.046Z"
   },
   {
    "duration": 144,
    "start_time": "2023-11-01T17:15:15.050Z"
   },
   {
    "duration": 271,
    "start_time": "2023-11-01T17:15:15.195Z"
   },
   {
    "duration": 24,
    "start_time": "2023-11-01T17:15:15.467Z"
   },
   {
    "duration": 42013,
    "start_time": "2023-11-01T17:15:15.492Z"
   },
   {
    "duration": 40769,
    "start_time": "2023-11-01T17:15:57.524Z"
   },
   {
    "duration": 4,
    "start_time": "2023-11-01T17:16:38.295Z"
   },
   {
    "duration": 15,
    "start_time": "2023-11-01T17:16:38.323Z"
   },
   {
    "duration": 39,
    "start_time": "2023-11-01T17:16:38.341Z"
   },
   {
    "duration": 64,
    "start_time": "2023-11-01T17:16:38.381Z"
   },
   {
    "duration": 20,
    "start_time": "2023-11-01T17:16:38.447Z"
   },
   {
    "duration": 72,
    "start_time": "2023-11-01T17:16:38.469Z"
   },
   {
    "duration": 20,
    "start_time": "2023-11-01T17:16:38.543Z"
   },
   {
    "duration": 75,
    "start_time": "2023-11-01T17:16:38.565Z"
   },
   {
    "duration": 37,
    "start_time": "2023-11-01T17:16:38.642Z"
   },
   {
    "duration": 61,
    "start_time": "2023-11-01T17:16:38.681Z"
   },
   {
    "duration": 80,
    "start_time": "2023-11-01T17:16:38.744Z"
   },
   {
    "duration": 83,
    "start_time": "2023-11-01T17:16:38.827Z"
   },
   {
    "duration": 81,
    "start_time": "2023-11-01T17:16:38.912Z"
   },
   {
    "duration": 92,
    "start_time": "2023-11-01T17:16:38.994Z"
   },
   {
    "duration": 519,
    "start_time": "2023-11-01T17:16:39.088Z"
   },
   {
    "duration": 674,
    "start_time": "2023-11-01T17:16:39.609Z"
   },
   {
    "duration": 645,
    "start_time": "2023-11-01T17:16:40.286Z"
   },
   {
    "duration": 817,
    "start_time": "2023-11-01T17:16:40.936Z"
   },
   {
    "duration": 2481,
    "start_time": "2023-11-01T17:16:41.755Z"
   },
   {
    "duration": 2275,
    "start_time": "2023-11-01T17:16:44.239Z"
   },
   {
    "duration": 18,
    "start_time": "2023-11-01T17:16:46.516Z"
   },
   {
    "duration": 7,
    "start_time": "2023-11-01T17:16:46.538Z"
   },
   {
    "duration": 6,
    "start_time": "2023-11-01T17:17:34.795Z"
   },
   {
    "duration": 9,
    "start_time": "2023-11-01T17:18:02.687Z"
   },
   {
    "duration": 34,
    "start_time": "2023-11-01T17:22:01.363Z"
   },
   {
    "duration": 6,
    "start_time": "2023-11-01T17:22:06.371Z"
   },
   {
    "duration": 8,
    "start_time": "2023-11-01T17:23:25.759Z"
   },
   {
    "duration": 7,
    "start_time": "2023-11-01T17:24:20.514Z"
   },
   {
    "duration": 7,
    "start_time": "2023-11-01T17:24:31.554Z"
   },
   {
    "duration": 7,
    "start_time": "2023-11-01T17:24:48.286Z"
   },
   {
    "duration": 81,
    "start_time": "2023-11-01T17:24:48.647Z"
   },
   {
    "duration": 9,
    "start_time": "2023-11-01T17:24:52.291Z"
   },
   {
    "duration": 8,
    "start_time": "2023-11-01T17:24:52.915Z"
   },
   {
    "duration": 6,
    "start_time": "2023-11-01T17:24:53.563Z"
   },
   {
    "duration": 45,
    "start_time": "2023-11-01T17:24:59.726Z"
   },
   {
    "duration": 20995,
    "start_time": "2023-11-02T01:48:14.896Z"
   },
   {
    "duration": 8919,
    "start_time": "2023-11-02T01:48:35.894Z"
   },
   {
    "duration": 2939,
    "start_time": "2023-11-02T01:48:44.815Z"
   },
   {
    "duration": 1450,
    "start_time": "2023-11-02T01:48:47.757Z"
   },
   {
    "duration": 2,
    "start_time": "2023-11-02T01:48:49.209Z"
   },
   {
    "duration": 51,
    "start_time": "2023-11-02T01:48:49.213Z"
   },
   {
    "duration": 139,
    "start_time": "2023-11-02T01:48:49.265Z"
   },
   {
    "duration": 23,
    "start_time": "2023-11-02T01:48:49.406Z"
   },
   {
    "duration": 41662,
    "start_time": "2023-11-02T01:48:49.430Z"
   },
   {
    "duration": 39687,
    "start_time": "2023-11-02T01:49:31.096Z"
   },
   {
    "duration": 4,
    "start_time": "2023-11-02T01:50:10.785Z"
   },
   {
    "duration": 57,
    "start_time": "2023-11-02T01:50:10.791Z"
   },
   {
    "duration": 7,
    "start_time": "2023-11-02T01:50:10.850Z"
   },
   {
    "duration": 93,
    "start_time": "2023-11-02T01:50:10.859Z"
   },
   {
    "duration": 17,
    "start_time": "2023-11-02T01:50:10.955Z"
   },
   {
    "duration": 70,
    "start_time": "2023-11-02T01:50:10.974Z"
   },
   {
    "duration": 21,
    "start_time": "2023-11-02T01:50:11.047Z"
   },
   {
    "duration": 18,
    "start_time": "2023-11-02T01:50:11.070Z"
   },
   {
    "duration": 58,
    "start_time": "2023-11-02T01:50:11.090Z"
   },
   {
    "duration": 15,
    "start_time": "2023-11-02T01:50:11.150Z"
   },
   {
    "duration": 160,
    "start_time": "2023-11-02T01:50:11.167Z"
   },
   {
    "duration": 101,
    "start_time": "2023-11-02T01:50:11.328Z"
   },
   {
    "duration": 86,
    "start_time": "2023-11-02T01:50:11.431Z"
   },
   {
    "duration": 100,
    "start_time": "2023-11-02T01:50:11.519Z"
   },
   {
    "duration": 575,
    "start_time": "2023-11-02T01:50:11.621Z"
   },
   {
    "duration": 648,
    "start_time": "2023-11-02T01:50:12.197Z"
   },
   {
    "duration": 562,
    "start_time": "2023-11-02T01:50:12.847Z"
   },
   {
    "duration": 840,
    "start_time": "2023-11-02T01:50:13.412Z"
   },
   {
    "duration": 11,
    "start_time": "2023-11-02T01:50:14.254Z"
   },
   {
    "duration": 13,
    "start_time": "2023-11-02T01:50:14.267Z"
   },
   {
    "duration": 14,
    "start_time": "2023-11-02T01:50:14.282Z"
   },
   {
    "duration": 8,
    "start_time": "2023-11-02T01:50:14.298Z"
   },
   {
    "duration": 89,
    "start_time": "2023-11-02T01:50:14.308Z"
   },
   {
    "duration": 2224,
    "start_time": "2023-11-02T01:50:14.399Z"
   },
   {
    "duration": 1999,
    "start_time": "2023-11-02T01:50:16.624Z"
   },
   {
    "duration": 19,
    "start_time": "2023-11-02T01:50:18.625Z"
   },
   {
    "duration": 7,
    "start_time": "2023-11-02T01:51:53.988Z"
   },
   {
    "duration": 9,
    "start_time": "2023-11-02T01:52:09.096Z"
   },
   {
    "duration": 25,
    "start_time": "2023-11-02T01:52:46.358Z"
   },
   {
    "duration": 9,
    "start_time": "2023-11-02T01:53:35.310Z"
   },
   {
    "duration": 23,
    "start_time": "2023-11-02T01:53:47.968Z"
   },
   {
    "duration": 19,
    "start_time": "2023-11-02T03:53:51.639Z"
   },
   {
    "duration": 8,
    "start_time": "2023-11-02T03:53:53.411Z"
   },
   {
    "duration": 38,
    "start_time": "2023-11-02T03:53:54.502Z"
   },
   {
    "duration": 7,
    "start_time": "2023-11-02T03:54:00.092Z"
   },
   {
    "duration": 3387,
    "start_time": "2023-11-02T03:54:15.461Z"
   },
   {
    "duration": 5862,
    "start_time": "2023-11-02T03:54:18.851Z"
   },
   {
    "duration": 2783,
    "start_time": "2023-11-02T03:54:24.716Z"
   },
   {
    "duration": 238,
    "start_time": "2023-11-02T03:54:27.501Z"
   },
   {
    "duration": 3,
    "start_time": "2023-11-02T03:54:27.741Z"
   },
   {
    "duration": 50,
    "start_time": "2023-11-02T03:54:27.745Z"
   },
   {
    "duration": 222,
    "start_time": "2023-11-02T03:54:27.798Z"
   },
   {
    "duration": 25,
    "start_time": "2023-11-02T03:54:28.021Z"
   },
   {
    "duration": 44442,
    "start_time": "2023-11-02T03:54:28.049Z"
   },
   {
    "duration": 42085,
    "start_time": "2023-11-02T03:55:12.495Z"
   },
   {
    "duration": 6,
    "start_time": "2023-11-02T03:55:54.582Z"
   },
   {
    "duration": 58,
    "start_time": "2023-11-02T03:55:54.590Z"
   },
   {
    "duration": 18,
    "start_time": "2023-11-02T03:55:54.650Z"
   },
   {
    "duration": 83,
    "start_time": "2023-11-02T03:55:54.671Z"
   },
   {
    "duration": 16,
    "start_time": "2023-11-02T03:55:54.756Z"
   },
   {
    "duration": 70,
    "start_time": "2023-11-02T03:55:54.774Z"
   },
   {
    "duration": 31,
    "start_time": "2023-11-02T03:55:54.847Z"
   },
   {
    "duration": 65,
    "start_time": "2023-11-02T03:55:54.881Z"
   },
   {
    "duration": 8,
    "start_time": "2023-11-02T03:55:54.948Z"
   },
   {
    "duration": 21,
    "start_time": "2023-11-02T03:55:54.958Z"
   },
   {
    "duration": 135,
    "start_time": "2023-11-02T03:55:54.981Z"
   },
   {
    "duration": 100,
    "start_time": "2023-11-02T03:55:55.118Z"
   },
   {
    "duration": 81,
    "start_time": "2023-11-02T03:55:55.220Z"
   },
   {
    "duration": 79,
    "start_time": "2023-11-02T03:55:55.303Z"
   },
   {
    "duration": 623,
    "start_time": "2023-11-02T03:55:55.383Z"
   },
   {
    "duration": 685,
    "start_time": "2023-11-02T03:55:56.008Z"
   },
   {
    "duration": 632,
    "start_time": "2023-11-02T03:55:56.695Z"
   },
   {
    "duration": 828,
    "start_time": "2023-11-02T03:55:57.330Z"
   },
   {
    "duration": 6,
    "start_time": "2023-11-02T03:55:58.160Z"
   },
   {
    "duration": 35,
    "start_time": "2023-11-02T03:55:58.168Z"
   },
   {
    "duration": 14,
    "start_time": "2023-11-02T03:55:58.205Z"
   },
   {
    "duration": 16,
    "start_time": "2023-11-02T03:55:58.221Z"
   },
   {
    "duration": 51,
    "start_time": "2023-11-02T03:55:58.239Z"
   },
   {
    "duration": 2270,
    "start_time": "2023-11-02T03:55:58.292Z"
   },
   {
    "duration": 2168,
    "start_time": "2023-11-02T03:56:00.565Z"
   },
   {
    "duration": 14,
    "start_time": "2023-11-02T03:56:02.735Z"
   },
   {
    "duration": 70,
    "start_time": "2023-11-02T03:57:13.969Z"
   },
   {
    "duration": 6,
    "start_time": "2023-11-02T04:09:49.717Z"
   },
   {
    "duration": 5,
    "start_time": "2023-11-02T04:10:22.586Z"
   },
   {
    "duration": 1685,
    "start_time": "2023-11-02T04:12:05.030Z"
   },
   {
    "duration": 1348,
    "start_time": "2023-11-02T04:12:49.736Z"
   },
   {
    "duration": 1277,
    "start_time": "2023-11-02T04:13:26.801Z"
   },
   {
    "duration": 1264,
    "start_time": "2023-11-02T04:13:32.931Z"
   },
   {
    "duration": 1200,
    "start_time": "2023-11-02T04:13:35.411Z"
   },
   {
    "duration": 12,
    "start_time": "2023-11-02T04:14:00.285Z"
   },
   {
    "duration": 1226,
    "start_time": "2023-11-02T04:14:35.422Z"
   },
   {
    "duration": 1351,
    "start_time": "2023-11-02T04:14:56.070Z"
   },
   {
    "duration": 14,
    "start_time": "2023-11-02T04:15:07.018Z"
   },
   {
    "duration": 6,
    "start_time": "2023-11-02T04:15:27.167Z"
   },
   {
    "duration": 26,
    "start_time": "2023-11-02T04:18:13.220Z"
   },
   {
    "duration": 26,
    "start_time": "2023-11-02T04:18:38.160Z"
   },
   {
    "duration": 21,
    "start_time": "2023-11-02T04:18:42.156Z"
   },
   {
    "duration": 36,
    "start_time": "2023-11-02T04:18:50.286Z"
   },
   {
    "duration": 13,
    "start_time": "2023-11-02T04:19:36.316Z"
   },
   {
    "duration": 20,
    "start_time": "2023-11-02T04:20:05.091Z"
   },
   {
    "duration": 6,
    "start_time": "2023-11-02T04:20:09.730Z"
   },
   {
    "duration": 16,
    "start_time": "2023-11-02T04:20:24.095Z"
   },
   {
    "duration": 7,
    "start_time": "2023-11-02T04:21:28.652Z"
   },
   {
    "duration": 345,
    "start_time": "2023-11-02T04:29:15.854Z"
   },
   {
    "duration": 5,
    "start_time": "2023-11-02T04:29:50.150Z"
   },
   {
    "duration": 13,
    "start_time": "2023-11-02T04:30:46.313Z"
   },
   {
    "duration": 8,
    "start_time": "2023-11-02T04:30:56.902Z"
   },
   {
    "duration": 19,
    "start_time": "2023-11-02T04:31:05.386Z"
   },
   {
    "duration": 6,
    "start_time": "2023-11-02T04:31:13.245Z"
   },
   {
    "duration": 17,
    "start_time": "2023-11-02T04:31:23.627Z"
   },
   {
    "duration": 11,
    "start_time": "2023-11-02T04:31:27.353Z"
   },
   {
    "duration": 3963,
    "start_time": "2023-11-02T04:41:58.174Z"
   },
   {
    "duration": 4962,
    "start_time": "2023-11-02T04:42:10.235Z"
   },
   {
    "duration": 4214,
    "start_time": "2023-11-02T04:42:23.379Z"
   },
   {
    "duration": 4665,
    "start_time": "2023-11-02T04:42:43.932Z"
   },
   {
    "duration": 4520,
    "start_time": "2023-11-02T04:42:59.332Z"
   },
   {
    "duration": 80,
    "start_time": "2023-11-02T04:43:26.032Z"
   },
   {
    "duration": 2045,
    "start_time": "2023-11-02T04:43:29.739Z"
   },
   {
    "duration": 1656,
    "start_time": "2023-11-02T04:43:39.738Z"
   },
   {
    "duration": 4036,
    "start_time": "2023-11-02T04:45:05.647Z"
   },
   {
    "duration": 83,
    "start_time": "2023-11-02T04:45:19.081Z"
   },
   {
    "duration": 4449,
    "start_time": "2023-11-02T04:45:22.795Z"
   },
   {
    "duration": 4321,
    "start_time": "2023-11-02T04:46:12.701Z"
   },
   {
    "duration": 4404,
    "start_time": "2023-11-02T04:46:35.759Z"
   },
   {
    "duration": 75,
    "start_time": "2023-11-02T04:46:44.302Z"
   },
   {
    "duration": 138,
    "start_time": "2023-11-02T04:46:52.642Z"
   },
   {
    "duration": 4093,
    "start_time": "2023-11-02T04:46:55.689Z"
   },
   {
    "duration": 4486,
    "start_time": "2023-11-02T04:48:51.597Z"
   },
   {
    "duration": 4098,
    "start_time": "2023-11-02T04:49:16.910Z"
   },
   {
    "duration": 4513,
    "start_time": "2023-11-02T04:49:33.203Z"
   },
   {
    "duration": 5,
    "start_time": "2023-11-02T05:11:46.536Z"
   },
   {
    "duration": 19,
    "start_time": "2023-11-02T05:11:56.515Z"
   },
   {
    "duration": 1834,
    "start_time": "2023-11-02T05:12:29.765Z"
   },
   {
    "duration": 4605,
    "start_time": "2023-11-02T05:12:35.825Z"
   },
   {
    "duration": 4,
    "start_time": "2023-11-02T06:00:22.768Z"
   },
   {
    "duration": 4,
    "start_time": "2023-11-02T06:00:37.421Z"
   },
   {
    "duration": 7,
    "start_time": "2023-11-02T06:02:19.091Z"
   },
   {
    "duration": 11,
    "start_time": "2023-11-02T06:03:12.101Z"
   },
   {
    "duration": 5,
    "start_time": "2023-11-02T06:03:25.214Z"
   },
   {
    "duration": 27,
    "start_time": "2023-11-02T06:08:27.026Z"
   },
   {
    "duration": 10,
    "start_time": "2023-11-02T06:08:35.680Z"
   },
   {
    "duration": 31,
    "start_time": "2023-11-02T06:08:43.630Z"
   },
   {
    "duration": 38,
    "start_time": "2023-11-02T06:09:46.581Z"
   },
   {
    "duration": 7,
    "start_time": "2023-11-02T06:09:56.676Z"
   },
   {
    "duration": 56,
    "start_time": "2023-11-02T06:09:57.373Z"
   },
   {
    "duration": 48,
    "start_time": "2023-11-02T06:10:57.176Z"
   },
   {
    "duration": 37,
    "start_time": "2023-11-02T06:11:03.224Z"
   },
   {
    "duration": 23,
    "start_time": "2023-11-02T06:11:06.371Z"
   },
   {
    "duration": 13,
    "start_time": "2023-11-02T06:11:53.624Z"
   },
   {
    "duration": 27,
    "start_time": "2023-11-02T06:12:02.614Z"
   },
   {
    "duration": 28,
    "start_time": "2023-11-02T06:12:05.961Z"
   },
   {
    "duration": 5,
    "start_time": "2023-11-02T06:12:48.932Z"
   },
   {
    "duration": 25,
    "start_time": "2023-11-02T06:12:50.181Z"
   },
   {
    "duration": 23,
    "start_time": "2023-11-02T06:12:50.740Z"
   },
   {
    "duration": 133,
    "start_time": "2023-11-02T06:13:07.043Z"
   },
   {
    "duration": 29,
    "start_time": "2023-11-02T06:13:11.199Z"
   },
   {
    "duration": 5,
    "start_time": "2023-11-02T06:13:30.022Z"
   },
   {
    "duration": 39,
    "start_time": "2023-11-02T06:13:30.560Z"
   },
   {
    "duration": 68,
    "start_time": "2023-11-02T06:13:31.059Z"
   },
   {
    "duration": 8,
    "start_time": "2023-11-02T06:13:51.702Z"
   },
   {
    "duration": 6,
    "start_time": "2023-11-02T06:13:59.797Z"
   },
   {
    "duration": 26,
    "start_time": "2023-11-02T06:14:00.109Z"
   },
   {
    "duration": 61,
    "start_time": "2023-11-02T06:14:00.533Z"
   },
   {
    "duration": 12,
    "start_time": "2023-11-02T07:34:33.921Z"
   },
   {
    "duration": 66,
    "start_time": "2023-11-02T07:34:39.836Z"
   },
   {
    "duration": 15,
    "start_time": "2023-11-02T07:35:39.296Z"
   },
   {
    "duration": 41,
    "start_time": "2023-11-02T07:41:23.694Z"
   },
   {
    "duration": 46,
    "start_time": "2023-11-02T07:41:33.136Z"
   },
   {
    "duration": 5,
    "start_time": "2023-11-02T07:43:03.428Z"
   },
   {
    "duration": 32,
    "start_time": "2023-11-02T07:43:46.003Z"
   },
   {
    "duration": 19,
    "start_time": "2023-11-02T07:44:27.138Z"
   },
   {
    "duration": 7,
    "start_time": "2023-11-02T07:44:34.630Z"
   },
   {
    "duration": 11,
    "start_time": "2023-11-02T07:44:51.129Z"
   },
   {
    "duration": 6,
    "start_time": "2023-11-02T07:44:53.900Z"
   },
   {
    "duration": 71,
    "start_time": "2023-11-02T07:45:10.241Z"
   },
   {
    "duration": 36,
    "start_time": "2023-11-02T07:47:09.927Z"
   },
   {
    "duration": 13,
    "start_time": "2023-11-02T07:47:19.451Z"
   },
   {
    "duration": 9,
    "start_time": "2023-11-02T07:47:29.419Z"
   },
   {
    "duration": 7,
    "start_time": "2023-11-02T07:47:35.436Z"
   },
   {
    "duration": 49,
    "start_time": "2023-11-02T07:47:42.649Z"
   },
   {
    "duration": 20,
    "start_time": "2023-11-02T07:47:49.484Z"
   },
   {
    "duration": 15,
    "start_time": "2023-11-02T07:48:01.010Z"
   },
   {
    "duration": 12,
    "start_time": "2023-11-02T07:48:09.308Z"
   },
   {
    "duration": 36,
    "start_time": "2023-11-02T07:48:12.496Z"
   },
   {
    "duration": 8,
    "start_time": "2023-11-02T07:48:14.825Z"
   },
   {
    "duration": 17,
    "start_time": "2023-11-02T07:48:44.812Z"
   },
   {
    "duration": 18,
    "start_time": "2023-11-02T07:49:02.966Z"
   },
   {
    "duration": 8,
    "start_time": "2023-11-02T07:49:07.001Z"
   },
   {
    "duration": 3,
    "start_time": "2023-11-02T08:00:47.532Z"
   },
   {
    "duration": 5,
    "start_time": "2023-11-02T08:00:55.230Z"
   },
   {
    "duration": 7,
    "start_time": "2023-11-02T08:02:04.366Z"
   },
   {
    "duration": 55,
    "start_time": "2023-11-02T08:02:08.718Z"
   },
   {
    "duration": 9,
    "start_time": "2023-11-02T08:02:48.023Z"
   },
   {
    "duration": 10,
    "start_time": "2023-11-02T08:02:49.169Z"
   },
   {
    "duration": 9,
    "start_time": "2023-11-02T08:02:49.494Z"
   },
   {
    "duration": 7,
    "start_time": "2023-11-02T08:02:54.388Z"
   },
   {
    "duration": 50,
    "start_time": "2023-11-02T08:02:54.730Z"
   },
   {
    "duration": 52,
    "start_time": "2023-11-02T08:04:06.033Z"
   },
   {
    "duration": 30,
    "start_time": "2023-11-02T08:04:20.975Z"
   },
   {
    "duration": 2923,
    "start_time": "2023-11-02T08:04:36.711Z"
   },
   {
    "duration": 6167,
    "start_time": "2023-11-02T08:04:39.637Z"
   },
   {
    "duration": 2921,
    "start_time": "2023-11-02T08:04:45.806Z"
   },
   {
    "duration": 283,
    "start_time": "2023-11-02T08:04:48.729Z"
   },
   {
    "duration": 2,
    "start_time": "2023-11-02T08:04:49.014Z"
   },
   {
    "duration": 77,
    "start_time": "2023-11-02T08:04:49.018Z"
   },
   {
    "duration": 158,
    "start_time": "2023-11-02T08:04:49.097Z"
   },
   {
    "duration": 37,
    "start_time": "2023-11-02T08:04:49.262Z"
   },
   {
    "duration": 46062,
    "start_time": "2023-11-02T08:04:49.300Z"
   },
   {
    "duration": 42558,
    "start_time": "2023-11-02T08:05:35.386Z"
   },
   {
    "duration": 3919,
    "start_time": "2023-11-02T08:06:17.947Z"
   },
   {
    "duration": 2928,
    "start_time": "2023-11-02T08:06:21.867Z"
   },
   {
    "duration": 12,
    "start_time": "2023-11-02T08:06:24.797Z"
   },
   {
    "duration": 13,
    "start_time": "2023-11-02T08:06:24.813Z"
   },
   {
    "duration": 25,
    "start_time": "2023-11-02T08:06:24.828Z"
   },
   {
    "duration": 10,
    "start_time": "2023-11-02T08:06:24.860Z"
   },
   {
    "duration": 27,
    "start_time": "2023-11-02T08:06:24.872Z"
   },
   {
    "duration": 15,
    "start_time": "2023-11-02T08:06:24.901Z"
   },
   {
    "duration": 14,
    "start_time": "2023-11-02T08:06:24.918Z"
   },
   {
    "duration": 44,
    "start_time": "2023-11-02T08:06:24.934Z"
   },
   {
    "duration": 7,
    "start_time": "2023-11-02T08:06:24.983Z"
   },
   {
    "duration": 7,
    "start_time": "2023-11-02T08:06:24.991Z"
   },
   {
    "duration": 33,
    "start_time": "2023-11-02T08:06:24.999Z"
   },
   {
    "duration": 105,
    "start_time": "2023-11-02T08:06:25.034Z"
   },
   {
    "duration": 95,
    "start_time": "2023-11-02T08:06:25.141Z"
   },
   {
    "duration": 86,
    "start_time": "2023-11-02T08:06:25.238Z"
   },
   {
    "duration": 82,
    "start_time": "2023-11-02T08:06:25.326Z"
   },
   {
    "duration": 551,
    "start_time": "2023-11-02T08:06:25.410Z"
   },
   {
    "duration": 722,
    "start_time": "2023-11-02T08:06:25.963Z"
   },
   {
    "duration": 642,
    "start_time": "2023-11-02T08:06:26.686Z"
   },
   {
    "duration": 860,
    "start_time": "2023-11-02T08:06:27.330Z"
   },
   {
    "duration": 7,
    "start_time": "2023-11-02T08:06:28.192Z"
   },
   {
    "duration": 15,
    "start_time": "2023-11-02T08:06:28.201Z"
   },
   {
    "duration": 9,
    "start_time": "2023-11-02T08:06:28.218Z"
   },
   {
    "duration": 35,
    "start_time": "2023-11-02T08:06:28.228Z"
   },
   {
    "duration": 57,
    "start_time": "2023-11-02T08:06:28.265Z"
   },
   {
    "duration": 13,
    "start_time": "2023-11-02T08:06:28.324Z"
   },
   {
    "duration": 13,
    "start_time": "2023-11-02T08:06:28.339Z"
   },
   {
    "duration": 4576,
    "start_time": "2023-11-02T08:06:28.357Z"
   },
   {
    "duration": 29,
    "start_time": "2023-11-02T08:06:32.935Z"
   },
   {
    "duration": 27,
    "start_time": "2023-11-02T08:06:32.971Z"
   },
   {
    "duration": 8,
    "start_time": "2023-11-02T08:06:33.000Z"
   },
   {
    "duration": 29,
    "start_time": "2023-11-02T08:06:33.009Z"
   },
   {
    "duration": 25,
    "start_time": "2023-11-02T08:06:33.040Z"
   },
   {
    "duration": 15,
    "start_time": "2023-11-02T08:06:33.067Z"
   },
   {
    "duration": 22,
    "start_time": "2023-11-02T08:06:33.084Z"
   },
   {
    "duration": 30,
    "start_time": "2023-11-02T08:06:33.109Z"
   },
   {
    "duration": 58,
    "start_time": "2023-11-02T08:06:33.141Z"
   },
   {
    "duration": 199,
    "start_time": "2023-11-02T08:06:33.201Z"
   },
   {
    "duration": 0,
    "start_time": "2023-11-02T08:06:33.401Z"
   },
   {
    "duration": 40,
    "start_time": "2023-11-02T08:07:48.769Z"
   },
   {
    "duration": 3,
    "start_time": "2023-11-02T08:08:18.619Z"
   },
   {
    "duration": 2,
    "start_time": "2023-11-02T08:08:20.505Z"
   },
   {
    "duration": 3,
    "start_time": "2023-11-02T08:08:37.975Z"
   },
   {
    "duration": 39,
    "start_time": "2023-11-02T08:08:43.244Z"
   },
   {
    "duration": 3,
    "start_time": "2023-11-02T08:11:00.773Z"
   },
   {
    "duration": 43,
    "start_time": "2023-11-02T08:11:08.130Z"
   },
   {
    "duration": 7,
    "start_time": "2023-11-02T08:11:16.937Z"
   },
   {
    "duration": 38,
    "start_time": "2023-11-02T08:11:22.739Z"
   },
   {
    "duration": 6,
    "start_time": "2023-11-02T08:11:57.678Z"
   },
   {
    "duration": 5,
    "start_time": "2023-11-02T08:12:57.307Z"
   },
   {
    "duration": 2,
    "start_time": "2023-11-02T08:12:58.208Z"
   },
   {
    "duration": 2,
    "start_time": "2023-11-02T08:12:58.540Z"
   },
   {
    "duration": 32,
    "start_time": "2023-11-02T08:12:58.969Z"
   },
   {
    "duration": 6,
    "start_time": "2023-11-02T08:13:00.165Z"
   },
   {
    "duration": 69,
    "start_time": "2023-11-02T08:13:35.197Z"
   },
   {
    "duration": 6,
    "start_time": "2023-11-02T08:13:40.097Z"
   },
   {
    "duration": 9,
    "start_time": "2023-11-02T08:13:42.149Z"
   },
   {
    "duration": 5,
    "start_time": "2023-11-02T08:13:44.063Z"
   },
   {
    "duration": 5,
    "start_time": "2023-11-02T08:13:47.537Z"
   },
   {
    "duration": 69,
    "start_time": "2023-11-02T08:14:52.738Z"
   },
   {
    "duration": 7,
    "start_time": "2023-11-02T08:14:53.755Z"
   },
   {
    "duration": 7,
    "start_time": "2023-11-02T08:14:55.378Z"
   },
   {
    "duration": 5,
    "start_time": "2023-11-02T08:15:08.188Z"
   },
   {
    "duration": 6,
    "start_time": "2023-11-02T08:15:09.797Z"
   },
   {
    "duration": 41,
    "start_time": "2023-11-02T08:17:07.345Z"
   },
   {
    "duration": 42,
    "start_time": "2023-11-02T08:18:12.650Z"
   },
   {
    "duration": 4,
    "start_time": "2023-11-02T08:19:13.219Z"
   },
   {
    "duration": 4,
    "start_time": "2023-11-02T08:19:18.862Z"
   },
   {
    "duration": 103,
    "start_time": "2023-11-02T08:20:12.300Z"
   },
   {
    "duration": 34,
    "start_time": "2023-11-02T08:20:16.331Z"
   },
   {
    "duration": 15,
    "start_time": "2023-11-02T08:20:21.437Z"
   },
   {
    "duration": 16,
    "start_time": "2023-11-02T08:20:25.159Z"
   },
   {
    "duration": 12,
    "start_time": "2023-11-02T08:20:33.381Z"
   },
   {
    "duration": 12,
    "start_time": "2023-11-02T08:20:41.589Z"
   },
   {
    "duration": 14,
    "start_time": "2023-11-02T08:20:47.335Z"
   },
   {
    "duration": 36,
    "start_time": "2023-11-02T08:20:56.771Z"
   },
   {
    "duration": 12,
    "start_time": "2023-11-02T08:21:37.979Z"
   },
   {
    "duration": 12,
    "start_time": "2023-11-02T08:21:42.589Z"
   },
   {
    "duration": 11,
    "start_time": "2023-11-02T08:21:45.489Z"
   },
   {
    "duration": 2709,
    "start_time": "2023-11-02T08:22:11.404Z"
   },
   {
    "duration": 5816,
    "start_time": "2023-11-02T08:22:14.115Z"
   },
   {
    "duration": 2817,
    "start_time": "2023-11-02T08:22:19.933Z"
   },
   {
    "duration": 261,
    "start_time": "2023-11-02T08:22:22.753Z"
   },
   {
    "duration": 3,
    "start_time": "2023-11-02T08:22:23.015Z"
   },
   {
    "duration": 87,
    "start_time": "2023-11-02T08:22:23.019Z"
   },
   {
    "duration": 153,
    "start_time": "2023-11-02T08:22:23.108Z"
   },
   {
    "duration": 24,
    "start_time": "2023-11-02T08:22:23.263Z"
   },
   {
    "duration": 44206,
    "start_time": "2023-11-02T08:22:23.289Z"
   },
   {
    "duration": 40999,
    "start_time": "2023-11-02T08:23:07.497Z"
   },
   {
    "duration": 3220,
    "start_time": "2023-11-02T08:23:48.498Z"
   },
   {
    "duration": 2592,
    "start_time": "2023-11-02T08:23:51.720Z"
   },
   {
    "duration": 33,
    "start_time": "2023-11-02T08:23:54.314Z"
   },
   {
    "duration": 8,
    "start_time": "2023-11-02T08:23:54.350Z"
   },
   {
    "duration": 17,
    "start_time": "2023-11-02T08:23:54.360Z"
   },
   {
    "duration": 11,
    "start_time": "2023-11-02T08:23:54.378Z"
   },
   {
    "duration": 25,
    "start_time": "2023-11-02T08:23:54.393Z"
   },
   {
    "duration": 49,
    "start_time": "2023-11-02T08:23:54.421Z"
   },
   {
    "duration": 22,
    "start_time": "2023-11-02T08:23:54.472Z"
   },
   {
    "duration": 25,
    "start_time": "2023-11-02T08:23:54.496Z"
   },
   {
    "duration": 34,
    "start_time": "2023-11-02T08:23:54.523Z"
   },
   {
    "duration": 14,
    "start_time": "2023-11-02T08:23:54.559Z"
   },
   {
    "duration": 25,
    "start_time": "2023-11-02T08:23:54.576Z"
   },
   {
    "duration": 78,
    "start_time": "2023-11-02T08:23:54.603Z"
   },
   {
    "duration": 93,
    "start_time": "2023-11-02T08:23:54.683Z"
   },
   {
    "duration": 87,
    "start_time": "2023-11-02T08:23:54.777Z"
   },
   {
    "duration": 77,
    "start_time": "2023-11-02T08:23:54.867Z"
   },
   {
    "duration": 563,
    "start_time": "2023-11-02T08:23:54.951Z"
   },
   {
    "duration": 790,
    "start_time": "2023-11-02T08:23:55.516Z"
   },
   {
    "duration": 674,
    "start_time": "2023-11-02T08:23:56.307Z"
   },
   {
    "duration": 873,
    "start_time": "2023-11-02T08:23:56.983Z"
   },
   {
    "duration": 8,
    "start_time": "2023-11-02T08:23:57.858Z"
   },
   {
    "duration": 32,
    "start_time": "2023-11-02T08:23:57.867Z"
   },
   {
    "duration": 10,
    "start_time": "2023-11-02T08:23:57.900Z"
   },
   {
    "duration": 29,
    "start_time": "2023-11-02T08:23:57.912Z"
   },
   {
    "duration": 70,
    "start_time": "2023-11-02T08:23:57.942Z"
   },
   {
    "duration": 12,
    "start_time": "2023-11-02T08:23:58.014Z"
   },
   {
    "duration": 30,
    "start_time": "2023-11-02T08:23:58.028Z"
   },
   {
    "duration": 4109,
    "start_time": "2023-11-02T08:23:58.061Z"
   },
   {
    "duration": 20,
    "start_time": "2023-11-02T08:24:02.172Z"
   },
   {
    "duration": 73,
    "start_time": "2023-11-02T08:24:02.193Z"
   },
   {
    "duration": 33,
    "start_time": "2023-11-02T08:24:02.268Z"
   },
   {
    "duration": 43,
    "start_time": "2023-11-02T08:24:02.303Z"
   },
   {
    "duration": 24,
    "start_time": "2023-11-02T08:24:02.348Z"
   },
   {
    "duration": 76,
    "start_time": "2023-11-02T08:24:02.374Z"
   },
   {
    "duration": 90,
    "start_time": "2023-11-02T08:24:02.453Z"
   },
   {
    "duration": 30,
    "start_time": "2023-11-02T08:24:02.545Z"
   },
   {
    "duration": 137,
    "start_time": "2023-11-02T08:24:02.577Z"
   },
   {
    "duration": 3,
    "start_time": "2023-11-02T08:24:31.899Z"
   },
   {
    "duration": 29,
    "start_time": "2023-11-02T08:24:37.572Z"
   },
   {
    "duration": 25,
    "start_time": "2023-11-02T08:26:01.881Z"
   },
   {
    "duration": 5,
    "start_time": "2023-11-02T08:26:08.475Z"
   },
   {
    "duration": 193,
    "start_time": "2023-11-02T08:26:16.597Z"
   },
   {
    "duration": 35,
    "start_time": "2023-11-02T08:26:21.071Z"
   },
   {
    "duration": 3,
    "start_time": "2023-11-02T08:28:24.594Z"
   },
   {
    "duration": 34,
    "start_time": "2023-11-02T08:28:25.015Z"
   },
   {
    "duration": 31,
    "start_time": "2023-11-02T08:28:26.269Z"
   },
   {
    "duration": 6,
    "start_time": "2023-11-02T08:28:31.422Z"
   },
   {
    "duration": 33,
    "start_time": "2023-11-02T08:39:07.818Z"
   },
   {
    "duration": 5,
    "start_time": "2023-11-02T08:39:13.981Z"
   },
   {
    "duration": 5,
    "start_time": "2023-11-02T08:39:16.144Z"
   },
   {
    "duration": 3,
    "start_time": "2023-11-02T08:40:48.297Z"
   },
   {
    "duration": 4,
    "start_time": "2023-11-02T08:40:48.834Z"
   },
   {
    "duration": 28,
    "start_time": "2023-11-02T08:41:02.001Z"
   },
   {
    "duration": 5,
    "start_time": "2023-11-02T08:41:02.733Z"
   },
   {
    "duration": 16,
    "start_time": "2023-11-02T08:41:21.602Z"
   },
   {
    "duration": 5,
    "start_time": "2023-11-02T08:41:22.701Z"
   },
   {
    "duration": 16,
    "start_time": "2023-11-02T08:41:48.843Z"
   },
   {
    "duration": 6,
    "start_time": "2023-11-02T08:41:53.890Z"
   },
   {
    "duration": 12,
    "start_time": "2023-11-02T08:42:01.052Z"
   },
   {
    "duration": 30,
    "start_time": "2023-11-02T08:42:04.834Z"
   },
   {
    "duration": 5,
    "start_time": "2023-11-02T08:42:21.863Z"
   },
   {
    "duration": 34,
    "start_time": "2023-11-02T08:44:31.835Z"
   },
   {
    "duration": 14,
    "start_time": "2023-11-02T08:44:32.072Z"
   },
   {
    "duration": 15,
    "start_time": "2023-11-02T08:44:32.279Z"
   },
   {
    "duration": 6,
    "start_time": "2023-11-02T08:44:45.155Z"
   },
   {
    "duration": 9,
    "start_time": "2023-11-02T08:45:34.113Z"
   },
   {
    "duration": 33,
    "start_time": "2023-11-02T08:45:37.723Z"
   },
   {
    "duration": 2577,
    "start_time": "2023-11-02T08:45:52.828Z"
   },
   {
    "duration": 5297,
    "start_time": "2023-11-02T08:45:55.407Z"
   },
   {
    "duration": 3147,
    "start_time": "2023-11-02T08:46:00.706Z"
   },
   {
    "duration": 243,
    "start_time": "2023-11-02T08:46:03.854Z"
   },
   {
    "duration": 3,
    "start_time": "2023-11-02T08:46:04.102Z"
   },
   {
    "duration": 88,
    "start_time": "2023-11-02T08:46:04.106Z"
   },
   {
    "duration": 169,
    "start_time": "2023-11-02T08:46:04.196Z"
   },
   {
    "duration": 22,
    "start_time": "2023-11-02T08:46:04.367Z"
   },
   {
    "duration": 39954,
    "start_time": "2023-11-02T08:46:04.390Z"
   },
   {
    "duration": 40554,
    "start_time": "2023-11-02T08:46:44.346Z"
   },
   {
    "duration": 2836,
    "start_time": "2023-11-02T08:47:24.903Z"
   },
   {
    "duration": 2230,
    "start_time": "2023-11-02T08:47:27.741Z"
   },
   {
    "duration": 10,
    "start_time": "2023-11-02T08:47:29.973Z"
   },
   {
    "duration": 39,
    "start_time": "2023-11-02T08:47:29.986Z"
   },
   {
    "duration": 72,
    "start_time": "2023-11-02T08:47:30.027Z"
   },
   {
    "duration": 114,
    "start_time": "2023-11-02T08:47:30.101Z"
   },
   {
    "duration": 115,
    "start_time": "2023-11-02T08:47:30.216Z"
   },
   {
    "duration": 39,
    "start_time": "2023-11-02T08:47:30.333Z"
   },
   {
    "duration": 47,
    "start_time": "2023-11-02T08:47:30.373Z"
   },
   {
    "duration": 67,
    "start_time": "2023-11-02T08:47:30.422Z"
   },
   {
    "duration": 86,
    "start_time": "2023-11-02T08:47:30.491Z"
   },
   {
    "duration": 52,
    "start_time": "2023-11-02T08:47:30.578Z"
   },
   {
    "duration": 65,
    "start_time": "2023-11-02T08:47:30.631Z"
   },
   {
    "duration": 157,
    "start_time": "2023-11-02T08:47:30.698Z"
   },
   {
    "duration": 72,
    "start_time": "2023-11-02T08:47:30.857Z"
   },
   {
    "duration": 101,
    "start_time": "2023-11-02T08:47:30.931Z"
   },
   {
    "duration": 68,
    "start_time": "2023-11-02T08:47:31.034Z"
   },
   {
    "duration": 510,
    "start_time": "2023-11-02T08:47:31.104Z"
   },
   {
    "duration": 606,
    "start_time": "2023-11-02T08:47:31.617Z"
   },
   {
    "duration": 578,
    "start_time": "2023-11-02T08:47:32.225Z"
   },
   {
    "duration": 841,
    "start_time": "2023-11-02T08:47:32.805Z"
   },
   {
    "duration": 7,
    "start_time": "2023-11-02T08:47:33.649Z"
   },
   {
    "duration": 7,
    "start_time": "2023-11-02T08:47:33.659Z"
   },
   {
    "duration": 13,
    "start_time": "2023-11-02T08:47:33.668Z"
   },
   {
    "duration": 37,
    "start_time": "2023-11-02T08:47:33.683Z"
   },
   {
    "duration": 112,
    "start_time": "2023-11-02T08:47:33.721Z"
   },
   {
    "duration": 16,
    "start_time": "2023-11-02T08:47:33.834Z"
   },
   {
    "duration": 67,
    "start_time": "2023-11-02T08:47:33.852Z"
   },
   {
    "duration": 3833,
    "start_time": "2023-11-02T08:47:33.921Z"
   },
   {
    "duration": 18,
    "start_time": "2023-11-02T08:47:37.756Z"
   },
   {
    "duration": 28,
    "start_time": "2023-11-02T08:47:37.778Z"
   },
   {
    "duration": 20,
    "start_time": "2023-11-02T08:47:37.807Z"
   },
   {
    "duration": 28,
    "start_time": "2023-11-02T08:47:37.829Z"
   },
   {
    "duration": 19,
    "start_time": "2023-11-02T08:47:37.859Z"
   },
   {
    "duration": 19,
    "start_time": "2023-11-02T08:47:37.880Z"
   },
   {
    "duration": 10,
    "start_time": "2023-11-02T08:47:37.901Z"
   },
   {
    "duration": 11,
    "start_time": "2023-11-02T08:47:37.912Z"
   },
   {
    "duration": 33,
    "start_time": "2023-11-02T08:47:37.924Z"
   },
   {
    "duration": 17,
    "start_time": "2023-11-02T08:47:37.959Z"
   },
   {
    "duration": 15,
    "start_time": "2023-11-02T08:47:37.977Z"
   },
   {
    "duration": 51,
    "start_time": "2023-11-02T08:47:37.994Z"
   },
   {
    "duration": 27,
    "start_time": "2023-11-02T08:47:38.047Z"
   },
   {
    "duration": 10,
    "start_time": "2023-11-02T08:47:38.076Z"
   },
   {
    "duration": 10,
    "start_time": "2023-11-02T08:47:38.088Z"
   },
   {
    "duration": 17,
    "start_time": "2023-11-02T08:47:56.356Z"
   },
   {
    "duration": 29,
    "start_time": "2023-11-02T08:47:59.323Z"
   },
   {
    "duration": 6,
    "start_time": "2023-11-02T08:48:09.315Z"
   },
   {
    "duration": 5,
    "start_time": "2023-11-02T08:51:29.825Z"
   },
   {
    "duration": 5,
    "start_time": "2023-11-02T08:52:08.419Z"
   },
   {
    "duration": 22,
    "start_time": "2023-11-02T08:52:17.519Z"
   },
   {
    "duration": 74,
    "start_time": "2023-11-02T08:52:20.142Z"
   },
   {
    "duration": 5,
    "start_time": "2023-11-02T08:52:25.132Z"
   },
   {
    "duration": 3011,
    "start_time": "2023-11-02T08:52:40.705Z"
   },
   {
    "duration": 5874,
    "start_time": "2023-11-02T08:52:43.719Z"
   },
   {
    "duration": 2943,
    "start_time": "2023-11-02T08:52:49.595Z"
   },
   {
    "duration": 258,
    "start_time": "2023-11-02T08:52:52.539Z"
   },
   {
    "duration": 3,
    "start_time": "2023-11-02T08:52:52.799Z"
   },
   {
    "duration": 71,
    "start_time": "2023-11-02T08:52:52.803Z"
   },
   {
    "duration": 160,
    "start_time": "2023-11-02T08:52:52.876Z"
   },
   {
    "duration": 34,
    "start_time": "2023-11-02T08:52:53.045Z"
   },
   {
    "duration": 43586,
    "start_time": "2023-11-02T08:52:53.081Z"
   },
   {
    "duration": 41921,
    "start_time": "2023-11-02T08:53:36.669Z"
   },
   {
    "duration": 4562,
    "start_time": "2023-11-02T08:54:18.593Z"
   },
   {
    "duration": 2339,
    "start_time": "2023-11-02T08:54:23.159Z"
   },
   {
    "duration": 10,
    "start_time": "2023-11-02T08:54:25.500Z"
   },
   {
    "duration": 10,
    "start_time": "2023-11-02T08:54:25.514Z"
   },
   {
    "duration": 20,
    "start_time": "2023-11-02T08:54:25.526Z"
   },
   {
    "duration": 16,
    "start_time": "2023-11-02T08:54:25.548Z"
   },
   {
    "duration": 34,
    "start_time": "2023-11-02T08:54:25.566Z"
   },
   {
    "duration": 15,
    "start_time": "2023-11-02T08:54:25.601Z"
   },
   {
    "duration": 11,
    "start_time": "2023-11-02T08:54:25.618Z"
   },
   {
    "duration": 35,
    "start_time": "2023-11-02T08:54:25.630Z"
   },
   {
    "duration": 9,
    "start_time": "2023-11-02T08:54:25.666Z"
   },
   {
    "duration": 26,
    "start_time": "2023-11-02T08:54:25.677Z"
   },
   {
    "duration": 11,
    "start_time": "2023-11-02T08:54:25.705Z"
   },
   {
    "duration": 64,
    "start_time": "2023-11-02T08:54:25.718Z"
   },
   {
    "duration": 79,
    "start_time": "2023-11-02T08:54:25.784Z"
   },
   {
    "duration": 58,
    "start_time": "2023-11-02T08:54:25.865Z"
   },
   {
    "duration": 82,
    "start_time": "2023-11-02T08:54:25.924Z"
   },
   {
    "duration": 501,
    "start_time": "2023-11-02T08:54:26.007Z"
   },
   {
    "duration": 628,
    "start_time": "2023-11-02T08:54:26.509Z"
   },
   {
    "duration": 780,
    "start_time": "2023-11-02T08:54:27.139Z"
   },
   {
    "duration": 765,
    "start_time": "2023-11-02T08:54:27.921Z"
   },
   {
    "duration": 6,
    "start_time": "2023-11-02T08:54:28.688Z"
   },
   {
    "duration": 18,
    "start_time": "2023-11-02T08:54:28.696Z"
   },
   {
    "duration": 17,
    "start_time": "2023-11-02T08:54:28.716Z"
   },
   {
    "duration": 14,
    "start_time": "2023-11-02T08:54:28.735Z"
   },
   {
    "duration": 51,
    "start_time": "2023-11-02T08:54:28.750Z"
   },
   {
    "duration": 14,
    "start_time": "2023-11-02T08:54:28.803Z"
   },
   {
    "duration": 11,
    "start_time": "2023-11-02T08:54:28.819Z"
   },
   {
    "duration": 3615,
    "start_time": "2023-11-02T08:54:28.832Z"
   },
   {
    "duration": 19,
    "start_time": "2023-11-02T08:54:32.449Z"
   },
   {
    "duration": 46,
    "start_time": "2023-11-02T08:54:32.473Z"
   },
   {
    "duration": 44,
    "start_time": "2023-11-02T08:54:32.521Z"
   },
   {
    "duration": 22,
    "start_time": "2023-11-02T08:54:32.567Z"
   },
   {
    "duration": 31,
    "start_time": "2023-11-02T08:54:32.590Z"
   },
   {
    "duration": 34,
    "start_time": "2023-11-02T08:54:32.623Z"
   },
   {
    "duration": 14,
    "start_time": "2023-11-02T08:54:32.658Z"
   },
   {
    "duration": 43,
    "start_time": "2023-11-02T08:54:32.674Z"
   },
   {
    "duration": 33,
    "start_time": "2023-11-02T08:54:32.719Z"
   },
   {
    "duration": 15,
    "start_time": "2023-11-02T08:54:32.754Z"
   },
   {
    "duration": 31,
    "start_time": "2023-11-02T08:54:32.770Z"
   },
   {
    "duration": 9,
    "start_time": "2023-11-02T08:54:32.803Z"
   },
   {
    "duration": 15,
    "start_time": "2023-11-02T08:54:32.813Z"
   },
   {
    "duration": 18,
    "start_time": "2023-11-02T08:54:32.830Z"
   },
   {
    "duration": 11,
    "start_time": "2023-11-02T08:54:32.850Z"
   },
   {
    "duration": 34,
    "start_time": "2023-11-02T08:55:11.015Z"
   },
   {
    "duration": 24,
    "start_time": "2023-11-02T08:55:41.735Z"
   },
   {
    "duration": 18,
    "start_time": "2023-11-02T08:55:42.307Z"
   },
   {
    "duration": 18,
    "start_time": "2023-11-02T08:55:42.906Z"
   },
   {
    "duration": 38,
    "start_time": "2023-11-02T08:55:43.701Z"
   },
   {
    "duration": 15,
    "start_time": "2023-11-02T08:56:41.523Z"
   },
   {
    "duration": 34,
    "start_time": "2023-11-02T08:57:08.633Z"
   },
   {
    "duration": 10,
    "start_time": "2023-11-02T08:58:27.001Z"
   },
   {
    "duration": 5,
    "start_time": "2023-11-02T08:58:43.925Z"
   },
   {
    "duration": 11,
    "start_time": "2023-11-02T08:59:17.048Z"
   },
   {
    "duration": 10,
    "start_time": "2023-11-02T09:00:22.111Z"
   },
   {
    "duration": 10,
    "start_time": "2023-11-02T09:01:41.673Z"
   },
   {
    "duration": 5,
    "start_time": "2023-11-02T09:02:47.985Z"
   },
   {
    "duration": 11,
    "start_time": "2023-11-02T09:02:57.677Z"
   },
   {
    "duration": 8,
    "start_time": "2023-11-02T09:04:07.974Z"
   },
   {
    "duration": 7,
    "start_time": "2023-11-02T09:04:13.414Z"
   },
   {
    "duration": 8,
    "start_time": "2023-11-02T09:04:16.691Z"
   },
   {
    "duration": 6,
    "start_time": "2023-11-02T09:05:37.388Z"
   },
   {
    "duration": 11,
    "start_time": "2023-11-02T09:05:39.412Z"
   },
   {
    "duration": 3,
    "start_time": "2023-11-02T09:07:10.983Z"
   },
   {
    "duration": 166,
    "start_time": "2023-11-02T09:07:22.852Z"
   },
   {
    "duration": 13,
    "start_time": "2023-11-02T09:07:30.772Z"
   },
   {
    "duration": 12,
    "start_time": "2023-11-02T09:07:41.096Z"
   },
   {
    "duration": 16,
    "start_time": "2023-11-02T09:07:44.236Z"
   },
   {
    "duration": 12,
    "start_time": "2023-11-02T09:07:51.300Z"
   },
   {
    "duration": 13,
    "start_time": "2023-11-02T09:07:54.274Z"
   },
   {
    "duration": 6,
    "start_time": "2023-11-02T09:07:54.662Z"
   },
   {
    "duration": 12,
    "start_time": "2023-11-02T09:07:55.054Z"
   },
   {
    "duration": 11,
    "start_time": "2023-11-02T09:08:03.127Z"
   },
   {
    "duration": 12,
    "start_time": "2023-11-02T09:08:08.041Z"
   },
   {
    "duration": 4,
    "start_time": "2023-11-02T09:08:18.926Z"
   },
   {
    "duration": 5,
    "start_time": "2023-11-02T09:08:53.284Z"
   },
   {
    "duration": 4,
    "start_time": "2023-11-02T09:09:32.205Z"
   },
   {
    "duration": 3,
    "start_time": "2023-11-02T09:09:46.017Z"
   },
   {
    "duration": 4,
    "start_time": "2023-11-02T09:09:51.216Z"
   },
   {
    "duration": 74,
    "start_time": "2023-11-02T09:10:47.280Z"
   },
   {
    "duration": 4,
    "start_time": "2023-11-02T09:14:46.917Z"
   },
   {
    "duration": 4,
    "start_time": "2023-11-02T09:15:22.442Z"
   },
   {
    "duration": 4,
    "start_time": "2023-11-02T09:17:19.184Z"
   },
   {
    "duration": 13,
    "start_time": "2023-11-02T09:17:38.743Z"
   },
   {
    "duration": 3,
    "start_time": "2023-11-02T09:17:57.694Z"
   },
   {
    "duration": 4,
    "start_time": "2023-11-02T09:18:07.759Z"
   },
   {
    "duration": 14,
    "start_time": "2023-11-02T09:18:13.478Z"
   },
   {
    "duration": 4,
    "start_time": "2023-11-02T09:18:16.442Z"
   },
   {
    "duration": 3,
    "start_time": "2023-11-02T09:18:24.934Z"
   },
   {
    "duration": 4,
    "start_time": "2023-11-02T09:18:41.168Z"
   },
   {
    "duration": 4,
    "start_time": "2023-11-02T09:18:44.369Z"
   },
   {
    "duration": 4,
    "start_time": "2023-11-02T09:20:43.766Z"
   },
   {
    "duration": 4,
    "start_time": "2023-11-02T09:20:47.438Z"
   },
   {
    "duration": 4,
    "start_time": "2023-11-02T09:20:52.793Z"
   },
   {
    "duration": 14,
    "start_time": "2023-11-02T10:03:35.949Z"
   },
   {
    "duration": 20949,
    "start_time": "2023-11-02T14:31:18.133Z"
   },
   {
    "duration": 10074,
    "start_time": "2023-11-02T14:31:39.084Z"
   },
   {
    "duration": 2795,
    "start_time": "2023-11-02T14:31:49.160Z"
   },
   {
    "duration": 446,
    "start_time": "2023-11-02T14:31:51.958Z"
   },
   {
    "duration": 3,
    "start_time": "2023-11-02T14:31:52.405Z"
   },
   {
    "duration": 71,
    "start_time": "2023-11-02T14:31:52.410Z"
   },
   {
    "duration": 141,
    "start_time": "2023-11-02T14:31:52.483Z"
   },
   {
    "duration": 22,
    "start_time": "2023-11-02T14:31:52.626Z"
   },
   {
    "duration": 40551,
    "start_time": "2023-11-02T14:31:52.649Z"
   },
   {
    "duration": 36742,
    "start_time": "2023-11-02T14:32:33.208Z"
   },
   {
    "duration": 2671,
    "start_time": "2023-11-02T14:33:09.951Z"
   },
   {
    "duration": 2319,
    "start_time": "2023-11-02T14:33:12.624Z"
   },
   {
    "duration": 11,
    "start_time": "2023-11-02T14:33:14.945Z"
   },
   {
    "duration": 40,
    "start_time": "2023-11-02T14:33:14.958Z"
   },
   {
    "duration": 180,
    "start_time": "2023-11-02T14:33:15.000Z"
   },
   {
    "duration": 37,
    "start_time": "2023-11-02T14:33:15.182Z"
   },
   {
    "duration": 47,
    "start_time": "2023-11-02T14:33:15.221Z"
   },
   {
    "duration": 19,
    "start_time": "2023-11-02T14:33:15.270Z"
   },
   {
    "duration": 32,
    "start_time": "2023-11-02T14:33:15.291Z"
   },
   {
    "duration": 19,
    "start_time": "2023-11-02T14:33:15.324Z"
   },
   {
    "duration": 8,
    "start_time": "2023-11-02T14:33:15.345Z"
   },
   {
    "duration": 8,
    "start_time": "2023-11-02T14:33:15.354Z"
   },
   {
    "duration": 22,
    "start_time": "2023-11-02T14:33:15.364Z"
   },
   {
    "duration": 75,
    "start_time": "2023-11-02T14:33:15.388Z"
   },
   {
    "duration": 85,
    "start_time": "2023-11-02T14:33:15.465Z"
   },
   {
    "duration": 66,
    "start_time": "2023-11-02T14:33:15.551Z"
   },
   {
    "duration": 65,
    "start_time": "2023-11-02T14:33:15.618Z"
   },
   {
    "duration": 545,
    "start_time": "2023-11-02T14:33:15.687Z"
   },
   {
    "duration": 617,
    "start_time": "2023-11-02T14:33:16.234Z"
   },
   {
    "duration": 577,
    "start_time": "2023-11-02T14:33:16.852Z"
   },
   {
    "duration": 752,
    "start_time": "2023-11-02T14:33:17.431Z"
   },
   {
    "duration": 6,
    "start_time": "2023-11-02T14:33:18.185Z"
   },
   {
    "duration": 20,
    "start_time": "2023-11-02T14:33:18.192Z"
   },
   {
    "duration": 11,
    "start_time": "2023-11-02T14:33:18.213Z"
   },
   {
    "duration": 8,
    "start_time": "2023-11-02T14:33:18.226Z"
   },
   {
    "duration": 46,
    "start_time": "2023-11-02T14:33:18.236Z"
   },
   {
    "duration": 36,
    "start_time": "2023-11-02T14:33:18.283Z"
   },
   {
    "duration": 22,
    "start_time": "2023-11-02T14:33:18.322Z"
   },
   {
    "duration": 3771,
    "start_time": "2023-11-02T14:33:18.346Z"
   },
   {
    "duration": 21,
    "start_time": "2023-11-02T14:33:22.120Z"
   },
   {
    "duration": 25,
    "start_time": "2023-11-02T14:33:22.143Z"
   },
   {
    "duration": 6,
    "start_time": "2023-11-02T14:33:22.169Z"
   },
   {
    "duration": 31,
    "start_time": "2023-11-02T14:33:22.176Z"
   },
   {
    "duration": 12,
    "start_time": "2023-11-02T14:33:22.209Z"
   },
   {
    "duration": 22,
    "start_time": "2023-11-02T14:33:22.223Z"
   },
   {
    "duration": 6,
    "start_time": "2023-11-02T14:33:22.246Z"
   },
   {
    "duration": 12,
    "start_time": "2023-11-02T14:33:22.254Z"
   },
   {
    "duration": 24,
    "start_time": "2023-11-02T14:33:22.267Z"
   },
   {
    "duration": 17,
    "start_time": "2023-11-02T14:33:22.292Z"
   },
   {
    "duration": 18,
    "start_time": "2023-11-02T14:33:22.310Z"
   },
   {
    "duration": 17,
    "start_time": "2023-11-02T14:33:22.330Z"
   },
   {
    "duration": 11,
    "start_time": "2023-11-02T14:33:22.349Z"
   },
   {
    "duration": 13,
    "start_time": "2023-11-02T14:33:22.361Z"
   },
   {
    "duration": 20,
    "start_time": "2023-11-02T14:33:22.375Z"
   },
   {
    "duration": 34,
    "start_time": "2023-11-02T14:33:22.397Z"
   },
   {
    "duration": 19592,
    "start_time": "2023-11-02T17:13:37.914Z"
   },
   {
    "duration": 8838,
    "start_time": "2023-11-02T17:13:57.508Z"
   },
   {
    "duration": 2821,
    "start_time": "2023-11-02T17:14:06.348Z"
   },
   {
    "duration": 464,
    "start_time": "2023-11-02T17:14:09.171Z"
   },
   {
    "duration": 3,
    "start_time": "2023-11-02T17:14:09.636Z"
   },
   {
    "duration": 60,
    "start_time": "2023-11-02T17:14:09.640Z"
   },
   {
    "duration": 129,
    "start_time": "2023-11-02T17:14:09.702Z"
   },
   {
    "duration": 20,
    "start_time": "2023-11-02T17:14:09.833Z"
   },
   {
    "duration": 39627,
    "start_time": "2023-11-02T17:14:09.855Z"
   },
   {
    "duration": 37160,
    "start_time": "2023-11-02T17:14:49.485Z"
   },
   {
    "duration": 2571,
    "start_time": "2023-11-02T17:15:26.647Z"
   },
   {
    "duration": 2131,
    "start_time": "2023-11-02T17:15:29.219Z"
   },
   {
    "duration": 12,
    "start_time": "2023-11-02T17:15:31.351Z"
   },
   {
    "duration": 38,
    "start_time": "2023-11-02T17:15:31.365Z"
   },
   {
    "duration": 33,
    "start_time": "2023-11-02T17:15:31.404Z"
   },
   {
    "duration": 49,
    "start_time": "2023-11-02T17:15:31.442Z"
   },
   {
    "duration": 46,
    "start_time": "2023-11-02T17:15:31.493Z"
   },
   {
    "duration": 43,
    "start_time": "2023-11-02T17:15:31.541Z"
   },
   {
    "duration": 63,
    "start_time": "2023-11-02T17:15:31.586Z"
   },
   {
    "duration": 47,
    "start_time": "2023-11-02T17:15:31.650Z"
   },
   {
    "duration": 86,
    "start_time": "2023-11-02T17:15:31.698Z"
   },
   {
    "duration": 35,
    "start_time": "2023-11-02T17:15:31.786Z"
   },
   {
    "duration": 41,
    "start_time": "2023-11-02T17:15:31.822Z"
   },
   {
    "duration": 102,
    "start_time": "2023-11-02T17:15:31.864Z"
   },
   {
    "duration": 88,
    "start_time": "2023-11-02T17:15:31.968Z"
   },
   {
    "duration": 66,
    "start_time": "2023-11-02T17:15:32.057Z"
   },
   {
    "duration": 66,
    "start_time": "2023-11-02T17:15:32.125Z"
   },
   {
    "duration": 465,
    "start_time": "2023-11-02T17:15:32.206Z"
   },
   {
    "duration": 588,
    "start_time": "2023-11-02T17:15:32.673Z"
   },
   {
    "duration": 558,
    "start_time": "2023-11-02T17:15:33.263Z"
   },
   {
    "duration": 743,
    "start_time": "2023-11-02T17:15:33.823Z"
   },
   {
    "duration": 7,
    "start_time": "2023-11-02T17:15:34.568Z"
   },
   {
    "duration": 9,
    "start_time": "2023-11-02T17:15:34.577Z"
   },
   {
    "duration": 24,
    "start_time": "2023-11-02T17:15:34.588Z"
   },
   {
    "duration": 15,
    "start_time": "2023-11-02T17:15:34.613Z"
   },
   {
    "duration": 49,
    "start_time": "2023-11-02T17:15:34.630Z"
   },
   {
    "duration": 12,
    "start_time": "2023-11-02T17:15:34.681Z"
   },
   {
    "duration": 14,
    "start_time": "2023-11-02T17:15:34.694Z"
   },
   {
    "duration": 3822,
    "start_time": "2023-11-02T17:15:34.710Z"
   },
   {
    "duration": 19,
    "start_time": "2023-11-02T17:15:38.534Z"
   },
   {
    "duration": 22,
    "start_time": "2023-11-02T17:15:38.555Z"
   },
   {
    "duration": 17,
    "start_time": "2023-11-02T17:15:38.579Z"
   },
   {
    "duration": 18,
    "start_time": "2023-11-02T17:15:38.598Z"
   },
   {
    "duration": 13,
    "start_time": "2023-11-02T17:15:38.617Z"
   },
   {
    "duration": 20,
    "start_time": "2023-11-02T17:15:38.631Z"
   },
   {
    "duration": 24,
    "start_time": "2023-11-02T17:15:38.653Z"
   },
   {
    "duration": 26,
    "start_time": "2023-11-02T17:15:38.679Z"
   },
   {
    "duration": 41,
    "start_time": "2023-11-02T17:15:38.706Z"
   },
   {
    "duration": 15,
    "start_time": "2023-11-02T17:15:38.749Z"
   },
   {
    "duration": 34,
    "start_time": "2023-11-02T17:15:38.766Z"
   },
   {
    "duration": 18,
    "start_time": "2023-11-02T17:15:38.801Z"
   },
   {
    "duration": 11,
    "start_time": "2023-11-02T17:15:38.820Z"
   },
   {
    "duration": 18,
    "start_time": "2023-11-02T17:15:38.832Z"
   },
   {
    "duration": 33,
    "start_time": "2023-11-02T17:15:38.852Z"
   },
   {
    "duration": 35,
    "start_time": "2023-11-02T17:15:38.887Z"
   },
   {
    "duration": 7,
    "start_time": "2023-11-02T17:31:38.943Z"
   },
   {
    "duration": 6,
    "start_time": "2023-11-02T17:31:48.726Z"
   },
   {
    "duration": 5,
    "start_time": "2023-11-02T17:32:29.526Z"
   },
   {
    "duration": 69,
    "start_time": "2023-11-02T17:32:42.278Z"
   },
   {
    "duration": 116,
    "start_time": "2023-11-02T17:33:10.825Z"
   },
   {
    "duration": 4,
    "start_time": "2023-11-02T17:33:19.010Z"
   },
   {
    "duration": 43,
    "start_time": "2023-11-02T17:33:19.554Z"
   },
   {
    "duration": 129,
    "start_time": "2023-11-02T17:33:19.986Z"
   },
   {
    "duration": 4,
    "start_time": "2023-11-02T17:34:03.338Z"
   },
   {
    "duration": 4,
    "start_time": "2023-11-02T17:34:14.778Z"
   },
   {
    "duration": 24,
    "start_time": "2023-11-02T17:34:23.214Z"
   },
   {
    "duration": 109,
    "start_time": "2023-11-02T17:34:32.058Z"
   },
   {
    "duration": 3434,
    "start_time": "2023-11-02T17:36:22.253Z"
   },
   {
    "duration": 19,
    "start_time": "2023-11-02T17:39:08.893Z"
   },
   {
    "duration": 17,
    "start_time": "2023-11-02T17:45:12.156Z"
   },
   {
    "duration": 17,
    "start_time": "2023-11-02T17:45:37.070Z"
   },
   {
    "duration": 16,
    "start_time": "2023-11-02T17:45:42.046Z"
   },
   {
    "duration": 43,
    "start_time": "2023-11-02T17:48:00.867Z"
   },
   {
    "duration": 16,
    "start_time": "2023-11-02T17:48:18.007Z"
   },
   {
    "duration": 1238,
    "start_time": "2023-11-02T17:49:34.191Z"
   },
   {
    "duration": 43,
    "start_time": "2023-11-02T17:49:43.894Z"
   },
   {
    "duration": 11,
    "start_time": "2023-11-02T17:50:11.734Z"
   },
   {
    "duration": 15,
    "start_time": "2023-11-02T17:50:57.446Z"
   },
   {
    "duration": 1298,
    "start_time": "2023-11-02T17:52:02.683Z"
   },
   {
    "duration": 7,
    "start_time": "2023-11-02T17:52:07.235Z"
   },
   {
    "duration": 1255,
    "start_time": "2023-11-02T17:52:11.203Z"
   },
   {
    "duration": 3,
    "start_time": "2023-11-02T17:53:51.246Z"
   },
   {
    "duration": 3,
    "start_time": "2023-11-02T17:54:33.058Z"
   },
   {
    "duration": 17,
    "start_time": "2023-11-02T17:56:06.606Z"
   },
   {
    "duration": 3540,
    "start_time": "2023-11-02T17:56:15.119Z"
   },
   {
    "duration": 5335,
    "start_time": "2023-11-02T17:56:18.661Z"
   },
   {
    "duration": 2622,
    "start_time": "2023-11-02T17:56:23.998Z"
   },
   {
    "duration": 247,
    "start_time": "2023-11-02T17:56:26.622Z"
   },
   {
    "duration": 3,
    "start_time": "2023-11-02T17:56:26.871Z"
   },
   {
    "duration": 57,
    "start_time": "2023-11-02T17:56:26.876Z"
   },
   {
    "duration": 147,
    "start_time": "2023-11-02T17:56:26.934Z"
   },
   {
    "duration": 25,
    "start_time": "2023-11-02T17:56:27.082Z"
   },
   {
    "duration": 40107,
    "start_time": "2023-11-02T17:56:27.108Z"
   },
   {
    "duration": 39353,
    "start_time": "2023-11-02T17:57:07.218Z"
   },
   {
    "duration": 2673,
    "start_time": "2023-11-02T17:57:46.573Z"
   },
   {
    "duration": 2126,
    "start_time": "2023-11-02T17:57:49.248Z"
   },
   {
    "duration": 10,
    "start_time": "2023-11-02T17:57:51.376Z"
   },
   {
    "duration": 19,
    "start_time": "2023-11-02T17:57:51.388Z"
   },
   {
    "duration": 13,
    "start_time": "2023-11-02T17:57:51.409Z"
   },
   {
    "duration": 16,
    "start_time": "2023-11-02T17:57:51.423Z"
   },
   {
    "duration": 21,
    "start_time": "2023-11-02T17:57:51.441Z"
   },
   {
    "duration": 36,
    "start_time": "2023-11-02T17:57:51.463Z"
   },
   {
    "duration": 30,
    "start_time": "2023-11-02T17:57:51.501Z"
   },
   {
    "duration": 18,
    "start_time": "2023-11-02T17:57:51.533Z"
   },
   {
    "duration": 10,
    "start_time": "2023-11-02T17:57:51.553Z"
   },
   {
    "duration": 39,
    "start_time": "2023-11-02T17:57:51.565Z"
   },
   {
    "duration": 32,
    "start_time": "2023-11-02T17:57:51.606Z"
   },
   {
    "duration": 69,
    "start_time": "2023-11-02T17:57:51.640Z"
   },
   {
    "duration": 74,
    "start_time": "2023-11-02T17:57:51.711Z"
   },
   {
    "duration": 72,
    "start_time": "2023-11-02T17:57:51.787Z"
   },
   {
    "duration": 77,
    "start_time": "2023-11-02T17:57:51.860Z"
   },
   {
    "duration": 496,
    "start_time": "2023-11-02T17:57:51.942Z"
   },
   {
    "duration": 604,
    "start_time": "2023-11-02T17:57:52.440Z"
   },
   {
    "duration": 557,
    "start_time": "2023-11-02T17:57:53.045Z"
   },
   {
    "duration": 744,
    "start_time": "2023-11-02T17:57:53.606Z"
   },
   {
    "duration": 6,
    "start_time": "2023-11-02T17:57:54.352Z"
   },
   {
    "duration": 8,
    "start_time": "2023-11-02T17:57:54.359Z"
   },
   {
    "duration": 9,
    "start_time": "2023-11-02T17:57:54.368Z"
   },
   {
    "duration": 5,
    "start_time": "2023-11-02T17:57:54.379Z"
   },
   {
    "duration": 70,
    "start_time": "2023-11-02T17:57:54.386Z"
   },
   {
    "duration": 13,
    "start_time": "2023-11-02T17:57:54.458Z"
   },
   {
    "duration": 6,
    "start_time": "2023-11-02T17:57:54.472Z"
   },
   {
    "duration": 3751,
    "start_time": "2023-11-02T17:57:54.480Z"
   },
   {
    "duration": 21,
    "start_time": "2023-11-02T17:57:58.233Z"
   },
   {
    "duration": 15,
    "start_time": "2023-11-02T17:57:58.256Z"
   },
   {
    "duration": 19,
    "start_time": "2023-11-02T17:57:58.273Z"
   },
   {
    "duration": 26,
    "start_time": "2023-11-02T17:57:58.294Z"
   },
   {
    "duration": 5,
    "start_time": "2023-11-02T17:57:58.322Z"
   },
   {
    "duration": 7,
    "start_time": "2023-11-02T17:57:58.328Z"
   },
   {
    "duration": 10,
    "start_time": "2023-11-02T17:57:58.336Z"
   },
   {
    "duration": 5,
    "start_time": "2023-11-02T17:57:58.348Z"
   },
   {
    "duration": 28,
    "start_time": "2023-11-02T17:57:58.355Z"
   },
   {
    "duration": 27,
    "start_time": "2023-11-02T17:57:58.385Z"
   },
   {
    "duration": 18,
    "start_time": "2023-11-02T17:57:58.414Z"
   },
   {
    "duration": 17,
    "start_time": "2023-11-02T17:57:58.434Z"
   },
   {
    "duration": 11,
    "start_time": "2023-11-02T17:57:58.453Z"
   },
   {
    "duration": 16,
    "start_time": "2023-11-02T17:57:58.466Z"
   },
   {
    "duration": 24,
    "start_time": "2023-11-02T17:57:58.484Z"
   },
   {
    "duration": 16,
    "start_time": "2023-11-02T17:57:58.510Z"
   },
   {
    "duration": 5,
    "start_time": "2023-11-02T17:57:58.528Z"
   },
   {
    "duration": 12,
    "start_time": "2023-11-02T17:57:58.534Z"
   },
   {
    "duration": 6,
    "start_time": "2023-11-02T17:57:58.548Z"
   },
   {
    "duration": 76,
    "start_time": "2023-11-02T17:57:58.556Z"
   },
   {
    "duration": 125,
    "start_time": "2023-11-02T17:57:58.634Z"
   },
   {
    "duration": 4,
    "start_time": "2023-11-02T17:57:58.761Z"
   },
   {
    "duration": 54,
    "start_time": "2023-11-02T17:57:58.767Z"
   },
   {
    "duration": 120,
    "start_time": "2023-11-02T17:57:58.823Z"
   },
   {
    "duration": 3,
    "start_time": "2023-11-02T17:57:58.944Z"
   },
   {
    "duration": 111,
    "start_time": "2023-11-02T17:57:58.949Z"
   },
   {
    "duration": 2925,
    "start_time": "2023-11-02T17:58:33.164Z"
   },
   {
    "duration": 202,
    "start_time": "2023-11-02T17:58:54.107Z"
   },
   {
    "duration": 30,
    "start_time": "2023-11-02T17:59:22.293Z"
   },
   {
    "duration": 35,
    "start_time": "2023-11-02T17:59:37.771Z"
   },
   {
    "duration": 30,
    "start_time": "2023-11-02T17:59:54.134Z"
   },
   {
    "duration": 21,
    "start_time": "2023-11-02T18:00:10.951Z"
   },
   {
    "duration": 18,
    "start_time": "2023-11-02T18:01:51.598Z"
   },
   {
    "duration": 5790,
    "start_time": "2023-11-02T18:02:03.238Z"
   },
   {
    "duration": 1529,
    "start_time": "2023-11-02T18:02:18.377Z"
   },
   {
    "duration": 40,
    "start_time": "2023-11-02T18:02:58.870Z"
   },
   {
    "duration": 18,
    "start_time": "2023-11-02T18:05:05.789Z"
   },
   {
    "duration": 19,
    "start_time": "2023-11-02T18:06:26.325Z"
   },
   {
    "duration": 2595,
    "start_time": "2023-11-02T18:06:32.813Z"
   },
   {
    "duration": 5421,
    "start_time": "2023-11-02T18:06:35.410Z"
   },
   {
    "duration": 2596,
    "start_time": "2023-11-02T18:06:40.833Z"
   },
   {
    "duration": 250,
    "start_time": "2023-11-02T18:06:43.431Z"
   },
   {
    "duration": 2,
    "start_time": "2023-11-02T18:06:43.683Z"
   },
   {
    "duration": 55,
    "start_time": "2023-11-02T18:06:43.686Z"
   },
   {
    "duration": 136,
    "start_time": "2023-11-02T18:06:43.743Z"
   },
   {
    "duration": 26,
    "start_time": "2023-11-02T18:06:43.881Z"
   },
   {
    "duration": 40261,
    "start_time": "2023-11-02T18:06:43.909Z"
   },
   {
    "duration": 37779,
    "start_time": "2023-11-02T18:07:24.172Z"
   },
   {
    "duration": 2535,
    "start_time": "2023-11-02T18:08:01.954Z"
   },
   {
    "duration": 2158,
    "start_time": "2023-11-02T18:08:04.491Z"
   },
   {
    "duration": 11,
    "start_time": "2023-11-02T18:08:06.650Z"
   },
   {
    "duration": 9,
    "start_time": "2023-11-02T18:08:06.664Z"
   },
   {
    "duration": 31,
    "start_time": "2023-11-02T18:08:06.675Z"
   },
   {
    "duration": 28,
    "start_time": "2023-11-02T18:08:06.707Z"
   },
   {
    "duration": 21,
    "start_time": "2023-11-02T18:08:06.737Z"
   },
   {
    "duration": 21,
    "start_time": "2023-11-02T18:08:06.760Z"
   },
   {
    "duration": 15,
    "start_time": "2023-11-02T18:08:06.782Z"
   },
   {
    "duration": 19,
    "start_time": "2023-11-02T18:08:06.799Z"
   },
   {
    "duration": 16,
    "start_time": "2023-11-02T18:08:06.820Z"
   },
   {
    "duration": 23,
    "start_time": "2023-11-02T18:08:06.838Z"
   },
   {
    "duration": 49,
    "start_time": "2023-11-02T18:08:06.863Z"
   },
   {
    "duration": 69,
    "start_time": "2023-11-02T18:08:06.913Z"
   },
   {
    "duration": 80,
    "start_time": "2023-11-02T18:08:06.983Z"
   },
   {
    "duration": 66,
    "start_time": "2023-11-02T18:08:07.065Z"
   },
   {
    "duration": 77,
    "start_time": "2023-11-02T18:08:07.133Z"
   },
   {
    "duration": 508,
    "start_time": "2023-11-02T18:08:07.212Z"
   },
   {
    "duration": 593,
    "start_time": "2023-11-02T18:08:07.722Z"
   },
   {
    "duration": 537,
    "start_time": "2023-11-02T18:08:08.317Z"
   },
   {
    "duration": 716,
    "start_time": "2023-11-02T18:08:08.856Z"
   },
   {
    "duration": 5,
    "start_time": "2023-11-02T18:08:09.574Z"
   },
   {
    "duration": 11,
    "start_time": "2023-11-02T18:08:09.581Z"
   },
   {
    "duration": 24,
    "start_time": "2023-11-02T18:08:09.593Z"
   },
   {
    "duration": 6,
    "start_time": "2023-11-02T18:08:09.618Z"
   },
   {
    "duration": 45,
    "start_time": "2023-11-02T18:08:09.626Z"
   },
   {
    "duration": 13,
    "start_time": "2023-11-02T18:08:09.673Z"
   },
   {
    "duration": 31,
    "start_time": "2023-11-02T18:08:09.688Z"
   },
   {
    "duration": 3683,
    "start_time": "2023-11-02T18:08:09.721Z"
   },
   {
    "duration": 20,
    "start_time": "2023-11-02T18:08:13.406Z"
   },
   {
    "duration": 28,
    "start_time": "2023-11-02T18:08:13.430Z"
   },
   {
    "duration": 22,
    "start_time": "2023-11-02T18:08:13.460Z"
   },
   {
    "duration": 41,
    "start_time": "2023-11-02T18:08:13.483Z"
   },
   {
    "duration": 7,
    "start_time": "2023-11-02T18:08:13.526Z"
   },
   {
    "duration": 12,
    "start_time": "2023-11-02T18:08:13.534Z"
   },
   {
    "duration": 26,
    "start_time": "2023-11-02T18:08:13.547Z"
   },
   {
    "duration": 10,
    "start_time": "2023-11-02T18:08:13.575Z"
   },
   {
    "duration": 32,
    "start_time": "2023-11-02T18:08:13.587Z"
   },
   {
    "duration": 16,
    "start_time": "2023-11-02T18:08:13.621Z"
   },
   {
    "duration": 15,
    "start_time": "2023-11-02T18:08:13.639Z"
   },
   {
    "duration": 20,
    "start_time": "2023-11-02T18:08:13.655Z"
   },
   {
    "duration": 31,
    "start_time": "2023-11-02T18:08:13.676Z"
   },
   {
    "duration": 5,
    "start_time": "2023-11-02T18:08:13.709Z"
   },
   {
    "duration": 13,
    "start_time": "2023-11-02T18:08:13.716Z"
   },
   {
    "duration": 51,
    "start_time": "2023-11-02T18:08:13.731Z"
   },
   {
    "duration": 18,
    "start_time": "2023-11-02T18:08:13.784Z"
   },
   {
    "duration": 21,
    "start_time": "2023-11-02T18:08:13.803Z"
   },
   {
    "duration": 20,
    "start_time": "2023-11-02T18:08:13.826Z"
   },
   {
    "duration": 68,
    "start_time": "2023-11-02T18:08:13.848Z"
   },
   {
    "duration": 128,
    "start_time": "2023-11-02T18:08:13.918Z"
   },
   {
    "duration": 4,
    "start_time": "2023-11-02T18:08:14.047Z"
   },
   {
    "duration": 40,
    "start_time": "2023-11-02T18:08:14.053Z"
   },
   {
    "duration": 113,
    "start_time": "2023-11-02T18:08:14.094Z"
   },
   {
    "duration": 4,
    "start_time": "2023-11-02T18:08:14.208Z"
   },
   {
    "duration": 30,
    "start_time": "2023-11-02T18:08:14.213Z"
   },
   {
    "duration": 3639,
    "start_time": "2023-11-02T18:08:14.244Z"
   },
   {
    "duration": 191,
    "start_time": "2023-11-02T18:08:17.884Z"
   },
   {
    "duration": 0,
    "start_time": "2023-11-02T18:08:18.077Z"
   },
   {
    "duration": 0,
    "start_time": "2023-11-02T18:08:18.078Z"
   },
   {
    "duration": 0,
    "start_time": "2023-11-02T18:08:18.079Z"
   },
   {
    "duration": 22,
    "start_time": "2023-11-02T18:10:46.639Z"
   },
   {
    "duration": 47,
    "start_time": "2023-11-02T18:11:42.631Z"
   },
   {
    "duration": 2641,
    "start_time": "2023-11-02T18:11:58.455Z"
   },
   {
    "duration": 5683,
    "start_time": "2023-11-02T18:12:01.100Z"
   },
   {
    "duration": 2694,
    "start_time": "2023-11-02T18:12:06.785Z"
   },
   {
    "duration": 243,
    "start_time": "2023-11-02T18:12:09.481Z"
   },
   {
    "duration": 2,
    "start_time": "2023-11-02T18:12:09.726Z"
   },
   {
    "duration": 77,
    "start_time": "2023-11-02T18:12:09.729Z"
   },
   {
    "duration": 134,
    "start_time": "2023-11-02T18:12:09.807Z"
   },
   {
    "duration": 21,
    "start_time": "2023-11-02T18:12:09.942Z"
   },
   {
    "duration": 39975,
    "start_time": "2023-11-02T18:12:09.965Z"
   },
   {
    "duration": 37531,
    "start_time": "2023-11-02T18:12:49.942Z"
   },
   {
    "duration": 2511,
    "start_time": "2023-11-02T18:13:27.474Z"
   },
   {
    "duration": 2143,
    "start_time": "2023-11-02T18:13:29.987Z"
   },
   {
    "duration": 10,
    "start_time": "2023-11-02T18:13:32.132Z"
   },
   {
    "duration": 50,
    "start_time": "2023-11-02T18:13:32.143Z"
   },
   {
    "duration": 33,
    "start_time": "2023-11-02T18:13:32.195Z"
   },
   {
    "duration": 33,
    "start_time": "2023-11-02T18:13:32.229Z"
   },
   {
    "duration": 27,
    "start_time": "2023-11-02T18:13:32.263Z"
   },
   {
    "duration": 16,
    "start_time": "2023-11-02T18:13:32.291Z"
   },
   {
    "duration": 34,
    "start_time": "2023-11-02T18:13:32.309Z"
   },
   {
    "duration": 38,
    "start_time": "2023-11-02T18:13:32.345Z"
   },
   {
    "duration": 7,
    "start_time": "2023-11-02T18:13:32.384Z"
   },
   {
    "duration": 21,
    "start_time": "2023-11-02T18:13:32.393Z"
   },
   {
    "duration": 36,
    "start_time": "2023-11-02T18:13:32.415Z"
   },
   {
    "duration": 69,
    "start_time": "2023-11-02T18:13:32.452Z"
   },
   {
    "duration": 71,
    "start_time": "2023-11-02T18:13:32.523Z"
   },
   {
    "duration": 62,
    "start_time": "2023-11-02T18:13:32.595Z"
   },
   {
    "duration": 71,
    "start_time": "2023-11-02T18:13:32.661Z"
   },
   {
    "duration": 452,
    "start_time": "2023-11-02T18:13:32.733Z"
   },
   {
    "duration": 630,
    "start_time": "2023-11-02T18:13:33.187Z"
   },
   {
    "duration": 531,
    "start_time": "2023-11-02T18:13:33.819Z"
   },
   {
    "duration": 784,
    "start_time": "2023-11-02T18:13:34.351Z"
   },
   {
    "duration": 5,
    "start_time": "2023-11-02T18:13:35.137Z"
   },
   {
    "duration": 20,
    "start_time": "2023-11-02T18:13:35.143Z"
   },
   {
    "duration": 13,
    "start_time": "2023-11-02T18:13:35.165Z"
   },
   {
    "duration": 45,
    "start_time": "2023-11-02T18:13:35.180Z"
   },
   {
    "duration": 70,
    "start_time": "2023-11-02T18:13:35.227Z"
   },
   {
    "duration": 12,
    "start_time": "2023-11-02T18:13:35.299Z"
   },
   {
    "duration": 19,
    "start_time": "2023-11-02T18:13:35.313Z"
   },
   {
    "duration": 4742,
    "start_time": "2023-11-02T18:13:35.334Z"
   },
   {
    "duration": 35,
    "start_time": "2023-11-02T18:13:40.078Z"
   },
   {
    "duration": 10,
    "start_time": "2023-11-02T18:13:40.115Z"
   },
   {
    "duration": 9,
    "start_time": "2023-11-02T18:13:40.127Z"
   },
   {
    "duration": 27,
    "start_time": "2023-11-02T18:13:40.138Z"
   },
   {
    "duration": 4,
    "start_time": "2023-11-02T18:13:40.166Z"
   },
   {
    "duration": 16,
    "start_time": "2023-11-02T18:13:40.172Z"
   },
   {
    "duration": 5,
    "start_time": "2023-11-02T18:13:40.189Z"
   },
   {
    "duration": 12,
    "start_time": "2023-11-02T18:13:40.195Z"
   },
   {
    "duration": 51,
    "start_time": "2023-11-02T18:13:40.209Z"
   },
   {
    "duration": 18,
    "start_time": "2023-11-02T18:13:40.261Z"
   },
   {
    "duration": 15,
    "start_time": "2023-11-02T18:13:40.281Z"
   },
   {
    "duration": 17,
    "start_time": "2023-11-02T18:13:40.297Z"
   },
   {
    "duration": 12,
    "start_time": "2023-11-02T18:13:40.316Z"
   },
   {
    "duration": 16,
    "start_time": "2023-11-02T18:13:40.330Z"
   },
   {
    "duration": 29,
    "start_time": "2023-11-02T18:13:40.348Z"
   },
   {
    "duration": 56,
    "start_time": "2023-11-02T18:13:40.379Z"
   },
   {
    "duration": 12,
    "start_time": "2023-11-02T18:13:40.436Z"
   },
   {
    "duration": 5,
    "start_time": "2023-11-02T18:13:40.450Z"
   },
   {
    "duration": 4,
    "start_time": "2023-11-02T18:13:40.457Z"
   },
   {
    "duration": 65,
    "start_time": "2023-11-02T18:13:40.463Z"
   },
   {
    "duration": 121,
    "start_time": "2023-11-02T18:13:40.530Z"
   },
   {
    "duration": 4,
    "start_time": "2023-11-02T18:13:40.653Z"
   },
   {
    "duration": 36,
    "start_time": "2023-11-02T18:13:40.658Z"
   },
   {
    "duration": 159,
    "start_time": "2023-11-02T18:13:40.695Z"
   },
   {
    "duration": 3,
    "start_time": "2023-11-02T18:13:40.855Z"
   },
   {
    "duration": 177,
    "start_time": "2023-11-02T18:13:40.860Z"
   },
   {
    "duration": 0,
    "start_time": "2023-11-02T18:13:41.039Z"
   },
   {
    "duration": 0,
    "start_time": "2023-11-02T18:13:41.040Z"
   },
   {
    "duration": 0,
    "start_time": "2023-11-02T18:13:41.041Z"
   },
   {
    "duration": 0,
    "start_time": "2023-11-02T18:13:41.042Z"
   },
   {
    "duration": 0,
    "start_time": "2023-11-02T18:13:41.043Z"
   },
   {
    "duration": 38,
    "start_time": "2023-11-02T18:14:05.388Z"
   },
   {
    "duration": 3485,
    "start_time": "2023-11-02T18:14:08.527Z"
   },
   {
    "duration": 15,
    "start_time": "2023-11-02T18:15:00.932Z"
   },
   {
    "duration": 5,
    "start_time": "2023-11-02T18:15:04.328Z"
   },
   {
    "duration": 15,
    "start_time": "2023-11-02T18:15:09.563Z"
   },
   {
    "duration": 5,
    "start_time": "2023-11-02T18:15:11.116Z"
   },
   {
    "duration": 4,
    "start_time": "2023-11-02T18:15:18.436Z"
   },
   {
    "duration": 7,
    "start_time": "2023-11-02T18:15:20.979Z"
   },
   {
    "duration": 6,
    "start_time": "2023-11-02T18:15:21.612Z"
   },
   {
    "duration": 17,
    "start_time": "2023-11-02T18:15:27.775Z"
   },
   {
    "duration": 6,
    "start_time": "2023-11-02T18:15:28.196Z"
   },
   {
    "duration": 5,
    "start_time": "2023-11-02T18:15:28.739Z"
   },
   {
    "duration": 14,
    "start_time": "2023-11-02T18:15:33.455Z"
   },
   {
    "duration": 6,
    "start_time": "2023-11-02T18:15:33.991Z"
   },
   {
    "duration": 6,
    "start_time": "2023-11-02T18:15:35.177Z"
   },
   {
    "duration": 2624,
    "start_time": "2023-11-02T18:16:02.643Z"
   },
   {
    "duration": 5653,
    "start_time": "2023-11-02T18:16:05.270Z"
   },
   {
    "duration": 2696,
    "start_time": "2023-11-02T18:16:10.925Z"
   },
   {
    "duration": 254,
    "start_time": "2023-11-02T18:16:13.623Z"
   },
   {
    "duration": 3,
    "start_time": "2023-11-02T18:16:13.879Z"
   },
   {
    "duration": 61,
    "start_time": "2023-11-02T18:16:13.883Z"
   },
   {
    "duration": 140,
    "start_time": "2023-11-02T18:16:13.946Z"
   },
   {
    "duration": 37,
    "start_time": "2023-11-02T18:16:14.088Z"
   },
   {
    "duration": 42529,
    "start_time": "2023-11-02T18:16:14.126Z"
   },
   {
    "duration": 39729,
    "start_time": "2023-11-02T18:16:56.656Z"
   },
   {
    "duration": 3369,
    "start_time": "2023-11-02T18:17:36.387Z"
   },
   {
    "duration": 2467,
    "start_time": "2023-11-02T18:17:39.757Z"
   },
   {
    "duration": 12,
    "start_time": "2023-11-02T18:17:42.226Z"
   },
   {
    "duration": 3,
    "start_time": "2023-11-02T18:17:42.242Z"
   },
   {
    "duration": 10,
    "start_time": "2023-11-02T18:17:42.247Z"
   },
   {
    "duration": 14,
    "start_time": "2023-11-02T18:17:42.259Z"
   },
   {
    "duration": 24,
    "start_time": "2023-11-02T18:17:42.274Z"
   },
   {
    "duration": 23,
    "start_time": "2023-11-02T18:17:42.300Z"
   },
   {
    "duration": 16,
    "start_time": "2023-11-02T18:17:42.324Z"
   },
   {
    "duration": 20,
    "start_time": "2023-11-02T18:17:42.342Z"
   },
   {
    "duration": 7,
    "start_time": "2023-11-02T18:17:42.364Z"
   },
   {
    "duration": 8,
    "start_time": "2023-11-02T18:17:42.372Z"
   },
   {
    "duration": 50,
    "start_time": "2023-11-02T18:17:42.381Z"
   },
   {
    "duration": 62,
    "start_time": "2023-11-02T18:17:42.432Z"
   },
   {
    "duration": 87,
    "start_time": "2023-11-02T18:17:42.495Z"
   },
   {
    "duration": 75,
    "start_time": "2023-11-02T18:17:42.584Z"
   },
   {
    "duration": 75,
    "start_time": "2023-11-02T18:17:42.660Z"
   },
   {
    "duration": 479,
    "start_time": "2023-11-02T18:17:42.737Z"
   },
   {
    "duration": 613,
    "start_time": "2023-11-02T18:17:43.218Z"
   },
   {
    "duration": 563,
    "start_time": "2023-11-02T18:17:43.833Z"
   },
   {
    "duration": 790,
    "start_time": "2023-11-02T18:17:44.398Z"
   },
   {
    "duration": 6,
    "start_time": "2023-11-02T18:17:45.190Z"
   },
   {
    "duration": 19,
    "start_time": "2023-11-02T18:17:45.221Z"
   },
   {
    "duration": 37,
    "start_time": "2023-11-02T18:17:45.242Z"
   },
   {
    "duration": 42,
    "start_time": "2023-11-02T18:17:45.280Z"
   },
   {
    "duration": 82,
    "start_time": "2023-11-02T18:17:45.324Z"
   },
   {
    "duration": 16,
    "start_time": "2023-11-02T18:17:45.407Z"
   },
   {
    "duration": 19,
    "start_time": "2023-11-02T18:17:45.425Z"
   },
   {
    "duration": 4046,
    "start_time": "2023-11-02T18:17:45.446Z"
   },
   {
    "duration": 35,
    "start_time": "2023-11-02T18:17:49.494Z"
   },
   {
    "duration": 14,
    "start_time": "2023-11-02T18:17:49.533Z"
   },
   {
    "duration": 17,
    "start_time": "2023-11-02T18:17:49.548Z"
   },
   {
    "duration": 32,
    "start_time": "2023-11-02T18:17:49.567Z"
   },
   {
    "duration": 4,
    "start_time": "2023-11-02T18:17:49.601Z"
   },
   {
    "duration": 11,
    "start_time": "2023-11-02T18:17:49.613Z"
   },
   {
    "duration": 5,
    "start_time": "2023-11-02T18:17:49.626Z"
   },
   {
    "duration": 17,
    "start_time": "2023-11-02T18:17:49.632Z"
   },
   {
    "duration": 38,
    "start_time": "2023-11-02T18:17:49.650Z"
   },
   {
    "duration": 16,
    "start_time": "2023-11-02T18:17:49.690Z"
   },
   {
    "duration": 21,
    "start_time": "2023-11-02T18:17:49.713Z"
   },
   {
    "duration": 30,
    "start_time": "2023-11-02T18:17:49.735Z"
   },
   {
    "duration": 21,
    "start_time": "2023-11-02T18:17:49.767Z"
   },
   {
    "duration": 11,
    "start_time": "2023-11-02T18:17:49.789Z"
   },
   {
    "duration": 17,
    "start_time": "2023-11-02T18:17:49.801Z"
   },
   {
    "duration": 22,
    "start_time": "2023-11-02T18:17:49.820Z"
   },
   {
    "duration": 6,
    "start_time": "2023-11-02T18:17:49.844Z"
   },
   {
    "duration": 19,
    "start_time": "2023-11-02T18:17:49.851Z"
   },
   {
    "duration": 7,
    "start_time": "2023-11-02T18:17:49.871Z"
   },
   {
    "duration": 62,
    "start_time": "2023-11-02T18:17:49.880Z"
   },
   {
    "duration": 133,
    "start_time": "2023-11-02T18:17:49.943Z"
   },
   {
    "duration": 5,
    "start_time": "2023-11-02T18:17:50.078Z"
   },
   {
    "duration": 49,
    "start_time": "2023-11-02T18:17:50.085Z"
   },
   {
    "duration": 123,
    "start_time": "2023-11-02T18:17:50.136Z"
   },
   {
    "duration": 3,
    "start_time": "2023-11-02T18:17:50.260Z"
   },
   {
    "duration": 34,
    "start_time": "2023-11-02T18:17:50.265Z"
   },
   {
    "duration": 3489,
    "start_time": "2023-11-02T18:17:50.301Z"
   },
   {
    "duration": 207,
    "start_time": "2023-11-02T18:17:53.792Z"
   },
   {
    "duration": 0,
    "start_time": "2023-11-02T18:17:54.000Z"
   },
   {
    "duration": 0,
    "start_time": "2023-11-02T18:17:54.001Z"
   },
   {
    "duration": 0,
    "start_time": "2023-11-02T18:17:54.006Z"
   },
   {
    "duration": 23,
    "start_time": "2023-11-02T18:19:31.283Z"
   },
   {
    "duration": 5,
    "start_time": "2023-11-02T18:19:42.586Z"
   },
   {
    "duration": 7,
    "start_time": "2023-11-02T18:19:48.910Z"
   },
   {
    "duration": 5,
    "start_time": "2023-11-02T18:20:11.867Z"
   },
   {
    "duration": 5,
    "start_time": "2023-11-02T18:20:16.702Z"
   },
   {
    "duration": 8,
    "start_time": "2023-11-02T18:20:28.986Z"
   },
   {
    "duration": 2647,
    "start_time": "2023-11-02T18:24:38.146Z"
   },
   {
    "duration": 5270,
    "start_time": "2023-11-02T18:24:40.795Z"
   },
   {
    "duration": 2629,
    "start_time": "2023-11-02T18:24:46.067Z"
   },
   {
    "duration": 238,
    "start_time": "2023-11-02T18:24:48.698Z"
   },
   {
    "duration": 3,
    "start_time": "2023-11-02T18:24:48.937Z"
   },
   {
    "duration": 54,
    "start_time": "2023-11-02T18:24:48.941Z"
   },
   {
    "duration": 129,
    "start_time": "2023-11-02T18:24:48.997Z"
   },
   {
    "duration": 21,
    "start_time": "2023-11-02T18:24:49.127Z"
   },
   {
    "duration": 14,
    "start_time": "2023-11-02T18:24:49.150Z"
   },
   {
    "duration": 29,
    "start_time": "2023-11-02T18:24:49.166Z"
   },
   {
    "duration": 2629,
    "start_time": "2023-11-02T18:24:49.197Z"
   },
   {
    "duration": 2123,
    "start_time": "2023-11-02T18:24:51.828Z"
   },
   {
    "duration": 19,
    "start_time": "2023-11-02T18:24:53.953Z"
   },
   {
    "duration": 24,
    "start_time": "2023-11-02T18:24:53.974Z"
   },
   {
    "duration": 34,
    "start_time": "2023-11-02T18:24:53.999Z"
   },
   {
    "duration": 56,
    "start_time": "2023-11-02T18:24:54.035Z"
   },
   {
    "duration": 22,
    "start_time": "2023-11-02T18:24:54.093Z"
   },
   {
    "duration": 14,
    "start_time": "2023-11-02T18:24:54.116Z"
   },
   {
    "duration": 35,
    "start_time": "2023-11-02T18:24:54.131Z"
   },
   {
    "duration": 41,
    "start_time": "2023-11-02T18:24:54.168Z"
   },
   {
    "duration": 25,
    "start_time": "2023-11-02T18:24:54.210Z"
   },
   {
    "duration": 18,
    "start_time": "2023-11-02T18:24:54.237Z"
   },
   {
    "duration": 49,
    "start_time": "2023-11-02T18:24:54.256Z"
   },
   {
    "duration": 89,
    "start_time": "2023-11-02T18:24:54.307Z"
   },
   {
    "duration": 74,
    "start_time": "2023-11-02T18:24:54.398Z"
   },
   {
    "duration": 65,
    "start_time": "2023-11-02T18:24:54.474Z"
   },
   {
    "duration": 77,
    "start_time": "2023-11-02T18:24:54.541Z"
   },
   {
    "duration": 477,
    "start_time": "2023-11-02T18:24:54.621Z"
   },
   {
    "duration": 769,
    "start_time": "2023-11-02T18:24:55.100Z"
   },
   {
    "duration": 599,
    "start_time": "2023-11-02T18:24:55.871Z"
   },
   {
    "duration": 759,
    "start_time": "2023-11-02T18:24:56.471Z"
   },
   {
    "duration": 7,
    "start_time": "2023-11-02T18:24:57.232Z"
   },
   {
    "duration": 7,
    "start_time": "2023-11-02T18:24:57.241Z"
   },
   {
    "duration": 8,
    "start_time": "2023-11-02T18:24:57.250Z"
   },
   {
    "duration": 7,
    "start_time": "2023-11-02T18:24:57.259Z"
   },
   {
    "duration": 73,
    "start_time": "2023-11-02T18:24:57.267Z"
   },
   {
    "duration": 12,
    "start_time": "2023-11-02T18:24:57.342Z"
   },
   {
    "duration": 7,
    "start_time": "2023-11-02T18:24:57.355Z"
   },
   {
    "duration": 3813,
    "start_time": "2023-11-02T18:24:57.364Z"
   },
   {
    "duration": 30,
    "start_time": "2023-11-02T18:25:01.178Z"
   },
   {
    "duration": 41,
    "start_time": "2023-11-02T18:25:01.210Z"
   },
   {
    "duration": 58,
    "start_time": "2023-11-02T18:25:01.253Z"
   },
   {
    "duration": 43,
    "start_time": "2023-11-02T18:25:01.313Z"
   },
   {
    "duration": 29,
    "start_time": "2023-11-02T18:25:01.358Z"
   },
   {
    "duration": 33,
    "start_time": "2023-11-02T18:25:01.389Z"
   },
   {
    "duration": 44,
    "start_time": "2023-11-02T18:25:01.424Z"
   },
   {
    "duration": 38,
    "start_time": "2023-11-02T18:25:01.469Z"
   },
   {
    "duration": 69,
    "start_time": "2023-11-02T18:25:01.509Z"
   },
   {
    "duration": 23,
    "start_time": "2023-11-02T18:25:01.580Z"
   },
   {
    "duration": 35,
    "start_time": "2023-11-02T18:25:01.604Z"
   },
   {
    "duration": 29,
    "start_time": "2023-11-02T18:25:01.640Z"
   },
   {
    "duration": 20,
    "start_time": "2023-11-02T18:25:01.670Z"
   },
   {
    "duration": 29,
    "start_time": "2023-11-02T18:25:01.691Z"
   },
   {
    "duration": 25,
    "start_time": "2023-11-02T18:25:01.722Z"
   },
   {
    "duration": 52,
    "start_time": "2023-11-02T18:25:01.749Z"
   },
   {
    "duration": 14,
    "start_time": "2023-11-02T18:25:01.803Z"
   },
   {
    "duration": 26,
    "start_time": "2023-11-02T18:25:01.819Z"
   },
   {
    "duration": 55,
    "start_time": "2023-11-02T18:25:01.847Z"
   },
   {
    "duration": 95,
    "start_time": "2023-11-02T18:25:01.904Z"
   },
   {
    "duration": 119,
    "start_time": "2023-11-02T18:25:02.000Z"
   },
   {
    "duration": 4,
    "start_time": "2023-11-02T18:25:02.121Z"
   },
   {
    "duration": 70,
    "start_time": "2023-11-02T18:25:02.127Z"
   },
   {
    "duration": 149,
    "start_time": "2023-11-02T18:25:02.198Z"
   },
   {
    "duration": 4,
    "start_time": "2023-11-02T18:25:02.348Z"
   },
   {
    "duration": 75,
    "start_time": "2023-11-02T18:25:02.353Z"
   },
   {
    "duration": 78,
    "start_time": "2023-11-02T18:25:02.429Z"
   },
   {
    "duration": 4751,
    "start_time": "2023-11-02T18:25:02.509Z"
   },
   {
    "duration": 200,
    "start_time": "2023-11-02T18:25:07.262Z"
   },
   {
    "duration": 0,
    "start_time": "2023-11-02T18:25:07.464Z"
   },
   {
    "duration": 0,
    "start_time": "2023-11-02T18:25:07.465Z"
   },
   {
    "duration": 0,
    "start_time": "2023-11-02T18:25:07.466Z"
   },
   {
    "duration": 8,
    "start_time": "2023-11-02T18:27:28.933Z"
   },
   {
    "duration": 2736,
    "start_time": "2023-11-02T18:27:47.480Z"
   },
   {
    "duration": 5510,
    "start_time": "2023-11-02T18:27:50.219Z"
   },
   {
    "duration": 2670,
    "start_time": "2023-11-02T18:27:55.731Z"
   },
   {
    "duration": 251,
    "start_time": "2023-11-02T18:27:58.403Z"
   },
   {
    "duration": 2,
    "start_time": "2023-11-02T18:27:58.656Z"
   },
   {
    "duration": 56,
    "start_time": "2023-11-02T18:27:58.660Z"
   },
   {
    "duration": 130,
    "start_time": "2023-11-02T18:27:58.718Z"
   },
   {
    "duration": 21,
    "start_time": "2023-11-02T18:27:58.850Z"
   },
   {
    "duration": 10,
    "start_time": "2023-11-02T18:27:58.872Z"
   },
   {
    "duration": 3,
    "start_time": "2023-11-02T18:27:58.885Z"
   },
   {
    "duration": 2673,
    "start_time": "2023-11-02T18:27:58.889Z"
   },
   {
    "duration": 2225,
    "start_time": "2023-11-02T18:28:01.564Z"
   },
   {
    "duration": 30,
    "start_time": "2023-11-02T18:28:03.791Z"
   },
   {
    "duration": 16,
    "start_time": "2023-11-02T18:28:03.823Z"
   },
   {
    "duration": 35,
    "start_time": "2023-11-02T18:28:03.840Z"
   },
   {
    "duration": 16,
    "start_time": "2023-11-02T18:28:03.877Z"
   },
   {
    "duration": 38,
    "start_time": "2023-11-02T18:28:03.895Z"
   },
   {
    "duration": 18,
    "start_time": "2023-11-02T18:28:03.934Z"
   },
   {
    "duration": 27,
    "start_time": "2023-11-02T18:28:03.954Z"
   },
   {
    "duration": 20,
    "start_time": "2023-11-02T18:28:03.983Z"
   },
   {
    "duration": 17,
    "start_time": "2023-11-02T18:28:04.005Z"
   },
   {
    "duration": 29,
    "start_time": "2023-11-02T18:28:04.025Z"
   },
   {
    "duration": 41,
    "start_time": "2023-11-02T18:28:04.056Z"
   },
   {
    "duration": 33,
    "start_time": "2023-11-02T18:28:04.098Z"
   },
   {
    "duration": 63,
    "start_time": "2023-11-02T18:28:04.133Z"
   },
   {
    "duration": 75,
    "start_time": "2023-11-02T18:28:04.197Z"
   },
   {
    "duration": 79,
    "start_time": "2023-11-02T18:28:04.274Z"
   },
   {
    "duration": 71,
    "start_time": "2023-11-02T18:28:04.361Z"
   },
   {
    "duration": 470,
    "start_time": "2023-11-02T18:28:04.434Z"
   },
   {
    "duration": 774,
    "start_time": "2023-11-02T18:28:04.906Z"
   },
   {
    "duration": 642,
    "start_time": "2023-11-02T18:28:05.682Z"
   },
   {
    "duration": 739,
    "start_time": "2023-11-02T18:28:06.326Z"
   },
   {
    "duration": 6,
    "start_time": "2023-11-02T18:28:07.067Z"
   },
   {
    "duration": 18,
    "start_time": "2023-11-02T18:28:07.075Z"
   },
   {
    "duration": 15,
    "start_time": "2023-11-02T18:28:07.095Z"
   },
   {
    "duration": 15,
    "start_time": "2023-11-02T18:28:07.112Z"
   },
   {
    "duration": 49,
    "start_time": "2023-11-02T18:28:07.128Z"
   },
   {
    "duration": 13,
    "start_time": "2023-11-02T18:28:07.179Z"
   },
   {
    "duration": 29,
    "start_time": "2023-11-02T18:28:07.193Z"
   },
   {
    "duration": 4116,
    "start_time": "2023-11-02T18:28:07.223Z"
   },
   {
    "duration": 18,
    "start_time": "2023-11-02T18:28:11.341Z"
   },
   {
    "duration": 12,
    "start_time": "2023-11-02T18:28:11.360Z"
   },
   {
    "duration": 8,
    "start_time": "2023-11-02T18:28:11.373Z"
   },
   {
    "duration": 102,
    "start_time": "2023-11-02T18:28:11.382Z"
   },
   {
    "duration": 4,
    "start_time": "2023-11-02T18:28:11.485Z"
   },
   {
    "duration": 8,
    "start_time": "2023-11-02T18:28:11.491Z"
   },
   {
    "duration": 3,
    "start_time": "2023-11-02T18:28:11.501Z"
   },
   {
    "duration": 16,
    "start_time": "2023-11-02T18:28:11.506Z"
   },
   {
    "duration": 26,
    "start_time": "2023-11-02T18:28:11.523Z"
   },
   {
    "duration": 17,
    "start_time": "2023-11-02T18:28:11.550Z"
   },
   {
    "duration": 19,
    "start_time": "2023-11-02T18:28:11.569Z"
   },
   {
    "duration": 34,
    "start_time": "2023-11-02T18:28:11.590Z"
   },
   {
    "duration": 120,
    "start_time": "2023-11-02T18:28:11.626Z"
   },
   {
    "duration": 24,
    "start_time": "2023-11-02T18:28:11.748Z"
   },
   {
    "duration": 19,
    "start_time": "2023-11-02T18:28:11.775Z"
   },
   {
    "duration": 25,
    "start_time": "2023-11-02T18:28:11.796Z"
   },
   {
    "duration": 6,
    "start_time": "2023-11-02T18:28:11.823Z"
   },
   {
    "duration": 7,
    "start_time": "2023-11-02T18:28:11.831Z"
   },
   {
    "duration": 8,
    "start_time": "2023-11-02T18:28:11.840Z"
   },
   {
    "duration": 79,
    "start_time": "2023-11-02T18:28:11.850Z"
   },
   {
    "duration": 135,
    "start_time": "2023-11-02T18:28:11.930Z"
   },
   {
    "duration": 5,
    "start_time": "2023-11-02T18:28:12.067Z"
   },
   {
    "duration": 52,
    "start_time": "2023-11-02T18:28:12.074Z"
   },
   {
    "duration": 112,
    "start_time": "2023-11-02T18:28:12.128Z"
   },
   {
    "duration": 3,
    "start_time": "2023-11-02T18:28:12.242Z"
   },
   {
    "duration": 17,
    "start_time": "2023-11-02T18:28:12.247Z"
   },
   {
    "duration": 53,
    "start_time": "2023-11-02T18:28:12.266Z"
   },
   {
    "duration": 4278,
    "start_time": "2023-11-02T18:28:12.320Z"
   },
   {
    "duration": 219,
    "start_time": "2023-11-02T18:28:16.600Z"
   },
   {
    "duration": 0,
    "start_time": "2023-11-02T18:28:16.821Z"
   },
   {
    "duration": 0,
    "start_time": "2023-11-02T18:28:16.822Z"
   },
   {
    "duration": 0,
    "start_time": "2023-11-02T18:28:16.823Z"
   },
   {
    "duration": 2670,
    "start_time": "2023-11-02T18:28:37.548Z"
   },
   {
    "duration": 5517,
    "start_time": "2023-11-02T18:28:40.220Z"
   },
   {
    "duration": 2708,
    "start_time": "2023-11-02T18:28:45.739Z"
   },
   {
    "duration": 243,
    "start_time": "2023-11-02T18:28:48.449Z"
   },
   {
    "duration": 2,
    "start_time": "2023-11-02T18:28:48.694Z"
   },
   {
    "duration": 69,
    "start_time": "2023-11-02T18:28:48.697Z"
   },
   {
    "duration": 135,
    "start_time": "2023-11-02T18:28:48.767Z"
   },
   {
    "duration": 30,
    "start_time": "2023-11-02T18:28:48.903Z"
   },
   {
    "duration": 2,
    "start_time": "2023-11-02T18:28:48.935Z"
   },
   {
    "duration": 15,
    "start_time": "2023-11-02T18:28:48.939Z"
   },
   {
    "duration": 2663,
    "start_time": "2023-11-02T18:28:48.955Z"
   },
   {
    "duration": 2243,
    "start_time": "2023-11-02T18:28:51.620Z"
   },
   {
    "duration": 18,
    "start_time": "2023-11-02T18:28:53.865Z"
   },
   {
    "duration": 11,
    "start_time": "2023-11-02T18:28:53.884Z"
   },
   {
    "duration": 23,
    "start_time": "2023-11-02T18:28:53.897Z"
   },
   {
    "duration": 23,
    "start_time": "2023-11-02T18:28:53.922Z"
   },
   {
    "duration": 31,
    "start_time": "2023-11-02T18:28:53.946Z"
   },
   {
    "duration": 16,
    "start_time": "2023-11-02T18:28:53.978Z"
   },
   {
    "duration": 53,
    "start_time": "2023-11-02T18:28:53.995Z"
   },
   {
    "duration": 22,
    "start_time": "2023-11-02T18:28:54.050Z"
   },
   {
    "duration": 49,
    "start_time": "2023-11-02T18:28:54.074Z"
   },
   {
    "duration": 22,
    "start_time": "2023-11-02T18:28:54.125Z"
   },
   {
    "duration": 28,
    "start_time": "2023-11-02T18:28:54.148Z"
   },
   {
    "duration": 42,
    "start_time": "2023-11-02T18:28:54.177Z"
   },
   {
    "duration": 75,
    "start_time": "2023-11-02T18:28:54.220Z"
   },
   {
    "duration": 79,
    "start_time": "2023-11-02T18:28:54.296Z"
   },
   {
    "duration": 75,
    "start_time": "2023-11-02T18:28:54.377Z"
   },
   {
    "duration": 83,
    "start_time": "2023-11-02T18:28:54.456Z"
   },
   {
    "duration": 496,
    "start_time": "2023-11-02T18:28:54.541Z"
   },
   {
    "duration": 796,
    "start_time": "2023-11-02T18:28:55.039Z"
   },
   {
    "duration": 682,
    "start_time": "2023-11-02T18:28:55.837Z"
   },
   {
    "duration": 779,
    "start_time": "2023-11-02T18:28:56.521Z"
   },
   {
    "duration": 21,
    "start_time": "2023-11-02T18:28:57.302Z"
   },
   {
    "duration": 7,
    "start_time": "2023-11-02T18:28:57.325Z"
   },
   {
    "duration": 9,
    "start_time": "2023-11-02T18:28:57.333Z"
   },
   {
    "duration": 29,
    "start_time": "2023-11-02T18:28:57.343Z"
   },
   {
    "duration": 64,
    "start_time": "2023-11-02T18:28:57.374Z"
   },
   {
    "duration": 15,
    "start_time": "2023-11-02T18:28:57.440Z"
   },
   {
    "duration": 6,
    "start_time": "2023-11-02T18:28:57.457Z"
   },
   {
    "duration": 4102,
    "start_time": "2023-11-02T18:28:57.469Z"
   },
   {
    "duration": 19,
    "start_time": "2023-11-02T18:29:01.573Z"
   },
   {
    "duration": 66,
    "start_time": "2023-11-02T18:29:01.609Z"
   },
   {
    "duration": 62,
    "start_time": "2023-11-02T18:29:01.676Z"
   },
   {
    "duration": 117,
    "start_time": "2023-11-02T18:29:01.739Z"
   },
   {
    "duration": 47,
    "start_time": "2023-11-02T18:29:01.857Z"
   },
   {
    "duration": 54,
    "start_time": "2023-11-02T18:29:01.906Z"
   },
   {
    "duration": 67,
    "start_time": "2023-11-02T18:29:01.962Z"
   },
   {
    "duration": 60,
    "start_time": "2023-11-02T18:29:02.030Z"
   },
   {
    "duration": 57,
    "start_time": "2023-11-02T18:29:02.091Z"
   },
   {
    "duration": 45,
    "start_time": "2023-11-02T18:29:02.150Z"
   },
   {
    "duration": 42,
    "start_time": "2023-11-02T18:29:02.197Z"
   },
   {
    "duration": 62,
    "start_time": "2023-11-02T18:29:02.241Z"
   },
   {
    "duration": 44,
    "start_time": "2023-11-02T18:29:02.305Z"
   },
   {
    "duration": 49,
    "start_time": "2023-11-02T18:29:02.351Z"
   },
   {
    "duration": 40,
    "start_time": "2023-11-02T18:29:02.402Z"
   },
   {
    "duration": 52,
    "start_time": "2023-11-02T18:29:02.444Z"
   },
   {
    "duration": 39,
    "start_time": "2023-11-02T18:29:02.497Z"
   },
   {
    "duration": 52,
    "start_time": "2023-11-02T18:29:02.537Z"
   },
   {
    "duration": 31,
    "start_time": "2023-11-02T18:29:02.591Z"
   },
   {
    "duration": 115,
    "start_time": "2023-11-02T18:29:02.624Z"
   },
   {
    "duration": 128,
    "start_time": "2023-11-02T18:29:02.740Z"
   },
   {
    "duration": 4,
    "start_time": "2023-11-02T18:29:02.870Z"
   },
   {
    "duration": 67,
    "start_time": "2023-11-02T18:29:02.875Z"
   },
   {
    "duration": 129,
    "start_time": "2023-11-02T18:29:02.944Z"
   },
   {
    "duration": 3,
    "start_time": "2023-11-02T18:29:03.075Z"
   },
   {
    "duration": 46,
    "start_time": "2023-11-02T18:29:03.079Z"
   },
   {
    "duration": 32,
    "start_time": "2023-11-02T18:29:03.127Z"
   },
   {
    "duration": 4855,
    "start_time": "2023-11-02T18:29:03.161Z"
   },
   {
    "duration": 207,
    "start_time": "2023-11-02T18:29:08.018Z"
   },
   {
    "duration": 0,
    "start_time": "2023-11-02T18:29:08.226Z"
   },
   {
    "duration": 0,
    "start_time": "2023-11-02T18:29:08.227Z"
   },
   {
    "duration": 0,
    "start_time": "2023-11-02T18:29:08.228Z"
   },
   {
    "duration": 2673,
    "start_time": "2023-11-02T18:30:41.767Z"
   },
   {
    "duration": 5486,
    "start_time": "2023-11-02T18:30:44.442Z"
   },
   {
    "duration": 2569,
    "start_time": "2023-11-02T18:30:49.930Z"
   },
   {
    "duration": 243,
    "start_time": "2023-11-02T18:30:52.501Z"
   },
   {
    "duration": 3,
    "start_time": "2023-11-02T18:30:52.746Z"
   },
   {
    "duration": 48,
    "start_time": "2023-11-02T18:30:52.750Z"
   },
   {
    "duration": 148,
    "start_time": "2023-11-02T18:30:52.799Z"
   },
   {
    "duration": 22,
    "start_time": "2023-11-02T18:30:52.948Z"
   },
   {
    "duration": 13,
    "start_time": "2023-11-02T18:30:52.971Z"
   },
   {
    "duration": 14,
    "start_time": "2023-11-02T18:30:52.986Z"
   },
   {
    "duration": 2573,
    "start_time": "2023-11-02T18:30:53.001Z"
   },
   {
    "duration": 2266,
    "start_time": "2023-11-02T18:30:55.576Z"
   },
   {
    "duration": 17,
    "start_time": "2023-11-02T18:30:57.843Z"
   },
   {
    "duration": 18,
    "start_time": "2023-11-02T18:30:57.862Z"
   },
   {
    "duration": 36,
    "start_time": "2023-11-02T18:30:57.882Z"
   },
   {
    "duration": 23,
    "start_time": "2023-11-02T18:30:57.920Z"
   },
   {
    "duration": 29,
    "start_time": "2023-11-02T18:30:57.944Z"
   },
   {
    "duration": 17,
    "start_time": "2023-11-02T18:30:57.975Z"
   },
   {
    "duration": 22,
    "start_time": "2023-11-02T18:30:57.994Z"
   },
   {
    "duration": 23,
    "start_time": "2023-11-02T18:30:58.018Z"
   },
   {
    "duration": 14,
    "start_time": "2023-11-02T18:30:58.043Z"
   },
   {
    "duration": 25,
    "start_time": "2023-11-02T18:30:58.058Z"
   },
   {
    "duration": 19,
    "start_time": "2023-11-02T18:30:58.084Z"
   },
   {
    "duration": 46,
    "start_time": "2023-11-02T18:30:58.104Z"
   },
   {
    "duration": 74,
    "start_time": "2023-11-02T18:30:58.152Z"
   },
   {
    "duration": 72,
    "start_time": "2023-11-02T18:30:58.227Z"
   },
   {
    "duration": 66,
    "start_time": "2023-11-02T18:30:58.308Z"
   },
   {
    "duration": 87,
    "start_time": "2023-11-02T18:30:58.378Z"
   },
   {
    "duration": 483,
    "start_time": "2023-11-02T18:30:58.466Z"
   },
   {
    "duration": 745,
    "start_time": "2023-11-02T18:30:58.951Z"
   },
   {
    "duration": 578,
    "start_time": "2023-11-02T18:30:59.697Z"
   },
   {
    "duration": 804,
    "start_time": "2023-11-02T18:31:00.277Z"
   },
   {
    "duration": 6,
    "start_time": "2023-11-02T18:31:01.083Z"
   },
   {
    "duration": 75,
    "start_time": "2023-11-02T18:31:01.090Z"
   },
   {
    "duration": 63,
    "start_time": "2023-11-02T18:31:01.167Z"
   },
   {
    "duration": 55,
    "start_time": "2023-11-02T18:31:01.232Z"
   },
   {
    "duration": 138,
    "start_time": "2023-11-02T18:31:01.289Z"
   },
   {
    "duration": 15,
    "start_time": "2023-11-02T18:31:01.429Z"
   },
   {
    "duration": 77,
    "start_time": "2023-11-02T18:31:01.445Z"
   },
   {
    "duration": 4037,
    "start_time": "2023-11-02T18:31:01.524Z"
   },
   {
    "duration": 18,
    "start_time": "2023-11-02T18:31:05.563Z"
   },
   {
    "duration": 18,
    "start_time": "2023-11-02T18:31:05.583Z"
   },
   {
    "duration": 15,
    "start_time": "2023-11-02T18:31:05.607Z"
   },
   {
    "duration": 44,
    "start_time": "2023-11-02T18:31:05.624Z"
   },
   {
    "duration": 48,
    "start_time": "2023-11-02T18:31:05.670Z"
   },
   {
    "duration": 50,
    "start_time": "2023-11-02T18:31:05.720Z"
   },
   {
    "duration": 23,
    "start_time": "2023-11-02T18:31:05.772Z"
   },
   {
    "duration": 30,
    "start_time": "2023-11-02T18:31:05.796Z"
   },
   {
    "duration": 57,
    "start_time": "2023-11-02T18:31:05.828Z"
   },
   {
    "duration": 44,
    "start_time": "2023-11-02T18:31:05.888Z"
   },
   {
    "duration": 114,
    "start_time": "2023-11-02T18:31:05.934Z"
   },
   {
    "duration": 103,
    "start_time": "2023-11-02T18:31:06.051Z"
   },
   {
    "duration": 30,
    "start_time": "2023-11-02T18:31:06.155Z"
   },
   {
    "duration": 35,
    "start_time": "2023-11-02T18:31:06.187Z"
   },
   {
    "duration": 39,
    "start_time": "2023-11-02T18:31:06.224Z"
   },
   {
    "duration": 24,
    "start_time": "2023-11-02T18:31:06.265Z"
   },
   {
    "duration": 4,
    "start_time": "2023-11-02T18:31:06.291Z"
   },
   {
    "duration": 28,
    "start_time": "2023-11-02T18:31:06.297Z"
   },
   {
    "duration": 19,
    "start_time": "2023-11-02T18:31:06.327Z"
   },
   {
    "duration": 95,
    "start_time": "2023-11-02T18:31:06.348Z"
   },
   {
    "duration": 123,
    "start_time": "2023-11-02T18:31:06.445Z"
   },
   {
    "duration": 3,
    "start_time": "2023-11-02T18:31:06.570Z"
   },
   {
    "duration": 59,
    "start_time": "2023-11-02T18:31:06.575Z"
   },
   {
    "duration": 109,
    "start_time": "2023-11-02T18:31:06.635Z"
   },
   {
    "duration": 4,
    "start_time": "2023-11-02T18:31:06.745Z"
   },
   {
    "duration": 18,
    "start_time": "2023-11-02T18:31:06.750Z"
   },
   {
    "duration": 32,
    "start_time": "2023-11-02T18:31:06.770Z"
   },
   {
    "duration": 3348,
    "start_time": "2023-11-02T18:31:06.804Z"
   },
   {
    "duration": 202,
    "start_time": "2023-11-02T18:31:10.154Z"
   },
   {
    "duration": 0,
    "start_time": "2023-11-02T18:31:10.358Z"
   },
   {
    "duration": 0,
    "start_time": "2023-11-02T18:31:10.359Z"
   },
   {
    "duration": 0,
    "start_time": "2023-11-02T18:31:10.361Z"
   },
   {
    "duration": 30,
    "start_time": "2023-11-02T18:32:38.202Z"
   },
   {
    "duration": 7,
    "start_time": "2023-11-02T18:33:40.735Z"
   },
   {
    "duration": 18,
    "start_time": "2023-11-02T18:33:49.317Z"
   },
   {
    "duration": 17,
    "start_time": "2023-11-02T18:34:06.286Z"
   },
   {
    "duration": 10,
    "start_time": "2023-11-02T18:34:41.262Z"
   },
   {
    "duration": 8,
    "start_time": "2023-11-02T18:39:58.962Z"
   },
   {
    "duration": 9,
    "start_time": "2023-11-02T18:40:06.649Z"
   },
   {
    "duration": 9,
    "start_time": "2023-11-02T18:40:16.139Z"
   },
   {
    "duration": 7,
    "start_time": "2023-11-02T18:40:18.013Z"
   },
   {
    "duration": 2636,
    "start_time": "2023-11-02T18:40:34.041Z"
   },
   {
    "duration": 5302,
    "start_time": "2023-11-02T18:40:36.680Z"
   },
   {
    "duration": 2547,
    "start_time": "2023-11-02T18:40:41.984Z"
   },
   {
    "duration": 243,
    "start_time": "2023-11-02T18:40:44.533Z"
   },
   {
    "duration": 3,
    "start_time": "2023-11-02T18:40:44.778Z"
   },
   {
    "duration": 57,
    "start_time": "2023-11-02T18:40:44.782Z"
   },
   {
    "duration": 143,
    "start_time": "2023-11-02T18:40:44.842Z"
   },
   {
    "duration": 27,
    "start_time": "2023-11-02T18:40:44.986Z"
   },
   {
    "duration": 62,
    "start_time": "2023-11-02T18:40:45.015Z"
   },
   {
    "duration": 20,
    "start_time": "2023-11-02T18:40:45.080Z"
   },
   {
    "duration": 2744,
    "start_time": "2023-11-02T18:40:45.102Z"
   },
   {
    "duration": 2120,
    "start_time": "2023-11-02T18:40:47.848Z"
   },
   {
    "duration": 16,
    "start_time": "2023-11-02T18:40:49.970Z"
   },
   {
    "duration": 22,
    "start_time": "2023-11-02T18:40:49.987Z"
   },
   {
    "duration": 37,
    "start_time": "2023-11-02T18:40:50.011Z"
   },
   {
    "duration": 35,
    "start_time": "2023-11-02T18:40:50.050Z"
   },
   {
    "duration": 30,
    "start_time": "2023-11-02T18:40:50.087Z"
   },
   {
    "duration": 17,
    "start_time": "2023-11-02T18:40:50.119Z"
   },
   {
    "duration": 19,
    "start_time": "2023-11-02T18:40:50.137Z"
   },
   {
    "duration": 24,
    "start_time": "2023-11-02T18:40:50.158Z"
   },
   {
    "duration": 24,
    "start_time": "2023-11-02T18:40:50.184Z"
   },
   {
    "duration": 11,
    "start_time": "2023-11-02T18:40:50.210Z"
   },
   {
    "duration": 8,
    "start_time": "2023-11-02T18:40:50.223Z"
   },
   {
    "duration": 14,
    "start_time": "2023-11-02T18:40:50.233Z"
   },
   {
    "duration": 13,
    "start_time": "2023-11-02T18:40:50.249Z"
   },
   {
    "duration": 15,
    "start_time": "2023-11-02T18:40:50.264Z"
   },
   {
    "duration": 72,
    "start_time": "2023-11-02T18:40:50.306Z"
   },
   {
    "duration": 108,
    "start_time": "2023-11-02T18:40:50.381Z"
   },
   {
    "duration": 65,
    "start_time": "2023-11-02T18:40:50.490Z"
   },
   {
    "duration": 72,
    "start_time": "2023-11-02T18:40:50.557Z"
   },
   {
    "duration": 488,
    "start_time": "2023-11-02T18:40:50.631Z"
   },
   {
    "duration": 740,
    "start_time": "2023-11-02T18:40:51.122Z"
   },
   {
    "duration": 551,
    "start_time": "2023-11-02T18:40:51.864Z"
   },
   {
    "duration": 756,
    "start_time": "2023-11-02T18:40:52.416Z"
   },
   {
    "duration": 7,
    "start_time": "2023-11-02T18:40:53.173Z"
   },
   {
    "duration": 65,
    "start_time": "2023-11-02T18:40:53.181Z"
   },
   {
    "duration": 40,
    "start_time": "2023-11-02T18:40:53.247Z"
   },
   {
    "duration": 17,
    "start_time": "2023-11-02T18:40:53.289Z"
   },
   {
    "duration": 62,
    "start_time": "2023-11-02T18:40:53.308Z"
   },
   {
    "duration": 12,
    "start_time": "2023-11-02T18:40:53.372Z"
   },
   {
    "duration": 14,
    "start_time": "2023-11-02T18:40:53.386Z"
   },
   {
    "duration": 3966,
    "start_time": "2023-11-02T18:40:53.402Z"
   },
   {
    "duration": 24,
    "start_time": "2023-11-02T18:40:57.370Z"
   },
   {
    "duration": 18,
    "start_time": "2023-11-02T18:40:57.406Z"
   },
   {
    "duration": 9,
    "start_time": "2023-11-02T18:40:57.426Z"
   },
   {
    "duration": 20,
    "start_time": "2023-11-02T18:40:57.437Z"
   },
   {
    "duration": 8,
    "start_time": "2023-11-02T18:40:57.460Z"
   },
   {
    "duration": 19,
    "start_time": "2023-11-02T18:40:57.470Z"
   },
   {
    "duration": 18,
    "start_time": "2023-11-02T18:40:57.491Z"
   },
   {
    "duration": 4,
    "start_time": "2023-11-02T18:40:57.512Z"
   },
   {
    "duration": 36,
    "start_time": "2023-11-02T18:40:57.518Z"
   },
   {
    "duration": 27,
    "start_time": "2023-11-02T18:40:57.556Z"
   },
   {
    "duration": 36,
    "start_time": "2023-11-02T18:40:57.585Z"
   },
   {
    "duration": 19,
    "start_time": "2023-11-02T18:40:57.623Z"
   },
   {
    "duration": 12,
    "start_time": "2023-11-02T18:40:57.644Z"
   },
   {
    "duration": 13,
    "start_time": "2023-11-02T18:40:57.659Z"
   },
   {
    "duration": 35,
    "start_time": "2023-11-02T18:40:57.673Z"
   },
   {
    "duration": 26,
    "start_time": "2023-11-02T18:40:57.710Z"
   },
   {
    "duration": 6,
    "start_time": "2023-11-02T18:40:57.738Z"
   },
   {
    "duration": 7,
    "start_time": "2023-11-02T18:40:57.746Z"
   },
   {
    "duration": 4,
    "start_time": "2023-11-02T18:40:57.755Z"
   },
   {
    "duration": 103,
    "start_time": "2023-11-02T18:40:57.761Z"
   },
   {
    "duration": 139,
    "start_time": "2023-11-02T18:40:57.866Z"
   },
   {
    "duration": 5,
    "start_time": "2023-11-02T18:40:58.006Z"
   },
   {
    "duration": 72,
    "start_time": "2023-11-02T18:40:58.013Z"
   },
   {
    "duration": 132,
    "start_time": "2023-11-02T18:40:58.087Z"
   },
   {
    "duration": 3,
    "start_time": "2023-11-02T18:40:58.221Z"
   },
   {
    "duration": 10,
    "start_time": "2023-11-02T18:40:58.226Z"
   },
   {
    "duration": 29,
    "start_time": "2023-11-02T18:40:58.238Z"
   },
   {
    "duration": 3572,
    "start_time": "2023-11-02T18:40:58.270Z"
   },
   {
    "duration": 1510,
    "start_time": "2023-11-02T18:41:01.844Z"
   },
   {
    "duration": 5417,
    "start_time": "2023-11-02T18:41:03.355Z"
   },
   {
    "duration": 1403,
    "start_time": "2023-11-02T18:41:08.774Z"
   },
   {
    "duration": 195,
    "start_time": "2023-11-02T18:41:10.178Z"
   },
   {
    "duration": 2549,
    "start_time": "2023-11-02T18:42:13.481Z"
   },
   {
    "duration": 5497,
    "start_time": "2023-11-02T18:42:16.032Z"
   },
   {
    "duration": 2542,
    "start_time": "2023-11-02T18:42:21.531Z"
   },
   {
    "duration": 243,
    "start_time": "2023-11-02T18:42:24.075Z"
   },
   {
    "duration": 3,
    "start_time": "2023-11-02T18:42:24.319Z"
   },
   {
    "duration": 70,
    "start_time": "2023-11-02T18:42:24.323Z"
   },
   {
    "duration": 130,
    "start_time": "2023-11-02T18:42:24.394Z"
   },
   {
    "duration": 21,
    "start_time": "2023-11-02T18:42:24.526Z"
   },
   {
    "duration": 19,
    "start_time": "2023-11-02T18:42:24.548Z"
   },
   {
    "duration": 18,
    "start_time": "2023-11-02T18:42:24.570Z"
   },
   {
    "duration": 2509,
    "start_time": "2023-11-02T18:42:24.589Z"
   },
   {
    "duration": 2104,
    "start_time": "2023-11-02T18:42:27.099Z"
   },
   {
    "duration": 16,
    "start_time": "2023-11-02T18:42:29.204Z"
   },
   {
    "duration": 18,
    "start_time": "2023-11-02T18:42:29.222Z"
   },
   {
    "duration": 14,
    "start_time": "2023-11-02T18:42:29.241Z"
   },
   {
    "duration": 16,
    "start_time": "2023-11-02T18:42:29.256Z"
   },
   {
    "duration": 25,
    "start_time": "2023-11-02T18:42:29.273Z"
   },
   {
    "duration": 14,
    "start_time": "2023-11-02T18:42:29.300Z"
   },
   {
    "duration": 16,
    "start_time": "2023-11-02T18:42:29.316Z"
   },
   {
    "duration": 19,
    "start_time": "2023-11-02T18:42:29.334Z"
   },
   {
    "duration": 7,
    "start_time": "2023-11-02T18:42:29.355Z"
   },
   {
    "duration": 15,
    "start_time": "2023-11-02T18:42:29.363Z"
   },
   {
    "duration": 37,
    "start_time": "2023-11-02T18:42:29.379Z"
   },
   {
    "duration": 24,
    "start_time": "2023-11-02T18:42:29.417Z"
   },
   {
    "duration": 11,
    "start_time": "2023-11-02T18:42:29.442Z"
   },
   {
    "duration": 18,
    "start_time": "2023-11-02T18:42:29.454Z"
   },
   {
    "duration": 61,
    "start_time": "2023-11-02T18:42:29.474Z"
   },
   {
    "duration": 73,
    "start_time": "2023-11-02T18:42:29.539Z"
   },
   {
    "duration": 58,
    "start_time": "2023-11-02T18:42:29.613Z"
   },
   {
    "duration": 79,
    "start_time": "2023-11-02T18:42:29.673Z"
   },
   {
    "duration": 478,
    "start_time": "2023-11-02T18:42:29.753Z"
   },
   {
    "duration": 756,
    "start_time": "2023-11-02T18:42:30.233Z"
   },
   {
    "duration": 548,
    "start_time": "2023-11-02T18:42:30.991Z"
   },
   {
    "duration": 708,
    "start_time": "2023-11-02T18:42:31.541Z"
   },
   {
    "duration": 7,
    "start_time": "2023-11-02T18:42:32.250Z"
   },
   {
    "duration": 73,
    "start_time": "2023-11-02T18:42:32.259Z"
   },
   {
    "duration": 27,
    "start_time": "2023-11-02T18:42:32.334Z"
   },
   {
    "duration": 37,
    "start_time": "2023-11-02T18:42:32.363Z"
   },
   {
    "duration": 60,
    "start_time": "2023-11-02T18:42:32.402Z"
   },
   {
    "duration": 12,
    "start_time": "2023-11-02T18:42:32.464Z"
   },
   {
    "duration": 32,
    "start_time": "2023-11-02T18:42:32.477Z"
   },
   {
    "duration": 3783,
    "start_time": "2023-11-02T18:42:32.510Z"
   },
   {
    "duration": 26,
    "start_time": "2023-11-02T18:42:36.294Z"
   },
   {
    "duration": 31,
    "start_time": "2023-11-02T18:42:36.322Z"
   },
   {
    "duration": 16,
    "start_time": "2023-11-02T18:42:36.355Z"
   },
   {
    "duration": 11,
    "start_time": "2023-11-02T18:42:36.373Z"
   },
   {
    "duration": 4,
    "start_time": "2023-11-02T18:42:36.385Z"
   },
   {
    "duration": 11,
    "start_time": "2023-11-02T18:42:36.390Z"
   },
   {
    "duration": 22,
    "start_time": "2023-11-02T18:42:36.402Z"
   },
   {
    "duration": 9,
    "start_time": "2023-11-02T18:42:36.425Z"
   },
   {
    "duration": 27,
    "start_time": "2023-11-02T18:42:36.435Z"
   },
   {
    "duration": 15,
    "start_time": "2023-11-02T18:42:36.463Z"
   },
   {
    "duration": 16,
    "start_time": "2023-11-02T18:42:36.480Z"
   },
   {
    "duration": 16,
    "start_time": "2023-11-02T18:42:36.497Z"
   },
   {
    "duration": 11,
    "start_time": "2023-11-02T18:42:36.515Z"
   },
   {
    "duration": 8,
    "start_time": "2023-11-02T18:42:36.527Z"
   },
   {
    "duration": 8,
    "start_time": "2023-11-02T18:42:36.536Z"
   },
   {
    "duration": 16,
    "start_time": "2023-11-02T18:42:36.546Z"
   },
   {
    "duration": 6,
    "start_time": "2023-11-02T18:42:36.564Z"
   },
   {
    "duration": 35,
    "start_time": "2023-11-02T18:42:36.572Z"
   },
   {
    "duration": 5,
    "start_time": "2023-11-02T18:42:36.608Z"
   },
   {
    "duration": 98,
    "start_time": "2023-11-02T18:42:36.615Z"
   },
   {
    "duration": 122,
    "start_time": "2023-11-02T18:42:36.715Z"
   },
   {
    "duration": 4,
    "start_time": "2023-11-02T18:42:36.838Z"
   },
   {
    "duration": 39,
    "start_time": "2023-11-02T18:42:36.844Z"
   },
   {
    "duration": 114,
    "start_time": "2023-11-02T18:42:36.885Z"
   },
   {
    "duration": 3,
    "start_time": "2023-11-02T18:42:37.007Z"
   },
   {
    "duration": 46,
    "start_time": "2023-11-02T18:42:37.011Z"
   },
   {
    "duration": 34,
    "start_time": "2023-11-02T18:42:37.058Z"
   },
   {
    "duration": 2894,
    "start_time": "2023-11-02T18:42:37.093Z"
   },
   {
    "duration": 1500,
    "start_time": "2023-11-02T18:42:39.989Z"
   },
   {
    "duration": 4945,
    "start_time": "2023-11-02T18:42:41.490Z"
   },
   {
    "duration": 1316,
    "start_time": "2023-11-02T18:42:46.436Z"
   },
   {
    "duration": 167,
    "start_time": "2023-11-02T18:42:47.754Z"
   },
   {
    "duration": 123,
    "start_time": "2023-11-02T18:44:13.129Z"
   },
   {
    "duration": 47637,
    "start_time": "2023-11-03T07:58:00.845Z"
   },
   {
    "duration": 12116,
    "start_time": "2023-11-03T07:58:48.484Z"
   },
   {
    "duration": 3550,
    "start_time": "2023-11-03T07:59:00.602Z"
   },
   {
    "duration": 471,
    "start_time": "2023-11-03T07:59:04.154Z"
   },
   {
    "duration": 3,
    "start_time": "2023-11-03T07:59:04.626Z"
   },
   {
    "duration": 94,
    "start_time": "2023-11-03T07:59:04.630Z"
   },
   {
    "duration": 166,
    "start_time": "2023-11-03T07:59:04.726Z"
   },
   {
    "duration": 52,
    "start_time": "2023-11-03T07:59:04.895Z"
   },
   {
    "duration": 20,
    "start_time": "2023-11-03T07:59:04.948Z"
   },
   {
    "duration": 37,
    "start_time": "2023-11-03T07:59:04.970Z"
   },
   {
    "duration": 2605,
    "start_time": "2023-11-03T07:59:05.008Z"
   },
   {
    "duration": 2176,
    "start_time": "2023-11-03T07:59:07.615Z"
   },
   {
    "duration": 16,
    "start_time": "2023-11-03T07:59:09.793Z"
   },
   {
    "duration": 57,
    "start_time": "2023-11-03T07:59:09.811Z"
   },
   {
    "duration": 14,
    "start_time": "2023-11-03T07:59:09.881Z"
   },
   {
    "duration": 84,
    "start_time": "2023-11-03T07:59:09.896Z"
   },
   {
    "duration": 83,
    "start_time": "2023-11-03T07:59:09.981Z"
   },
   {
    "duration": 49,
    "start_time": "2023-11-03T07:59:10.065Z"
   },
   {
    "duration": 48,
    "start_time": "2023-11-03T07:59:10.116Z"
   },
   {
    "duration": 20,
    "start_time": "2023-11-03T07:59:10.180Z"
   },
   {
    "duration": 25,
    "start_time": "2023-11-03T07:59:10.202Z"
   },
   {
    "duration": 32,
    "start_time": "2023-11-03T07:59:10.228Z"
   },
   {
    "duration": 34,
    "start_time": "2023-11-03T07:59:10.261Z"
   },
   {
    "duration": 78,
    "start_time": "2023-11-03T07:59:10.296Z"
   },
   {
    "duration": 25,
    "start_time": "2023-11-03T07:59:10.378Z"
   },
   {
    "duration": 51,
    "start_time": "2023-11-03T07:59:10.405Z"
   },
   {
    "duration": 170,
    "start_time": "2023-11-03T07:59:10.458Z"
   },
   {
    "duration": 96,
    "start_time": "2023-11-03T07:59:10.632Z"
   },
   {
    "duration": 87,
    "start_time": "2023-11-03T07:59:10.729Z"
   },
   {
    "duration": 96,
    "start_time": "2023-11-03T07:59:10.817Z"
   },
   {
    "duration": 501,
    "start_time": "2023-11-03T07:59:10.914Z"
   },
   {
    "duration": 771,
    "start_time": "2023-11-03T07:59:11.416Z"
   },
   {
    "duration": 639,
    "start_time": "2023-11-03T07:59:12.189Z"
   },
   {
    "duration": 777,
    "start_time": "2023-11-03T07:59:12.829Z"
   },
   {
    "duration": 8,
    "start_time": "2023-11-03T07:59:13.608Z"
   },
   {
    "duration": 50,
    "start_time": "2023-11-03T07:59:13.618Z"
   },
   {
    "duration": 8,
    "start_time": "2023-11-03T07:59:13.677Z"
   },
   {
    "duration": 23,
    "start_time": "2023-11-03T07:59:13.688Z"
   },
   {
    "duration": 72,
    "start_time": "2023-11-03T07:59:13.712Z"
   },
   {
    "duration": 12,
    "start_time": "2023-11-03T07:59:13.786Z"
   },
   {
    "duration": 11,
    "start_time": "2023-11-03T07:59:13.799Z"
   },
   {
    "duration": 4712,
    "start_time": "2023-11-03T07:59:13.811Z"
   },
   {
    "duration": 44,
    "start_time": "2023-11-03T07:59:18.524Z"
   },
   {
    "duration": 16,
    "start_time": "2023-11-03T07:59:18.569Z"
   },
   {
    "duration": 5,
    "start_time": "2023-11-03T07:59:18.587Z"
   },
   {
    "duration": 14,
    "start_time": "2023-11-03T07:59:18.594Z"
   },
   {
    "duration": 3,
    "start_time": "2023-11-03T07:59:18.610Z"
   },
   {
    "duration": 15,
    "start_time": "2023-11-03T07:59:18.615Z"
   },
   {
    "duration": 25,
    "start_time": "2023-11-03T07:59:18.631Z"
   },
   {
    "duration": 15,
    "start_time": "2023-11-03T07:59:18.657Z"
   },
   {
    "duration": 30,
    "start_time": "2023-11-03T07:59:18.673Z"
   },
   {
    "duration": 15,
    "start_time": "2023-11-03T07:59:18.704Z"
   },
   {
    "duration": 42,
    "start_time": "2023-11-03T07:59:18.721Z"
   },
   {
    "duration": 28,
    "start_time": "2023-11-03T07:59:18.772Z"
   },
   {
    "duration": 8,
    "start_time": "2023-11-03T07:59:18.802Z"
   },
   {
    "duration": 4,
    "start_time": "2023-11-03T07:59:18.811Z"
   },
   {
    "duration": 6,
    "start_time": "2023-11-03T07:59:18.817Z"
   },
   {
    "duration": 32,
    "start_time": "2023-11-03T07:59:18.824Z"
   },
   {
    "duration": 9,
    "start_time": "2023-11-03T07:59:18.869Z"
   },
   {
    "duration": 9,
    "start_time": "2023-11-03T07:59:18.880Z"
   },
   {
    "duration": 11,
    "start_time": "2023-11-03T07:59:18.890Z"
   },
   {
    "duration": 71,
    "start_time": "2023-11-03T07:59:18.902Z"
   },
   {
    "duration": 131,
    "start_time": "2023-11-03T07:59:18.976Z"
   },
   {
    "duration": 4,
    "start_time": "2023-11-03T07:59:19.109Z"
   },
   {
    "duration": 61,
    "start_time": "2023-11-03T07:59:19.114Z"
   },
   {
    "duration": 120,
    "start_time": "2023-11-03T07:59:19.182Z"
   },
   {
    "duration": 3,
    "start_time": "2023-11-03T07:59:19.304Z"
   },
   {
    "duration": 11,
    "start_time": "2023-11-03T07:59:19.309Z"
   },
   {
    "duration": 38,
    "start_time": "2023-11-03T07:59:19.322Z"
   },
   {
    "duration": 1771,
    "start_time": "2023-11-03T07:59:19.361Z"
   },
   {
    "duration": 872,
    "start_time": "2023-11-03T07:59:21.134Z"
   },
   {
    "duration": 2811,
    "start_time": "2023-11-03T07:59:22.008Z"
   },
   {
    "duration": 756,
    "start_time": "2023-11-03T07:59:24.820Z"
   },
   {
    "duration": 133,
    "start_time": "2023-11-03T07:59:25.578Z"
   },
   {
    "duration": 203,
    "start_time": "2023-11-03T08:01:20.223Z"
   },
   {
    "duration": 63,
    "start_time": "2023-11-03T08:01:28.465Z"
   },
   {
    "duration": 3,
    "start_time": "2023-11-03T08:31:55.386Z"
   },
   {
    "duration": 15,
    "start_time": "2023-11-03T08:38:24.449Z"
   },
   {
    "duration": 54,
    "start_time": "2023-11-03T08:38:39.023Z"
   },
   {
    "duration": 4,
    "start_time": "2023-11-03T08:40:39.375Z"
   },
   {
    "duration": 461,
    "start_time": "2023-11-03T08:40:40.099Z"
   },
   {
    "duration": 13,
    "start_time": "2023-11-03T08:41:14.466Z"
   },
   {
    "duration": 7,
    "start_time": "2023-11-03T08:41:18.730Z"
   },
   {
    "duration": 11,
    "start_time": "2023-11-03T08:41:31.249Z"
   },
   {
    "duration": 487,
    "start_time": "2023-11-03T08:41:31.860Z"
   },
   {
    "duration": 3,
    "start_time": "2023-11-03T08:42:33.387Z"
   },
   {
    "duration": 2361,
    "start_time": "2023-11-03T08:42:33.828Z"
   },
   {
    "duration": 2302,
    "start_time": "2023-11-03T08:44:42.876Z"
   },
   {
    "duration": 2285,
    "start_time": "2023-11-03T08:44:57.783Z"
   },
   {
    "duration": 2351,
    "start_time": "2023-11-03T08:45:12.425Z"
   },
   {
    "duration": 2262,
    "start_time": "2023-11-03T08:45:39.713Z"
   },
   {
    "duration": 3795676,
    "start_time": "2023-11-03T08:58:08.506Z"
   },
   {
    "duration": 1723,
    "start_time": "2023-11-03T10:08:47.789Z"
   },
   {
    "duration": 2677,
    "start_time": "2023-11-03T10:09:11.369Z"
   },
   {
    "duration": 3861378,
    "start_time": "2023-11-03T10:09:53.129Z"
   },
   {
    "duration": 2158,
    "start_time": "2023-11-03T11:18:54.878Z"
   },
   {
    "duration": 2745,
    "start_time": "2023-11-03T11:19:15.522Z"
   },
   {
    "duration": 2654,
    "start_time": "2023-11-03T11:19:24.042Z"
   },
   {
    "duration": 5810,
    "start_time": "2023-11-03T11:19:34.753Z"
   },
   {
    "duration": 5817,
    "start_time": "2023-11-03T11:19:57.228Z"
   },
   {
    "duration": 5929,
    "start_time": "2023-11-03T11:20:10.623Z"
   },
   {
    "duration": 4172,
    "start_time": "2023-11-03T11:20:39.778Z"
   },
   {
    "duration": 4061,
    "start_time": "2023-11-03T11:20:54.192Z"
   },
   {
    "duration": 7858693,
    "start_time": "2023-11-03T11:21:14.718Z"
   },
   {
    "duration": 1177,
    "start_time": "2023-11-03T13:32:13.414Z"
   },
   {
    "duration": 21334,
    "start_time": "2023-11-04T07:34:24.794Z"
   },
   {
    "duration": 9976,
    "start_time": "2023-11-04T07:34:57.635Z"
   },
   {
    "duration": 2961,
    "start_time": "2023-11-04T07:35:11.459Z"
   },
   {
    "duration": 545,
    "start_time": "2023-11-04T07:35:14.423Z"
   },
   {
    "duration": 2,
    "start_time": "2023-11-04T07:35:15.947Z"
   },
   {
    "duration": 49,
    "start_time": "2023-11-04T07:35:17.371Z"
   },
   {
    "duration": 140,
    "start_time": "2023-11-04T07:35:18.183Z"
   },
   {
    "duration": 23,
    "start_time": "2023-11-04T07:35:20.639Z"
   },
   {
    "duration": 2,
    "start_time": "2023-11-04T07:35:21.655Z"
   },
   {
    "duration": 2,
    "start_time": "2023-11-04T07:35:22.031Z"
   },
   {
    "duration": 2873,
    "start_time": "2023-11-04T07:35:23.845Z"
   },
   {
    "duration": 2282,
    "start_time": "2023-11-04T07:35:29.475Z"
   },
   {
    "duration": 18,
    "start_time": "2023-11-04T07:35:33.131Z"
   },
   {
    "duration": 3,
    "start_time": "2023-11-04T07:35:34.411Z"
   },
   {
    "duration": 8,
    "start_time": "2023-11-04T07:35:35.430Z"
   },
   {
    "duration": 5,
    "start_time": "2023-11-04T07:35:36.007Z"
   },
   {
    "duration": 19,
    "start_time": "2023-11-04T07:35:36.947Z"
   },
   {
    "duration": 17,
    "start_time": "2023-11-04T07:35:37.378Z"
   },
   {
    "duration": 18,
    "start_time": "2023-11-04T07:35:37.727Z"
   },
   {
    "duration": 23,
    "start_time": "2023-11-04T07:35:38.475Z"
   },
   {
    "duration": 7,
    "start_time": "2023-11-04T07:35:38.711Z"
   },
   {
    "duration": 6,
    "start_time": "2023-11-04T07:35:38.967Z"
   },
   {
    "duration": 8,
    "start_time": "2023-11-04T07:35:39.270Z"
   },
   {
    "duration": 12,
    "start_time": "2023-11-04T07:35:39.611Z"
   },
   {
    "duration": 9,
    "start_time": "2023-11-04T07:35:40.039Z"
   },
   {
    "duration": 15,
    "start_time": "2023-11-04T07:35:40.711Z"
   },
   {
    "duration": 68,
    "start_time": "2023-11-04T07:35:41.391Z"
   },
   {
    "duration": 73,
    "start_time": "2023-11-04T07:35:41.719Z"
   },
   {
    "duration": 64,
    "start_time": "2023-11-04T07:35:42.075Z"
   },
   {
    "duration": 67,
    "start_time": "2023-11-04T07:35:42.787Z"
   },
   {
    "duration": 503,
    "start_time": "2023-11-04T07:35:43.495Z"
   },
   {
    "duration": 786,
    "start_time": "2023-11-04T07:35:44.815Z"
   },
   {
    "duration": 617,
    "start_time": "2023-11-04T07:35:45.655Z"
   },
   {
    "duration": 768,
    "start_time": "2023-11-04T07:35:46.511Z"
   },
   {
    "duration": 7,
    "start_time": "2023-11-04T07:35:47.281Z"
   },
   {
    "duration": 6,
    "start_time": "2023-11-04T07:35:47.447Z"
   },
   {
    "duration": 7,
    "start_time": "2023-11-04T07:35:47.743Z"
   },
   {
    "duration": 8,
    "start_time": "2023-11-04T07:35:48.028Z"
   },
   {
    "duration": 48,
    "start_time": "2023-11-04T07:35:48.291Z"
   },
   {
    "duration": 14,
    "start_time": "2023-11-04T07:35:48.827Z"
   },
   {
    "duration": 5,
    "start_time": "2023-11-04T07:35:49.097Z"
   },
   {
    "duration": 3990,
    "start_time": "2023-11-04T07:35:49.927Z"
   },
   {
    "duration": 21,
    "start_time": "2023-11-04T07:35:53.919Z"
   },
   {
    "duration": 33,
    "start_time": "2023-11-04T07:35:53.942Z"
   },
   {
    "duration": 9,
    "start_time": "2023-11-04T07:35:53.977Z"
   },
   {
    "duration": 34,
    "start_time": "2023-11-04T07:35:53.988Z"
   },
   {
    "duration": 4,
    "start_time": "2023-11-04T07:35:54.024Z"
   },
   {
    "duration": 4,
    "start_time": "2023-11-04T07:35:55.827Z"
   },
   {
    "duration": 4,
    "start_time": "2023-11-04T07:35:56.351Z"
   },
   {
    "duration": 4,
    "start_time": "2023-11-04T07:35:57.778Z"
   },
   {
    "duration": 25,
    "start_time": "2023-11-04T07:35:58.147Z"
   },
   {
    "duration": 18,
    "start_time": "2023-11-04T07:35:58.731Z"
   },
   {
    "duration": 18,
    "start_time": "2023-11-04T07:35:59.019Z"
   },
   {
    "duration": 18,
    "start_time": "2023-11-04T07:35:59.287Z"
   },
   {
    "duration": 12,
    "start_time": "2023-11-04T07:35:59.606Z"
   },
   {
    "duration": 6,
    "start_time": "2023-11-04T07:35:59.899Z"
   },
   {
    "duration": 5,
    "start_time": "2023-11-04T07:36:00.415Z"
   },
   {
    "duration": 17,
    "start_time": "2023-11-04T07:36:04.974Z"
   },
   {
    "duration": 6,
    "start_time": "2023-11-04T07:36:06.315Z"
   },
   {
    "duration": 8,
    "start_time": "2023-11-04T07:36:06.839Z"
   },
   {
    "duration": 4,
    "start_time": "2023-11-04T07:36:08.227Z"
   },
   {
    "duration": 66,
    "start_time": "2023-11-04T07:36:08.599Z"
   },
   {
    "duration": 130,
    "start_time": "2023-11-04T07:36:09.462Z"
   },
   {
    "duration": 4,
    "start_time": "2023-11-04T07:36:10.330Z"
   },
   {
    "duration": 29,
    "start_time": "2023-11-04T07:36:10.739Z"
   },
   {
    "duration": 115,
    "start_time": "2023-11-04T07:36:11.144Z"
   },
   {
    "duration": 4,
    "start_time": "2023-11-04T07:36:12.126Z"
   },
   {
    "duration": 8,
    "start_time": "2023-11-04T07:36:12.655Z"
   },
   {
    "duration": 25,
    "start_time": "2023-11-04T07:36:13.208Z"
   },
   {
    "duration": 3823,
    "start_time": "2023-11-04T07:36:13.681Z"
   },
   {
    "duration": 1692,
    "start_time": "2023-11-04T07:36:17.506Z"
   },
   {
    "duration": 6253,
    "start_time": "2023-11-04T07:36:19.200Z"
   },
   {
    "duration": 1445,
    "start_time": "2023-11-04T07:36:25.456Z"
   },
   {
    "duration": 143,
    "start_time": "2023-11-04T07:36:26.903Z"
   },
   {
    "duration": 79,
    "start_time": "2023-11-04T07:36:27.048Z"
   },
   {
    "duration": 46,
    "start_time": "2023-11-04T07:36:27.129Z"
   },
   {
    "duration": 5,
    "start_time": "2023-11-04T07:36:27.177Z"
   },
   {
    "duration": 2398,
    "start_time": "2023-11-04T07:36:36.913Z"
   },
   {
    "duration": 2267,
    "start_time": "2023-11-04T07:36:46.859Z"
   },
   {
    "duration": 2896,
    "start_time": "2023-11-04T07:36:54.810Z"
   },
   {
    "duration": 2336,
    "start_time": "2023-11-04T07:37:05.160Z"
   },
   {
    "duration": 6394,
    "start_time": "2023-11-04T07:37:13.610Z"
   },
   {
    "duration": 4579,
    "start_time": "2023-11-04T07:37:29.679Z"
   },
   {
    "duration": 2060,
    "start_time": "2023-11-04T07:37:39.145Z"
   },
   {
    "duration": 1311,
    "start_time": "2023-11-04T07:37:49.090Z"
   },
   {
    "duration": 1300,
    "start_time": "2023-11-04T07:38:15.951Z"
   },
   {
    "duration": 1358,
    "start_time": "2023-11-04T07:38:27.959Z"
   },
   {
    "duration": 2172,
    "start_time": "2023-11-04T07:38:36.251Z"
   },
   {
    "duration": 2668974,
    "start_time": "2023-11-04T07:38:45.187Z"
   },
   {
    "duration": 4482,
    "start_time": "2023-11-04T10:59:35.108Z"
   },
   {
    "duration": 5610,
    "start_time": "2023-11-04T10:59:55.599Z"
   },
   {
    "duration": 88,
    "start_time": "2023-11-04T11:29:03.491Z"
   },
   {
    "duration": 127,
    "start_time": "2023-11-04T11:29:18.871Z"
   },
   {
    "duration": 218,
    "start_time": "2023-11-04T11:29:28.379Z"
   },
   {
    "duration": 5,
    "start_time": "2023-11-04T11:29:32.578Z"
   },
   {
    "duration": 10,
    "start_time": "2023-11-04T11:29:39.463Z"
   },
   {
    "duration": 6,
    "start_time": "2023-11-04T11:30:25.599Z"
   },
   {
    "duration": 13,
    "start_time": "2023-11-04T11:30:26.779Z"
   },
   {
    "duration": 128,
    "start_time": "2023-11-04T11:32:38.506Z"
   },
   {
    "duration": 81,
    "start_time": "2023-11-04T11:32:45.066Z"
   },
   {
    "duration": 8,
    "start_time": "2023-11-04T11:32:56.054Z"
   },
   {
    "duration": 10,
    "start_time": "2023-11-04T11:33:01.778Z"
   },
   {
    "duration": 10,
    "start_time": "2023-11-04T11:33:20.662Z"
   },
   {
    "duration": 10,
    "start_time": "2023-11-04T11:33:21.675Z"
   },
   {
    "duration": 4,
    "start_time": "2023-11-04T11:34:18.282Z"
   },
   {
    "duration": 21,
    "start_time": "2023-11-04T11:34:24.134Z"
   },
   {
    "duration": 11,
    "start_time": "2023-11-04T11:34:28.998Z"
   },
   {
    "duration": 4,
    "start_time": "2023-11-04T11:34:38.902Z"
   },
   {
    "duration": 9,
    "start_time": "2023-11-04T11:34:43.650Z"
   },
   {
    "duration": 13,
    "start_time": "2023-11-04T11:34:44.575Z"
   },
   {
    "duration": 4,
    "start_time": "2023-11-04T11:35:07.618Z"
   },
   {
    "duration": 7,
    "start_time": "2023-11-04T11:35:11.478Z"
   },
   {
    "duration": 11,
    "start_time": "2023-11-04T11:35:16.394Z"
   },
   {
    "duration": 10,
    "start_time": "2023-11-04T11:36:54.374Z"
   },
   {
    "duration": 12,
    "start_time": "2023-11-04T11:37:01.311Z"
   },
   {
    "duration": 12,
    "start_time": "2023-11-04T11:37:19.654Z"
   },
   {
    "duration": 10,
    "start_time": "2023-11-04T11:37:35.211Z"
   },
   {
    "duration": 8,
    "start_time": "2023-11-04T11:38:30.966Z"
   },
   {
    "duration": 80,
    "start_time": "2023-11-04T11:39:20.158Z"
   },
   {
    "duration": 10,
    "start_time": "2023-11-04T11:39:28.925Z"
   },
   {
    "duration": 8,
    "start_time": "2023-11-04T11:40:03.554Z"
   },
   {
    "duration": 9,
    "start_time": "2023-11-04T11:41:31.557Z"
   },
   {
    "duration": 9,
    "start_time": "2023-11-04T11:42:34.137Z"
   },
   {
    "duration": 9,
    "start_time": "2023-11-04T11:42:56.825Z"
   },
   {
    "duration": 10,
    "start_time": "2023-11-04T11:43:02.693Z"
   },
   {
    "duration": 2068,
    "start_time": "2023-11-04T11:45:11.041Z"
   },
   {
    "duration": 9,
    "start_time": "2023-11-04T11:45:29.965Z"
   },
   {
    "duration": 8,
    "start_time": "2023-11-04T11:45:53.985Z"
   },
   {
    "duration": 16,
    "start_time": "2023-11-04T11:45:54.565Z"
   },
   {
    "duration": 5,
    "start_time": "2023-11-04T11:46:57.568Z"
   },
   {
    "duration": 8,
    "start_time": "2023-11-04T11:47:01.641Z"
   },
   {
    "duration": 8,
    "start_time": "2023-11-04T11:47:06.345Z"
   },
   {
    "duration": 24,
    "start_time": "2023-11-04T11:47:08.789Z"
   },
   {
    "duration": 12,
    "start_time": "2023-11-04T11:47:18.749Z"
   },
   {
    "duration": 8,
    "start_time": "2023-11-04T11:48:31.013Z"
   },
   {
    "duration": 1288,
    "start_time": "2023-11-04T11:49:03.681Z"
   },
   {
    "duration": 8,
    "start_time": "2023-11-04T11:49:18.100Z"
   },
   {
    "duration": 11,
    "start_time": "2023-11-04T11:49:40.944Z"
   },
   {
    "duration": 5,
    "start_time": "2023-11-04T11:49:54.972Z"
   },
   {
    "duration": 15,
    "start_time": "2023-11-04T11:49:59.204Z"
   },
   {
    "duration": 2888,
    "start_time": "2023-11-04T12:00:27.921Z"
   },
   {
    "duration": 58,
    "start_time": "2023-11-04T12:03:15.820Z"
   },
   {
    "duration": 2804,
    "start_time": "2023-11-04T12:07:32.184Z"
   },
   {
    "duration": 2847,
    "start_time": "2023-11-04T12:07:44.826Z"
   },
   {
    "duration": 533,
    "start_time": "2023-11-04T12:09:50.395Z"
   },
   {
    "duration": 517,
    "start_time": "2023-11-04T12:09:58.550Z"
   },
   {
    "duration": 22,
    "start_time": "2023-11-04T12:10:14.867Z"
   },
   {
    "duration": 145,
    "start_time": "2023-11-04T12:10:27.015Z"
   },
   {
    "duration": 18,
    "start_time": "2023-11-04T13:14:46.966Z"
   },
   {
    "duration": 17,
    "start_time": "2023-11-04T13:14:53.881Z"
   },
   {
    "duration": 161,
    "start_time": "2023-11-04T13:15:39.694Z"
   },
   {
    "duration": 20,
    "start_time": "2023-11-04T13:15:59.250Z"
   },
   {
    "duration": 22,
    "start_time": "2023-11-04T13:17:51.649Z"
   },
   {
    "duration": 4,
    "start_time": "2023-11-04T13:18:10.130Z"
   },
   {
    "duration": 14,
    "start_time": "2023-11-04T13:18:18.417Z"
   },
   {
    "duration": 17,
    "start_time": "2023-11-04T13:18:23.690Z"
   },
   {
    "duration": 14,
    "start_time": "2023-11-04T13:18:29.638Z"
   },
   {
    "duration": 5,
    "start_time": "2023-11-04T13:18:39.725Z"
   },
   {
    "duration": 30,
    "start_time": "2023-11-04T13:19:02.710Z"
   },
   {
    "duration": 15,
    "start_time": "2023-11-04T13:20:03.569Z"
   },
   {
    "duration": 4,
    "start_time": "2023-11-04T13:20:12.878Z"
   },
   {
    "duration": 5,
    "start_time": "2023-11-04T13:20:19.493Z"
   },
   {
    "duration": 15,
    "start_time": "2023-11-04T13:20:25.594Z"
   },
   {
    "duration": 5,
    "start_time": "2023-11-04T13:21:16.734Z"
   },
   {
    "duration": 4,
    "start_time": "2023-11-04T13:21:22.145Z"
   },
   {
    "duration": 3,
    "start_time": "2023-11-04T13:22:36.166Z"
   },
   {
    "duration": 9,
    "start_time": "2023-11-04T13:22:45.723Z"
   },
   {
    "duration": 17,
    "start_time": "2023-11-04T13:23:02.215Z"
   },
   {
    "duration": 14,
    "start_time": "2023-11-04T13:23:33.722Z"
   },
   {
    "duration": 6,
    "start_time": "2023-11-04T13:23:48.618Z"
   },
   {
    "duration": 4,
    "start_time": "2023-11-04T13:24:08.522Z"
   },
   {
    "duration": 65,
    "start_time": "2023-11-04T13:24:21.153Z"
   },
   {
    "duration": 7,
    "start_time": "2023-11-04T13:24:30.062Z"
   },
   {
    "duration": 5006,
    "start_time": "2023-11-04T13:24:46.978Z"
   },
   {
    "duration": 6242,
    "start_time": "2023-11-04T13:25:13.345Z"
   },
   {
    "duration": 6176,
    "start_time": "2023-11-04T13:25:33.762Z"
   },
   {
    "duration": 590,
    "start_time": "2023-11-04T13:25:39.940Z"
   },
   {
    "duration": 4,
    "start_time": "2023-11-04T13:25:40.532Z"
   },
   {
    "duration": 80,
    "start_time": "2023-11-04T13:25:40.539Z"
   },
   {
    "duration": 191,
    "start_time": "2023-11-04T13:25:40.622Z"
   },
   {
    "duration": 26,
    "start_time": "2023-11-04T13:25:40.816Z"
   },
   {
    "duration": 7,
    "start_time": "2023-11-04T13:25:40.844Z"
   },
   {
    "duration": 9,
    "start_time": "2023-11-04T13:25:40.852Z"
   },
   {
    "duration": 2984,
    "start_time": "2023-11-04T13:25:40.862Z"
   },
   {
    "duration": 2493,
    "start_time": "2023-11-04T13:25:43.849Z"
   },
   {
    "duration": 18,
    "start_time": "2023-11-04T13:25:46.344Z"
   },
   {
    "duration": 28,
    "start_time": "2023-11-04T13:25:46.364Z"
   },
   {
    "duration": 36,
    "start_time": "2023-11-04T13:25:46.394Z"
   },
   {
    "duration": 14,
    "start_time": "2023-11-04T13:25:46.432Z"
   },
   {
    "duration": 29,
    "start_time": "2023-11-04T13:25:46.447Z"
   },
   {
    "duration": 15,
    "start_time": "2023-11-04T13:25:46.478Z"
   },
   {
    "duration": 23,
    "start_time": "2023-11-04T13:25:46.495Z"
   },
   {
    "duration": 29,
    "start_time": "2023-11-04T13:25:46.521Z"
   },
   {
    "duration": 15,
    "start_time": "2023-11-04T13:25:46.552Z"
   },
   {
    "duration": 20,
    "start_time": "2023-11-04T13:25:46.569Z"
   },
   {
    "duration": 15,
    "start_time": "2023-11-04T13:25:46.606Z"
   },
   {
    "duration": 16,
    "start_time": "2023-11-04T13:25:46.623Z"
   },
   {
    "duration": 20,
    "start_time": "2023-11-04T13:25:46.640Z"
   },
   {
    "duration": 18,
    "start_time": "2023-11-04T13:25:46.662Z"
   },
   {
    "duration": 92,
    "start_time": "2023-11-04T13:25:46.682Z"
   },
   {
    "duration": 99,
    "start_time": "2023-11-04T13:25:46.776Z"
   },
   {
    "duration": 116,
    "start_time": "2023-11-04T13:25:46.877Z"
   },
   {
    "duration": 104,
    "start_time": "2023-11-04T13:25:47.485Z"
   },
   {
    "duration": 571,
    "start_time": "2023-11-04T13:25:48.457Z"
   },
   {
    "duration": 862,
    "start_time": "2023-11-04T13:25:49.385Z"
   },
   {
    "duration": 665,
    "start_time": "2023-11-04T13:25:50.357Z"
   },
   {
    "duration": 852,
    "start_time": "2023-11-04T13:25:51.312Z"
   },
   {
    "duration": 7,
    "start_time": "2023-11-04T13:25:52.369Z"
   },
   {
    "duration": 11,
    "start_time": "2023-11-04T13:25:52.870Z"
   },
   {
    "duration": 7,
    "start_time": "2023-11-04T13:25:53.358Z"
   },
   {
    "duration": 7,
    "start_time": "2023-11-04T13:25:53.765Z"
   },
   {
    "duration": 58,
    "start_time": "2023-11-04T13:25:54.246Z"
   },
   {
    "duration": 15,
    "start_time": "2023-11-04T13:25:55.485Z"
   },
   {
    "duration": 5,
    "start_time": "2023-11-04T13:25:56.077Z"
   },
   {
    "duration": 4521,
    "start_time": "2023-11-04T13:25:57.298Z"
   },
   {
    "duration": 21,
    "start_time": "2023-11-04T13:26:03.165Z"
   },
   {
    "duration": 12,
    "start_time": "2023-11-04T13:26:03.921Z"
   },
   {
    "duration": 5,
    "start_time": "2023-11-04T13:26:05.633Z"
   },
   {
    "duration": 20,
    "start_time": "2023-11-04T13:26:06.015Z"
   },
   {
    "duration": 9,
    "start_time": "2023-11-04T13:26:08.597Z"
   },
   {
    "duration": 6,
    "start_time": "2023-11-04T13:26:10.122Z"
   },
   {
    "duration": 6,
    "start_time": "2023-11-04T13:26:10.554Z"
   },
   {
    "duration": 4,
    "start_time": "2023-11-04T13:26:11.515Z"
   },
   {
    "duration": 25,
    "start_time": "2023-11-04T13:26:11.858Z"
   },
   {
    "duration": 18,
    "start_time": "2023-11-04T13:26:12.262Z"
   },
   {
    "duration": 18,
    "start_time": "2023-11-04T13:26:12.625Z"
   },
   {
    "duration": 16,
    "start_time": "2023-11-04T13:26:12.945Z"
   },
   {
    "duration": 17,
    "start_time": "2023-11-04T13:26:13.301Z"
   },
   {
    "duration": 16,
    "start_time": "2023-11-04T13:26:13.797Z"
   },
   {
    "duration": 6,
    "start_time": "2023-11-04T13:26:14.423Z"
   },
   {
    "duration": 18,
    "start_time": "2023-11-04T13:26:16.825Z"
   },
   {
    "duration": 6,
    "start_time": "2023-11-04T13:26:17.821Z"
   },
   {
    "duration": 6,
    "start_time": "2023-11-04T13:26:18.381Z"
   },
   {
    "duration": 4,
    "start_time": "2023-11-04T13:26:19.337Z"
   },
   {
    "duration": 62,
    "start_time": "2023-11-04T13:26:19.721Z"
   },
   {
    "duration": 134,
    "start_time": "2023-11-04T13:26:20.715Z"
   },
   {
    "duration": 6,
    "start_time": "2023-11-04T13:26:21.641Z"
   },
   {
    "duration": 38,
    "start_time": "2023-11-04T13:26:22.121Z"
   },
   {
    "duration": 136,
    "start_time": "2023-11-04T13:26:22.584Z"
   },
   {
    "duration": 3,
    "start_time": "2023-11-04T13:26:23.665Z"
   },
   {
    "duration": 8,
    "start_time": "2023-11-04T13:26:24.474Z"
   },
   {
    "duration": 27,
    "start_time": "2023-11-04T13:26:24.949Z"
   },
   {
    "duration": 5770,
    "start_time": "2023-11-04T13:26:45.789Z"
   },
   {
    "duration": 2415,
    "start_time": "2023-11-04T13:26:51.561Z"
   },
   {
    "duration": 9330,
    "start_time": "2023-11-04T13:26:53.978Z"
   },
   {
    "duration": 2073,
    "start_time": "2023-11-04T13:27:03.310Z"
   },
   {
    "duration": 162,
    "start_time": "2023-11-04T13:27:05.385Z"
   },
   {
    "duration": 86,
    "start_time": "2023-11-04T13:27:05.549Z"
   },
   {
    "duration": 42,
    "start_time": "2023-11-04T13:27:15.742Z"
   },
   {
    "duration": 5,
    "start_time": "2023-11-04T13:27:17.289Z"
   },
   {
    "duration": 2491,
    "start_time": "2023-11-04T13:27:19.819Z"
   },
   {
    "duration": 4,
    "start_time": "2023-11-04T13:27:32.353Z"
   },
   {
    "duration": 11,
    "start_time": "2023-11-04T13:27:32.993Z"
   },
   {
    "duration": 63,
    "start_time": "2023-11-04T13:27:56.815Z"
   },
   {
    "duration": 2933,
    "start_time": "2023-11-04T13:27:57.949Z"
   },
   {
    "duration": 476,
    "start_time": "2023-11-04T13:28:05.073Z"
   },
   {
    "duration": 122,
    "start_time": "2023-11-04T13:28:06.222Z"
   },
   {
    "duration": 4,
    "start_time": "2023-11-04T13:28:08.621Z"
   },
   {
    "duration": 9,
    "start_time": "2023-11-04T13:28:09.929Z"
   },
   {
    "duration": 162,
    "start_time": "2023-11-04T13:28:10.898Z"
   },
   {
    "duration": 10,
    "start_time": "2023-11-04T14:56:02.688Z"
   },
   {
    "duration": 4,
    "start_time": "2023-11-04T14:56:21.040Z"
   },
   {
    "duration": 5,
    "start_time": "2023-11-04T14:56:32.779Z"
   },
   {
    "duration": 7,
    "start_time": "2023-11-04T14:56:40.947Z"
   },
   {
    "duration": 15,
    "start_time": "2023-11-04T14:57:00.171Z"
   },
   {
    "duration": 9,
    "start_time": "2023-11-04T14:57:23.212Z"
   },
   {
    "duration": 13,
    "start_time": "2023-11-04T14:57:28.619Z"
   },
   {
    "duration": 692,
    "start_time": "2023-11-04T14:58:04.851Z"
   },
   {
    "duration": 7,
    "start_time": "2023-11-04T14:58:15.371Z"
   },
   {
    "duration": 5,
    "start_time": "2023-11-04T14:58:31.536Z"
   },
   {
    "duration": 8,
    "start_time": "2023-11-04T14:58:38.372Z"
   },
   {
    "duration": 1583,
    "start_time": "2023-11-04T14:58:43.764Z"
   },
   {
    "duration": 5,
    "start_time": "2023-11-04T14:59:09.815Z"
   },
   {
    "duration": 6,
    "start_time": "2023-11-04T15:00:36.330Z"
   },
   {
    "duration": 10,
    "start_time": "2023-11-04T15:00:40.187Z"
   },
   {
    "duration": 1350,
    "start_time": "2023-11-04T15:01:05.139Z"
   },
   {
    "duration": 8,
    "start_time": "2023-11-04T15:01:12.672Z"
   },
   {
    "duration": 12,
    "start_time": "2023-11-04T15:03:18.607Z"
   },
   {
    "duration": 7,
    "start_time": "2023-11-04T15:05:13.075Z"
   },
   {
    "duration": 6,
    "start_time": "2023-11-04T15:05:18.834Z"
   },
   {
    "duration": 7,
    "start_time": "2023-11-04T15:06:24.867Z"
   },
   {
    "duration": 28,
    "start_time": "2023-11-04T15:06:28.971Z"
   },
   {
    "duration": 13,
    "start_time": "2023-11-04T15:07:37.531Z"
   },
   {
    "duration": 37,
    "start_time": "2023-11-04T15:07:44.703Z"
   },
   {
    "duration": 1322,
    "start_time": "2023-11-04T15:08:27.547Z"
   },
   {
    "duration": 22,
    "start_time": "2023-11-04T15:08:41.098Z"
   },
   {
    "duration": 19,
    "start_time": "2023-11-04T15:08:58.871Z"
   },
   {
    "duration": 15,
    "start_time": "2023-11-04T15:09:25.598Z"
   },
   {
    "duration": 13,
    "start_time": "2023-11-04T15:09:30.346Z"
   },
   {
    "duration": 11,
    "start_time": "2023-11-04T15:09:41.382Z"
   },
   {
    "duration": 5,
    "start_time": "2023-11-04T15:09:47.626Z"
   },
   {
    "duration": 14,
    "start_time": "2023-11-04T15:09:57.035Z"
   },
   {
    "duration": 5,
    "start_time": "2023-11-04T15:11:13.738Z"
   },
   {
    "duration": 4,
    "start_time": "2023-11-04T15:11:23.771Z"
   },
   {
    "duration": 29,
    "start_time": "2023-11-04T15:11:31.130Z"
   },
   {
    "duration": 26,
    "start_time": "2023-11-04T15:11:39.527Z"
   },
   {
    "duration": 3,
    "start_time": "2023-11-04T15:12:05.667Z"
   },
   {
    "duration": 28,
    "start_time": "2023-11-04T15:12:12.374Z"
   },
   {
    "duration": 805,
    "start_time": "2023-11-04T15:12:44.694Z"
   },
   {
    "duration": 79,
    "start_time": "2023-11-04T15:12:54.422Z"
   },
   {
    "duration": 15,
    "start_time": "2023-11-04T15:12:58.923Z"
   },
   {
    "duration": 905,
    "start_time": "2023-11-04T15:13:02.022Z"
   },
   {
    "duration": 935,
    "start_time": "2023-11-04T15:13:04.702Z"
   },
   {
    "duration": 1436,
    "start_time": "2023-11-04T15:13:12.923Z"
   },
   {
    "duration": 15,
    "start_time": "2023-11-04T15:13:23.843Z"
   },
   {
    "duration": 15,
    "start_time": "2023-11-04T15:13:27.386Z"
   },
   {
    "duration": 1615,
    "start_time": "2023-11-04T15:13:31.190Z"
   },
   {
    "duration": 5,
    "start_time": "2023-11-04T15:13:38.843Z"
   },
   {
    "duration": 185,
    "start_time": "2023-11-04T15:13:44.814Z"
   },
   {
    "duration": 5,
    "start_time": "2023-11-04T15:13:47.414Z"
   },
   {
    "duration": 7,
    "start_time": "2023-11-04T15:13:50.714Z"
   },
   {
    "duration": 6,
    "start_time": "2023-11-04T15:13:53.494Z"
   },
   {
    "duration": 11,
    "start_time": "2023-11-04T15:14:01.609Z"
   },
   {
    "duration": 12,
    "start_time": "2023-11-04T15:14:07.218Z"
   },
   {
    "duration": 10,
    "start_time": "2023-11-04T15:14:26.318Z"
   },
   {
    "duration": 8,
    "start_time": "2023-11-04T15:14:39.375Z"
   },
   {
    "duration": 4,
    "start_time": "2023-11-04T15:14:43.687Z"
   },
   {
    "duration": 6,
    "start_time": "2023-11-04T15:14:51.630Z"
   },
   {
    "duration": 31,
    "start_time": "2023-11-04T15:15:01.582Z"
   },
   {
    "duration": 26,
    "start_time": "2023-11-04T15:15:29.358Z"
   },
   {
    "duration": 31,
    "start_time": "2023-11-04T15:15:53.550Z"
   },
   {
    "duration": 28,
    "start_time": "2023-11-04T15:18:06.383Z"
   },
   {
    "duration": 7,
    "start_time": "2023-11-04T15:18:18.559Z"
   },
   {
    "duration": 6,
    "start_time": "2023-11-04T15:18:23.302Z"
   },
   {
    "duration": 4,
    "start_time": "2023-11-04T15:18:26.663Z"
   },
   {
    "duration": 5,
    "start_time": "2023-11-04T15:18:34.455Z"
   },
   {
    "duration": 6,
    "start_time": "2023-11-04T15:18:43.559Z"
   },
   {
    "duration": 4,
    "start_time": "2023-11-04T15:19:13.424Z"
   },
   {
    "duration": 34,
    "start_time": "2023-11-04T15:19:20.549Z"
   },
   {
    "duration": 6,
    "start_time": "2023-11-04T15:19:56.573Z"
   },
   {
    "duration": 6,
    "start_time": "2023-11-04T15:20:08.197Z"
   },
   {
    "duration": 8,
    "start_time": "2023-11-04T15:20:27.260Z"
   },
   {
    "duration": 10,
    "start_time": "2023-11-04T15:20:36.489Z"
   },
   {
    "duration": 3,
    "start_time": "2023-11-04T15:20:43.424Z"
   },
   {
    "duration": 3,
    "start_time": "2023-11-04T15:20:44.016Z"
   },
   {
    "duration": 10,
    "start_time": "2023-11-04T15:20:44.620Z"
   },
   {
    "duration": 9,
    "start_time": "2023-11-04T15:20:53.851Z"
   },
   {
    "duration": 28,
    "start_time": "2023-11-04T15:21:47.288Z"
   },
   {
    "duration": 26,
    "start_time": "2023-11-04T15:21:52.143Z"
   },
   {
    "duration": 13,
    "start_time": "2023-11-04T15:21:59.562Z"
   },
   {
    "duration": 14,
    "start_time": "2023-11-04T15:22:04.803Z"
   },
   {
    "duration": 16,
    "start_time": "2023-11-04T15:22:08.795Z"
   },
   {
    "duration": 3,
    "start_time": "2023-11-04T15:22:14.022Z"
   },
   {
    "duration": 9,
    "start_time": "2023-11-04T15:22:27.338Z"
   },
   {
    "duration": 7,
    "start_time": "2023-11-04T15:22:36.315Z"
   },
   {
    "duration": 8,
    "start_time": "2023-11-04T15:22:40.622Z"
   },
   {
    "duration": 7,
    "start_time": "2023-11-04T15:23:00.846Z"
   },
   {
    "duration": 6,
    "start_time": "2023-11-04T15:23:11.529Z"
   },
   {
    "duration": 3,
    "start_time": "2023-11-04T15:24:12.177Z"
   },
   {
    "duration": 29,
    "start_time": "2023-11-04T15:24:18.650Z"
   },
   {
    "duration": 4,
    "start_time": "2023-11-04T15:24:57.928Z"
   },
   {
    "duration": 6,
    "start_time": "2023-11-04T15:25:04.452Z"
   },
   {
    "duration": 6,
    "start_time": "2023-11-04T15:25:12.200Z"
   },
   {
    "duration": 6,
    "start_time": "2023-11-04T15:25:15.504Z"
   },
   {
    "duration": 7,
    "start_time": "2023-11-04T15:25:32.828Z"
   },
   {
    "duration": 5,
    "start_time": "2023-11-04T15:25:37.571Z"
   },
   {
    "duration": 14,
    "start_time": "2023-11-04T15:30:22.853Z"
   },
   {
    "duration": 14,
    "start_time": "2023-11-04T15:30:33.473Z"
   },
   {
    "duration": 12,
    "start_time": "2023-11-04T15:31:16.696Z"
   },
   {
    "duration": 13,
    "start_time": "2023-11-04T15:31:25.759Z"
   },
   {
    "duration": 15,
    "start_time": "2023-11-04T15:31:39.868Z"
   },
   {
    "duration": 5,
    "start_time": "2023-11-04T15:34:10.067Z"
   },
   {
    "duration": 4,
    "start_time": "2023-11-04T15:34:19.106Z"
   },
   {
    "duration": 5,
    "start_time": "2023-11-04T15:34:27.490Z"
   },
   {
    "duration": 4,
    "start_time": "2023-11-04T15:34:27.940Z"
   },
   {
    "duration": 90,
    "start_time": "2023-11-04T15:35:51.902Z"
   },
   {
    "duration": 74,
    "start_time": "2023-11-04T15:36:06.286Z"
   },
   {
    "duration": 6,
    "start_time": "2023-11-04T15:36:49.798Z"
   },
   {
    "duration": 127,
    "start_time": "2023-11-04T15:37:15.197Z"
   },
   {
    "duration": 73,
    "start_time": "2023-11-04T15:37:33.017Z"
   },
   {
    "duration": 5,
    "start_time": "2023-11-04T15:37:45.497Z"
   },
   {
    "duration": 3,
    "start_time": "2023-11-04T15:37:47.545Z"
   },
   {
    "duration": 4,
    "start_time": "2023-11-04T15:38:21.925Z"
   },
   {
    "duration": 26,
    "start_time": "2023-11-04T15:40:05.384Z"
   },
   {
    "duration": 7,
    "start_time": "2023-11-04T15:40:16.798Z"
   },
   {
    "duration": 5,
    "start_time": "2023-11-04T15:40:21.268Z"
   },
   {
    "duration": 4,
    "start_time": "2023-11-04T15:41:54.231Z"
   },
   {
    "duration": 4,
    "start_time": "2023-11-04T15:43:13.135Z"
   },
   {
    "duration": 4,
    "start_time": "2023-11-04T15:44:04.951Z"
   },
   {
    "duration": 14,
    "start_time": "2023-11-04T15:44:12.778Z"
   },
   {
    "duration": 14,
    "start_time": "2023-11-04T15:44:15.191Z"
   },
   {
    "duration": 4,
    "start_time": "2023-11-04T15:44:29.502Z"
   },
   {
    "duration": 4,
    "start_time": "2023-11-04T15:44:36.903Z"
   },
   {
    "duration": 5,
    "start_time": "2023-11-04T15:45:08.713Z"
   },
   {
    "duration": 8,
    "start_time": "2023-11-04T15:56:31.710Z"
   },
   {
    "duration": 3,
    "start_time": "2023-11-04T15:57:22.506Z"
   },
   {
    "duration": 2549,
    "start_time": "2023-11-04T15:57:51.027Z"
   },
   {
    "duration": 32,
    "start_time": "2023-11-04T15:58:17.594Z"
   },
   {
    "duration": 40,
    "start_time": "2023-11-04T15:58:51.987Z"
   },
   {
    "duration": 41,
    "start_time": "2023-11-04T15:58:57.139Z"
   },
   {
    "duration": 32,
    "start_time": "2023-11-04T15:59:19.488Z"
   },
   {
    "duration": 30,
    "start_time": "2023-11-04T16:01:50.568Z"
   },
   {
    "duration": 14,
    "start_time": "2023-11-04T16:02:04.980Z"
   },
   {
    "duration": 82,
    "start_time": "2023-11-04T16:03:11.545Z"
   },
   {
    "duration": 84,
    "start_time": "2023-11-04T16:03:17.113Z"
   },
   {
    "duration": 6921,
    "start_time": "2023-11-04T16:03:21.000Z"
   },
   {
    "duration": 2510,
    "start_time": "2023-11-04T16:03:40.714Z"
   },
   {
    "duration": 20,
    "start_time": "2023-11-04T16:03:48.577Z"
   },
   {
    "duration": 2592,
    "start_time": "2023-11-04T16:04:27.137Z"
   },
   {
    "duration": 21,
    "start_time": "2023-11-04T16:05:01.209Z"
   },
   {
    "duration": 1261,
    "start_time": "2023-11-04T16:05:46.101Z"
   },
   {
    "duration": 101455,
    "start_time": "2023-11-04T16:06:16.109Z"
   },
   {
    "duration": 9,
    "start_time": "2023-11-04T16:08:49.857Z"
   },
   {
    "duration": 15892905,
    "start_time": "2023-11-04T16:09:01.421Z"
   },
   {
    "duration": 42,
    "start_time": "2023-11-04T20:34:22.687Z"
   },
   {
    "duration": 4,
    "start_time": "2023-11-04T20:35:00.655Z"
   },
   {
    "duration": 3,
    "start_time": "2023-11-04T20:35:33.087Z"
   },
   {
    "duration": 11,
    "start_time": "2023-11-04T20:36:01.607Z"
   },
   {
    "duration": 2,
    "start_time": "2023-11-04T20:37:33.359Z"
   },
   {
    "duration": 10,
    "start_time": "2023-11-04T20:37:34.078Z"
   },
   {
    "duration": 12,
    "start_time": "2023-11-04T20:37:45.438Z"
   },
   {
    "duration": 2,
    "start_time": "2023-11-04T20:37:52.555Z"
   },
   {
    "duration": 10,
    "start_time": "2023-11-04T20:37:52.899Z"
   },
   {
    "duration": 10,
    "start_time": "2023-11-04T20:39:38.958Z"
   },
   {
    "duration": 3,
    "start_time": "2023-11-04T20:40:25.742Z"
   },
   {
    "duration": 30,
    "start_time": "2023-11-04T20:40:44.110Z"
   },
   {
    "duration": 3,
    "start_time": "2023-11-04T20:40:44.938Z"
   },
   {
    "duration": 16,
    "start_time": "2023-11-04T20:40:45.754Z"
   },
   {
    "duration": 3,
    "start_time": "2023-11-04T20:42:13.046Z"
   },
   {
    "duration": 10,
    "start_time": "2023-11-04T20:42:13.530Z"
   },
   {
    "duration": 13,
    "start_time": "2023-11-04T20:42:30.426Z"
   },
   {
    "duration": 12,
    "start_time": "2023-11-04T20:42:31.194Z"
   },
   {
    "duration": 12,
    "start_time": "2023-11-04T20:43:35.762Z"
   },
   {
    "duration": 4,
    "start_time": "2023-11-04T20:43:57.221Z"
   },
   {
    "duration": 11,
    "start_time": "2023-11-04T20:43:58.090Z"
   },
   {
    "duration": 6,
    "start_time": "2023-11-04T20:45:43.890Z"
   },
   {
    "duration": 30,
    "start_time": "2023-11-04T20:45:51.518Z"
   },
   {
    "duration": 3,
    "start_time": "2023-11-04T20:45:51.994Z"
   },
   {
    "duration": 20,
    "start_time": "2023-11-04T20:45:54.373Z"
   },
   {
    "duration": 7,
    "start_time": "2023-11-04T20:47:34.646Z"
   },
   {
    "duration": 37,
    "start_time": "2023-11-04T20:47:36.101Z"
   },
   {
    "duration": 13,
    "start_time": "2023-11-04T20:47:36.461Z"
   },
   {
    "duration": 6,
    "start_time": "2023-11-04T20:47:43.801Z"
   },
   {
    "duration": 6,
    "start_time": "2023-11-04T20:47:48.181Z"
   },
   {
    "duration": 3,
    "start_time": "2023-11-04T20:47:51.937Z"
   },
   {
    "duration": 7,
    "start_time": "2023-11-04T20:48:01.514Z"
   },
   {
    "duration": 43,
    "start_time": "2023-11-04T20:48:09.034Z"
   },
   {
    "duration": 3,
    "start_time": "2023-11-04T20:48:15.717Z"
   },
   {
    "duration": 3,
    "start_time": "2023-11-04T20:48:18.133Z"
   },
   {
    "duration": 3,
    "start_time": "2023-11-04T20:48:23.193Z"
   },
   {
    "duration": 5,
    "start_time": "2023-11-04T20:48:58.034Z"
   },
   {
    "duration": 4,
    "start_time": "2023-11-04T20:48:59.127Z"
   },
   {
    "duration": 33,
    "start_time": "2023-11-04T20:48:59.661Z"
   },
   {
    "duration": 30,
    "start_time": "2023-11-04T20:49:03.533Z"
   },
   {
    "duration": 3,
    "start_time": "2023-11-04T20:49:04.157Z"
   },
   {
    "duration": 22,
    "start_time": "2023-11-04T20:49:06.819Z"
   },
   {
    "duration": 4296,
    "start_time": "2023-11-04T20:55:07.061Z"
   },
   {
    "duration": 17,
    "start_time": "2023-11-04T20:55:58.172Z"
   },
   {
    "duration": 3,
    "start_time": "2023-11-04T20:56:15.912Z"
   },
   {
    "duration": 10,
    "start_time": "2023-11-04T20:56:16.373Z"
   },
   {
    "duration": 3770,
    "start_time": "2023-11-04T20:56:42.704Z"
   },
   {
    "duration": 4358,
    "start_time": "2023-11-04T20:56:50.865Z"
   },
   {
    "duration": 4197,
    "start_time": "2023-11-04T20:57:11.109Z"
   },
   {
    "duration": 4211,
    "start_time": "2023-11-04T20:57:26.904Z"
   },
   {
    "duration": 4248,
    "start_time": "2023-11-04T20:57:45.124Z"
   },
   {
    "duration": 4474,
    "start_time": "2023-11-04T20:58:34.144Z"
   },
   {
    "duration": 6270,
    "start_time": "2023-11-04T21:00:44.115Z"
   },
   {
    "duration": 4637,
    "start_time": "2023-11-04T21:01:02.798Z"
   },
   {
    "duration": 27,
    "start_time": "2023-11-04T21:02:53.257Z"
   },
   {
    "duration": 6,
    "start_time": "2023-11-04T21:03:24.211Z"
   },
   {
    "duration": 5,
    "start_time": "2023-11-04T21:03:28.393Z"
   },
   {
    "duration": 29,
    "start_time": "2023-11-04T21:03:42.849Z"
   },
   {
    "duration": 19,
    "start_time": "2023-11-04T21:05:24.144Z"
   },
   {
    "duration": 6,
    "start_time": "2023-11-04T21:05:34.639Z"
   },
   {
    "duration": 41,
    "start_time": "2023-11-04T21:05:39.014Z"
   },
   {
    "duration": 4446,
    "start_time": "2023-11-04T21:06:29.647Z"
   },
   {
    "duration": 17,
    "start_time": "2023-11-04T21:07:57.251Z"
   },
   {
    "duration": 865,
    "start_time": "2023-11-04T21:08:25.919Z"
   },
   {
    "duration": 33,
    "start_time": "2023-11-04T21:08:34.794Z"
   },
   {
    "duration": 255,
    "start_time": "2023-11-04T21:08:43.318Z"
   },
   {
    "duration": 1095,
    "start_time": "2023-11-04T21:08:51.231Z"
   },
   {
    "duration": 21,
    "start_time": "2023-11-04T21:08:56.170Z"
   },
   {
    "duration": 307,
    "start_time": "2023-11-04T21:09:03.387Z"
   },
   {
    "duration": 1162,
    "start_time": "2023-11-04T21:09:14.450Z"
   },
   {
    "duration": 763,
    "start_time": "2023-11-04T21:11:05.218Z"
   },
   {
    "duration": 867,
    "start_time": "2023-11-04T21:11:19.254Z"
   },
   {
    "duration": 890,
    "start_time": "2023-11-04T21:11:28.322Z"
   },
   {
    "duration": 1199,
    "start_time": "2023-11-04T21:11:36.577Z"
   },
   {
    "duration": 21,
    "start_time": "2023-11-04T21:11:44.981Z"
   },
   {
    "duration": 302,
    "start_time": "2023-11-04T21:11:50.266Z"
   },
   {
    "duration": 527,
    "start_time": "2023-11-04T21:12:02.653Z"
   },
   {
    "duration": 19,
    "start_time": "2023-11-04T21:12:39.153Z"
   },
   {
    "duration": 835,
    "start_time": "2023-11-04T21:12:52.776Z"
   },
   {
    "duration": 16,
    "start_time": "2023-11-04T21:13:46.441Z"
   },
   {
    "duration": 20,
    "start_time": "2023-11-04T21:14:02.013Z"
   },
   {
    "duration": 799,
    "start_time": "2023-11-04T21:14:18.797Z"
   },
   {
    "duration": 965,
    "start_time": "2023-11-04T21:15:14.732Z"
   },
   {
    "duration": 545,
    "start_time": "2023-11-04T21:16:04.448Z"
   },
   {
    "duration": 563,
    "start_time": "2023-11-04T21:16:23.368Z"
   },
   {
    "duration": 508,
    "start_time": "2023-11-04T21:16:47.624Z"
   },
   {
    "duration": 597,
    "start_time": "2023-11-04T21:17:00.079Z"
   },
   {
    "duration": 625,
    "start_time": "2023-11-04T21:19:00.960Z"
   },
   {
    "duration": 760,
    "start_time": "2023-11-04T21:19:09.523Z"
   },
   {
    "duration": 615,
    "start_time": "2023-11-04T21:19:18.511Z"
   },
   {
    "duration": 571,
    "start_time": "2023-11-04T21:19:27.414Z"
   },
   {
    "duration": 554,
    "start_time": "2023-11-04T21:22:09.311Z"
   },
   {
    "duration": 514,
    "start_time": "2023-11-04T21:23:58.958Z"
   },
   {
    "duration": 614,
    "start_time": "2023-11-04T21:25:10.230Z"
   },
   {
    "duration": 840,
    "start_time": "2023-11-04T21:25:37.606Z"
   },
   {
    "duration": 877,
    "start_time": "2023-11-04T21:25:50.114Z"
   },
   {
    "duration": 525,
    "start_time": "2023-11-04T21:26:07.954Z"
   },
   {
    "duration": 559,
    "start_time": "2023-11-04T21:26:26.142Z"
   },
   {
    "duration": 547,
    "start_time": "2023-11-04T21:26:43.610Z"
   },
   {
    "duration": 832,
    "start_time": "2023-11-04T21:27:17.874Z"
   },
   {
    "duration": 585,
    "start_time": "2023-11-04T21:27:32.198Z"
   },
   {
    "duration": 579,
    "start_time": "2023-11-04T21:27:56.081Z"
   },
   {
    "duration": 622,
    "start_time": "2023-11-04T21:28:09.190Z"
   },
   {
    "duration": 11,
    "start_time": "2023-11-05T09:18:54.164Z"
   },
   {
    "duration": 20804,
    "start_time": "2023-11-07T11:15:06.195Z"
   },
   {
    "duration": 9446,
    "start_time": "2023-11-07T11:15:27.001Z"
   },
   {
    "duration": 3408,
    "start_time": "2023-11-07T11:15:36.449Z"
   },
   {
    "duration": 7046,
    "start_time": "2023-11-07T11:15:39.859Z"
   },
   {
    "duration": 175,
    "start_time": "2023-11-07T11:15:46.907Z"
   },
   {
    "duration": 0,
    "start_time": "2023-11-07T11:15:47.087Z"
   },
   {
    "duration": 0,
    "start_time": "2023-11-07T11:15:47.088Z"
   },
   {
    "duration": 0,
    "start_time": "2023-11-07T11:15:47.089Z"
   },
   {
    "duration": 0,
    "start_time": "2023-11-07T11:15:47.091Z"
   },
   {
    "duration": 0,
    "start_time": "2023-11-07T11:15:47.092Z"
   },
   {
    "duration": 0,
    "start_time": "2023-11-07T11:15:47.093Z"
   },
   {
    "duration": 0,
    "start_time": "2023-11-07T11:15:47.094Z"
   },
   {
    "duration": 0,
    "start_time": "2023-11-07T11:15:47.095Z"
   },
   {
    "duration": 0,
    "start_time": "2023-11-07T11:15:47.096Z"
   },
   {
    "duration": 0,
    "start_time": "2023-11-07T11:15:47.097Z"
   },
   {
    "duration": 0,
    "start_time": "2023-11-07T11:15:47.098Z"
   },
   {
    "duration": 0,
    "start_time": "2023-11-07T11:15:47.099Z"
   },
   {
    "duration": 0,
    "start_time": "2023-11-07T11:15:47.101Z"
   },
   {
    "duration": 0,
    "start_time": "2023-11-07T11:15:47.101Z"
   },
   {
    "duration": 0,
    "start_time": "2023-11-07T11:15:47.102Z"
   },
   {
    "duration": 0,
    "start_time": "2023-11-07T11:15:47.104Z"
   },
   {
    "duration": 0,
    "start_time": "2023-11-07T11:15:47.105Z"
   },
   {
    "duration": 0,
    "start_time": "2023-11-07T11:15:47.106Z"
   },
   {
    "duration": 0,
    "start_time": "2023-11-07T11:15:47.106Z"
   },
   {
    "duration": 0,
    "start_time": "2023-11-07T11:15:47.107Z"
   },
   {
    "duration": 0,
    "start_time": "2023-11-07T11:15:47.108Z"
   },
   {
    "duration": 0,
    "start_time": "2023-11-07T11:15:47.109Z"
   },
   {
    "duration": 0,
    "start_time": "2023-11-07T11:15:47.110Z"
   },
   {
    "duration": 0,
    "start_time": "2023-11-07T11:15:47.111Z"
   },
   {
    "duration": 0,
    "start_time": "2023-11-07T11:15:47.112Z"
   },
   {
    "duration": 0,
    "start_time": "2023-11-07T11:15:47.113Z"
   },
   {
    "duration": 0,
    "start_time": "2023-11-07T11:15:47.115Z"
   },
   {
    "duration": 0,
    "start_time": "2023-11-07T11:15:47.116Z"
   },
   {
    "duration": 0,
    "start_time": "2023-11-07T11:15:47.116Z"
   },
   {
    "duration": 0,
    "start_time": "2023-11-07T11:15:47.117Z"
   },
   {
    "duration": 0,
    "start_time": "2023-11-07T11:15:47.118Z"
   },
   {
    "duration": 0,
    "start_time": "2023-11-07T11:15:47.119Z"
   },
   {
    "duration": 0,
    "start_time": "2023-11-07T11:15:47.120Z"
   },
   {
    "duration": 0,
    "start_time": "2023-11-07T11:15:47.169Z"
   },
   {
    "duration": 0,
    "start_time": "2023-11-07T11:15:47.170Z"
   },
   {
    "duration": 0,
    "start_time": "2023-11-07T11:15:47.171Z"
   },
   {
    "duration": 0,
    "start_time": "2023-11-07T11:15:47.172Z"
   },
   {
    "duration": 1,
    "start_time": "2023-11-07T11:15:47.173Z"
   },
   {
    "duration": 0,
    "start_time": "2023-11-07T11:15:47.175Z"
   },
   {
    "duration": 0,
    "start_time": "2023-11-07T11:15:47.176Z"
   },
   {
    "duration": 0,
    "start_time": "2023-11-07T11:15:47.177Z"
   },
   {
    "duration": 0,
    "start_time": "2023-11-07T11:15:47.179Z"
   },
   {
    "duration": 0,
    "start_time": "2023-11-07T11:15:47.180Z"
   },
   {
    "duration": 0,
    "start_time": "2023-11-07T11:15:47.182Z"
   },
   {
    "duration": 0,
    "start_time": "2023-11-07T11:15:47.183Z"
   },
   {
    "duration": 0,
    "start_time": "2023-11-07T11:15:47.184Z"
   },
   {
    "duration": 1,
    "start_time": "2023-11-07T11:15:47.185Z"
   },
   {
    "duration": 0,
    "start_time": "2023-11-07T11:15:47.187Z"
   },
   {
    "duration": 0,
    "start_time": "2023-11-07T11:15:47.188Z"
   },
   {
    "duration": 0,
    "start_time": "2023-11-07T11:15:47.190Z"
   },
   {
    "duration": 0,
    "start_time": "2023-11-07T11:15:47.191Z"
   },
   {
    "duration": 0,
    "start_time": "2023-11-07T11:15:47.194Z"
   },
   {
    "duration": 0,
    "start_time": "2023-11-07T11:15:47.195Z"
   },
   {
    "duration": 0,
    "start_time": "2023-11-07T11:15:47.197Z"
   },
   {
    "duration": 0,
    "start_time": "2023-11-07T11:15:47.198Z"
   },
   {
    "duration": 0,
    "start_time": "2023-11-07T11:15:47.200Z"
   },
   {
    "duration": 0,
    "start_time": "2023-11-07T11:15:47.201Z"
   },
   {
    "duration": 0,
    "start_time": "2023-11-07T11:15:47.202Z"
   },
   {
    "duration": 0,
    "start_time": "2023-11-07T11:15:47.203Z"
   },
   {
    "duration": 0,
    "start_time": "2023-11-07T11:15:47.205Z"
   },
   {
    "duration": 0,
    "start_time": "2023-11-07T11:15:47.206Z"
   },
   {
    "duration": 0,
    "start_time": "2023-11-07T11:15:47.207Z"
   },
   {
    "duration": 0,
    "start_time": "2023-11-07T11:15:47.269Z"
   },
   {
    "duration": 0,
    "start_time": "2023-11-07T11:15:47.270Z"
   },
   {
    "duration": 0,
    "start_time": "2023-11-07T11:15:47.272Z"
   },
   {
    "duration": 0,
    "start_time": "2023-11-07T11:15:47.274Z"
   },
   {
    "duration": 0,
    "start_time": "2023-11-07T11:15:47.275Z"
   },
   {
    "duration": 0,
    "start_time": "2023-11-07T11:15:47.276Z"
   },
   {
    "duration": 0,
    "start_time": "2023-11-07T11:15:47.278Z"
   },
   {
    "duration": 0,
    "start_time": "2023-11-07T11:15:47.279Z"
   },
   {
    "duration": 0,
    "start_time": "2023-11-07T11:15:47.280Z"
   },
   {
    "duration": 0,
    "start_time": "2023-11-07T11:15:47.282Z"
   },
   {
    "duration": 0,
    "start_time": "2023-11-07T11:15:47.283Z"
   },
   {
    "duration": 0,
    "start_time": "2023-11-07T11:15:47.284Z"
   },
   {
    "duration": 0,
    "start_time": "2023-11-07T11:15:47.286Z"
   },
   {
    "duration": 0,
    "start_time": "2023-11-07T11:15:47.287Z"
   },
   {
    "duration": 0,
    "start_time": "2023-11-07T11:15:47.289Z"
   },
   {
    "duration": 0,
    "start_time": "2023-11-07T11:15:47.290Z"
   },
   {
    "duration": 0,
    "start_time": "2023-11-07T11:15:47.291Z"
   },
   {
    "duration": 0,
    "start_time": "2023-11-07T11:15:47.293Z"
   },
   {
    "duration": 0,
    "start_time": "2023-11-07T11:15:47.294Z"
   },
   {
    "duration": 0,
    "start_time": "2023-11-07T11:15:47.295Z"
   },
   {
    "duration": 0,
    "start_time": "2023-11-07T11:15:47.296Z"
   },
   {
    "duration": 0,
    "start_time": "2023-11-07T11:15:47.297Z"
   },
   {
    "duration": 0,
    "start_time": "2023-11-07T11:15:47.298Z"
   },
   {
    "duration": 0,
    "start_time": "2023-11-07T11:15:47.299Z"
   },
   {
    "duration": 0,
    "start_time": "2023-11-07T11:15:47.300Z"
   },
   {
    "duration": 0,
    "start_time": "2023-11-07T11:15:47.301Z"
   },
   {
    "duration": 0,
    "start_time": "2023-11-07T11:15:47.302Z"
   },
   {
    "duration": 0,
    "start_time": "2023-11-07T11:15:47.303Z"
   },
   {
    "duration": 0,
    "start_time": "2023-11-07T11:15:47.369Z"
   },
   {
    "duration": 0,
    "start_time": "2023-11-07T11:15:47.370Z"
   },
   {
    "duration": 0,
    "start_time": "2023-11-07T11:15:47.371Z"
   },
   {
    "duration": 0,
    "start_time": "2023-11-07T11:15:47.372Z"
   },
   {
    "duration": 0,
    "start_time": "2023-11-07T11:15:47.373Z"
   },
   {
    "duration": 0,
    "start_time": "2023-11-07T11:15:47.375Z"
   },
   {
    "duration": 0,
    "start_time": "2023-11-07T11:15:47.376Z"
   },
   {
    "duration": 0,
    "start_time": "2023-11-07T11:15:47.378Z"
   },
   {
    "duration": 0,
    "start_time": "2023-11-07T11:15:47.379Z"
   },
   {
    "duration": 0,
    "start_time": "2023-11-07T11:15:47.380Z"
   },
   {
    "duration": 0,
    "start_time": "2023-11-07T11:15:47.382Z"
   },
   {
    "duration": 0,
    "start_time": "2023-11-07T11:15:47.383Z"
   },
   {
    "duration": 0,
    "start_time": "2023-11-07T11:15:47.383Z"
   },
   {
    "duration": 0,
    "start_time": "2023-11-07T11:15:47.385Z"
   },
   {
    "duration": 0,
    "start_time": "2023-11-07T11:15:47.386Z"
   },
   {
    "duration": 0,
    "start_time": "2023-11-07T11:15:47.387Z"
   },
   {
    "duration": 0,
    "start_time": "2023-11-07T11:15:47.388Z"
   },
   {
    "duration": 0,
    "start_time": "2023-11-07T11:15:47.389Z"
   },
   {
    "duration": 0,
    "start_time": "2023-11-07T11:15:47.390Z"
   },
   {
    "duration": 0,
    "start_time": "2023-11-07T11:15:47.391Z"
   },
   {
    "duration": 0,
    "start_time": "2023-11-07T11:15:47.392Z"
   },
   {
    "duration": 0,
    "start_time": "2023-11-07T11:15:47.393Z"
   },
   {
    "duration": 0,
    "start_time": "2023-11-07T11:15:47.394Z"
   },
   {
    "duration": 0,
    "start_time": "2023-11-07T11:15:47.395Z"
   },
   {
    "duration": 0,
    "start_time": "2023-11-07T11:15:47.396Z"
   },
   {
    "duration": 0,
    "start_time": "2023-11-07T11:15:47.397Z"
   },
   {
    "duration": 0,
    "start_time": "2023-11-07T11:15:47.399Z"
   },
   {
    "duration": 0,
    "start_time": "2023-11-07T11:15:47.400Z"
   },
   {
    "duration": 0,
    "start_time": "2023-11-07T11:15:47.401Z"
   },
   {
    "duration": 0,
    "start_time": "2023-11-07T11:15:47.402Z"
   },
   {
    "duration": 0,
    "start_time": "2023-11-07T11:15:47.403Z"
   },
   {
    "duration": 0,
    "start_time": "2023-11-07T11:15:47.405Z"
   },
   {
    "duration": 7276,
    "start_time": "2023-11-07T11:22:44.806Z"
   },
   {
    "duration": 5603,
    "start_time": "2023-11-07T11:22:52.084Z"
   },
   {
    "duration": 2541,
    "start_time": "2023-11-07T11:22:57.689Z"
   },
   {
    "duration": 2969,
    "start_time": "2023-11-07T11:23:00.232Z"
   },
   {
    "duration": 56,
    "start_time": "2023-11-07T11:23:03.203Z"
   },
   {
    "duration": 220,
    "start_time": "2023-11-07T11:23:03.260Z"
   },
   {
    "duration": 0,
    "start_time": "2023-11-07T11:23:03.486Z"
   },
   {
    "duration": 0,
    "start_time": "2023-11-07T11:23:03.488Z"
   },
   {
    "duration": 0,
    "start_time": "2023-11-07T11:23:03.489Z"
   },
   {
    "duration": 0,
    "start_time": "2023-11-07T11:23:03.490Z"
   },
   {
    "duration": 1,
    "start_time": "2023-11-07T11:23:03.490Z"
   },
   {
    "duration": 0,
    "start_time": "2023-11-07T11:23:03.491Z"
   },
   {
    "duration": 0,
    "start_time": "2023-11-07T11:23:03.492Z"
   },
   {
    "duration": 0,
    "start_time": "2023-11-07T11:23:03.493Z"
   },
   {
    "duration": 0,
    "start_time": "2023-11-07T11:23:03.495Z"
   },
   {
    "duration": 0,
    "start_time": "2023-11-07T11:23:03.496Z"
   },
   {
    "duration": 0,
    "start_time": "2023-11-07T11:23:03.497Z"
   },
   {
    "duration": 0,
    "start_time": "2023-11-07T11:23:03.497Z"
   },
   {
    "duration": 0,
    "start_time": "2023-11-07T11:23:03.498Z"
   },
   {
    "duration": 0,
    "start_time": "2023-11-07T11:23:03.499Z"
   },
   {
    "duration": 0,
    "start_time": "2023-11-07T11:23:03.500Z"
   },
   {
    "duration": 0,
    "start_time": "2023-11-07T11:23:03.501Z"
   },
   {
    "duration": 0,
    "start_time": "2023-11-07T11:23:03.502Z"
   },
   {
    "duration": 0,
    "start_time": "2023-11-07T11:23:03.503Z"
   },
   {
    "duration": 0,
    "start_time": "2023-11-07T11:23:03.504Z"
   },
   {
    "duration": 0,
    "start_time": "2023-11-07T11:23:03.505Z"
   },
   {
    "duration": 0,
    "start_time": "2023-11-07T11:23:03.506Z"
   },
   {
    "duration": 0,
    "start_time": "2023-11-07T11:23:03.506Z"
   },
   {
    "duration": 0,
    "start_time": "2023-11-07T11:23:03.507Z"
   },
   {
    "duration": 0,
    "start_time": "2023-11-07T11:23:03.508Z"
   },
   {
    "duration": 0,
    "start_time": "2023-11-07T11:23:03.509Z"
   },
   {
    "duration": 0,
    "start_time": "2023-11-07T11:23:03.510Z"
   },
   {
    "duration": 0,
    "start_time": "2023-11-07T11:23:03.511Z"
   },
   {
    "duration": 0,
    "start_time": "2023-11-07T11:23:03.512Z"
   },
   {
    "duration": 0,
    "start_time": "2023-11-07T11:23:03.513Z"
   },
   {
    "duration": 0,
    "start_time": "2023-11-07T11:23:03.514Z"
   },
   {
    "duration": 0,
    "start_time": "2023-11-07T11:23:03.515Z"
   },
   {
    "duration": 0,
    "start_time": "2023-11-07T11:23:03.515Z"
   },
   {
    "duration": 0,
    "start_time": "2023-11-07T11:23:03.517Z"
   },
   {
    "duration": 0,
    "start_time": "2023-11-07T11:23:03.517Z"
   },
   {
    "duration": 0,
    "start_time": "2023-11-07T11:23:03.518Z"
   },
   {
    "duration": 0,
    "start_time": "2023-11-07T11:23:03.519Z"
   },
   {
    "duration": 0,
    "start_time": "2023-11-07T11:23:03.520Z"
   },
   {
    "duration": 0,
    "start_time": "2023-11-07T11:23:03.521Z"
   },
   {
    "duration": 0,
    "start_time": "2023-11-07T11:23:03.522Z"
   },
   {
    "duration": 0,
    "start_time": "2023-11-07T11:23:03.523Z"
   },
   {
    "duration": 0,
    "start_time": "2023-11-07T11:23:03.581Z"
   },
   {
    "duration": 0,
    "start_time": "2023-11-07T11:23:03.582Z"
   },
   {
    "duration": 0,
    "start_time": "2023-11-07T11:23:03.583Z"
   },
   {
    "duration": 0,
    "start_time": "2023-11-07T11:23:03.584Z"
   },
   {
    "duration": 0,
    "start_time": "2023-11-07T11:23:03.585Z"
   },
   {
    "duration": 0,
    "start_time": "2023-11-07T11:23:03.586Z"
   },
   {
    "duration": 0,
    "start_time": "2023-11-07T11:23:03.587Z"
   },
   {
    "duration": 0,
    "start_time": "2023-11-07T11:23:03.588Z"
   },
   {
    "duration": 0,
    "start_time": "2023-11-07T11:23:03.589Z"
   },
   {
    "duration": 0,
    "start_time": "2023-11-07T11:23:03.590Z"
   },
   {
    "duration": 0,
    "start_time": "2023-11-07T11:23:03.591Z"
   },
   {
    "duration": 0,
    "start_time": "2023-11-07T11:23:03.592Z"
   },
   {
    "duration": 0,
    "start_time": "2023-11-07T11:23:03.593Z"
   },
   {
    "duration": 0,
    "start_time": "2023-11-07T11:23:03.594Z"
   },
   {
    "duration": 0,
    "start_time": "2023-11-07T11:23:03.595Z"
   },
   {
    "duration": 0,
    "start_time": "2023-11-07T11:23:03.595Z"
   },
   {
    "duration": 0,
    "start_time": "2023-11-07T11:23:03.596Z"
   },
   {
    "duration": 0,
    "start_time": "2023-11-07T11:23:03.597Z"
   },
   {
    "duration": 0,
    "start_time": "2023-11-07T11:23:03.598Z"
   },
   {
    "duration": 0,
    "start_time": "2023-11-07T11:23:03.599Z"
   },
   {
    "duration": 0,
    "start_time": "2023-11-07T11:23:03.600Z"
   },
   {
    "duration": 0,
    "start_time": "2023-11-07T11:23:03.600Z"
   },
   {
    "duration": 0,
    "start_time": "2023-11-07T11:23:03.602Z"
   },
   {
    "duration": 0,
    "start_time": "2023-11-07T11:23:03.603Z"
   },
   {
    "duration": 0,
    "start_time": "2023-11-07T11:23:03.604Z"
   },
   {
    "duration": 0,
    "start_time": "2023-11-07T11:23:03.605Z"
   },
   {
    "duration": 0,
    "start_time": "2023-11-07T11:23:03.606Z"
   },
   {
    "duration": 0,
    "start_time": "2023-11-07T11:23:03.607Z"
   },
   {
    "duration": 1,
    "start_time": "2023-11-07T11:23:03.607Z"
   },
   {
    "duration": 0,
    "start_time": "2023-11-07T11:23:03.608Z"
   },
   {
    "duration": 0,
    "start_time": "2023-11-07T11:23:03.610Z"
   },
   {
    "duration": 0,
    "start_time": "2023-11-07T11:23:03.610Z"
   },
   {
    "duration": 0,
    "start_time": "2023-11-07T11:23:03.611Z"
   },
   {
    "duration": 0,
    "start_time": "2023-11-07T11:23:03.671Z"
   },
   {
    "duration": 0,
    "start_time": "2023-11-07T11:23:03.672Z"
   },
   {
    "duration": 0,
    "start_time": "2023-11-07T11:23:03.672Z"
   },
   {
    "duration": 0,
    "start_time": "2023-11-07T11:23:03.673Z"
   },
   {
    "duration": 0,
    "start_time": "2023-11-07T11:23:03.673Z"
   },
   {
    "duration": 0,
    "start_time": "2023-11-07T11:23:03.674Z"
   },
   {
    "duration": 0,
    "start_time": "2023-11-07T11:23:03.675Z"
   },
   {
    "duration": 0,
    "start_time": "2023-11-07T11:23:03.675Z"
   },
   {
    "duration": 0,
    "start_time": "2023-11-07T11:23:03.676Z"
   },
   {
    "duration": 0,
    "start_time": "2023-11-07T11:23:03.678Z"
   },
   {
    "duration": 0,
    "start_time": "2023-11-07T11:23:03.679Z"
   },
   {
    "duration": 0,
    "start_time": "2023-11-07T11:23:03.680Z"
   },
   {
    "duration": 0,
    "start_time": "2023-11-07T11:23:03.680Z"
   },
   {
    "duration": 0,
    "start_time": "2023-11-07T11:23:03.681Z"
   },
   {
    "duration": 1,
    "start_time": "2023-11-07T11:23:03.681Z"
   },
   {
    "duration": 0,
    "start_time": "2023-11-07T11:23:03.682Z"
   },
   {
    "duration": 0,
    "start_time": "2023-11-07T11:23:03.684Z"
   },
   {
    "duration": 0,
    "start_time": "2023-11-07T11:23:03.686Z"
   },
   {
    "duration": 0,
    "start_time": "2023-11-07T11:23:03.688Z"
   },
   {
    "duration": 0,
    "start_time": "2023-11-07T11:23:03.689Z"
   },
   {
    "duration": 0,
    "start_time": "2023-11-07T11:23:03.691Z"
   },
   {
    "duration": 0,
    "start_time": "2023-11-07T11:23:03.692Z"
   },
   {
    "duration": 0,
    "start_time": "2023-11-07T11:23:03.693Z"
   },
   {
    "duration": 0,
    "start_time": "2023-11-07T11:23:03.695Z"
   },
   {
    "duration": 0,
    "start_time": "2023-11-07T11:23:03.696Z"
   },
   {
    "duration": 0,
    "start_time": "2023-11-07T11:23:03.698Z"
   },
   {
    "duration": 0,
    "start_time": "2023-11-07T11:23:03.699Z"
   },
   {
    "duration": 0,
    "start_time": "2023-11-07T11:23:03.700Z"
   },
   {
    "duration": 0,
    "start_time": "2023-11-07T11:23:03.702Z"
   },
   {
    "duration": 0,
    "start_time": "2023-11-07T11:23:03.703Z"
   },
   {
    "duration": 0,
    "start_time": "2023-11-07T11:23:03.704Z"
   },
   {
    "duration": 0,
    "start_time": "2023-11-07T11:23:03.706Z"
   },
   {
    "duration": 0,
    "start_time": "2023-11-07T11:23:03.707Z"
   },
   {
    "duration": 0,
    "start_time": "2023-11-07T11:23:03.708Z"
   },
   {
    "duration": 0,
    "start_time": "2023-11-07T11:23:03.710Z"
   },
   {
    "duration": 0,
    "start_time": "2023-11-07T11:23:03.711Z"
   },
   {
    "duration": 0,
    "start_time": "2023-11-07T11:23:03.712Z"
   },
   {
    "duration": 0,
    "start_time": "2023-11-07T11:23:03.714Z"
   },
   {
    "duration": 0,
    "start_time": "2023-11-07T11:23:03.775Z"
   },
   {
    "duration": 0,
    "start_time": "2023-11-07T11:23:03.776Z"
   },
   {
    "duration": 0,
    "start_time": "2023-11-07T11:23:03.777Z"
   },
   {
    "duration": 0,
    "start_time": "2023-11-07T11:23:03.778Z"
   },
   {
    "duration": 1,
    "start_time": "2023-11-07T11:23:03.778Z"
   },
   {
    "duration": 0,
    "start_time": "2023-11-07T11:23:03.780Z"
   },
   {
    "duration": 0,
    "start_time": "2023-11-07T11:23:03.780Z"
   },
   {
    "duration": 0,
    "start_time": "2023-11-07T11:23:03.781Z"
   },
   {
    "duration": 0,
    "start_time": "2023-11-07T11:23:03.783Z"
   },
   {
    "duration": 0,
    "start_time": "2023-11-07T11:23:03.785Z"
   },
   {
    "duration": 3296,
    "start_time": "2023-11-07T11:26:27.832Z"
   },
   {
    "duration": 5573,
    "start_time": "2023-11-07T11:26:31.130Z"
   },
   {
    "duration": 2446,
    "start_time": "2023-11-07T11:26:36.705Z"
   },
   {
    "duration": 2647,
    "start_time": "2023-11-07T11:26:39.153Z"
   },
   {
    "duration": 44,
    "start_time": "2023-11-07T11:26:41.803Z"
   },
   {
    "duration": 830,
    "start_time": "2023-11-07T11:26:41.850Z"
   },
   {
    "duration": 3,
    "start_time": "2023-11-07T11:26:42.681Z"
   },
   {
    "duration": 62,
    "start_time": "2023-11-07T11:26:42.686Z"
   },
   {
    "duration": 130,
    "start_time": "2023-11-07T11:26:42.750Z"
   },
   {
    "duration": 27,
    "start_time": "2023-11-07T11:26:42.881Z"
   },
   {
    "duration": 42453,
    "start_time": "2023-11-07T11:26:42.909Z"
   },
   {
    "duration": 38928,
    "start_time": "2023-11-07T11:27:25.364Z"
   },
   {
    "duration": 2493,
    "start_time": "2023-11-07T11:28:04.297Z"
   },
   {
    "duration": 2021,
    "start_time": "2023-11-07T11:28:06.792Z"
   },
   {
    "duration": 9,
    "start_time": "2023-11-07T11:28:08.815Z"
   },
   {
    "duration": 59,
    "start_time": "2023-11-07T11:28:08.826Z"
   },
   {
    "duration": 68,
    "start_time": "2023-11-07T11:28:08.886Z"
   },
   {
    "duration": 37,
    "start_time": "2023-11-07T11:28:08.955Z"
   },
   {
    "duration": 45,
    "start_time": "2023-11-07T11:28:08.993Z"
   },
   {
    "duration": 31,
    "start_time": "2023-11-07T11:28:09.040Z"
   },
   {
    "duration": 17,
    "start_time": "2023-11-07T11:28:09.072Z"
   },
   {
    "duration": 33,
    "start_time": "2023-11-07T11:28:09.090Z"
   },
   {
    "duration": 30,
    "start_time": "2023-11-07T11:28:09.125Z"
   },
   {
    "duration": 32,
    "start_time": "2023-11-07T11:28:09.156Z"
   },
   {
    "duration": 31,
    "start_time": "2023-11-07T11:28:09.190Z"
   },
   {
    "duration": 41,
    "start_time": "2023-11-07T11:28:09.223Z"
   },
   {
    "duration": 40,
    "start_time": "2023-11-07T11:28:09.267Z"
   },
   {
    "duration": 28,
    "start_time": "2023-11-07T11:28:09.309Z"
   },
   {
    "duration": 78,
    "start_time": "2023-11-07T11:28:09.338Z"
   },
   {
    "duration": 73,
    "start_time": "2023-11-07T11:28:09.418Z"
   },
   {
    "duration": 57,
    "start_time": "2023-11-07T11:28:09.492Z"
   },
   {
    "duration": 76,
    "start_time": "2023-11-07T11:28:09.551Z"
   },
   {
    "duration": 452,
    "start_time": "2023-11-07T11:28:09.628Z"
   },
   {
    "duration": 596,
    "start_time": "2023-11-07T11:28:10.081Z"
   },
   {
    "duration": 548,
    "start_time": "2023-11-07T11:28:10.678Z"
   },
   {
    "duration": 813,
    "start_time": "2023-11-07T11:28:11.228Z"
   },
   {
    "duration": 6,
    "start_time": "2023-11-07T11:28:12.043Z"
   },
   {
    "duration": 30,
    "start_time": "2023-11-07T11:28:12.051Z"
   },
   {
    "duration": 24,
    "start_time": "2023-11-07T11:28:12.083Z"
   },
   {
    "duration": 13,
    "start_time": "2023-11-07T11:28:12.108Z"
   },
   {
    "duration": 52,
    "start_time": "2023-11-07T11:28:12.127Z"
   },
   {
    "duration": 12,
    "start_time": "2023-11-07T11:28:12.180Z"
   },
   {
    "duration": 18,
    "start_time": "2023-11-07T11:28:12.194Z"
   },
   {
    "duration": 3665,
    "start_time": "2023-11-07T11:28:12.214Z"
   },
   {
    "duration": 19,
    "start_time": "2023-11-07T11:28:15.881Z"
   },
   {
    "duration": 33,
    "start_time": "2023-11-07T11:28:15.901Z"
   },
   {
    "duration": 36,
    "start_time": "2023-11-07T11:28:15.936Z"
   },
   {
    "duration": 25,
    "start_time": "2023-11-07T11:28:15.974Z"
   },
   {
    "duration": 20,
    "start_time": "2023-11-07T11:28:16.001Z"
   },
   {
    "duration": 28,
    "start_time": "2023-11-07T11:28:16.022Z"
   },
   {
    "duration": 23,
    "start_time": "2023-11-07T11:28:16.053Z"
   },
   {
    "duration": 23,
    "start_time": "2023-11-07T11:28:16.078Z"
   },
   {
    "duration": 56,
    "start_time": "2023-11-07T11:28:16.103Z"
   },
   {
    "duration": 31,
    "start_time": "2023-11-07T11:28:16.160Z"
   },
   {
    "duration": 25,
    "start_time": "2023-11-07T11:28:16.193Z"
   },
   {
    "duration": 28,
    "start_time": "2023-11-07T11:28:16.220Z"
   },
   {
    "duration": 20,
    "start_time": "2023-11-07T11:28:16.251Z"
   },
   {
    "duration": 17,
    "start_time": "2023-11-07T11:28:16.273Z"
   },
   {
    "duration": 24,
    "start_time": "2023-11-07T11:28:16.292Z"
   },
   {
    "duration": 56,
    "start_time": "2023-11-07T11:28:16.318Z"
   },
   {
    "duration": 5,
    "start_time": "2023-11-07T11:28:16.375Z"
   },
   {
    "duration": 18,
    "start_time": "2023-11-07T11:28:16.382Z"
   },
   {
    "duration": 10,
    "start_time": "2023-11-07T11:28:16.401Z"
   },
   {
    "duration": 66,
    "start_time": "2023-11-07T11:28:16.412Z"
   },
   {
    "duration": 118,
    "start_time": "2023-11-07T11:28:16.479Z"
   },
   {
    "duration": 4,
    "start_time": "2023-11-07T11:28:16.599Z"
   },
   {
    "duration": 53,
    "start_time": "2023-11-07T11:28:16.605Z"
   },
   {
    "duration": 108,
    "start_time": "2023-11-07T11:28:16.659Z"
   },
   {
    "duration": 3,
    "start_time": "2023-11-07T11:28:16.769Z"
   },
   {
    "duration": 45,
    "start_time": "2023-11-07T11:28:16.773Z"
   },
   {
    "duration": 3152,
    "start_time": "2023-11-07T11:28:16.820Z"
   },
   {
    "duration": 1542,
    "start_time": "2023-11-07T11:28:19.974Z"
   },
   {
    "duration": 67,
    "start_time": "2023-11-07T11:28:21.518Z"
   },
   {
    "duration": 1686,
    "start_time": "2023-11-07T11:28:21.586Z"
   },
   {
    "duration": 3361,
    "start_time": "2023-11-07T11:28:23.274Z"
   },
   {
    "duration": 3,
    "start_time": "2023-11-07T11:28:26.636Z"
   },
   {
    "duration": 9,
    "start_time": "2023-11-07T11:28:26.640Z"
   },
   {
    "duration": 3023,
    "start_time": "2023-11-07T11:28:26.651Z"
   },
   {
    "duration": 93,
    "start_time": "2023-11-07T11:28:29.676Z"
   },
   {
    "duration": 14,
    "start_time": "2023-11-07T11:28:29.771Z"
   },
   {
    "duration": 907,
    "start_time": "2023-11-07T11:28:29.787Z"
   },
   {
    "duration": 6,
    "start_time": "2023-11-07T11:28:30.696Z"
   },
   {
    "duration": 2629,
    "start_time": "2023-11-07T11:28:30.704Z"
   },
   {
    "duration": 7,
    "start_time": "2023-11-07T11:28:33.334Z"
   },
   {
    "duration": 28,
    "start_time": "2023-11-07T11:28:33.343Z"
   },
   {
    "duration": 3201,
    "start_time": "2023-11-07T11:28:33.372Z"
   },
   {
    "duration": 93,
    "start_time": "2023-11-07T11:28:36.576Z"
   },
   {
    "duration": 89500,
    "start_time": "2023-11-07T11:28:36.672Z"
   },
   {
    "duration": 10,
    "start_time": "2023-11-07T11:30:06.174Z"
   },
   {
    "duration": 2644,
    "start_time": "2023-11-07T11:30:06.186Z"
   },
   {
    "duration": 7,
    "start_time": "2023-11-07T11:30:08.832Z"
   },
   {
    "duration": 5031,
    "start_time": "2023-11-07T11:30:08.840Z"
   },
   {
    "duration": 97,
    "start_time": "2023-11-07T11:30:13.873Z"
   },
   {
    "duration": 161865,
    "start_time": "2023-11-07T11:30:13.972Z"
   },
   {
    "duration": 9,
    "start_time": "2023-11-07T11:32:55.838Z"
   },
   {
    "duration": 5493,
    "start_time": "2023-11-07T11:32:55.848Z"
   },
   {
    "duration": 8,
    "start_time": "2023-11-07T11:33:01.342Z"
   },
   {
    "duration": 1867,
    "start_time": "2023-11-07T11:33:01.352Z"
   },
   {
    "duration": 10,
    "start_time": "2023-11-07T11:33:03.273Z"
   },
   {
    "duration": 113857,
    "start_time": "2023-11-07T11:33:03.369Z"
   },
   {
    "duration": 8,
    "start_time": "2023-11-07T11:34:57.228Z"
   },
   {
    "duration": 1238,
    "start_time": "2023-11-07T11:34:57.237Z"
   },
   {
    "duration": 7,
    "start_time": "2023-11-07T11:34:58.476Z"
   },
   {
    "duration": 43,
    "start_time": "2023-11-07T11:34:58.486Z"
   },
   {
    "duration": 2644,
    "start_time": "2023-11-07T11:34:58.531Z"
   },
   {
    "duration": 166,
    "start_time": "2023-11-07T11:35:01.176Z"
   },
   {
    "duration": 125,
    "start_time": "2023-11-07T11:35:01.344Z"
   },
   {
    "duration": 3,
    "start_time": "2023-11-07T11:35:01.471Z"
   },
   {
    "duration": 51,
    "start_time": "2023-11-07T11:35:01.475Z"
   },
   {
    "duration": 24,
    "start_time": "2023-11-07T11:35:01.528Z"
   },
   {
    "duration": 45,
    "start_time": "2023-11-07T11:35:01.553Z"
   },
   {
    "duration": 41,
    "start_time": "2023-11-07T11:35:01.600Z"
   },
   {
    "duration": 71,
    "start_time": "2023-11-07T11:35:01.642Z"
   },
   {
    "duration": 41,
    "start_time": "2023-11-07T11:35:01.714Z"
   },
   {
    "duration": 78,
    "start_time": "2023-11-07T11:35:01.757Z"
   },
   {
    "duration": 78,
    "start_time": "2023-11-07T11:35:01.838Z"
   },
   {
    "duration": 54,
    "start_time": "2023-11-07T11:35:01.918Z"
   },
   {
    "duration": 26,
    "start_time": "2023-11-07T11:35:01.975Z"
   },
   {
    "duration": 8107,
    "start_time": "2023-11-07T11:35:02.003Z"
   },
   {
    "duration": 904,
    "start_time": "2023-11-07T11:35:10.111Z"
   },
   {
    "duration": 586,
    "start_time": "2023-11-07T11:35:11.017Z"
   },
   {
    "duration": 588,
    "start_time": "2023-11-07T11:35:11.610Z"
   },
   {
    "duration": 477,
    "start_time": "2023-11-07T11:35:12.199Z"
   },
   {
    "duration": 552,
    "start_time": "2023-11-07T11:35:12.678Z"
   },
   {
    "duration": 508,
    "start_time": "2023-11-07T11:35:13.232Z"
   },
   {
    "duration": 537,
    "start_time": "2023-11-07T11:35:13.741Z"
   },
   {
    "duration": 593,
    "start_time": "2023-11-07T11:35:14.280Z"
   },
   {
    "duration": 27,
    "start_time": "2023-11-07T12:07:08.202Z"
   },
   {
    "duration": 20077,
    "start_time": "2023-11-15T16:14:09.130Z"
   },
   {
    "duration": 9713,
    "start_time": "2023-11-15T16:14:29.209Z"
   },
   {
    "duration": 2806,
    "start_time": "2023-11-15T16:14:38.924Z"
   },
   {
    "duration": 7746,
    "start_time": "2023-11-15T16:14:41.732Z"
   },
   {
    "duration": 181,
    "start_time": "2023-11-15T16:14:49.479Z"
   },
   {
    "duration": 0,
    "start_time": "2023-11-15T16:14:49.665Z"
   },
   {
    "duration": 0,
    "start_time": "2023-11-15T16:14:49.667Z"
   },
   {
    "duration": 0,
    "start_time": "2023-11-15T16:14:49.668Z"
   },
   {
    "duration": 0,
    "start_time": "2023-11-15T16:14:49.669Z"
   },
   {
    "duration": 0,
    "start_time": "2023-11-15T16:14:49.670Z"
   },
   {
    "duration": 0,
    "start_time": "2023-11-15T16:14:49.671Z"
   },
   {
    "duration": 0,
    "start_time": "2023-11-15T16:14:49.672Z"
   },
   {
    "duration": 0,
    "start_time": "2023-11-15T16:14:49.673Z"
   },
   {
    "duration": 0,
    "start_time": "2023-11-15T16:14:49.674Z"
   },
   {
    "duration": 0,
    "start_time": "2023-11-15T16:14:49.675Z"
   },
   {
    "duration": 0,
    "start_time": "2023-11-15T16:14:49.677Z"
   },
   {
    "duration": 0,
    "start_time": "2023-11-15T16:14:49.677Z"
   },
   {
    "duration": 0,
    "start_time": "2023-11-15T16:14:49.679Z"
   },
   {
    "duration": 0,
    "start_time": "2023-11-15T16:14:49.680Z"
   },
   {
    "duration": 0,
    "start_time": "2023-11-15T16:14:49.681Z"
   },
   {
    "duration": 0,
    "start_time": "2023-11-15T16:14:49.682Z"
   },
   {
    "duration": 0,
    "start_time": "2023-11-15T16:14:49.683Z"
   },
   {
    "duration": 0,
    "start_time": "2023-11-15T16:14:49.684Z"
   },
   {
    "duration": 0,
    "start_time": "2023-11-15T16:14:49.685Z"
   },
   {
    "duration": 0,
    "start_time": "2023-11-15T16:14:49.686Z"
   },
   {
    "duration": 0,
    "start_time": "2023-11-15T16:14:49.687Z"
   },
   {
    "duration": 0,
    "start_time": "2023-11-15T16:14:49.688Z"
   },
   {
    "duration": 0,
    "start_time": "2023-11-15T16:14:49.689Z"
   },
   {
    "duration": 0,
    "start_time": "2023-11-15T16:14:49.690Z"
   },
   {
    "duration": 0,
    "start_time": "2023-11-15T16:14:49.691Z"
   },
   {
    "duration": 0,
    "start_time": "2023-11-15T16:14:49.692Z"
   },
   {
    "duration": 0,
    "start_time": "2023-11-15T16:14:49.735Z"
   },
   {
    "duration": 0,
    "start_time": "2023-11-15T16:14:49.736Z"
   },
   {
    "duration": 0,
    "start_time": "2023-11-15T16:14:49.737Z"
   },
   {
    "duration": 0,
    "start_time": "2023-11-15T16:14:49.741Z"
   },
   {
    "duration": 0,
    "start_time": "2023-11-15T16:14:49.742Z"
   },
   {
    "duration": 0,
    "start_time": "2023-11-15T16:14:49.743Z"
   },
   {
    "duration": 0,
    "start_time": "2023-11-15T16:14:49.744Z"
   },
   {
    "duration": 0,
    "start_time": "2023-11-15T16:14:49.745Z"
   },
   {
    "duration": 0,
    "start_time": "2023-11-15T16:14:49.746Z"
   },
   {
    "duration": 0,
    "start_time": "2023-11-15T16:14:49.747Z"
   },
   {
    "duration": 0,
    "start_time": "2023-11-15T16:14:49.748Z"
   },
   {
    "duration": 0,
    "start_time": "2023-11-15T16:14:49.749Z"
   },
   {
    "duration": 0,
    "start_time": "2023-11-15T16:14:49.751Z"
   },
   {
    "duration": 0,
    "start_time": "2023-11-15T16:14:49.752Z"
   },
   {
    "duration": 0,
    "start_time": "2023-11-15T16:14:49.753Z"
   },
   {
    "duration": 0,
    "start_time": "2023-11-15T16:14:49.755Z"
   },
   {
    "duration": 0,
    "start_time": "2023-11-15T16:14:49.756Z"
   },
   {
    "duration": 0,
    "start_time": "2023-11-15T16:14:49.758Z"
   },
   {
    "duration": 1,
    "start_time": "2023-11-15T16:14:49.759Z"
   },
   {
    "duration": 0,
    "start_time": "2023-11-15T16:14:49.761Z"
   },
   {
    "duration": 1,
    "start_time": "2023-11-15T16:14:49.762Z"
   },
   {
    "duration": 0,
    "start_time": "2023-11-15T16:14:49.764Z"
   },
   {
    "duration": 0,
    "start_time": "2023-11-15T16:14:49.765Z"
   },
   {
    "duration": 0,
    "start_time": "2023-11-15T16:14:49.767Z"
   },
   {
    "duration": 0,
    "start_time": "2023-11-15T16:14:49.768Z"
   },
   {
    "duration": 0,
    "start_time": "2023-11-15T16:14:49.769Z"
   },
   {
    "duration": 0,
    "start_time": "2023-11-15T16:14:49.771Z"
   },
   {
    "duration": 0,
    "start_time": "2023-11-15T16:14:49.772Z"
   },
   {
    "duration": 0,
    "start_time": "2023-11-15T16:14:49.773Z"
   },
   {
    "duration": 0,
    "start_time": "2023-11-15T16:14:49.836Z"
   },
   {
    "duration": 0,
    "start_time": "2023-11-15T16:14:49.837Z"
   },
   {
    "duration": 0,
    "start_time": "2023-11-15T16:14:49.839Z"
   },
   {
    "duration": 0,
    "start_time": "2023-11-15T16:14:49.840Z"
   },
   {
    "duration": 0,
    "start_time": "2023-11-15T16:14:49.842Z"
   },
   {
    "duration": 0,
    "start_time": "2023-11-15T16:14:49.843Z"
   },
   {
    "duration": 0,
    "start_time": "2023-11-15T16:14:49.844Z"
   },
   {
    "duration": 0,
    "start_time": "2023-11-15T16:14:49.846Z"
   },
   {
    "duration": 0,
    "start_time": "2023-11-15T16:14:49.847Z"
   },
   {
    "duration": 0,
    "start_time": "2023-11-15T16:14:49.849Z"
   },
   {
    "duration": 0,
    "start_time": "2023-11-15T16:14:49.850Z"
   },
   {
    "duration": 0,
    "start_time": "2023-11-15T16:14:49.851Z"
   },
   {
    "duration": 0,
    "start_time": "2023-11-15T16:14:49.853Z"
   },
   {
    "duration": 0,
    "start_time": "2023-11-15T16:14:49.854Z"
   },
   {
    "duration": 1,
    "start_time": "2023-11-15T16:14:49.855Z"
   },
   {
    "duration": 0,
    "start_time": "2023-11-15T16:14:49.857Z"
   },
   {
    "duration": 0,
    "start_time": "2023-11-15T16:14:49.858Z"
   },
   {
    "duration": 0,
    "start_time": "2023-11-15T16:14:49.860Z"
   },
   {
    "duration": 0,
    "start_time": "2023-11-15T16:14:49.862Z"
   },
   {
    "duration": 0,
    "start_time": "2023-11-15T16:14:49.863Z"
   },
   {
    "duration": 0,
    "start_time": "2023-11-15T16:14:49.864Z"
   },
   {
    "duration": 0,
    "start_time": "2023-11-15T16:14:49.866Z"
   },
   {
    "duration": 0,
    "start_time": "2023-11-15T16:14:49.867Z"
   },
   {
    "duration": 0,
    "start_time": "2023-11-15T16:14:49.869Z"
   },
   {
    "duration": 0,
    "start_time": "2023-11-15T16:14:49.870Z"
   },
   {
    "duration": 0,
    "start_time": "2023-11-15T16:14:49.872Z"
   },
   {
    "duration": 0,
    "start_time": "2023-11-15T16:14:49.935Z"
   },
   {
    "duration": 0,
    "start_time": "2023-11-15T16:14:49.937Z"
   },
   {
    "duration": 0,
    "start_time": "2023-11-15T16:14:49.939Z"
   },
   {
    "duration": 0,
    "start_time": "2023-11-15T16:14:49.940Z"
   },
   {
    "duration": 0,
    "start_time": "2023-11-15T16:14:49.941Z"
   },
   {
    "duration": 0,
    "start_time": "2023-11-15T16:14:49.942Z"
   },
   {
    "duration": 0,
    "start_time": "2023-11-15T16:14:49.943Z"
   },
   {
    "duration": 0,
    "start_time": "2023-11-15T16:14:49.944Z"
   },
   {
    "duration": 0,
    "start_time": "2023-11-15T16:14:49.945Z"
   },
   {
    "duration": 0,
    "start_time": "2023-11-15T16:14:49.946Z"
   },
   {
    "duration": 0,
    "start_time": "2023-11-15T16:14:49.947Z"
   },
   {
    "duration": 0,
    "start_time": "2023-11-15T16:14:49.948Z"
   },
   {
    "duration": 1,
    "start_time": "2023-11-15T16:14:49.949Z"
   },
   {
    "duration": 0,
    "start_time": "2023-11-15T16:14:49.951Z"
   },
   {
    "duration": 0,
    "start_time": "2023-11-15T16:14:49.952Z"
   },
   {
    "duration": 0,
    "start_time": "2023-11-15T16:14:49.953Z"
   },
   {
    "duration": 0,
    "start_time": "2023-11-15T16:14:49.954Z"
   },
   {
    "duration": 0,
    "start_time": "2023-11-15T16:14:49.955Z"
   },
   {
    "duration": 0,
    "start_time": "2023-11-15T16:14:49.956Z"
   },
   {
    "duration": 0,
    "start_time": "2023-11-15T16:14:49.957Z"
   },
   {
    "duration": 0,
    "start_time": "2023-11-15T16:14:49.958Z"
   },
   {
    "duration": 0,
    "start_time": "2023-11-15T16:14:49.959Z"
   },
   {
    "duration": 0,
    "start_time": "2023-11-15T16:14:49.960Z"
   },
   {
    "duration": 0,
    "start_time": "2023-11-15T16:14:49.961Z"
   },
   {
    "duration": 0,
    "start_time": "2023-11-15T16:14:49.962Z"
   },
   {
    "duration": 0,
    "start_time": "2023-11-15T16:14:49.963Z"
   },
   {
    "duration": 0,
    "start_time": "2023-11-15T16:14:49.964Z"
   },
   {
    "duration": 0,
    "start_time": "2023-11-15T16:14:49.965Z"
   },
   {
    "duration": 0,
    "start_time": "2023-11-15T16:14:49.966Z"
   },
   {
    "duration": 0,
    "start_time": "2023-11-15T16:14:49.967Z"
   },
   {
    "duration": 0,
    "start_time": "2023-11-15T16:14:49.968Z"
   },
   {
    "duration": 0,
    "start_time": "2023-11-15T16:14:49.969Z"
   },
   {
    "duration": 0,
    "start_time": "2023-11-15T16:14:49.970Z"
   },
   {
    "duration": 0,
    "start_time": "2023-11-15T16:14:49.971Z"
   },
   {
    "duration": 0,
    "start_time": "2023-11-15T16:14:50.035Z"
   },
   {
    "duration": 0,
    "start_time": "2023-11-15T16:14:50.037Z"
   },
   {
    "duration": 0,
    "start_time": "2023-11-15T16:14:50.038Z"
   },
   {
    "duration": 0,
    "start_time": "2023-11-15T16:14:50.039Z"
   },
   {
    "duration": 0,
    "start_time": "2023-11-15T16:14:50.040Z"
   },
   {
    "duration": 0,
    "start_time": "2023-11-15T16:14:50.041Z"
   },
   {
    "duration": 0,
    "start_time": "2023-11-15T16:14:50.042Z"
   },
   {
    "duration": 0,
    "start_time": "2023-11-15T16:14:50.043Z"
   },
   {
    "duration": 874,
    "start_time": "2023-11-15T16:15:00.473Z"
   },
   {
    "duration": 3,
    "start_time": "2023-11-15T16:15:01.452Z"
   },
   {
    "duration": 50,
    "start_time": "2023-11-15T16:15:02.252Z"
   },
   {
    "duration": 139,
    "start_time": "2023-11-15T16:15:02.537Z"
   },
   {
    "duration": 26,
    "start_time": "2023-11-15T16:15:05.302Z"
   },
   {
    "duration": 41204,
    "start_time": "2023-11-15T16:15:06.029Z"
   },
   {
    "duration": 40405,
    "start_time": "2023-11-15T16:15:47.235Z"
   },
   {
    "duration": 3072,
    "start_time": "2023-11-15T16:17:44.613Z"
   },
   {
    "duration": 12,
    "start_time": "2023-11-15T16:18:40.625Z"
   },
   {
    "duration": 3,
    "start_time": "2023-11-15T16:18:41.506Z"
   },
   {
    "duration": 8,
    "start_time": "2023-11-15T16:19:01.245Z"
   },
   {
    "duration": 71,
    "start_time": "2023-11-15T16:19:01.418Z"
   },
   {
    "duration": 27,
    "start_time": "2023-11-15T16:19:02.431Z"
   },
   {
    "duration": 17,
    "start_time": "2023-11-15T16:19:02.978Z"
   },
   {
    "duration": 24,
    "start_time": "2023-11-15T16:19:50.399Z"
   },
   {
    "duration": 27,
    "start_time": "2023-11-15T16:19:50.426Z"
   },
   {
    "duration": 8,
    "start_time": "2023-11-15T16:19:50.456Z"
   },
   {
    "duration": 33,
    "start_time": "2023-11-15T16:19:50.466Z"
   },
   {
    "duration": 10,
    "start_time": "2023-11-15T16:19:50.645Z"
   },
   {
    "duration": 12,
    "start_time": "2023-11-15T16:19:53.282Z"
   },
   {
    "duration": 10,
    "start_time": "2023-11-15T16:19:53.827Z"
   },
   {
    "duration": 17,
    "start_time": "2023-11-15T16:19:58.922Z"
   },
   {
    "duration": 78,
    "start_time": "2023-11-15T16:19:59.603Z"
   },
   {
    "duration": 85,
    "start_time": "2023-11-15T16:20:00.013Z"
   },
   {
    "duration": 71,
    "start_time": "2023-11-15T16:20:01.272Z"
   },
   {
    "duration": 73,
    "start_time": "2023-11-15T16:20:01.741Z"
   },
   {
    "duration": 563,
    "start_time": "2023-11-15T16:20:03.091Z"
   },
   {
    "duration": 675,
    "start_time": "2023-11-15T16:20:17.959Z"
   },
   {
    "duration": 563,
    "start_time": "2023-11-15T16:20:32.150Z"
   },
   {
    "duration": 747,
    "start_time": "2023-11-15T16:20:33.880Z"
   },
   {
    "duration": 6,
    "start_time": "2023-11-15T16:20:42.769Z"
   },
   {
    "duration": 7,
    "start_time": "2023-11-15T16:20:43.427Z"
   },
   {
    "duration": 6,
    "start_time": "2023-11-15T16:20:43.833Z"
   },
   {
    "duration": 5,
    "start_time": "2023-11-15T16:20:44.126Z"
   },
   {
    "duration": 48,
    "start_time": "2023-11-15T16:20:44.848Z"
   },
   {
    "duration": 13,
    "start_time": "2023-11-15T16:20:48.242Z"
   },
   {
    "duration": 5,
    "start_time": "2023-11-15T16:20:49.477Z"
   },
   {
    "duration": 4491,
    "start_time": "2023-11-15T16:20:50.935Z"
   },
   {
    "duration": 23,
    "start_time": "2023-11-15T16:20:55.428Z"
   },
   {
    "duration": 10,
    "start_time": "2023-11-15T16:20:55.452Z"
   },
   {
    "duration": 7,
    "start_time": "2023-11-15T16:20:55.464Z"
   },
   {
    "duration": 12,
    "start_time": "2023-11-15T16:20:55.472Z"
   },
   {
    "duration": 17,
    "start_time": "2023-11-15T16:21:46.328Z"
   },
   {
    "duration": 6,
    "start_time": "2023-11-15T16:21:46.839Z"
   },
   {
    "duration": 7,
    "start_time": "2023-11-15T16:21:46.893Z"
   },
   {
    "duration": 6,
    "start_time": "2023-11-15T16:21:50.350Z"
   },
   {
    "duration": 86,
    "start_time": "2023-11-15T16:21:50.359Z"
   },
   {
    "duration": 136,
    "start_time": "2023-11-15T16:21:50.447Z"
   },
   {
    "duration": 5,
    "start_time": "2023-11-15T16:21:50.584Z"
   },
   {
    "duration": 70,
    "start_time": "2023-11-15T16:21:50.591Z"
   },
   {
    "duration": 131,
    "start_time": "2023-11-15T16:21:50.686Z"
   },
   {
    "duration": 3,
    "start_time": "2023-11-15T16:22:32.819Z"
   },
   {
    "duration": 27,
    "start_time": "2023-11-15T16:22:33.234Z"
   },
   {
    "duration": 198,
    "start_time": "2023-11-15T16:22:33.505Z"
   },
   {
    "duration": 118,
    "start_time": "2023-11-15T16:22:34.155Z"
   },
   {
    "duration": 68,
    "start_time": "2023-11-15T16:22:34.482Z"
   },
   {
    "duration": 11,
    "start_time": "2023-11-15T16:22:34.929Z"
   },
   {
    "duration": 14,
    "start_time": "2023-11-15T16:22:35.144Z"
   },
   {
    "duration": 4,
    "start_time": "2023-11-15T16:22:43.464Z"
   },
   {
    "duration": 131,
    "start_time": "2023-11-15T16:22:44.539Z"
   },
   {
    "duration": 16,
    "start_time": "2023-11-15T16:22:50.642Z"
   },
   {
    "duration": 11,
    "start_time": "2023-11-15T16:22:50.887Z"
   }
  ],
  "kernelspec": {
   "display_name": "Python 3 (ipykernel)",
   "language": "python",
   "name": "python3"
  },
  "language_info": {
   "codemirror_mode": {
    "name": "ipython",
    "version": 3
   },
   "file_extension": ".py",
   "mimetype": "text/x-python",
   "name": "python",
   "nbconvert_exporter": "python",
   "pygments_lexer": "ipython3",
   "version": "3.9.13"
  },
  "toc": {
   "base_numbering": 1,
   "nav_menu": {},
   "number_sections": true,
   "sideBar": true,
   "skip_h1_title": true,
   "title_cell": "Table of Contents",
   "title_sidebar": "Contents",
   "toc_cell": false,
   "toc_position": {},
   "toc_section_display": true,
   "toc_window_display": true
  }
 },
 "nbformat": 4,
 "nbformat_minor": 2
}
